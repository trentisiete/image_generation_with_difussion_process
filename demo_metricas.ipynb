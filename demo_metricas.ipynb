{
 "cells": [
  {
   "cell_type": "markdown",
   "metadata": {
    "id": "x1Wdaf4AaHhj"
   },
   "source": [
    "**Comente o ignore estas lineas si no va a usarlas o modifique las rutas**"
   ]
  },
  {
   "cell_type": "code",
   "execution_count": null,
   "metadata": {
    "id": "1RNFUi6yhtw9"
   },
   "outputs": [],
   "source": [
    "# from google.colab import drive\n",
    "\n",
    "# drive.mount('/content/drive')"
   ]
  },
  {
   "cell_type": "code",
   "execution_count": null,
   "metadata": {
    "id": "z3CMfnMMpeOR"
   },
   "outputs": [],
   "source": [
    "# %cd /content/drive/MyDrive/SEMESTRE 6/AAUTO III/Proyecto_v3"
   ]
  },
  {
   "cell_type": "markdown",
   "metadata": {
    "id": "GwX65OFraRC_"
   },
   "source": [
    "# Importaciones y Configuración inicial"
   ]
  },
  {
   "cell_type": "markdown",
   "metadata": {
    "id": "MLxSbsMKdR54"
   },
   "source": [
    "### 0. Entorno y Configuración Inicial"
   ]
  },
  {
   "cell_type": "code",
   "execution_count": 4,
   "metadata": {
    "executionInfo": {
     "elapsed": 7865,
     "status": "ok",
     "timestamp": 1746924140807,
     "user": {
      "displayName": "Jose Jose",
      "userId": "07208489832841318381"
     },
     "user_tz": -120
    },
    "id": "9KZeaMAPdWpp"
   },
   "outputs": [],
   "source": [
    "# Configuración para autoreload en notebooks\n",
    "%load_ext autoreload\n",
    "%autoreload 2\n",
    "\n",
    "# Ignorar warnings para mantener la salida limpia\n",
    "import warnings\n",
    "warnings.filterwarnings(\"ignore\")\n",
    "\n",
    "# Bibliotecas estándar\n",
    "import os\n",
    "import sys\n",
    "from functools import partial\n",
    "from typing import Optional, List, Tuple, Literal # Para type hinting\n",
    "\n",
    "# Bibliotecas de terceros\n",
    "import torch\n",
    "import numpy as np\n",
    "import matplotlib.pyplot as plt\n",
    "from torchvision import datasets, transforms\n",
    "from torchvision.transforms import ToTensor\n",
    "from torch.utils.data import (\n",
    "    DataLoader,\n",
    "    Dataset,\n",
    "    Subset,\n",
    "    TensorDataset\n",
    ")\n",
    "from torch.optim import Adam\n",
    "import tqdm\n"
   ]
  },
  {
   "cell_type": "markdown",
   "metadata": {
    "id": "X0go4VKldmvK"
   },
   "source": [
    "### 1. Importación de Módulos Locales"
   ]
  },
  {
   "cell_type": "code",
   "execution_count": 5,
   "metadata": {
    "colab": {
     "base_uri": "https://localhost:8080/"
    },
    "executionInfo": {
     "elapsed": 5250,
     "status": "ok",
     "timestamp": 1746924146064,
     "user": {
      "displayName": "Jose Jose",
      "userId": "07208489832841318381"
     },
     "user_tz": -120
    },
    "id": "8GIjVslteFh_",
    "outputId": "4b9262c7-c44b-4101-d1e7-ce87decd7743"
   },
   "outputs": [
    {
     "name": "stdout",
     "output_type": "stream",
     "text": [
      "Añadiendo rutas locales a sys.path si es necesario:\n",
      "  - Añadido: /content/drive/MyDrive/SEMESTRE 6/AAUTO III/Proyecto_v3/diffusion\n",
      "  - Añadido: /content/drive/MyDrive/SEMESTRE 6/AAUTO III/Proyecto_v3/utils\n",
      "  - Añadido: /content/drive/MyDrive/SEMESTRE 6/AAUTO III/Proyecto_v3/models\n",
      "  - Añadido: /content/drive/MyDrive/SEMESTRE 6/AAUTO III/Proyecto_v3/metrics\n",
      "  - Añadido: /content/drive/MyDrive/SEMESTRE 6/AAUTO III/Proyecto_v3/samplers\n",
      "  - Añadido: /content/drive/MyDrive/SEMESTRE 6/AAUTO III/Proyecto_v3/diffusion_utilities\n",
      "Sampler seleccionado para generación: euler_maruyama_integrator\n",
      "Añadiendo rutas locales a sys.path si es necesario:\n",
      "  - Ya existe: /content/drive/MyDrive/SEMESTRE 6/AAUTO III/Proyecto_v3/diffusion\n",
      "  - Ya existe: /content/drive/MyDrive/SEMESTRE 6/AAUTO III/Proyecto_v3/utils\n",
      "  - Ya existe: /content/drive/MyDrive/SEMESTRE 6/AAUTO III/Proyecto_v3/models\n",
      "  - Ya existe: /content/drive/MyDrive/SEMESTRE 6/AAUTO III/Proyecto_v3/metrics\n",
      "  - Ya existe: /content/drive/MyDrive/SEMESTRE 6/AAUTO III/Proyecto_v3/samplers\n",
      "  - Ya existe: /content/drive/MyDrive/SEMESTRE 6/AAUTO III/Proyecto_v3/diffusion_utilities\n",
      "\n",
      "Módulos locales importados correctamente.\n"
     ]
    }
   ],
   "source": [
    "from configuration_notebook_cifar10 import *\n",
    "\n",
    "paths_to_add = [\"diffusion\", \"utils\", \"models\", \"metrics\", \"samplers\", \"diffusion_utilities\"]\n",
    "print(\"Añadiendo rutas locales a sys.path si es necesario:\")\n",
    "for path_name in paths_to_add:\n",
    "    abs_path = os.path.abspath(path_name)\n",
    "    if abs_path not in sys.path:\n",
    "        sys.path.insert(0, abs_path)\n",
    "        print(f\"  - Añadido: {abs_path}\")\n",
    "    else:\n",
    "        print(f\"  - Ya existe: {abs_path}\")\n",
    "\n",
    "# SDEs y Schedules\n",
    "from sde import VESDE, VPSDE, SubVPSDE\n",
    "from schedules import LinearSchedule, CosineSchedule\n",
    "\n",
    "# Modelo\n",
    "from score_net import ScoreNet\n",
    "\n",
    "# Samplers (Integradores Numéricos)\n",
    "from euler_maruyama import *\n",
    "from predictor_corrector import *\n",
    "from probability_flow_ode import *\n",
    "from exponential_integrator import *\n",
    "\n",
    "# Métricas\n",
    "from fid_for_cifar10 import *\n",
    "from inception_score import get_inception_score_for_generated_images\n",
    "from metrics.bpd import calculate_bpd, compute_nll_scipy\n",
    "\n",
    "# Utilidades (e.g., para visualización)\n",
    "from diffusion_utilities import (\n",
    "    plot_image_grid,\n",
    "    plot_image_evolution,\n",
    "    plot_image_evolution_pc,\n",
    "    animation_images,\n",
    "    plot_image_evolution_color\n",
    ")\n",
    "print(\"\\nMódulos locales importados correctamente.\")\n"
   ]
  },
  {
   "cell_type": "markdown",
   "metadata": {
    "id": "T08jh0mgeiXF"
   },
   "source": [
    "### 2. Configuración del Hardware"
   ]
  },
  {
   "cell_type": "code",
   "execution_count": 6,
   "metadata": {
    "colab": {
     "base_uri": "https://localhost:8080/"
    },
    "executionInfo": {
     "elapsed": 44,
     "status": "ok",
     "timestamp": 1746924146115,
     "user": {
      "displayName": "Jose Jose",
      "userId": "07208489832841318381"
     },
     "user_tz": -120
    },
    "id": "1LKz4EmgezS6",
    "outputId": "a2f90444-cdb3-40b0-a695-1386dfe955bb"
   },
   "outputs": [
    {
     "name": "stdout",
     "output_type": "stream",
     "text": [
      "GPU disponible. Usando: Tesla T4\n",
      "PyTorch puede usar hasta 1 threads.\n",
      "Usando 1 workers para DataLoader.\n"
     ]
    }
   ],
   "source": [
    "if torch.cuda.is_available():\n",
    "    DEVICE = torch.device('cuda')\n",
    "    print(f\"GPU disponible. Usando: {torch.cuda.get_device_name(0)}\")\n",
    "else:\n",
    "    DEVICE = torch.device('cpu')\n",
    "    print(\"GPU no encontrada. Usando CPU.\")\n",
    "\n",
    "# Configuración de workers para DataLoader\n",
    "N_THREADS = torch.get_num_threads() # Número de threads que PyTorch puede usar\n",
    "NUM_WORKERS = min(4, os.cpu_count() // 2 if os.cpu_count() else 1) # Heurística, ajustar si es necesario\n",
    "print(f'PyTorch puede usar hasta {N_THREADS} threads.')\n",
    "print(f'Usando {NUM_WORKERS} workers para DataLoader.')\n"
   ]
  },
  {
   "cell_type": "markdown",
   "metadata": {
    "id": "L4YDS8GElRhf"
   },
   "source": [
    "Número de Imagenes\n"
   ]
  },
  {
   "cell_type": "code",
   "execution_count": 7,
   "metadata": {
    "executionInfo": {
     "elapsed": 38,
     "status": "ok",
     "timestamp": 1746924146165,
     "user": {
      "displayName": "Jose Jose",
      "userId": "07208489832841318381"
     },
     "user_tz": -120
    },
    "id": "LptLcz-IlVCz"
   },
   "outputs": [],
   "source": [
    "N_IMAGES = 6"
   ]
  },
  {
   "cell_type": "code",
   "execution_count": 8,
   "metadata": {
    "executionInfo": {
     "elapsed": 13,
     "status": "ok",
     "timestamp": 1746924146178,
     "user": {
      "displayName": "Jose Jose",
      "userId": "07208489832841318381"
     },
     "user_tz": -120
    },
    "id": "nmOGD-QXfC24"
   },
   "outputs": [],
   "source": [
    "# --- Parámetros Generales SDE/Schedule ---\n",
    "SIGMA_MIN = 0.01      # Valor mínimo de sigma (ruido) - Usado por VE, SubVP\n",
    "SIGMA_MAX = 50.0      # Valor máximo de sigma (ruido) - Usado por VE, SubVP\n",
    "SIGMA = 25.0          # Parámetro sigma específico (e.g., para score matching) - Usado por VE\n",
    "BETA_MIN = 0.1        # Valor mínimo de beta (varianza del ruido) - Usado por VP, SubVP\n",
    "BETA_MAX = 20.0       # Valor máximo de beta (varianza del ruido) - Usado por VP, SubVP\n",
    "T_END = 1.0           # Tiempo final de la SDE / Schedule\n",
    "T = 1\n",
    "t_final = 1.0e-5\n",
    "S = 0.008             # Parámetro 's' para CosineSchedule (controla la curvatura)\n",
    "SCHEDULE_S = 0.008"
   ]
  },
  {
   "cell_type": "markdown",
   "metadata": {
    "id": "3bdhJBJ4fCoE"
   },
   "source": [
    "### 5. Configuración del Conjunto de Datos y Entrenamiento"
   ]
  },
  {
   "cell_type": "code",
   "execution_count": 9,
   "metadata": {
    "executionInfo": {
     "elapsed": 23,
     "status": "ok",
     "timestamp": 1746924146206,
     "user": {
      "displayName": "Jose Jose",
      "userId": "07208489832841318381"
     },
     "user_tz": -120
    },
    "id": "p4pr6zfgfKQx"
   },
   "outputs": [],
   "source": [
    "# --- Parámetros del Dataset ---\n",
    "IMG_SIZE = 32         # Tamaño de las imágenes (alto y ancho)\n",
    "IMG_CHANNELS = 3      # Número de canales (3 para RGB)\n",
    "DATASET_NAME = 'CIFAR10'\n",
    "\n",
    "# --- Parámetros de Entrenamiento ---\n",
    "BATCH_SIZE = 32       # Tamaño del lote para entrenamiento\n",
    "LEARNING_RATE = 1e-4  # Tasa de aprendizaje para Adam (ajustar según sea necesario)\n",
    "N_EPOCHS = 100        # Número total de épocas de entrenamiento (ejemplo)\n",
    "EPS_LOSS = 1e-5       # Epsilon para muestrear t ~ U(eps, T) durante el entrenamiento\n",
    "\n",
    "# --- Checkpoints ---\n",
    "CHECKPOINT_DIR = './checkpoints' # Directorio para guardar/cargar modelos\n",
    "CHECKPOINT_FREQ = 10           # Frecuencia (en épocas) para guardar checkpoints\n",
    "# Crear directorio si no existe\n",
    "os.makedirs(CHECKPOINT_DIR, exist_ok=True)"
   ]
  },
  {
   "cell_type": "markdown",
   "metadata": {
    "id": "ebrNCYs4fPdg"
   },
   "source": [
    "### 6. Configuración de Generación y Evaluación"
   ]
  },
  {
   "cell_type": "code",
   "execution_count": null,
   "metadata": {
    "colab": {
     "base_uri": "https://localhost:8080/"
    },
    "executionInfo": {
     "elapsed": 209,
     "status": "ok",
     "timestamp": 1746924146419,
     "user": {
      "displayName": "Jose Jose",
      "userId": "07208489832841318381"
     },
     "user_tz": -120
    },
    "id": "4kQCCxModF3n",
    "outputId": "92e6df0a-c430-403d-e5c4-3205051345b4"
   },
   "outputs": [
    {
     "name": "stdout",
     "output_type": "stream",
     "text": [
      "Sampler seleccionado para generación: euler_maruyama_integrator\n"
     ]
    }
   ],
   "source": [
    "# --- Parámetros de Generación (Sampling) ---\n",
    "N_IMAGES_TO_GENERATE = 64 # Número de imágenes a generar para visualización/evaluación\n",
    "SAMPLER_N_STEPS = 500     # Número de pasos para los solvers SDE/ODE (Euler, PC, etc.)\n",
    "GEN_BATCH_SIZE = 64       # Tamaño del lote para la generación de imágenes\n",
    "\n",
    "# Selecciona el sampler a usar para generar imágenes\n",
    "# Opciones: euler_maruyama_integrator, pc_integrator, ode_sampler, exponential_integrator\n",
    "SELECTED_SAMPLER = euler_maruyama_integrator\n",
    "print(f\"Sampler seleccionado para generación: {SELECTED_SAMPLER.__name__}\")\n",
    "\n",
    "# --- Parámetros de Evaluación FID (Frechet Inception Distance) ---\n",
    "CALCULATE_FID = True       # Poner a False para saltar el cálculo de FID\n",
    "N_FID_SAMPLES = 100      # Número de imágenes generadas para calcular FID (50k es estándar, 10k para pruebas rápidas)\n",
    "FID_BATCH_SIZE = 128       # Batch size para pasar imágenes por la red Inception (ajustar según VRAM)\n",
    "FID_DIMS = 2048            # Dimensiones de las activaciones Inception (2048 es estándar)\n",
    "GEN_BATCH_SIZE_FID = 32\n",
    "BINARIZE_FID_IMAGES = False # Binarizar imágenes antes de FID (True para MNIST, False para CIFAR-10/color)\n",
    "\n",
    "# Se puede usar un sampler diferente o con distintos pasos para FID si es necesario\n",
    "SAMPLER_FOR_FID = euler_maruyama_integrator\n",
    "SAMPLER_STEPS_FOR_FID = SAMPLER_N_STEPS\n",
    "\n",
    "# --- Parámetros de Evaluación IS (Inception Score) ---\n",
    "CALCULATE_IS = True        # Poner a False para saltar el cálculo de IS\n",
    "IS_SPLITS = 10             # Número de splits para calcular IS (estándar)\n",
    "\n",
    "# --- Parámetros de Evaluación BPD (Bits Per Dimension) ---\n",
    "CALCULATE_BPD = True       # Poner a False para saltar el cálculo de BPD/NLL\n",
    "BPD_BATCH_SIZE = 64        # Batch size para calcular BPD"
   ]
  },
  {
   "cell_type": "markdown",
   "metadata": {
    "id": "lXy3F5gFu7ls"
   },
   "source": [
    "# Métricas"
   ]
  },
  {
   "cell_type": "markdown",
   "metadata": {
    "id": "FmwFT5I_6i7i"
   },
   "source": [
    "## BPD"
   ]
  },
  {
   "cell_type": "code",
   "execution_count": null,
   "metadata": {
    "colab": {
     "base_uri": "https://localhost:8080/",
     "height": 1000,
     "referenced_widgets": [
      "e3dd41b4326b4b30aeeeb72923ed5c6e",
      "998057730cdd424099471c8418e4bf25",
      "903c96b71a594846aff5dda5332772cc",
      "24c01fadf894477f83c1fd2016af44cd",
      "5fa7a6d3f76942cea3217709e1f3077d",
      "739f6e89aff14c14b66f60f933def555",
      "1089b1906676485e92947975684f58a6",
      "9ba5535a53eb4cecb53a81ffed408f13",
      "5ccade9d55ad477cb654ac5470094a90",
      "9b810c0724d04c5aa94b38a001510e99",
      "8bbb7c973d5f4c6bb5b010c008ebf951",
      "a401405186514d4a9461f13c3f273f89",
      "9128015942f34fc5abc00a3ad2b92bd4",
      "49a3d6a277b143309450193de8bf64dd",
      "fa76c675019c475a94366e8b838c885b",
      "076274e6facb4f059f476012ad6d5869",
      "dcb9391044834a6f9ab21ffded2fb392",
      "5c6638463a0847f29e383c3068f13533",
      "d925454b6c254b97aafe55a370ea3adb",
      "925aefbeb61046f1a6dfef7ec946815f",
      "a7105aafac8d4e95a8e42a07e230e610",
      "008e3c56e47c4cc88b9c61d1f0a4fb41",
      "9f523bb7fe554284970fbdb1c17aa811",
      "273428f3a15d4817b3942f1e6cc37274",
      "eda54694d94046949deab09944aba9e3",
      "89f81fbba77e4cb0a77678f03f0a23c6",
      "8dc9c96be9094d9a980f48a49dbddf86",
      "2d3841d9398b4f239c677a70a5ca7ce2",
      "fe6f174c59574384b10abb8a6bf694b7",
      "a16423a05c494b2ea54874bcab95dad5",
      "782ad994f1b142be83b47cfdb842c13f",
      "7ff42f1598ac45b3b8cc3493c570f415",
      "4fb6e2fed1544592abf5ebde2d3f5141",
      "fb40594fdbd347ca82e8055f3b4170b9",
      "6927bcd683744c72969bafcb13f4d246",
      "5f3ba310e1a544acb777a26c17ae5e3f",
      "114cdf9821ab42b3bded1c145e327ff5",
      "62ef11a4f6384d0cb5114dfcb44881c9",
      "e0fb36f1dd0d4de29798d8d608e2f0dd",
      "a5ee5bf821fa464c8c6164908644e56b",
      "39dc3a98625746c38c194ccdd05adfe1",
      "ce78710835a4421381aab680c2e3ae75",
      "3b981f0c546945f1a2f387522f5425be",
      "09a8a17cb6f2407e8785c97cbf3da3e7",
      "3a4a5380f23a42c9a31ff85e2036097d",
      "55ed0485c43e41a8adcd33216d886381",
      "05b42b4e87b4428ba0c81ac15954cfa6",
      "d9ba086ee565471ebcbb22abd71dd336",
      "368ab48a1f4d4c4f95692042536cb93f",
      "db89b6e166fb4b73bba5f4a8a5e24f3d",
      "8d1ccd56bd124e65b28d51bbce371927",
      "bd7d3108af48403192d1a93fa635340a",
      "45d990b925e84e7b879b964484373dc6",
      "a00981bf17fb4746a46df4e6829f47ca",
      "bc7aec873fd94e9a8836e3a656855eb9",
      "b1dd89930eed4b7f9a45cf3109ad9781",
      "ca617c2a0f39424aa237c43898db3b41",
      "d403a02a1344448285b799fadbb90c87",
      "b23f58e4a1c446b6bb1fc01afd61e67c",
      "66e93313582e45ca9324e69023864615",
      "432f5c1a52f545b494282d12835497aa",
      "7880d99880c948118ec47ff28be6c971",
      "14a130eb36b94981bb88cfb98b38bc39",
      "2b49cacbbde54a91a3664c831b337d2e",
      "814c533e7b2b418ba1297ba101920536",
      "6fee563804104a89813b239a35e9f8c7",
      "a7e92bb6473e4f359f19e53adf594971",
      "3086826b05d644739861d20f1f632701",
      "791044d2f7584bc29bfc051e27f52b24",
      "ed317e60ba0f4c95b7188db64deb6183",
      "1a661e891a4c4783b70b3b93a0036585",
      "be8ba817db174125ba1168ea1de48f38",
      "8c63761f9c454e2caae500c5530b5cd6",
      "2b98dae54d05459682e7704fe855f505",
      "760dd10b2db14395b3524addecd39505",
      "9765682df8e545108452acfa76221654",
      "b3c6081214dc4cf68dcf2fc669e01185",
      "eea05f16b055426bb2634e599c015cb3",
      "321abd4a295044bdb83ce9695d9d8e23",
      "23f0d2fa00d24b5095ee2a0747c87995",
      "32fc1896f1df4fd792370a903b6f1e4c",
      "6e2bc1b31a8642f192c3b0d97d154afb",
      "57b1348aa9ad4f969933e5064480ec2a",
      "01184f6c68f34aceb7f75ce7458f937e",
      "670a3822924f44a98423d260f0e21407",
      "626b8770c7634dae8d017f52765e0297",
      "1260c4cc16c54688b00baa2a63aa433a",
      "684cc6a9e4f5485fa5533ea9cd07965c",
      "7cd13822253e4e718b364721289fdbf4",
      "c71b356eb186472193f3eb1a44a9b97c",
      "99dcfe4adce0479e9a8b174f0f2db658",
      "c2551b9215e74f4f90beb6aaa4be7828",
      "e99813134c5240f8becdd8dccc7e5ab1",
      "dc17594fe20c4b1c9a7d82654db95d9b",
      "e7d0b4cbabbd4d81993acc855ecac51a",
      "e40accbfcde345a9ad81970ed7944089",
      "0bb68cc60e434a94adc1a21be8df1b51",
      "5f7dada89fb147ac8464e891bfc6b443",
      "f7d24d90f1fe4e7a87a8792228f309ab",
      "346f84c5d03d4d5493c1ccb22f393c6a",
      "228bb1353032472d82eb224c44196155",
      "344f9ec030884faaa9be476f73e2fd45",
      "18dc02e4564e459e8f79f0ce7b473ecc",
      "aeebc6848a864d169e8469235347b508",
      "b0d8f8a6bfc949fbaa54d1aa13d323ff",
      "6ab33852ab06482d80ce9a3e67965ebd",
      "652d349367d14240a9399e225d641ed2",
      "db6b1dc6051642a2bff17d2595f7463a",
      "30d148df82394c0c9412945419302d0f",
      "552af508dd794bd39cfdd7a757dc67fe",
      "4b25f628f33842528641cb3aca941a35",
      "72b5b2c017f6483a98d82c92e46e90cc",
      "499c7b0e3c2d485f97e0f281b082a73b",
      "b133bf0b321a42f0ac47c855ffe0f1e3",
      "3f79b9eef03748299032177c4ae58217",
      "329b967020984fbebe1f3e25d0a84bf4",
      "e1fbf63e3b6447df93d791c98d276d79",
      "9b96a34ca5b241ab84e34d8735dd7b94",
      "f8eb88c1b6b24eda8489fe10bb433dbc",
      "0c54407c997a4c24a618bea4e26d2f01",
      "e47efcbaa66342d7bb06c620b7a14be1",
      "b3129a48cf4342f387cb8dfea669153b",
      "c2f6fbb270714c4f956e48f1b6a45b69",
      "968941668d9a42309971d98b0704adb4",
      "5afeca18609c40bda77e4f2898816c0f",
      "4a23b4ecada24f07a4fb3bc4cff23241",
      "99885e6f294b4b12a9604cf8ff8e1199",
      "9c686b441f34434b93d24ca2e6cb3518",
      "8bead4b48a944f929fd2003ebc7561db",
      "f50a80ce967444f8b45ca17eec024b2f",
      "158495661b90431289eb5fd9025c7910",
      "c197bfec807a46f997ae62b6d9ddae2c",
      "fd77f4c314c943139bea92f1d744b506",
      "026f2fb6fb484149b35071ddb8d79d44",
      "446c57f63fd141e6b44511b3c0388fea",
      "e49ae24966074885adf7207772149d67",
      "93af454d5ec84d4c8deb799e7aecd241",
      "c893d04df6824c15967f46a284c8809f",
      "967c221896a646d0820e73a4ecd38f3f",
      "b0b363c6c92c4c768bddae5ee842d53f",
      "adcbf8ee76714b21933b50764fa16f4a",
      "e3e2dc07f34f4717919a16dde466cf06",
      "2d7a57139dea43f7a42c0134bd753dce",
      "4257a7a53c2b4fa8a947459e3e75b9ee",
      "1f2ff88acd9a4d03b55e3a7562035318",
      "0c5210d86e4b45acaef6adfefa77e672",
      "5f25e0249b8c4d328ca0ca74129f3710",
      "ba2cf09c2f2748e19d2291817cf4e933",
      "34d5ef8020044d2eb6b5277231533031",
      "ef442ca3239a480bbc456911b80685bf",
      "fe889ece4afc4d8492472f59e51adb6f",
      "73b57b2b1d1c458393474d25ba12f735",
      "6199d48fc0f44b549d2905c18514a8cc",
      "f6a3b8a1ac57422d9348af7e85e53469",
      "d0ef3e107c384601849183a182e458b2",
      "08514d886e14456a9ac58e1785ecb027",
      "7522df8f47214b07bd6b357688efb901",
      "ebf8b1f16d484673a20c9dd3c1d04f4f",
      "cf3ca57757eb46c895cff866c53d0c67",
      "99759e0d8527423fb89bfe1441172df3",
      "762698adf21f4aaa9bc8bb1cd0c0341a",
      "0ced92cfa6a34462a1acbf9b6b0c0f52",
      "783b90e746e84217994a5bb39f3494b4",
      "3a1f7d6b8e1c45d7b3c0760b0b49ed4e",
      "12d0d770842745bba28ff0bde07c0601",
      "a7431030144b4afdb37610c9dde13133",
      "2c8ac918b3444c4cae12961456ed0ed5",
      "450c0771ebb0491e9e9f3e8f08876062",
      "14c8b7b70dac4de09091e107e474aa5d",
      "047c04ddd8294b1ba3eeff6a8f1626d1",
      "cac14d38573a44309d5f6201f00b3f3d",
      "a67d25eed26649a89a00f6aaf336105b",
      "bef2b82b575b4b12bf7e55565f04ec28",
      "d9755ba65e144874873e015ed0eee009",
      "81a9385feab94d12afa87e8c2483745b",
      "5f817480a6d347f58b92071e9e2d6481",
      "15ef5b86e6f34dcda9f88cf48cdd3523",
      "9c8782eed861431ab807bc1528cc5771",
      "5cd8ba2c5bb94836a65af90390d3051f",
      "267f64cdba39489495e10138042cc370",
      "607c3f9563ee4a11bd1a4998c502e5bb",
      "2dfccf419ecd4ce99581e7414fbc62a4",
      "77533572d3c644d39d53c6335dd63810",
      "cc206e2f6c26490e9e1604793594218b",
      "f5156eaf595149418985b38536de2d84",
      "4a2acbe4293e401e9c6948e8576feeb0",
      "85de9712f19742a5bb37439acf6ade15",
      "e8ca5818492a48d6b5aae7110d75005b",
      "030e77e058ef4877a4a829d52b8f22d6",
      "5e596851974549a5bf347d2bf49fcfa3",
      "91480c4b5a1c41c5b4216c75c9be072e",
      "e3b0d692c1ec4b65b7cfe8adac92513d",
      "64608ec86ac841b8994596626d3fb9db",
      "86a835fb86994cca8e7bcaf8d64456cf",
      "89335d42700e44c1ac826d24c8b75d26",
      "2270d228d91d4795af3d6d9d7a567e65",
      "f2f47e7ab9bd4c948b53bf5507f73d3d",
      "1a9ef22822c2455282a8681c6a4df1e4",
      "9a9643872eee485a94180c4f80d9db54",
      "3ba05a20ed6d480685c6f8787a405c8b",
      "f21d024bf3834da1a897f1d8690f7beb",
      "7815af16dae84e09821c481aa4017758",
      "25f6fa28ed734a6685cebf8c982a0b0e",
      "1ccf0ee22da342b5ad794d7a375a6979",
      "0cae9a8c53e74ac3bd9aca3d2eefb61c",
      "384b9f18a5ce4255aff3f7ed05fc3606",
      "752a832a1e014c119e7a83b6b6d1989c",
      "dfe6fcbc66534dc9a67dc20fb901ef0f",
      "43fd5ddf333c4051bc54ca307458b285",
      "2c3a943723e5472994b998c1844dfef4",
      "5fbca19df1c940dd804dcb59b538d397",
      "fb239e2126594d8f934d606eeda7d05b",
      "929b419bf08542459e10426268c05a5c",
      "82e7c1dfc8434d928dc6678b073199fa",
      "e1b36492218d493cb1715e02101aeb1b",
      "b8d9b1ca262b4207b3f6d28241d2cdf6",
      "2e834b71a03f42d7ae1470062266a6b1",
      "5593a1b443fe434490ce20be5cf7fc90",
      "c97e877b41464b819f7f910c23eeb61a",
      "8d7f750e6ce641338ee2bcbe871fd282",
      "4301d41b899842d499c654ca109583d6",
      "ef06053baafc43a892bb9ff9b674d355",
      "cc9d9e1eb82849b2a5a8b0ef14f4a3b1",
      "374095a0cf9b4bde9a2155c4d0000705",
      "db64a49c804249b2a8542f5ae4897d3e",
      "5ef13dde79504987a53ac4332cfbbd92",
      "4c8c143bcc4945afbf69099a8660a202",
      "c2d3e003b0af4ada8cb5a2f5c50fb3e4",
      "e21824f0841d4aa4921f971a4c4d53c3",
      "6e92f828a3e54daf840368cddd19a4c4",
      "491989a59a3d4a89afddbc782fa39fe4",
      "364946fb1a5841ddbca6771d0bd69143",
      "8079b1a9e7e74f59b392f5f65967695a",
      "247add0f525a44ef975942d95dba3f34",
      "ebedea24be36411b9cc6715d543dc875",
      "63ad47b20cc6476da398f4dc4569e1ed",
      "605b6756bf8e4a7f82e79ba8279fc6c6",
      "785f9921021f45368d2af9ad7411d7f9",
      "46489bf926fc4f26885c728240a386e7",
      "22086e36189543449af10cdf23cb5f1c",
      "44b77e7cb8cd4cc1aca2641192ac12bb",
      "0f9ebb55dc624b0492f2e92452e37b09",
      "0499088b9f4f44e5b25ccd67cf12073b",
      "c7cabfd5db8f46f5879242f04e08bd7c",
      "6c64f06375bd4bedaa87950a6977a9b4",
      "9202c1f80a3b46f7b1ba2f2e615f9410",
      "505d7624e9a8449ea2ca95bcf697faed",
      "fb83a35591284fefa27434d9f35495a5",
      "e5ad5a97ca564fda9aa974243bd90d8d",
      "2ff1b481707e4ec19fa03be8d2069318",
      "393f37cdd089435299b04516a5c0b356",
      "b228d50179ed4a16824a72f87fb0d929",
      "7ad2dadadef8464aa95454b8ef8dc71b",
      "41beb1f2bb7742359c405dba24ac2a6e",
      "ed741d909c6b4707a68a5c72597320c3",
      "cf72d660405746ee86f22e0718add9d1",
      "f368a356495f4e6aaa21a54c26146503",
      "a1b0f6076d4b43aebf51b559609e6bcf",
      "7f62b40dc0814c659511fd67f5aac34a",
      "a9b323f86d5c4076b8f4223f41995e21",
      "55ea7965ac2c4bce95c32cff7fd95fc4",
      "045f40d2b7b2413a9801fc5784f5ac17",
      "b0e4d7c559734090a95fc2b61797a368",
      "2bf3945f3a994184935437cf359a1a82",
      "99944d484b8e4edc860deb7e9808264d",
      "912fc319833e493ebc53eb17e6860edb",
      "e8ac262c049849cc8e674436de4bfa3e",
      "7bb9c461a7df4ff988a43993716007b4",
      "fbf765dbf1164c1a91c6033afc3a2059",
      "40b908de9662431e8698d6a88f4ac87e",
      "ff90ed58391543be8398f2895bf03a43",
      "d57b54183ff9446a8cdb7672d621697e",
      "a17833b3396f494cb4ad8d259e13c77d",
      "866d312f0b4848ebba2c5eb3a5f7511d",
      "470fdec220774c0795120b12056e63d7",
      "678a68b3682a4d5fb10314ad78812079",
      "5d9c2107196e4dc1a1ab673ebbbfbc33",
      "a8d64316c84848a8bb8f2cefdc72e7cc",
      "9f271d64765641aba9e4b88ea4a1ca1d",
      "14d6747c67424a469254f2f6f9375e74",
      "aaa9dd4187fd421484fc4edb8b47646a",
      "d88254108aa844329746b1d5839204c9",
      "3da34997491d434c84a204073f6dff80",
      "6cbdeab9849e4a57940bb60b78c355f5",
      "57d76d524e4941099d46264c8cec1bfb",
      "ed68637b48bc4c33a1e22e5571b1b67b",
      "22e424dee3f04214a8376ce2e4d05fa0",
      "07eed775ded14b5a9883c8e238f824e4",
      "2cecbb3d915a4860a8ecc7b78eaf1338",
      "c40e222932ed4f28be314bf7960d09ec",
      "486da14c0fa44cfab176d4685c496c1a",
      "403b798013af4896b0ceba03ef8bc5ac",
      "e175e7ed8f7f425cbff6abe873d960a7",
      "d765c4d48348446daba7ccaf16f7577f",
      "320bbe5645bc490186ba8dad695449ac",
      "bdf8ef6dbbd045d0b68ea20bfe9b185c",
      "ccd63666a67b4a06b381c6ba76c88f41",
      "971f58480f3b40dabd227925cff3da50",
      "6cbddfe753384b3dadf91e40ca919c6c",
      "744c372bc44548e1842ecd8d7e3bd293",
      "0c0f5de522c542f19f6a0b73569bfdcb",
      "7c8426beb1134a088d98bf344148cd5e",
      "b4ea113bf82f4593bfd8aea7f4e79351",
      "578bfd984bac48c2870b4ce973f50be8",
      "8460823b920e4356a2f3c49825985c12",
      "f56bb3bdec4c4641ae3676ff837d4389",
      "293150f2898d4a77b88bd0e4583c4d71",
      "73832800489c42db8303cc52b77d1af7",
      "8195d30df22b47bcbdc520f3cb200dbb",
      "19cc8c0b0ea64b0a872aba49d8c2702a",
      "1160c36216bb406aa3eb56313bf02e69",
      "46cb3807e3234175b08801be49455d60",
      "8c5795acd59e479d923365a3cb4cc58e",
      "279fadaab1e24330bc499385f2dc3c3a",
      "ee7eaed28c1f4dd1a91f42b9defe9155",
      "fe1c9481ccfa47a3898b2a48563a9fc9",
      "a166cc60456d42e68edc25fe7e7621b5",
      "b08a8044e74c440996fa68b1e37eca8d",
      "ff4220737cf64959843edaaa577a0b85",
      "8728cf818f0e4c5bb9aaab611f5b37ec",
      "10a45e788de84a22b47ed548c8674926",
      "e67bfc313ecc4c5c8500384d77be12c3",
      "86580b6767934638908a3601cd582e08",
      "122b84322db24870b9a7ea2e9539a351",
      "38ddb4327183434b9bda132e89ff7401",
      "45413c7352434a2792341ff54dbf2945",
      "8fa47bce937742ef85cdca5151722686",
      "892ac1ef1e6c413cafb9c0d954bdee29",
      "b900a064ed70437c913ad5dd3dcbb72c",
      "5de0066b6ce24b98a201d5287be4e4a2",
      "0594046b9cee4b139428ba8c2e0f2ba0",
      "fecd3682af3a4494b15fca069b524269",
      "9d1666a4f1974239b43032f7385c7323",
      "4b1cc21b21bd4bbaa7e3483e7e8eaf15",
      "e1421f1a202b4deca6e5e252c04de08d",
      "58892b83ab014563bd434fd301440a0e",
      "3922a4f2d0c84ccabb7745cdc73d0d97",
      "c75dcb9e2da648aab43de025c25781d5",
      "09494ec84725492e9a61a9119dc08fc9",
      "2597801d560f474fab26f301cd5dea60",
      "2933a2a180034c77991afbc9eae7813a"
     ]
    },
    "id": "gpnptA9Mn4o_",
    "outputId": "256a75cd-034b-4ebe-b67c-37c5a3cf116e"
   },
   "outputs": [
    {
     "name": "stdout",
     "output_type": "stream",
     "text": [
      "\n",
      "--- INICIANDO EJECUCIÓN 1/5 ---\n",
      "  Procesando Modelo/SDE: VE (Ejecución 1)\n",
      "Inicializado VESDE (sigma_min=0.01, sigma_max=50.0, sigma=25.0)\n",
      "./checkpoints/scorenet_cifar10_VE_epoch_200.pth\n",
      "ScoreNet cargado desde ./checkpoints/scorenet_cifar10_VE_epoch_200.pth\n",
      "Checkpoint loaded successfully.\n",
      "Generando 100 imágenes sintéticas con VE para FID...\n",
      "Generando 100 muestras vía euler_maruyama_integrator (500 steps) en 4 lotes de tamaño 32...\n"
     ]
    },
    {
     "name": "stderr",
     "output_type": "stream",
     "text": [
      "Generando Muestras: 100%|██████████| 4/4 [01:29<00:00, 22.27s/it]\n"
     ]
    },
    {
     "name": "stdout",
     "output_type": "stream",
     "text": [
      "<generate_samples_for_fid> Forma final de salida: torch.Size([100, 3, 32, 32]) usando euler_maruyama_integrator\n",
      "Imágenes generadas. Tensor shape: torch.Size([100, 3, 32, 32])\n",
      "Preparando 100 imágenes reales aleatorias de CIFAR-10 para FID...\n",
      "Dataset CIFAR-10 test cargado. Tamaño total: 10000\n",
      "Seleccionando 100 imágenes reales al azar de CIFAR-10 test.\n",
      " Cargando 100 imágenes reales...\n"
     ]
    },
    {
     "name": "stderr",
     "output_type": "stream",
     "text": [
      "Cargando imágenes reales: 100%|██████████| 100/100 [00:00<00:00, 7389.41it/s]"
     ]
    },
    {
     "name": "stdout",
     "output_type": "stream",
     "text": [
      "Imágenes reales preparadas. Tensor shape: torch.Size([100, 3, 32, 32]), Device: cuda:0\n",
      "Creando DataLoaders para FID...\n",
      " Tensor de imágenes generadas movido a cuda.\n",
      " Tensor de imágenes reales movido a cuda.\n",
      "TensorDatasets creados. Tamaño real: 100, Tamaño generado: 100\n",
      "DataLoaders creados con batch_size=128.\n",
      "\n",
      "Calculando FID usando 100 imágenes reales y 100 generadas...\n"
     ]
    },
    {
     "name": "stderr",
     "output_type": "stream",
     "text": [
      "\n"
     ]
    },
    {
     "name": "stdout",
     "output_type": "stream",
     "text": [
      "Calculando estadísticas de activación para imágenes reales...\n",
      "Calculando estadísticas de activación para 100 muestras...\n"
     ]
    },
    {
     "name": "stderr",
     "output_type": "stream",
     "text": [
      "Calculando Activaciones: 100%|██████████| 100/100 [00:00<00:00, 256.27it/s]\n"
     ]
    },
    {
     "name": "stdout",
     "output_type": "stream",
     "text": [
      "Estadísticas calculadas. mu shape: (2048,), sigma shape: (2048, 2048)\n",
      "\n",
      "Calculando estadísticas de activación para imágenes generadas...\n",
      "Calculando estadísticas de activación para 100 muestras...\n"
     ]
    },
    {
     "name": "stderr",
     "output_type": "stream",
     "text": [
      "Calculando Activaciones: 100%|██████████| 100/100 [00:00<00:00, 263.81it/s]\n"
     ]
    },
    {
     "name": "stdout",
     "output_type": "stream",
     "text": [
      "Estadísticas calculadas. mu shape: (2048,), sigma shape: (2048, 2048)\n",
      "\n",
      "Calculando Distancia de Fréchet (FID)...\n"
     ]
    },
    {
     "data": {
      "text/markdown": [
       "### FID Score (VE): 250.6865"
      ],
      "text/plain": [
       "<IPython.core.display.Markdown object>"
      ]
     },
     "metadata": {},
     "output_type": "display_data"
    },
    {
     "name": "stdout",
     "output_type": "stream",
     "text": [
      "Full CIFAR-10 test set size: 10000\n",
      "Created subset with 1000 images (first half of test set).\n",
      "Image dimensions: C=3, H=32, W=32 => Total=3072\n",
      "\n",
      "Iniciando cálculo de NLL con compute_nll_scipy...\n",
      "Calculating NLL using scipy.integrate.solve_ivp (method=RK45). Dequantization enabled.\n"
     ]
    },
    {
     "data": {
      "application/vnd.jupyter.widget-view+json": {
       "model_id": "e3dd41b4326b4b30aeeeb72923ed5c6e",
       "version_major": 2,
       "version_minor": 0
      },
      "text/plain": [
       "Calculating NLL:   0%|          | 0/16 [00:00<?, ?it/s]"
      ]
     },
     "metadata": {},
     "output_type": "display_data"
    },
    {
     "name": "stdout",
     "output_type": "stream",
     "text": [
      "\n",
      "--- Processing batch 1/16 ---\n",
      "Data dimensions detected: 3072\n",
      "Initial batch shape: torch.Size([64, 3, 32, 32])\n",
      "\n",
      "--- Checking first batch preprocessing ---\n",
      "Data range check passed: [0.0000, 1.0000] is within expected [0.0, 1.0].\n",
      "Dequantization check: Values seem plausibly dequantized (mean_residual=2.50e-01).\n",
      "Data preprocessing check passed successfully.\n",
      "----------------------------------------\n",
      "Solving ODE for batch 1...\n",
      "ODE solved for batch 1. Success: True\n",
      "Detected VE SDE (sigma_t=9.85). Prior variance=96.93.\n",
      "Batch 1 Avg: log_p_T=-10275.49, delta_log_p=-18805.70, log_p_0=-29081.19, NLL=29081.19\n",
      "\n",
      "--- Processing batch 2/16 ---\n",
      "Solving ODE for batch 2...\n",
      "ODE solved for batch 2. Success: True\n",
      "Batch 2 Avg: log_p_T=-10276.71, delta_log_p=-18615.44, log_p_0=-28892.14, NLL=28892.14\n",
      "\n",
      "--- Processing batch 3/16 ---\n",
      "Solving ODE for batch 3...\n",
      "ODE solved for batch 3. Success: True\n",
      "Batch 3 Avg: log_p_T=-10280.33, delta_log_p=-18549.83, log_p_0=-28830.16, NLL=28830.16\n",
      "\n",
      "--- Processing batch 4/16 ---\n",
      "Solving ODE for batch 4...\n",
      "ODE solved for batch 4. Success: True\n",
      "Batch 4 Avg: log_p_T=-10276.32, delta_log_p=-18896.82, log_p_0=-29173.13, NLL=29173.13\n",
      "\n",
      "--- Processing batch 5/16 ---\n",
      "Solving ODE for batch 5...\n",
      "ODE solved for batch 5. Success: True\n",
      "Batch 5 Avg: log_p_T=-10278.12, delta_log_p=-18706.58, log_p_0=-28984.70, NLL=28984.70\n",
      "\n",
      "--- Processing batch 6/16 ---\n",
      "Solving ODE for batch 6...\n",
      "ODE solved for batch 6. Success: True\n",
      "Batch 6 Avg: log_p_T=-10277.88, delta_log_p=-18535.82, log_p_0=-28813.70, NLL=28813.70\n",
      "\n",
      "--- Processing batch 7/16 ---\n",
      "Solving ODE for batch 7...\n",
      "ODE solved for batch 7. Success: True\n",
      "Batch 7 Avg: log_p_T=-10279.40, delta_log_p=-18718.84, log_p_0=-28998.24, NLL=28998.24\n",
      "\n",
      "--- Processing batch 8/16 ---\n",
      "Solving ODE for batch 8...\n",
      "ODE solved for batch 8. Success: True\n",
      "Batch 8 Avg: log_p_T=-10278.04, delta_log_p=-18814.87, log_p_0=-29092.90, NLL=29092.90\n",
      "\n",
      "--- Processing batch 9/16 ---\n",
      "Solving ODE for batch 9...\n",
      "ODE solved for batch 9. Success: True\n",
      "Batch 9 Avg: log_p_T=-10278.23, delta_log_p=-18894.42, log_p_0=-29172.66, NLL=29172.66\n",
      "\n",
      "--- Processing batch 10/16 ---\n",
      "Solving ODE for batch 10...\n",
      "ODE solved for batch 10. Success: True\n",
      "Batch 10 Avg: log_p_T=-10278.78, delta_log_p=-19038.22, log_p_0=-29317.00, NLL=29317.00\n",
      "\n",
      "--- Processing batch 11/16 ---\n",
      "Solving ODE for batch 11...\n",
      "ODE solved for batch 11. Success: True\n",
      "Batch 11 Avg: log_p_T=-10280.38, delta_log_p=-18635.46, log_p_0=-28915.84, NLL=28915.84\n",
      "\n",
      "--- Processing batch 12/16 ---\n",
      "Solving ODE for batch 12...\n",
      "ODE solved for batch 12. Success: True\n",
      "Batch 12 Avg: log_p_T=-10276.64, delta_log_p=-18731.11, log_p_0=-29007.75, NLL=29007.75\n",
      "\n",
      "--- Processing batch 13/16 ---\n",
      "Solving ODE for batch 13...\n",
      "ODE solved for batch 13. Success: True\n",
      "Batch 13 Avg: log_p_T=-10277.10, delta_log_p=-18815.27, log_p_0=-29092.37, NLL=29092.37\n",
      "\n",
      "--- Processing batch 14/16 ---\n",
      "Solving ODE for batch 14...\n",
      "ODE solved for batch 14. Success: True\n",
      "Batch 14 Avg: log_p_T=-10280.81, delta_log_p=-18464.06, log_p_0=-28744.88, NLL=28744.88\n",
      "\n",
      "--- Processing batch 15/16 ---\n",
      "Solving ODE for batch 15...\n",
      "ODE solved for batch 15. Success: True\n",
      "Batch 15 Avg: log_p_T=-10272.18, delta_log_p=-18996.96, log_p_0=-29269.14, NLL=29269.14\n",
      "\n",
      "--- Processing batch 16/16 ---\n",
      "Solving ODE for batch 16...\n",
      "ODE solved for batch 16. Success: True\n",
      "Batch 16 Avg: log_p_T=-10275.50, delta_log_p=-18786.36, log_p_0=-29061.86, NLL=29061.86\n",
      "\n",
      "Cálculo NLL finalizado.\n",
      "Average NLL (base e): 29027.1649\n"
     ]
    },
    {
     "data": {
      "text/markdown": [
       "### Bits Per Dimension (BPD): 13.6319"
      ],
      "text/plain": [
       "<IPython.core.display.Markdown object>"
      ]
     },
     "metadata": {},
     "output_type": "display_data"
    },
    {
     "name": "stdout",
     "output_type": "stream",
     "text": [
      "Generating images for IS...\n",
      "Shape of final generated images: torch.Size([200, 3, 32, 32])\n",
      "Calculating IS on device: cuda\n",
      "Loading Inception v3 model...\n",
      "Getting Inception predictions...\n"
     ]
    },
    {
     "data": {
      "application/vnd.jupyter.widget-view+json": {
       "model_id": "a401405186514d4a9461f13c3f273f89",
       "version_major": 2,
       "version_minor": 0
      },
      "text/plain": [
       "Getting Inception Predictions:   0%|          | 0/7 [00:00<?, ?it/s]"
      ]
     },
     "metadata": {},
     "output_type": "display_data"
    },
    {
     "name": "stdout",
     "output_type": "stream",
     "text": [
      "Calculating Inception Score using 200 images and 10 splits...\n"
     ]
    },
    {
     "data": {
      "text/markdown": [
       "### Inception Score calculado:"
      ],
      "text/plain": [
       "<IPython.core.display.Markdown object>"
      ]
     },
     "metadata": {},
     "output_type": "display_data"
    },
    {
     "data": {
      "text/markdown": [
       "### Media: 2.8125"
      ],
      "text/plain": [
       "<IPython.core.display.Markdown object>"
      ]
     },
     "metadata": {},
     "output_type": "display_data"
    },
    {
     "data": {
      "text/markdown": [
       "### Std Dev: 0.3625"
      ],
      "text/plain": [
       "<IPython.core.display.Markdown object>"
      ]
     },
     "metadata": {},
     "output_type": "display_data"
    },
    {
     "name": "stdout",
     "output_type": "stream",
     "text": [
      "  Procesando Modelo/SDE: VP_Linear (Ejecución 1)\n",
      "Inicializado VPSDE con Schedule Lineal (beta_min=0.1, beta_max=20.0)\n",
      "./checkpoints/scorenet_cifar10_VP_Linear_epoch_50.pth\n",
      "ScoreNet cargado desde ./checkpoints/scorenet_cifar10_VP_Linear_epoch_50.pth\n",
      "Checkpoint loaded successfully.\n",
      "Generando 100 imágenes sintéticas con VP_Linear para FID...\n",
      "Generando 100 muestras vía euler_maruyama_integrator (500 steps) en 4 lotes de tamaño 32...\n"
     ]
    },
    {
     "name": "stderr",
     "output_type": "stream",
     "text": [
      "Generando Muestras: 100%|██████████| 4/4 [01:35<00:00, 23.87s/it]\n"
     ]
    },
    {
     "name": "stdout",
     "output_type": "stream",
     "text": [
      "<generate_samples_for_fid> Forma final de salida: torch.Size([100, 3, 32, 32]) usando euler_maruyama_integrator\n",
      "Imágenes generadas. Tensor shape: torch.Size([100, 3, 32, 32])\n",
      "Preparando 100 imágenes reales aleatorias de CIFAR-10 para FID...\n",
      "Dataset CIFAR-10 test cargado. Tamaño total: 10000\n",
      "Seleccionando 100 imágenes reales al azar de CIFAR-10 test.\n",
      " Cargando 100 imágenes reales...\n"
     ]
    },
    {
     "name": "stderr",
     "output_type": "stream",
     "text": [
      "Cargando imágenes reales: 100%|██████████| 100/100 [00:00<00:00, 7087.49it/s]"
     ]
    },
    {
     "name": "stdout",
     "output_type": "stream",
     "text": [
      "Imágenes reales preparadas. Tensor shape: torch.Size([100, 3, 32, 32]), Device: cuda:0\n",
      "Creando DataLoaders para FID...\n",
      " Tensor de imágenes generadas movido a cuda.\n",
      " Tensor de imágenes reales movido a cuda.\n",
      "TensorDatasets creados. Tamaño real: 100, Tamaño generado: 100\n",
      "DataLoaders creados con batch_size=128.\n",
      "\n",
      "Calculando FID usando 100 imágenes reales y 100 generadas...\n"
     ]
    },
    {
     "name": "stderr",
     "output_type": "stream",
     "text": [
      "\n"
     ]
    },
    {
     "name": "stdout",
     "output_type": "stream",
     "text": [
      "Calculando estadísticas de activación para imágenes reales...\n",
      "Calculando estadísticas de activación para 100 muestras...\n"
     ]
    },
    {
     "name": "stderr",
     "output_type": "stream",
     "text": [
      "Calculando Activaciones: 100%|██████████| 100/100 [00:00<00:00, 261.76it/s]\n"
     ]
    },
    {
     "name": "stdout",
     "output_type": "stream",
     "text": [
      "Estadísticas calculadas. mu shape: (2048,), sigma shape: (2048, 2048)\n",
      "\n",
      "Calculando estadísticas de activación para imágenes generadas...\n",
      "Calculando estadísticas de activación para 100 muestras...\n"
     ]
    },
    {
     "name": "stderr",
     "output_type": "stream",
     "text": [
      "Calculando Activaciones: 100%|██████████| 100/100 [00:00<00:00, 259.09it/s]\n"
     ]
    },
    {
     "name": "stdout",
     "output_type": "stream",
     "text": [
      "Estadísticas calculadas. mu shape: (2048,), sigma shape: (2048, 2048)\n",
      "\n",
      "Calculando Distancia de Fréchet (FID)...\n"
     ]
    },
    {
     "data": {
      "text/markdown": [
       "### FID Score (VP_Linear): 213.9710"
      ],
      "text/plain": [
       "<IPython.core.display.Markdown object>"
      ]
     },
     "metadata": {},
     "output_type": "display_data"
    },
    {
     "name": "stdout",
     "output_type": "stream",
     "text": [
      "Full CIFAR-10 test set size: 10000\n",
      "Created subset with 1000 images (first half of test set).\n",
      "Image dimensions: C=3, H=32, W=32 => Total=3072\n",
      "\n",
      "Iniciando cálculo de NLL con compute_nll_scipy...\n",
      "Calculating NLL using scipy.integrate.solve_ivp (method=RK45). Dequantization enabled.\n"
     ]
    },
    {
     "data": {
      "application/vnd.jupyter.widget-view+json": {
       "model_id": "9f523bb7fe554284970fbdb1c17aa811",
       "version_major": 2,
       "version_minor": 0
      },
      "text/plain": [
       "Calculating NLL:   0%|          | 0/16 [00:00<?, ?it/s]"
      ]
     },
     "metadata": {},
     "output_type": "display_data"
    },
    {
     "name": "stdout",
     "output_type": "stream",
     "text": [
      "\n",
      "--- Processing batch 1/16 ---\n",
      "Data dimensions detected: 3072\n",
      "Initial batch shape: torch.Size([64, 3, 32, 32])\n",
      "\n",
      "--- Checking first batch preprocessing ---\n",
      "Data range check passed: [0.0000, 1.0000] is within expected [0.0, 1.0].\n",
      "Dequantization check: Values seem plausibly dequantized (mean_residual=2.50e-01).\n",
      "Data preprocessing check passed successfully.\n",
      "----------------------------------------\n",
      "Solving ODE for batch 1...\n",
      "ODE solved for batch 1. Success: True\n",
      "Detected VP/SubVP SDE (sigma_t=1.00). Prior variance=1.0.\n",
      "Batch 1 Avg: log_p_T=-4297.20, delta_log_p=-13417.17, log_p_0=-17714.37, NLL=17714.37\n",
      "\n",
      "--- Processing batch 2/16 ---\n",
      "Solving ODE for batch 2...\n",
      "ODE solved for batch 2. Success: True\n",
      "Batch 2 Avg: log_p_T=-4316.72, delta_log_p=-13760.85, log_p_0=-18077.56, NLL=18077.56\n",
      "\n",
      "--- Processing batch 3/16 ---\n",
      "Solving ODE for batch 3...\n",
      "ODE solved for batch 3. Success: True\n",
      "Batch 3 Avg: log_p_T=-4306.82, delta_log_p=-13758.82, log_p_0=-18065.65, NLL=18065.65\n",
      "\n",
      "--- Processing batch 4/16 ---\n",
      "Solving ODE for batch 4...\n",
      "ODE solved for batch 4. Success: True\n",
      "Batch 4 Avg: log_p_T=-4290.08, delta_log_p=-13564.51, log_p_0=-17854.60, NLL=17854.60\n",
      "\n",
      "--- Processing batch 5/16 ---\n",
      "Solving ODE for batch 5...\n",
      "ODE solved for batch 5. Success: True\n",
      "Batch 5 Avg: log_p_T=-4302.75, delta_log_p=-13644.48, log_p_0=-17947.23, NLL=17947.23\n",
      "\n",
      "--- Processing batch 6/16 ---\n",
      "Solving ODE for batch 6...\n",
      "ODE solved for batch 6. Success: True\n",
      "Batch 6 Avg: log_p_T=-4312.40, delta_log_p=-13857.03, log_p_0=-18169.43, NLL=18169.43\n",
      "\n",
      "--- Processing batch 7/16 ---\n",
      "Solving ODE for batch 7...\n",
      "ODE solved for batch 7. Success: True\n",
      "Batch 7 Avg: log_p_T=-4301.45, delta_log_p=-13732.76, log_p_0=-18034.21, NLL=18034.21\n",
      "\n",
      "--- Processing batch 8/16 ---\n",
      "Solving ODE for batch 8...\n",
      "ODE solved for batch 8. Success: True\n",
      "Batch 8 Avg: log_p_T=-4315.33, delta_log_p=-13502.06, log_p_0=-17817.39, NLL=17817.39\n",
      "\n",
      "--- Processing batch 9/16 ---\n",
      "Solving ODE for batch 9...\n",
      "ODE solved for batch 9. Success: True\n",
      "Batch 9 Avg: log_p_T=-4303.01, delta_log_p=-13456.93, log_p_0=-17759.94, NLL=17759.94\n",
      "\n",
      "--- Processing batch 10/16 ---\n",
      "Solving ODE for batch 10...\n",
      "ODE solved for batch 10. Success: True\n",
      "Batch 10 Avg: log_p_T=-4314.67, delta_log_p=-13766.48, log_p_0=-18081.15, NLL=18081.15\n",
      "\n",
      "--- Processing batch 11/16 ---\n",
      "Solving ODE for batch 11...\n",
      "ODE solved for batch 11. Success: True\n",
      "Batch 11 Avg: log_p_T=-4304.13, delta_log_p=-13633.68, log_p_0=-17937.81, NLL=17937.81\n",
      "\n",
      "--- Processing batch 12/16 ---\n",
      "Solving ODE for batch 12...\n",
      "ODE solved for batch 12. Success: True\n",
      "Batch 12 Avg: log_p_T=-4303.80, delta_log_p=-13460.76, log_p_0=-17764.56, NLL=17764.56\n",
      "\n",
      "--- Processing batch 13/16 ---\n",
      "Solving ODE for batch 13...\n",
      "ODE solved for batch 13. Success: True\n",
      "Batch 13 Avg: log_p_T=-4308.60, delta_log_p=-13484.43, log_p_0=-17793.04, NLL=17793.04\n",
      "\n",
      "--- Processing batch 14/16 ---\n",
      "Solving ODE for batch 14...\n",
      "ODE solved for batch 14. Success: True\n",
      "Batch 14 Avg: log_p_T=-4289.08, delta_log_p=-13634.92, log_p_0=-17924.00, NLL=17924.00\n",
      "\n",
      "--- Processing batch 15/16 ---\n",
      "Solving ODE for batch 15...\n",
      "ODE solved for batch 15. Success: True\n",
      "Batch 15 Avg: log_p_T=-4297.16, delta_log_p=-13485.55, log_p_0=-17782.70, NLL=17782.70\n",
      "\n",
      "--- Processing batch 16/16 ---\n",
      "Solving ODE for batch 16...\n",
      "ODE solved for batch 16. Success: True\n",
      "Batch 16 Avg: log_p_T=-4294.95, delta_log_p=-13895.41, log_p_0=-18190.36, NLL=18190.36\n",
      "\n",
      "Cálculo NLL finalizado.\n",
      "Average NLL (base e): 17925.9273\n"
     ]
    },
    {
     "data": {
      "text/markdown": [
       "### Bits Per Dimension (BPD): 8.4185"
      ],
      "text/plain": [
       "<IPython.core.display.Markdown object>"
      ]
     },
     "metadata": {},
     "output_type": "display_data"
    },
    {
     "name": "stdout",
     "output_type": "stream",
     "text": [
      "Generating images for IS...\n",
      "Shape of final generated images: torch.Size([200, 3, 32, 32])\n",
      "Calculating IS on device: cuda\n",
      "Loading Inception v3 model...\n",
      "Getting Inception predictions...\n"
     ]
    },
    {
     "data": {
      "application/vnd.jupyter.widget-view+json": {
       "model_id": "fb40594fdbd347ca82e8055f3b4170b9",
       "version_major": 2,
       "version_minor": 0
      },
      "text/plain": [
       "Getting Inception Predictions:   0%|          | 0/7 [00:00<?, ?it/s]"
      ]
     },
     "metadata": {},
     "output_type": "display_data"
    },
    {
     "name": "stdout",
     "output_type": "stream",
     "text": [
      "Calculating Inception Score using 200 images and 10 splits...\n"
     ]
    },
    {
     "data": {
      "text/markdown": [
       "### Inception Score calculado:"
      ],
      "text/plain": [
       "<IPython.core.display.Markdown object>"
      ]
     },
     "metadata": {},
     "output_type": "display_data"
    },
    {
     "data": {
      "text/markdown": [
       "### Media: 3.4131"
      ],
      "text/plain": [
       "<IPython.core.display.Markdown object>"
      ]
     },
     "metadata": {},
     "output_type": "display_data"
    },
    {
     "data": {
      "text/markdown": [
       "### Std Dev: 0.4451"
      ],
      "text/plain": [
       "<IPython.core.display.Markdown object>"
      ]
     },
     "metadata": {},
     "output_type": "display_data"
    },
    {
     "name": "stdout",
     "output_type": "stream",
     "text": [
      "  Procesando Modelo/SDE: VP_Cosine (Ejecución 1)\n",
      "Inicializado VPSDE con Schedule Coseno (s=0.008)\n",
      "./checkpoints/scorenet_cifar10_VP_Cosine_epoch_100.pth\n",
      "ScoreNet cargado desde ./checkpoints/scorenet_cifar10_VP_Cosine_epoch_100.pth\n",
      "Checkpoint loaded successfully.\n",
      "Generando 100 imágenes sintéticas con VP_Cosine para FID...\n",
      "Generando 100 muestras vía euler_maruyama_integrator (500 steps) en 4 lotes de tamaño 32...\n"
     ]
    },
    {
     "name": "stderr",
     "output_type": "stream",
     "text": [
      "Generando Muestras: 100%|██████████| 4/4 [01:35<00:00, 23.89s/it]\n"
     ]
    },
    {
     "name": "stdout",
     "output_type": "stream",
     "text": [
      "<generate_samples_for_fid> Forma final de salida: torch.Size([100, 3, 32, 32]) usando euler_maruyama_integrator\n",
      "Imágenes generadas. Tensor shape: torch.Size([100, 3, 32, 32])\n",
      "Preparando 100 imágenes reales aleatorias de CIFAR-10 para FID...\n",
      "Dataset CIFAR-10 test cargado. Tamaño total: 10000\n",
      "Seleccionando 100 imágenes reales al azar de CIFAR-10 test.\n",
      " Cargando 100 imágenes reales...\n"
     ]
    },
    {
     "name": "stderr",
     "output_type": "stream",
     "text": [
      "Cargando imágenes reales: 100%|██████████| 100/100 [00:00<00:00, 7265.63it/s]"
     ]
    },
    {
     "name": "stdout",
     "output_type": "stream",
     "text": [
      "Imágenes reales preparadas. Tensor shape: torch.Size([100, 3, 32, 32]), Device: cuda:0\n",
      "Creando DataLoaders para FID...\n",
      " Tensor de imágenes generadas movido a cuda.\n",
      " Tensor de imágenes reales movido a cuda.\n",
      "TensorDatasets creados. Tamaño real: 100, Tamaño generado: 100\n",
      "DataLoaders creados con batch_size=128.\n",
      "\n",
      "Calculando FID usando 100 imágenes reales y 100 generadas...\n"
     ]
    },
    {
     "name": "stderr",
     "output_type": "stream",
     "text": [
      "\n"
     ]
    },
    {
     "name": "stdout",
     "output_type": "stream",
     "text": [
      "Calculando estadísticas de activación para imágenes reales...\n",
      "Calculando estadísticas de activación para 100 muestras...\n"
     ]
    },
    {
     "name": "stderr",
     "output_type": "stream",
     "text": [
      "Calculando Activaciones: 100%|██████████| 100/100 [00:00<00:00, 259.08it/s]\n"
     ]
    },
    {
     "name": "stdout",
     "output_type": "stream",
     "text": [
      "Estadísticas calculadas. mu shape: (2048,), sigma shape: (2048, 2048)\n",
      "\n",
      "Calculando estadísticas de activación para imágenes generadas...\n",
      "Calculando estadísticas de activación para 100 muestras...\n"
     ]
    },
    {
     "name": "stderr",
     "output_type": "stream",
     "text": [
      "Calculando Activaciones: 100%|██████████| 100/100 [00:00<00:00, 258.18it/s]\n"
     ]
    },
    {
     "name": "stdout",
     "output_type": "stream",
     "text": [
      "Estadísticas calculadas. mu shape: (2048,), sigma shape: (2048, 2048)\n",
      "\n",
      "Calculando Distancia de Fréchet (FID)...\n"
     ]
    },
    {
     "data": {
      "text/markdown": [
       "### FID Score (VP_Cosine): 310.8002"
      ],
      "text/plain": [
       "<IPython.core.display.Markdown object>"
      ]
     },
     "metadata": {},
     "output_type": "display_data"
    },
    {
     "name": "stdout",
     "output_type": "stream",
     "text": [
      "Full CIFAR-10 test set size: 10000\n",
      "Created subset with 1000 images (first half of test set).\n",
      "Image dimensions: C=3, H=32, W=32 => Total=3072\n",
      "\n",
      "Iniciando cálculo de NLL con compute_nll_scipy...\n",
      "Calculating NLL using scipy.integrate.solve_ivp (method=RK45). Dequantization enabled.\n"
     ]
    },
    {
     "data": {
      "application/vnd.jupyter.widget-view+json": {
       "model_id": "3a4a5380f23a42c9a31ff85e2036097d",
       "version_major": 2,
       "version_minor": 0
      },
      "text/plain": [
       "Calculating NLL:   0%|          | 0/16 [00:00<?, ?it/s]"
      ]
     },
     "metadata": {},
     "output_type": "display_data"
    },
    {
     "name": "stdout",
     "output_type": "stream",
     "text": [
      "\n",
      "--- Processing batch 1/16 ---\n",
      "Data dimensions detected: 3072\n",
      "Initial batch shape: torch.Size([64, 3, 32, 32])\n",
      "\n",
      "--- Checking first batch preprocessing ---\n",
      "Data range check passed: [0.0000, 1.0000] is within expected [0.0, 1.0].\n",
      "Dequantization check: Values seem plausibly dequantized (mean_residual=2.49e-01).\n",
      "Data preprocessing check passed successfully.\n",
      "----------------------------------------\n",
      "Solving ODE for batch 1...\n",
      "ODE solved for batch 1. Success: True\n",
      "Detected VP/SubVP SDE (sigma_t=1.00). Prior variance=1.0.\n",
      "Batch 1 Avg: log_p_T=-3522.38, delta_log_p=-12074.10, log_p_0=-15596.47, NLL=15596.47\n",
      "\n",
      "--- Processing batch 2/16 ---\n",
      "Solving ODE for batch 2...\n",
      "ODE solved for batch 2. Success: True\n",
      "Batch 2 Avg: log_p_T=-3520.95, delta_log_p=-12300.14, log_p_0=-15821.09, NLL=15821.09\n",
      "\n",
      "--- Processing batch 3/16 ---\n",
      "Solving ODE for batch 3...\n",
      "ODE solved for batch 3. Success: True\n",
      "Batch 3 Avg: log_p_T=-3511.29, delta_log_p=-11822.29, log_p_0=-15333.58, NLL=15333.58\n",
      "\n",
      "--- Processing batch 4/16 ---\n",
      "Solving ODE for batch 4...\n",
      "ODE solved for batch 4. Success: True\n",
      "Batch 4 Avg: log_p_T=-3528.69, delta_log_p=-12164.70, log_p_0=-15693.39, NLL=15693.39\n",
      "\n",
      "--- Processing batch 5/16 ---\n",
      "Solving ODE for batch 5...\n",
      "ODE solved for batch 5. Success: True\n",
      "Batch 5 Avg: log_p_T=-3521.23, delta_log_p=-12278.96, log_p_0=-15800.19, NLL=15800.19\n",
      "\n",
      "--- Processing batch 6/16 ---\n",
      "Solving ODE for batch 6...\n",
      "ODE solved for batch 6. Success: True\n",
      "Batch 6 Avg: log_p_T=-3526.15, delta_log_p=-12283.23, log_p_0=-15809.38, NLL=15809.38\n",
      "\n",
      "--- Processing batch 7/16 ---\n",
      "Solving ODE for batch 7...\n",
      "ODE solved for batch 7. Success: True\n",
      "Batch 7 Avg: log_p_T=-3543.88, delta_log_p=-12287.41, log_p_0=-15831.29, NLL=15831.29\n",
      "\n",
      "--- Processing batch 8/16 ---\n",
      "Solving ODE for batch 8...\n",
      "ODE solved for batch 8. Success: True\n",
      "Batch 8 Avg: log_p_T=-3543.43, delta_log_p=-12014.72, log_p_0=-15558.15, NLL=15558.15\n",
      "\n",
      "--- Processing batch 9/16 ---\n",
      "Solving ODE for batch 9...\n",
      "ODE solved for batch 9. Success: True\n",
      "Batch 9 Avg: log_p_T=-3541.44, delta_log_p=-12520.90, log_p_0=-16062.34, NLL=16062.34\n",
      "\n",
      "--- Processing batch 10/16 ---\n",
      "Solving ODE for batch 10...\n",
      "ODE solved for batch 10. Success: True\n",
      "Batch 10 Avg: log_p_T=-3516.51, delta_log_p=-12298.01, log_p_0=-15814.52, NLL=15814.52\n",
      "\n",
      "--- Processing batch 11/16 ---\n",
      "Solving ODE for batch 11...\n",
      "ODE solved for batch 11. Success: True\n",
      "Batch 11 Avg: log_p_T=-3539.49, delta_log_p=-12238.67, log_p_0=-15778.16, NLL=15778.16\n",
      "\n",
      "--- Processing batch 12/16 ---\n",
      "Solving ODE for batch 12...\n",
      "ODE solved for batch 12. Success: True\n",
      "Batch 12 Avg: log_p_T=-3529.10, delta_log_p=-12235.49, log_p_0=-15764.59, NLL=15764.59\n",
      "\n",
      "--- Processing batch 13/16 ---\n",
      "Solving ODE for batch 13...\n",
      "ODE solved for batch 13. Success: True\n",
      "Batch 13 Avg: log_p_T=-3549.85, delta_log_p=-12160.26, log_p_0=-15710.12, NLL=15710.12\n",
      "\n",
      "--- Processing batch 14/16 ---\n",
      "Solving ODE for batch 14...\n",
      "ODE solved for batch 14. Success: True\n",
      "Batch 14 Avg: log_p_T=-3546.51, delta_log_p=-12566.37, log_p_0=-16112.88, NLL=16112.88\n",
      "\n",
      "--- Processing batch 15/16 ---\n",
      "Solving ODE for batch 15...\n",
      "ODE solved for batch 15. Success: True\n",
      "Batch 15 Avg: log_p_T=-3533.92, delta_log_p=-12210.80, log_p_0=-15744.72, NLL=15744.72\n",
      "\n",
      "--- Processing batch 16/16 ---\n",
      "Solving ODE for batch 16...\n",
      "ODE solved for batch 16. Success: True\n",
      "Batch 16 Avg: log_p_T=-3519.95, delta_log_p=-12576.68, log_p_0=-16096.63, NLL=16096.63\n",
      "\n",
      "Cálculo NLL finalizado.\n",
      "Average NLL (base e): 15775.4409\n"
     ]
    },
    {
     "data": {
      "text/markdown": [
       "### Bits Per Dimension (BPD): 7.4086"
      ],
      "text/plain": [
       "<IPython.core.display.Markdown object>"
      ]
     },
     "metadata": {},
     "output_type": "display_data"
    },
    {
     "name": "stdout",
     "output_type": "stream",
     "text": [
      "Generating images for IS...\n",
      "Shape of final generated images: torch.Size([200, 3, 32, 32])\n",
      "Calculating IS on device: cuda\n",
      "Loading Inception v3 model...\n",
      "Getting Inception predictions...\n"
     ]
    },
    {
     "data": {
      "application/vnd.jupyter.widget-view+json": {
       "model_id": "b1dd89930eed4b7f9a45cf3109ad9781",
       "version_major": 2,
       "version_minor": 0
      },
      "text/plain": [
       "Getting Inception Predictions:   0%|          | 0/7 [00:00<?, ?it/s]"
      ]
     },
     "metadata": {},
     "output_type": "display_data"
    },
    {
     "name": "stdout",
     "output_type": "stream",
     "text": [
      "Calculating Inception Score using 200 images and 10 splits...\n"
     ]
    },
    {
     "data": {
      "text/markdown": [
       "### Inception Score calculado:"
      ],
      "text/plain": [
       "<IPython.core.display.Markdown object>"
      ]
     },
     "metadata": {},
     "output_type": "display_data"
    },
    {
     "data": {
      "text/markdown": [
       "### Media: 1.6091"
      ],
      "text/plain": [
       "<IPython.core.display.Markdown object>"
      ]
     },
     "metadata": {},
     "output_type": "display_data"
    },
    {
     "data": {
      "text/markdown": [
       "### Std Dev: 0.0980"
      ],
      "text/plain": [
       "<IPython.core.display.Markdown object>"
      ]
     },
     "metadata": {},
     "output_type": "display_data"
    },
    {
     "name": "stdout",
     "output_type": "stream",
     "text": [
      "  Procesando Modelo/SDE: SubVP_Linear (Ejecución 1)\n",
      "Inicializado SubVPSDE con Schedule Lineal (beta_min=0.1, beta_max=20.0)\n",
      "./checkpoints/scorenet_cifar10_SubVP_Linear_epoch_130.pth\n",
      "ScoreNet cargado desde ./checkpoints/scorenet_cifar10_SubVP_Linear_epoch_130.pth\n",
      "Checkpoint loaded successfully.\n",
      "Generando 100 imágenes sintéticas con SubVP_Linear para FID...\n",
      "Generando 100 muestras vía euler_maruyama_integrator (500 steps) en 4 lotes de tamaño 32...\n"
     ]
    },
    {
     "name": "stderr",
     "output_type": "stream",
     "text": [
      "Generando Muestras: 100%|██████████| 4/4 [01:35<00:00, 23.84s/it]\n"
     ]
    },
    {
     "name": "stdout",
     "output_type": "stream",
     "text": [
      "<generate_samples_for_fid> Forma final de salida: torch.Size([100, 3, 32, 32]) usando euler_maruyama_integrator\n",
      "Imágenes generadas. Tensor shape: torch.Size([100, 3, 32, 32])\n",
      "Preparando 100 imágenes reales aleatorias de CIFAR-10 para FID...\n",
      "Dataset CIFAR-10 test cargado. Tamaño total: 10000\n",
      "Seleccionando 100 imágenes reales al azar de CIFAR-10 test.\n",
      " Cargando 100 imágenes reales...\n"
     ]
    },
    {
     "name": "stderr",
     "output_type": "stream",
     "text": [
      "Cargando imágenes reales: 100%|██████████| 100/100 [00:00<00:00, 7686.24it/s]"
     ]
    },
    {
     "name": "stdout",
     "output_type": "stream",
     "text": [
      "Imágenes reales preparadas. Tensor shape: torch.Size([100, 3, 32, 32]), Device: cuda:0\n",
      "Creando DataLoaders para FID...\n",
      " Tensor de imágenes generadas movido a cuda.\n",
      " Tensor de imágenes reales movido a cuda.\n",
      "TensorDatasets creados. Tamaño real: 100, Tamaño generado: 100\n",
      "DataLoaders creados con batch_size=128.\n",
      "\n",
      "Calculando FID usando 100 imágenes reales y 100 generadas...\n"
     ]
    },
    {
     "name": "stderr",
     "output_type": "stream",
     "text": [
      "\n"
     ]
    },
    {
     "name": "stdout",
     "output_type": "stream",
     "text": [
      "Calculando estadísticas de activación para imágenes reales...\n",
      "Calculando estadísticas de activación para 100 muestras...\n"
     ]
    },
    {
     "name": "stderr",
     "output_type": "stream",
     "text": [
      "Calculando Activaciones: 100%|██████████| 100/100 [00:00<00:00, 260.57it/s]\n"
     ]
    },
    {
     "name": "stdout",
     "output_type": "stream",
     "text": [
      "Estadísticas calculadas. mu shape: (2048,), sigma shape: (2048, 2048)\n",
      "\n",
      "Calculando estadísticas de activación para imágenes generadas...\n",
      "Calculando estadísticas de activación para 100 muestras...\n"
     ]
    },
    {
     "name": "stderr",
     "output_type": "stream",
     "text": [
      "Calculando Activaciones: 100%|██████████| 100/100 [00:00<00:00, 260.18it/s]\n"
     ]
    },
    {
     "name": "stdout",
     "output_type": "stream",
     "text": [
      "Estadísticas calculadas. mu shape: (2048,), sigma shape: (2048, 2048)\n",
      "\n",
      "Calculando Distancia de Fréchet (FID)...\n"
     ]
    },
    {
     "data": {
      "text/markdown": [
       "### FID Score (SubVP_Linear): 189.6672"
      ],
      "text/plain": [
       "<IPython.core.display.Markdown object>"
      ]
     },
     "metadata": {},
     "output_type": "display_data"
    },
    {
     "name": "stdout",
     "output_type": "stream",
     "text": [
      "Full CIFAR-10 test set size: 10000\n",
      "Created subset with 1000 images (first half of test set).\n",
      "Image dimensions: C=3, H=32, W=32 => Total=3072\n",
      "\n",
      "Iniciando cálculo de NLL con compute_nll_scipy...\n",
      "Calculating NLL using scipy.integrate.solve_ivp (method=RK45). Dequantization enabled.\n"
     ]
    },
    {
     "data": {
      "application/vnd.jupyter.widget-view+json": {
       "model_id": "a7e92bb6473e4f359f19e53adf594971",
       "version_major": 2,
       "version_minor": 0
      },
      "text/plain": [
       "Calculating NLL:   0%|          | 0/16 [00:00<?, ?it/s]"
      ]
     },
     "metadata": {},
     "output_type": "display_data"
    },
    {
     "name": "stdout",
     "output_type": "stream",
     "text": [
      "\n",
      "--- Processing batch 1/16 ---\n",
      "Data dimensions detected: 3072\n",
      "Initial batch shape: torch.Size([64, 3, 32, 32])\n",
      "\n",
      "--- Checking first batch preprocessing ---\n",
      "Data range check passed: [0.0000, 1.0000] is within expected [0.0, 1.0].\n",
      "Dequantization check: Values seem plausibly dequantized (mean_residual=2.50e-01).\n",
      "Data preprocessing check passed successfully.\n",
      "----------------------------------------\n",
      "Solving ODE for batch 1...\n",
      "ODE solved for batch 1. Success: True\n",
      "Detected VP/SubVP SDE (sigma_t=1.00). Prior variance=1.0.\n",
      "Batch 1 Avg: log_p_T=-2846.34, delta_log_p=-1886.05, log_p_0=-4732.39, NLL=4732.39\n",
      "\n",
      "--- Processing batch 2/16 ---\n",
      "Solving ODE for batch 2...\n",
      "ODE solved for batch 2. Success: True\n",
      "Batch 2 Avg: log_p_T=-2845.53, delta_log_p=-1860.26, log_p_0=-4705.79, NLL=4705.79\n",
      "\n",
      "--- Processing batch 3/16 ---\n",
      "Solving ODE for batch 3...\n",
      "ODE solved for batch 3. Success: True\n",
      "Batch 3 Avg: log_p_T=-2847.68, delta_log_p=-1834.72, log_p_0=-4682.40, NLL=4682.40\n",
      "\n",
      "--- Processing batch 4/16 ---\n",
      "Solving ODE for batch 4...\n",
      "ODE solved for batch 4. Success: True\n",
      "Batch 4 Avg: log_p_T=-2847.85, delta_log_p=-1848.22, log_p_0=-4696.07, NLL=4696.07\n",
      "\n",
      "--- Processing batch 5/16 ---\n",
      "Solving ODE for batch 5...\n",
      "ODE solved for batch 5. Success: True\n",
      "Batch 5 Avg: log_p_T=-2846.34, delta_log_p=-1859.84, log_p_0=-4706.18, NLL=4706.18\n",
      "\n",
      "--- Processing batch 6/16 ---\n",
      "Solving ODE for batch 6...\n",
      "ODE solved for batch 6. Success: True\n",
      "Batch 6 Avg: log_p_T=-2845.05, delta_log_p=-1871.15, log_p_0=-4716.20, NLL=4716.20\n",
      "\n",
      "--- Processing batch 7/16 ---\n",
      "Solving ODE for batch 7...\n",
      "ODE solved for batch 7. Success: True\n",
      "Batch 7 Avg: log_p_T=-2845.30, delta_log_p=-1883.26, log_p_0=-4728.56, NLL=4728.56\n",
      "\n",
      "--- Processing batch 8/16 ---\n",
      "Solving ODE for batch 8...\n",
      "ODE solved for batch 8. Success: True\n",
      "Batch 8 Avg: log_p_T=-2847.37, delta_log_p=-1856.20, log_p_0=-4703.58, NLL=4703.58\n",
      "\n",
      "--- Processing batch 9/16 ---\n",
      "Solving ODE for batch 9...\n",
      "ODE solved for batch 9. Success: True\n",
      "Batch 9 Avg: log_p_T=-2845.95, delta_log_p=-1850.71, log_p_0=-4696.67, NLL=4696.67\n",
      "\n",
      "--- Processing batch 10/16 ---\n",
      "Solving ODE for batch 10...\n",
      "ODE solved for batch 10. Success: True\n",
      "Batch 10 Avg: log_p_T=-2845.55, delta_log_p=-1872.94, log_p_0=-4718.49, NLL=4718.49\n",
      "\n",
      "--- Processing batch 11/16 ---\n",
      "Solving ODE for batch 11...\n",
      "ODE solved for batch 11. Success: True\n",
      "Batch 11 Avg: log_p_T=-2847.90, delta_log_p=-1812.34, log_p_0=-4660.24, NLL=4660.24\n",
      "\n",
      "--- Processing batch 12/16 ---\n",
      "Solving ODE for batch 12...\n",
      "ODE solved for batch 12. Success: True\n",
      "Batch 12 Avg: log_p_T=-2847.23, delta_log_p=-1812.68, log_p_0=-4659.91, NLL=4659.91\n",
      "\n",
      "--- Processing batch 13/16 ---\n",
      "Solving ODE for batch 13...\n",
      "ODE solved for batch 13. Success: True\n",
      "Batch 13 Avg: log_p_T=-2846.77, delta_log_p=-1850.47, log_p_0=-4697.24, NLL=4697.24\n",
      "\n",
      "--- Processing batch 14/16 ---\n",
      "Solving ODE for batch 14...\n",
      "ODE solved for batch 14. Success: True\n",
      "Batch 14 Avg: log_p_T=-2846.51, delta_log_p=-1837.61, log_p_0=-4684.12, NLL=4684.12\n",
      "\n",
      "--- Processing batch 15/16 ---\n",
      "Solving ODE for batch 15...\n",
      "ODE solved for batch 15. Success: True\n",
      "Batch 15 Avg: log_p_T=-2844.54, delta_log_p=-1884.41, log_p_0=-4728.95, NLL=4728.95\n",
      "\n",
      "--- Processing batch 16/16 ---\n",
      "Solving ODE for batch 16...\n",
      "ODE solved for batch 16. Success: True\n",
      "Batch 16 Avg: log_p_T=-2847.28, delta_log_p=-1803.92, log_p_0=-4651.20, NLL=4651.20\n",
      "\n",
      "Cálculo NLL finalizado.\n",
      "Average NLL (base e): 4699.1216\n"
     ]
    },
    {
     "data": {
      "text/markdown": [
       "### Bits Per Dimension (BPD): 2.2068"
      ],
      "text/plain": [
       "<IPython.core.display.Markdown object>"
      ]
     },
     "metadata": {},
     "output_type": "display_data"
    },
    {
     "name": "stdout",
     "output_type": "stream",
     "text": [
      "Generating images for IS...\n",
      "Shape of final generated images: torch.Size([200, 3, 32, 32])\n",
      "Calculating IS on device: cuda\n",
      "Loading Inception v3 model...\n",
      "Getting Inception predictions...\n"
     ]
    },
    {
     "data": {
      "application/vnd.jupyter.widget-view+json": {
       "model_id": "eea05f16b055426bb2634e599c015cb3",
       "version_major": 2,
       "version_minor": 0
      },
      "text/plain": [
       "Getting Inception Predictions:   0%|          | 0/7 [00:00<?, ?it/s]"
      ]
     },
     "metadata": {},
     "output_type": "display_data"
    },
    {
     "name": "stdout",
     "output_type": "stream",
     "text": [
      "Calculating Inception Score using 200 images and 10 splits...\n"
     ]
    },
    {
     "data": {
      "text/markdown": [
       "### Inception Score calculado:"
      ],
      "text/plain": [
       "<IPython.core.display.Markdown object>"
      ]
     },
     "metadata": {},
     "output_type": "display_data"
    },
    {
     "data": {
      "text/markdown": [
       "### Media: 3.8505"
      ],
      "text/plain": [
       "<IPython.core.display.Markdown object>"
      ]
     },
     "metadata": {},
     "output_type": "display_data"
    },
    {
     "data": {
      "text/markdown": [
       "### Std Dev: 0.5033"
      ],
      "text/plain": [
       "<IPython.core.display.Markdown object>"
      ]
     },
     "metadata": {},
     "output_type": "display_data"
    },
    {
     "name": "stdout",
     "output_type": "stream",
     "text": [
      "  Procesando Modelo/SDE: SubVP_Cosine (Ejecución 1)\n",
      "Inicializado SubVPSDE con Schedule Coseno (s=0.008)\n",
      "./checkpoints/scorenet_cifar10_SubVP_Cosine_epoch_20.pth\n",
      "ScoreNet cargado desde ./checkpoints/scorenet_cifar10_SubVP_Cosine_epoch_20.pth\n",
      "Checkpoint loaded successfully.\n",
      "Generando 100 imágenes sintéticas con SubVP_Cosine para FID...\n",
      "Generando 100 muestras vía euler_maruyama_integrator (500 steps) en 4 lotes de tamaño 32...\n"
     ]
    },
    {
     "name": "stderr",
     "output_type": "stream",
     "text": [
      "Generando Muestras: 100%|██████████| 4/4 [01:35<00:00, 23.84s/it]\n"
     ]
    },
    {
     "name": "stdout",
     "output_type": "stream",
     "text": [
      "<generate_samples_for_fid> Forma final de salida: torch.Size([100, 3, 32, 32]) usando euler_maruyama_integrator\n",
      "Imágenes generadas. Tensor shape: torch.Size([100, 3, 32, 32])\n",
      "Preparando 100 imágenes reales aleatorias de CIFAR-10 para FID...\n",
      "Dataset CIFAR-10 test cargado. Tamaño total: 10000\n",
      "Seleccionando 100 imágenes reales al azar de CIFAR-10 test.\n",
      " Cargando 100 imágenes reales...\n"
     ]
    },
    {
     "name": "stderr",
     "output_type": "stream",
     "text": [
      "Cargando imágenes reales: 100%|██████████| 100/100 [00:00<00:00, 4647.22it/s]"
     ]
    },
    {
     "name": "stdout",
     "output_type": "stream",
     "text": [
      "Imágenes reales preparadas. Tensor shape: torch.Size([100, 3, 32, 32]), Device: cuda:0\n",
      "Creando DataLoaders para FID...\n",
      " Tensor de imágenes generadas movido a cuda.\n",
      " Tensor de imágenes reales movido a cuda.\n",
      "TensorDatasets creados. Tamaño real: 100, Tamaño generado: 100\n",
      "DataLoaders creados con batch_size=128.\n",
      "\n",
      "Calculando FID usando 100 imágenes reales y 100 generadas...\n"
     ]
    },
    {
     "name": "stderr",
     "output_type": "stream",
     "text": [
      "\n"
     ]
    },
    {
     "name": "stdout",
     "output_type": "stream",
     "text": [
      "Calculando estadísticas de activación para imágenes reales...\n",
      "Calculando estadísticas de activación para 100 muestras...\n"
     ]
    },
    {
     "name": "stderr",
     "output_type": "stream",
     "text": [
      "Calculando Activaciones: 100%|██████████| 100/100 [00:00<00:00, 261.42it/s]\n"
     ]
    },
    {
     "name": "stdout",
     "output_type": "stream",
     "text": [
      "Estadísticas calculadas. mu shape: (2048,), sigma shape: (2048, 2048)\n",
      "\n",
      "Calculando estadísticas de activación para imágenes generadas...\n",
      "Calculando estadísticas de activación para 100 muestras...\n"
     ]
    },
    {
     "name": "stderr",
     "output_type": "stream",
     "text": [
      "Calculando Activaciones: 100%|██████████| 100/100 [00:00<00:00, 257.69it/s]\n"
     ]
    },
    {
     "name": "stdout",
     "output_type": "stream",
     "text": [
      "Estadísticas calculadas. mu shape: (2048,), sigma shape: (2048, 2048)\n",
      "\n",
      "Calculando Distancia de Fréchet (FID)...\n"
     ]
    },
    {
     "data": {
      "text/markdown": [
       "### FID Score (SubVP_Cosine): 357.5323"
      ],
      "text/plain": [
       "<IPython.core.display.Markdown object>"
      ]
     },
     "metadata": {},
     "output_type": "display_data"
    },
    {
     "name": "stdout",
     "output_type": "stream",
     "text": [
      "Full CIFAR-10 test set size: 10000\n",
      "Created subset with 1000 images (first half of test set).\n",
      "Image dimensions: C=3, H=32, W=32 => Total=3072\n",
      "\n",
      "Iniciando cálculo de NLL con compute_nll_scipy...\n",
      "Calculating NLL using scipy.integrate.solve_ivp (method=RK45). Dequantization enabled.\n"
     ]
    },
    {
     "data": {
      "application/vnd.jupyter.widget-view+json": {
       "model_id": "7cd13822253e4e718b364721289fdbf4",
       "version_major": 2,
       "version_minor": 0
      },
      "text/plain": [
       "Calculating NLL:   0%|          | 0/16 [00:00<?, ?it/s]"
      ]
     },
     "metadata": {},
     "output_type": "display_data"
    },
    {
     "name": "stdout",
     "output_type": "stream",
     "text": [
      "\n",
      "--- Processing batch 1/16 ---\n",
      "Data dimensions detected: 3072\n",
      "Initial batch shape: torch.Size([64, 3, 32, 32])\n",
      "\n",
      "--- Checking first batch preprocessing ---\n",
      "Data range check passed: [0.0000, 1.0000] is within expected [0.0, 1.0].\n",
      "Dequantization check: Values seem plausibly dequantized (mean_residual=2.50e-01).\n",
      "Data preprocessing check passed successfully.\n",
      "----------------------------------------\n",
      "Solving ODE for batch 1...\n",
      "ODE solved for batch 1. Success: True\n",
      "Detected VP/SubVP SDE (sigma_t=1.00). Prior variance=1.0.\n",
      "Batch 1 Avg: log_p_T=-3024.76, delta_log_p=-610.55, log_p_0=-3635.31, NLL=3635.31\n",
      "\n",
      "--- Processing batch 2/16 ---\n",
      "Solving ODE for batch 2...\n",
      "ODE solved for batch 2. Success: True\n",
      "Batch 2 Avg: log_p_T=-3009.85, delta_log_p=-612.46, log_p_0=-3622.32, NLL=3622.32\n",
      "\n",
      "--- Processing batch 3/16 ---\n",
      "Solving ODE for batch 3...\n",
      "ODE solved for batch 3. Success: True\n",
      "Batch 3 Avg: log_p_T=-3033.96, delta_log_p=-605.06, log_p_0=-3639.02, NLL=3639.02\n",
      "\n",
      "--- Processing batch 4/16 ---\n",
      "Solving ODE for batch 4...\n",
      "ODE solved for batch 4. Success: True\n",
      "Batch 4 Avg: log_p_T=-3040.51, delta_log_p=-603.49, log_p_0=-3644.00, NLL=3644.00\n",
      "\n",
      "--- Processing batch 5/16 ---\n",
      "Solving ODE for batch 5...\n",
      "ODE solved for batch 5. Success: True\n",
      "Batch 5 Avg: log_p_T=-3008.69, delta_log_p=-628.75, log_p_0=-3637.45, NLL=3637.45\n",
      "\n",
      "--- Processing batch 6/16 ---\n",
      "Solving ODE for batch 6...\n",
      "ODE solved for batch 6. Success: True\n",
      "Batch 6 Avg: log_p_T=-3030.01, delta_log_p=-605.31, log_p_0=-3635.31, NLL=3635.31\n",
      "\n",
      "--- Processing batch 7/16 ---\n",
      "Solving ODE for batch 7...\n",
      "ODE solved for batch 7. Success: True\n",
      "Batch 7 Avg: log_p_T=-3028.59, delta_log_p=-610.68, log_p_0=-3639.26, NLL=3639.26\n",
      "\n",
      "--- Processing batch 8/16 ---\n",
      "Solving ODE for batch 8...\n",
      "ODE solved for batch 8. Success: True\n",
      "Batch 8 Avg: log_p_T=-3015.81, delta_log_p=-623.48, log_p_0=-3639.29, NLL=3639.29\n",
      "\n",
      "--- Processing batch 9/16 ---\n",
      "Solving ODE for batch 9...\n",
      "ODE solved for batch 9. Success: True\n",
      "Batch 9 Avg: log_p_T=-3029.15, delta_log_p=-606.74, log_p_0=-3635.89, NLL=3635.89\n",
      "\n",
      "--- Processing batch 10/16 ---\n",
      "Solving ODE for batch 10...\n",
      "ODE solved for batch 10. Success: True\n",
      "Batch 10 Avg: log_p_T=-3005.02, delta_log_p=-627.90, log_p_0=-3632.92, NLL=3632.92\n",
      "\n",
      "--- Processing batch 11/16 ---\n",
      "Solving ODE for batch 11...\n",
      "ODE solved for batch 11. Success: True\n",
      "Batch 11 Avg: log_p_T=-3022.75, delta_log_p=-614.01, log_p_0=-3636.76, NLL=3636.76\n",
      "\n",
      "--- Processing batch 12/16 ---\n",
      "Solving ODE for batch 12...\n",
      "ODE solved for batch 12. Success: True\n",
      "Batch 12 Avg: log_p_T=-3030.68, delta_log_p=-622.56, log_p_0=-3653.24, NLL=3653.24\n",
      "\n",
      "--- Processing batch 13/16 ---\n",
      "Solving ODE for batch 13...\n",
      "ODE solved for batch 13. Success: True\n",
      "Batch 13 Avg: log_p_T=-3018.62, delta_log_p=-615.29, log_p_0=-3633.91, NLL=3633.91\n",
      "\n",
      "--- Processing batch 14/16 ---\n",
      "Solving ODE for batch 14...\n",
      "ODE solved for batch 14. Success: True\n",
      "Batch 14 Avg: log_p_T=-3033.35, delta_log_p=-605.13, log_p_0=-3638.48, NLL=3638.48\n",
      "\n",
      "--- Processing batch 15/16 ---\n",
      "Solving ODE for batch 15...\n",
      "ODE solved for batch 15. Success: True\n",
      "Batch 15 Avg: log_p_T=-3014.60, delta_log_p=-627.72, log_p_0=-3642.33, NLL=3642.33\n",
      "\n",
      "--- Processing batch 16/16 ---\n",
      "Solving ODE for batch 16...\n",
      "ODE solved for batch 16. Success: True\n",
      "Batch 16 Avg: log_p_T=-3058.60, delta_log_p=-591.74, log_p_0=-3650.34, NLL=3650.34\n",
      "\n",
      "Cálculo NLL finalizado.\n",
      "Average NLL (base e): 3638.2052\n"
     ]
    },
    {
     "data": {
      "text/markdown": [
       "### Bits Per Dimension (BPD): 1.7086"
      ],
      "text/plain": [
       "<IPython.core.display.Markdown object>"
      ]
     },
     "metadata": {},
     "output_type": "display_data"
    },
    {
     "name": "stdout",
     "output_type": "stream",
     "text": [
      "Generating images for IS...\n",
      "Shape of final generated images: torch.Size([200, 3, 32, 32])\n",
      "Calculating IS on device: cuda\n",
      "Loading Inception v3 model...\n",
      "Getting Inception predictions...\n"
     ]
    },
    {
     "data": {
      "application/vnd.jupyter.widget-view+json": {
       "model_id": "346f84c5d03d4d5493c1ccb22f393c6a",
       "version_major": 2,
       "version_minor": 0
      },
      "text/plain": [
       "Getting Inception Predictions:   0%|          | 0/7 [00:00<?, ?it/s]"
      ]
     },
     "metadata": {},
     "output_type": "display_data"
    },
    {
     "name": "stdout",
     "output_type": "stream",
     "text": [
      "Calculating Inception Score using 200 images and 10 splits...\n"
     ]
    },
    {
     "data": {
      "text/markdown": [
       "### Inception Score calculado:"
      ],
      "text/plain": [
       "<IPython.core.display.Markdown object>"
      ]
     },
     "metadata": {},
     "output_type": "display_data"
    },
    {
     "data": {
      "text/markdown": [
       "### Media: 1.4197"
      ],
      "text/plain": [
       "<IPython.core.display.Markdown object>"
      ]
     },
     "metadata": {},
     "output_type": "display_data"
    },
    {
     "data": {
      "text/markdown": [
       "### Std Dev: 0.0909"
      ],
      "text/plain": [
       "<IPython.core.display.Markdown object>"
      ]
     },
     "metadata": {},
     "output_type": "display_data"
    },
    {
     "name": "stdout",
     "output_type": "stream",
     "text": [
      "\n",
      "--- INICIANDO EJECUCIÓN 2/5 ---\n",
      "  Procesando Modelo/SDE: VE (Ejecución 2)\n",
      "Inicializado VESDE (sigma_min=0.01, sigma_max=50.0, sigma=25.0)\n",
      "./checkpoints/scorenet_cifar10_VE_epoch_200.pth\n",
      "ScoreNet cargado desde ./checkpoints/scorenet_cifar10_VE_epoch_200.pth\n",
      "Checkpoint loaded successfully.\n",
      "Generando 100 imágenes sintéticas con VE para FID...\n",
      "Generando 100 muestras vía euler_maruyama_integrator (500 steps) en 4 lotes de tamaño 32...\n"
     ]
    },
    {
     "name": "stderr",
     "output_type": "stream",
     "text": [
      "Generando Muestras: 100%|██████████| 4/4 [01:35<00:00, 23.83s/it]\n"
     ]
    },
    {
     "name": "stdout",
     "output_type": "stream",
     "text": [
      "<generate_samples_for_fid> Forma final de salida: torch.Size([100, 3, 32, 32]) usando euler_maruyama_integrator\n",
      "Imágenes generadas. Tensor shape: torch.Size([100, 3, 32, 32])\n",
      "Preparando 100 imágenes reales aleatorias de CIFAR-10 para FID...\n",
      "Dataset CIFAR-10 test cargado. Tamaño total: 10000\n",
      "Seleccionando 100 imágenes reales al azar de CIFAR-10 test.\n",
      " Cargando 100 imágenes reales...\n"
     ]
    },
    {
     "name": "stderr",
     "output_type": "stream",
     "text": [
      "Cargando imágenes reales: 100%|██████████| 100/100 [00:00<00:00, 6542.05it/s]"
     ]
    },
    {
     "name": "stdout",
     "output_type": "stream",
     "text": [
      "Imágenes reales preparadas. Tensor shape: torch.Size([100, 3, 32, 32]), Device: cuda:0\n",
      "Creando DataLoaders para FID...\n",
      " Tensor de imágenes generadas movido a cuda.\n",
      " Tensor de imágenes reales movido a cuda.\n",
      "TensorDatasets creados. Tamaño real: 100, Tamaño generado: 100\n",
      "DataLoaders creados con batch_size=128.\n",
      "\n",
      "Calculando FID usando 100 imágenes reales y 100 generadas...\n"
     ]
    },
    {
     "name": "stderr",
     "output_type": "stream",
     "text": [
      "\n"
     ]
    },
    {
     "name": "stdout",
     "output_type": "stream",
     "text": [
      "Calculando estadísticas de activación para imágenes reales...\n",
      "Calculando estadísticas de activación para 100 muestras...\n"
     ]
    },
    {
     "name": "stderr",
     "output_type": "stream",
     "text": [
      "Calculando Activaciones: 100%|██████████| 100/100 [00:00<00:00, 258.78it/s]\n"
     ]
    },
    {
     "name": "stdout",
     "output_type": "stream",
     "text": [
      "Estadísticas calculadas. mu shape: (2048,), sigma shape: (2048, 2048)\n",
      "\n",
      "Calculando estadísticas de activación para imágenes generadas...\n",
      "Calculando estadísticas de activación para 100 muestras...\n"
     ]
    },
    {
     "name": "stderr",
     "output_type": "stream",
     "text": [
      "Calculando Activaciones: 100%|██████████| 100/100 [00:00<00:00, 257.03it/s]\n"
     ]
    },
    {
     "name": "stdout",
     "output_type": "stream",
     "text": [
      "Estadísticas calculadas. mu shape: (2048,), sigma shape: (2048, 2048)\n",
      "\n",
      "Calculando Distancia de Fréchet (FID)...\n"
     ]
    },
    {
     "data": {
      "text/markdown": [
       "### FID Score (VE): 249.7017"
      ],
      "text/plain": [
       "<IPython.core.display.Markdown object>"
      ]
     },
     "metadata": {},
     "output_type": "display_data"
    },
    {
     "name": "stdout",
     "output_type": "stream",
     "text": [
      "Full CIFAR-10 test set size: 10000\n",
      "Created subset with 1000 images (first half of test set).\n",
      "Image dimensions: C=3, H=32, W=32 => Total=3072\n",
      "\n",
      "Iniciando cálculo de NLL con compute_nll_scipy...\n",
      "Calculating NLL using scipy.integrate.solve_ivp (method=RK45). Dequantization enabled.\n"
     ]
    },
    {
     "data": {
      "application/vnd.jupyter.widget-view+json": {
       "model_id": "4b25f628f33842528641cb3aca941a35",
       "version_major": 2,
       "version_minor": 0
      },
      "text/plain": [
       "Calculating NLL:   0%|          | 0/16 [00:00<?, ?it/s]"
      ]
     },
     "metadata": {},
     "output_type": "display_data"
    },
    {
     "name": "stdout",
     "output_type": "stream",
     "text": [
      "\n",
      "--- Processing batch 1/16 ---\n",
      "Data dimensions detected: 3072\n",
      "Initial batch shape: torch.Size([64, 3, 32, 32])\n",
      "\n",
      "--- Checking first batch preprocessing ---\n",
      "Data range check passed: [0.0000, 1.0000] is within expected [0.0, 1.0].\n",
      "Dequantization check: Values seem plausibly dequantized (mean_residual=2.50e-01).\n",
      "Data preprocessing check passed successfully.\n",
      "----------------------------------------\n",
      "Solving ODE for batch 1...\n",
      "ODE solved for batch 1. Success: True\n",
      "Detected VE SDE (sigma_t=9.85). Prior variance=96.93.\n",
      "Batch 1 Avg: log_p_T=-10274.49, delta_log_p=-18735.05, log_p_0=-29009.55, NLL=29009.55\n",
      "\n",
      "--- Processing batch 2/16 ---\n",
      "Solving ODE for batch 2...\n",
      "ODE solved for batch 2. Success: True\n",
      "Batch 2 Avg: log_p_T=-10273.75, delta_log_p=-18882.75, log_p_0=-29156.50, NLL=29156.50\n",
      "\n",
      "--- Processing batch 3/16 ---\n",
      "Solving ODE for batch 3...\n",
      "ODE solved for batch 3. Success: True\n",
      "Batch 3 Avg: log_p_T=-10275.28, delta_log_p=-18741.29, log_p_0=-29016.57, NLL=29016.57\n",
      "\n",
      "--- Processing batch 4/16 ---\n",
      "Solving ODE for batch 4...\n",
      "ODE solved for batch 4. Success: True\n",
      "Batch 4 Avg: log_p_T=-10277.46, delta_log_p=-19132.31, log_p_0=-29409.77, NLL=29409.77\n",
      "\n",
      "--- Processing batch 5/16 ---\n",
      "Solving ODE for batch 5...\n",
      "ODE solved for batch 5. Success: True\n",
      "Batch 5 Avg: log_p_T=-10278.41, delta_log_p=-18824.29, log_p_0=-29102.70, NLL=29102.70\n",
      "\n",
      "--- Processing batch 6/16 ---\n",
      "Solving ODE for batch 6...\n",
      "ODE solved for batch 6. Success: True\n",
      "Batch 6 Avg: log_p_T=-10278.73, delta_log_p=-18919.59, log_p_0=-29198.32, NLL=29198.32\n",
      "\n",
      "--- Processing batch 7/16 ---\n",
      "Solving ODE for batch 7...\n",
      "ODE solved for batch 7. Success: True\n",
      "Batch 7 Avg: log_p_T=-10277.90, delta_log_p=-18672.25, log_p_0=-28950.16, NLL=28950.16\n",
      "\n",
      "--- Processing batch 8/16 ---\n",
      "Solving ODE for batch 8...\n",
      "ODE solved for batch 8. Success: True\n",
      "Batch 8 Avg: log_p_T=-10279.17, delta_log_p=-18852.91, log_p_0=-29132.08, NLL=29132.08\n",
      "\n",
      "--- Processing batch 9/16 ---\n",
      "Solving ODE for batch 9...\n",
      "ODE solved for batch 9. Success: True\n",
      "Batch 9 Avg: log_p_T=-10277.68, delta_log_p=-18757.40, log_p_0=-29035.09, NLL=29035.09\n",
      "\n",
      "--- Processing batch 10/16 ---\n",
      "Solving ODE for batch 10...\n",
      "ODE solved for batch 10. Success: True\n",
      "Batch 10 Avg: log_p_T=-10277.79, delta_log_p=-18693.09, log_p_0=-28970.88, NLL=28970.88\n",
      "\n",
      "--- Processing batch 11/16 ---\n",
      "Solving ODE for batch 11...\n",
      "ODE solved for batch 11. Success: True\n",
      "Batch 11 Avg: log_p_T=-10277.08, delta_log_p=-18820.43, log_p_0=-29097.51, NLL=29097.51\n",
      "\n",
      "--- Processing batch 12/16 ---\n",
      "Solving ODE for batch 12...\n",
      "ODE solved for batch 12. Success: True\n",
      "Batch 12 Avg: log_p_T=-10273.72, delta_log_p=-18639.78, log_p_0=-28913.49, NLL=28913.49\n",
      "\n",
      "--- Processing batch 13/16 ---\n",
      "Solving ODE for batch 13...\n",
      "ODE solved for batch 13. Success: True\n",
      "Batch 13 Avg: log_p_T=-10273.51, delta_log_p=-18554.34, log_p_0=-28827.85, NLL=28827.85\n",
      "\n",
      "--- Processing batch 14/16 ---\n",
      "Solving ODE for batch 14...\n",
      "ODE solved for batch 14. Success: True\n",
      "Batch 14 Avg: log_p_T=-10276.95, delta_log_p=-18821.92, log_p_0=-29098.87, NLL=29098.87\n",
      "\n",
      "--- Processing batch 15/16 ---\n",
      "Solving ODE for batch 15...\n",
      "ODE solved for batch 15. Success: True\n",
      "Batch 15 Avg: log_p_T=-10280.56, delta_log_p=-18654.16, log_p_0=-28934.72, NLL=28934.72\n",
      "\n",
      "--- Processing batch 16/16 ---\n",
      "Solving ODE for batch 16...\n",
      "ODE solved for batch 16. Success: True\n",
      "Batch 16 Avg: log_p_T=-10273.27, delta_log_p=-18628.64, log_p_0=-28901.91, NLL=28901.91\n",
      "\n",
      "Cálculo NLL finalizado.\n",
      "Average NLL (base e): 29050.7350\n"
     ]
    },
    {
     "data": {
      "text/markdown": [
       "### Bits Per Dimension (BPD): 13.6430"
      ],
      "text/plain": [
       "<IPython.core.display.Markdown object>"
      ]
     },
     "metadata": {},
     "output_type": "display_data"
    },
    {
     "name": "stdout",
     "output_type": "stream",
     "text": [
      "Generating images for IS...\n",
      "Shape of final generated images: torch.Size([200, 3, 32, 32])\n",
      "Calculating IS on device: cuda\n",
      "Loading Inception v3 model...\n",
      "Getting Inception predictions...\n"
     ]
    },
    {
     "data": {
      "application/vnd.jupyter.widget-view+json": {
       "model_id": "b3129a48cf4342f387cb8dfea669153b",
       "version_major": 2,
       "version_minor": 0
      },
      "text/plain": [
       "Getting Inception Predictions:   0%|          | 0/7 [00:00<?, ?it/s]"
      ]
     },
     "metadata": {},
     "output_type": "display_data"
    },
    {
     "name": "stdout",
     "output_type": "stream",
     "text": [
      "Calculating Inception Score using 200 images and 10 splits...\n"
     ]
    },
    {
     "data": {
      "text/markdown": [
       "### Inception Score calculado:"
      ],
      "text/plain": [
       "<IPython.core.display.Markdown object>"
      ]
     },
     "metadata": {},
     "output_type": "display_data"
    },
    {
     "data": {
      "text/markdown": [
       "### Media: 2.5706"
      ],
      "text/plain": [
       "<IPython.core.display.Markdown object>"
      ]
     },
     "metadata": {},
     "output_type": "display_data"
    },
    {
     "data": {
      "text/markdown": [
       "### Std Dev: 0.3211"
      ],
      "text/plain": [
       "<IPython.core.display.Markdown object>"
      ]
     },
     "metadata": {},
     "output_type": "display_data"
    },
    {
     "name": "stdout",
     "output_type": "stream",
     "text": [
      "  Procesando Modelo/SDE: VP_Linear (Ejecución 2)\n",
      "Inicializado VPSDE con Schedule Lineal (beta_min=0.1, beta_max=20.0)\n",
      "./checkpoints/scorenet_cifar10_VP_Linear_epoch_50.pth\n",
      "ScoreNet cargado desde ./checkpoints/scorenet_cifar10_VP_Linear_epoch_50.pth\n",
      "Checkpoint loaded successfully.\n",
      "Generando 100 imágenes sintéticas con VP_Linear para FID...\n",
      "Generando 100 muestras vía euler_maruyama_integrator (500 steps) en 4 lotes de tamaño 32...\n"
     ]
    },
    {
     "name": "stderr",
     "output_type": "stream",
     "text": [
      "Generando Muestras: 100%|██████████| 4/4 [01:35<00:00, 23.83s/it]\n"
     ]
    },
    {
     "name": "stdout",
     "output_type": "stream",
     "text": [
      "<generate_samples_for_fid> Forma final de salida: torch.Size([100, 3, 32, 32]) usando euler_maruyama_integrator\n",
      "Imágenes generadas. Tensor shape: torch.Size([100, 3, 32, 32])\n",
      "Preparando 100 imágenes reales aleatorias de CIFAR-10 para FID...\n",
      "Dataset CIFAR-10 test cargado. Tamaño total: 10000\n",
      "Seleccionando 100 imágenes reales al azar de CIFAR-10 test.\n",
      " Cargando 100 imágenes reales...\n"
     ]
    },
    {
     "name": "stderr",
     "output_type": "stream",
     "text": [
      "Cargando imágenes reales: 100%|██████████| 100/100 [00:00<00:00, 6332.27it/s]"
     ]
    },
    {
     "name": "stdout",
     "output_type": "stream",
     "text": [
      "Imágenes reales preparadas. Tensor shape: torch.Size([100, 3, 32, 32]), Device: cuda:0\n",
      "Creando DataLoaders para FID...\n",
      " Tensor de imágenes generadas movido a cuda.\n",
      " Tensor de imágenes reales movido a cuda.\n",
      "TensorDatasets creados. Tamaño real: 100, Tamaño generado: 100\n",
      "DataLoaders creados con batch_size=128.\n",
      "\n",
      "Calculando FID usando 100 imágenes reales y 100 generadas...\n"
     ]
    },
    {
     "name": "stderr",
     "output_type": "stream",
     "text": [
      "\n"
     ]
    },
    {
     "name": "stdout",
     "output_type": "stream",
     "text": [
      "Calculando estadísticas de activación para imágenes reales...\n",
      "Calculando estadísticas de activación para 100 muestras...\n"
     ]
    },
    {
     "name": "stderr",
     "output_type": "stream",
     "text": [
      "Calculando Activaciones: 100%|██████████| 100/100 [00:00<00:00, 259.18it/s]\n"
     ]
    },
    {
     "name": "stdout",
     "output_type": "stream",
     "text": [
      "Estadísticas calculadas. mu shape: (2048,), sigma shape: (2048, 2048)\n",
      "\n",
      "Calculando estadísticas de activación para imágenes generadas...\n",
      "Calculando estadísticas de activación para 100 muestras...\n"
     ]
    },
    {
     "name": "stderr",
     "output_type": "stream",
     "text": [
      "Calculando Activaciones: 100%|██████████| 100/100 [00:00<00:00, 261.09it/s]\n"
     ]
    },
    {
     "name": "stdout",
     "output_type": "stream",
     "text": [
      "Estadísticas calculadas. mu shape: (2048,), sigma shape: (2048, 2048)\n",
      "\n",
      "Calculando Distancia de Fréchet (FID)...\n"
     ]
    },
    {
     "data": {
      "text/markdown": [
       "### FID Score (VP_Linear): 213.6222"
      ],
      "text/plain": [
       "<IPython.core.display.Markdown object>"
      ]
     },
     "metadata": {},
     "output_type": "display_data"
    },
    {
     "name": "stdout",
     "output_type": "stream",
     "text": [
      "Full CIFAR-10 test set size: 10000\n",
      "Created subset with 1000 images (first half of test set).\n",
      "Image dimensions: C=3, H=32, W=32 => Total=3072\n",
      "\n",
      "Iniciando cálculo de NLL con compute_nll_scipy...\n",
      "Calculating NLL using scipy.integrate.solve_ivp (method=RK45). Dequantization enabled.\n"
     ]
    },
    {
     "data": {
      "application/vnd.jupyter.widget-view+json": {
       "model_id": "fd77f4c314c943139bea92f1d744b506",
       "version_major": 2,
       "version_minor": 0
      },
      "text/plain": [
       "Calculating NLL:   0%|          | 0/16 [00:00<?, ?it/s]"
      ]
     },
     "metadata": {},
     "output_type": "display_data"
    },
    {
     "name": "stdout",
     "output_type": "stream",
     "text": [
      "\n",
      "--- Processing batch 1/16 ---\n",
      "Data dimensions detected: 3072\n",
      "Initial batch shape: torch.Size([64, 3, 32, 32])\n",
      "\n",
      "--- Checking first batch preprocessing ---\n",
      "Data range check passed: [0.0000, 1.0000] is within expected [0.0, 1.0].\n",
      "Dequantization check: Values seem plausibly dequantized (mean_residual=2.49e-01).\n",
      "Data preprocessing check passed successfully.\n",
      "----------------------------------------\n",
      "Solving ODE for batch 1...\n",
      "ODE solved for batch 1. Success: True\n",
      "Detected VP/SubVP SDE (sigma_t=1.00). Prior variance=1.0.\n",
      "Batch 1 Avg: log_p_T=-4303.13, delta_log_p=-13749.60, log_p_0=-18052.73, NLL=18052.73\n",
      "\n",
      "--- Processing batch 2/16 ---\n",
      "Solving ODE for batch 2...\n",
      "ODE solved for batch 2. Success: True\n",
      "Batch 2 Avg: log_p_T=-4307.06, delta_log_p=-13749.36, log_p_0=-18056.41, NLL=18056.41\n",
      "\n",
      "--- Processing batch 3/16 ---\n",
      "Solving ODE for batch 3...\n",
      "ODE solved for batch 3. Success: True\n",
      "Batch 3 Avg: log_p_T=-4303.72, delta_log_p=-13577.69, log_p_0=-17881.42, NLL=17881.42\n",
      "\n",
      "--- Processing batch 4/16 ---\n",
      "Solving ODE for batch 4...\n",
      "ODE solved for batch 4. Success: True\n",
      "Batch 4 Avg: log_p_T=-4299.56, delta_log_p=-13765.74, log_p_0=-18065.30, NLL=18065.30\n",
      "\n",
      "--- Processing batch 5/16 ---\n",
      "Solving ODE for batch 5...\n",
      "ODE solved for batch 5. Success: True\n",
      "Batch 5 Avg: log_p_T=-4298.21, delta_log_p=-13816.15, log_p_0=-18114.36, NLL=18114.36\n",
      "\n",
      "--- Processing batch 6/16 ---\n",
      "Solving ODE for batch 6...\n",
      "ODE solved for batch 6. Success: True\n",
      "Batch 6 Avg: log_p_T=-4298.90, delta_log_p=-13925.88, log_p_0=-18224.79, NLL=18224.79\n",
      "\n",
      "--- Processing batch 7/16 ---\n",
      "Solving ODE for batch 7...\n",
      "ODE solved for batch 7. Success: True\n",
      "Batch 7 Avg: log_p_T=-4305.21, delta_log_p=-13716.96, log_p_0=-18022.18, NLL=18022.18\n",
      "\n",
      "--- Processing batch 8/16 ---\n",
      "Solving ODE for batch 8...\n",
      "ODE solved for batch 8. Success: True\n",
      "Batch 8 Avg: log_p_T=-4311.88, delta_log_p=-13730.78, log_p_0=-18042.66, NLL=18042.66\n",
      "\n",
      "--- Processing batch 9/16 ---\n",
      "Solving ODE for batch 9...\n",
      "ODE solved for batch 9. Success: True\n",
      "Batch 9 Avg: log_p_T=-4313.44, delta_log_p=-13578.55, log_p_0=-17892.00, NLL=17892.00\n",
      "\n",
      "--- Processing batch 10/16 ---\n",
      "Solving ODE for batch 10...\n",
      "ODE solved for batch 10. Success: True\n",
      "Batch 10 Avg: log_p_T=-4298.05, delta_log_p=-13557.07, log_p_0=-17855.12, NLL=17855.12\n",
      "\n",
      "--- Processing batch 11/16 ---\n",
      "Solving ODE for batch 11...\n",
      "ODE solved for batch 11. Success: True\n",
      "Batch 11 Avg: log_p_T=-4302.36, delta_log_p=-13745.94, log_p_0=-18048.29, NLL=18048.29\n",
      "\n",
      "--- Processing batch 12/16 ---\n",
      "Solving ODE for batch 12...\n",
      "ODE solved for batch 12. Success: True\n",
      "Batch 12 Avg: log_p_T=-4301.87, delta_log_p=-13744.44, log_p_0=-18046.31, NLL=18046.31\n",
      "\n",
      "--- Processing batch 13/16 ---\n",
      "Solving ODE for batch 13...\n",
      "ODE solved for batch 13. Success: True\n",
      "Batch 13 Avg: log_p_T=-4299.07, delta_log_p=-13754.67, log_p_0=-18053.74, NLL=18053.74\n",
      "\n",
      "--- Processing batch 14/16 ---\n",
      "Solving ODE for batch 14...\n",
      "ODE solved for batch 14. Success: True\n",
      "Batch 14 Avg: log_p_T=-4306.03, delta_log_p=-13437.81, log_p_0=-17743.84, NLL=17743.84\n",
      "\n",
      "--- Processing batch 15/16 ---\n",
      "Solving ODE for batch 15...\n",
      "ODE solved for batch 15. Success: True\n",
      "Batch 15 Avg: log_p_T=-4309.68, delta_log_p=-13541.54, log_p_0=-17851.22, NLL=17851.22\n",
      "\n",
      "--- Processing batch 16/16 ---\n",
      "Solving ODE for batch 16...\n",
      "ODE solved for batch 16. Success: True\n",
      "Batch 16 Avg: log_p_T=-4300.77, delta_log_p=-13675.94, log_p_0=-17976.72, NLL=17976.72\n",
      "\n",
      "Cálculo NLL finalizado.\n",
      "Average NLL (base e): 17995.8925\n"
     ]
    },
    {
     "data": {
      "text/markdown": [
       "### Bits Per Dimension (BPD): 8.4514"
      ],
      "text/plain": [
       "<IPython.core.display.Markdown object>"
      ]
     },
     "metadata": {},
     "output_type": "display_data"
    },
    {
     "name": "stdout",
     "output_type": "stream",
     "text": [
      "Generating images for IS...\n",
      "Shape of final generated images: torch.Size([200, 3, 32, 32])\n",
      "Calculating IS on device: cuda\n",
      "Loading Inception v3 model...\n",
      "Getting Inception predictions...\n"
     ]
    },
    {
     "data": {
      "application/vnd.jupyter.widget-view+json": {
       "model_id": "4257a7a53c2b4fa8a947459e3e75b9ee",
       "version_major": 2,
       "version_minor": 0
      },
      "text/plain": [
       "Getting Inception Predictions:   0%|          | 0/7 [00:00<?, ?it/s]"
      ]
     },
     "metadata": {},
     "output_type": "display_data"
    },
    {
     "name": "stdout",
     "output_type": "stream",
     "text": [
      "Calculating Inception Score using 200 images and 10 splits...\n"
     ]
    },
    {
     "data": {
      "text/markdown": [
       "### Inception Score calculado:"
      ],
      "text/plain": [
       "<IPython.core.display.Markdown object>"
      ]
     },
     "metadata": {},
     "output_type": "display_data"
    },
    {
     "data": {
      "text/markdown": [
       "### Media: 3.4200"
      ],
      "text/plain": [
       "<IPython.core.display.Markdown object>"
      ]
     },
     "metadata": {},
     "output_type": "display_data"
    },
    {
     "data": {
      "text/markdown": [
       "### Std Dev: 0.4625"
      ],
      "text/plain": [
       "<IPython.core.display.Markdown object>"
      ]
     },
     "metadata": {},
     "output_type": "display_data"
    },
    {
     "name": "stdout",
     "output_type": "stream",
     "text": [
      "  Procesando Modelo/SDE: VP_Cosine (Ejecución 2)\n",
      "Inicializado VPSDE con Schedule Coseno (s=0.008)\n",
      "./checkpoints/scorenet_cifar10_VP_Cosine_epoch_100.pth\n",
      "ScoreNet cargado desde ./checkpoints/scorenet_cifar10_VP_Cosine_epoch_100.pth\n",
      "Checkpoint loaded successfully.\n",
      "Generando 100 imágenes sintéticas con VP_Cosine para FID...\n",
      "Generando 100 muestras vía euler_maruyama_integrator (500 steps) en 4 lotes de tamaño 32...\n"
     ]
    },
    {
     "name": "stderr",
     "output_type": "stream",
     "text": [
      "Generando Muestras: 100%|██████████| 4/4 [01:35<00:00, 23.87s/it]\n"
     ]
    },
    {
     "name": "stdout",
     "output_type": "stream",
     "text": [
      "<generate_samples_for_fid> Forma final de salida: torch.Size([100, 3, 32, 32]) usando euler_maruyama_integrator\n",
      "Imágenes generadas. Tensor shape: torch.Size([100, 3, 32, 32])\n",
      "Preparando 100 imágenes reales aleatorias de CIFAR-10 para FID...\n",
      "Dataset CIFAR-10 test cargado. Tamaño total: 10000\n",
      "Seleccionando 100 imágenes reales al azar de CIFAR-10 test.\n",
      " Cargando 100 imágenes reales...\n"
     ]
    },
    {
     "name": "stderr",
     "output_type": "stream",
     "text": [
      "Cargando imágenes reales: 100%|██████████| 100/100 [00:00<00:00, 6304.76it/s]"
     ]
    },
    {
     "name": "stdout",
     "output_type": "stream",
     "text": [
      "Imágenes reales preparadas. Tensor shape: torch.Size([100, 3, 32, 32]), Device: cuda:0\n",
      "Creando DataLoaders para FID...\n",
      " Tensor de imágenes generadas movido a cuda.\n",
      " Tensor de imágenes reales movido a cuda.\n",
      "TensorDatasets creados. Tamaño real: 100, Tamaño generado: 100\n",
      "DataLoaders creados con batch_size=128.\n",
      "\n",
      "Calculando FID usando 100 imágenes reales y 100 generadas...\n"
     ]
    },
    {
     "name": "stderr",
     "output_type": "stream",
     "text": [
      "\n"
     ]
    },
    {
     "name": "stdout",
     "output_type": "stream",
     "text": [
      "Calculando estadísticas de activación para imágenes reales...\n",
      "Calculando estadísticas de activación para 100 muestras...\n"
     ]
    },
    {
     "name": "stderr",
     "output_type": "stream",
     "text": [
      "Calculando Activaciones: 100%|██████████| 100/100 [00:00<00:00, 261.73it/s]\n"
     ]
    },
    {
     "name": "stdout",
     "output_type": "stream",
     "text": [
      "Estadísticas calculadas. mu shape: (2048,), sigma shape: (2048, 2048)\n",
      "\n",
      "Calculando estadísticas de activación para imágenes generadas...\n",
      "Calculando estadísticas de activación para 100 muestras...\n"
     ]
    },
    {
     "name": "stderr",
     "output_type": "stream",
     "text": [
      "Calculando Activaciones: 100%|██████████| 100/100 [00:00<00:00, 259.32it/s]\n"
     ]
    },
    {
     "name": "stdout",
     "output_type": "stream",
     "text": [
      "Estadísticas calculadas. mu shape: (2048,), sigma shape: (2048, 2048)\n",
      "\n",
      "Calculando Distancia de Fréchet (FID)...\n"
     ]
    },
    {
     "data": {
      "text/markdown": [
       "### FID Score (VP_Cosine): 319.9435"
      ],
      "text/plain": [
       "<IPython.core.display.Markdown object>"
      ]
     },
     "metadata": {},
     "output_type": "display_data"
    },
    {
     "name": "stdout",
     "output_type": "stream",
     "text": [
      "Full CIFAR-10 test set size: 10000\n",
      "Created subset with 1000 images (first half of test set).\n",
      "Image dimensions: C=3, H=32, W=32 => Total=3072\n",
      "\n",
      "Iniciando cálculo de NLL con compute_nll_scipy...\n",
      "Calculating NLL using scipy.integrate.solve_ivp (method=RK45). Dequantization enabled.\n"
     ]
    },
    {
     "data": {
      "application/vnd.jupyter.widget-view+json": {
       "model_id": "d0ef3e107c384601849183a182e458b2",
       "version_major": 2,
       "version_minor": 0
      },
      "text/plain": [
       "Calculating NLL:   0%|          | 0/16 [00:00<?, ?it/s]"
      ]
     },
     "metadata": {},
     "output_type": "display_data"
    },
    {
     "name": "stdout",
     "output_type": "stream",
     "text": [
      "\n",
      "--- Processing batch 1/16 ---\n",
      "Data dimensions detected: 3072\n",
      "Initial batch shape: torch.Size([64, 3, 32, 32])\n",
      "\n",
      "--- Checking first batch preprocessing ---\n",
      "Data range check passed: [0.0000, 1.0000] is within expected [0.0, 1.0].\n",
      "Dequantization check: Values seem plausibly dequantized (mean_residual=2.50e-01).\n",
      "Data preprocessing check passed successfully.\n",
      "----------------------------------------\n",
      "Solving ODE for batch 1...\n",
      "ODE solved for batch 1. Success: True\n",
      "Detected VP/SubVP SDE (sigma_t=1.00). Prior variance=1.0.\n",
      "Batch 1 Avg: log_p_T=-3539.53, delta_log_p=-11854.10, log_p_0=-15393.63, NLL=15393.63\n",
      "\n",
      "--- Processing batch 2/16 ---\n",
      "Solving ODE for batch 2...\n",
      "ODE solved for batch 2. Success: True\n",
      "Batch 2 Avg: log_p_T=-3508.95, delta_log_p=-12109.21, log_p_0=-15618.17, NLL=15618.17\n",
      "\n",
      "--- Processing batch 3/16 ---\n",
      "Solving ODE for batch 3...\n",
      "ODE solved for batch 3. Success: True\n",
      "Batch 3 Avg: log_p_T=-3525.79, delta_log_p=-12346.02, log_p_0=-15871.81, NLL=15871.81\n",
      "\n",
      "--- Processing batch 4/16 ---\n",
      "Solving ODE for batch 4...\n",
      "ODE solved for batch 4. Success: True\n",
      "Batch 4 Avg: log_p_T=-3533.06, delta_log_p=-12173.55, log_p_0=-15706.61, NLL=15706.61\n",
      "\n",
      "--- Processing batch 5/16 ---\n",
      "Solving ODE for batch 5...\n",
      "ODE solved for batch 5. Success: True\n",
      "Batch 5 Avg: log_p_T=-3526.20, delta_log_p=-12211.52, log_p_0=-15737.72, NLL=15737.72\n",
      "\n",
      "--- Processing batch 6/16 ---\n",
      "Solving ODE for batch 6...\n",
      "ODE solved for batch 6. Success: True\n",
      "Batch 6 Avg: log_p_T=-3529.95, delta_log_p=-12217.23, log_p_0=-15747.18, NLL=15747.18\n",
      "\n",
      "--- Processing batch 7/16 ---\n",
      "Solving ODE for batch 7...\n",
      "ODE solved for batch 7. Success: True\n",
      "Batch 7 Avg: log_p_T=-3531.36, delta_log_p=-12206.36, log_p_0=-15737.72, NLL=15737.72\n",
      "\n",
      "--- Processing batch 8/16 ---\n",
      "Solving ODE for batch 8...\n",
      "ODE solved for batch 8. Success: True\n",
      "Batch 8 Avg: log_p_T=-3534.13, delta_log_p=-12269.47, log_p_0=-15803.60, NLL=15803.60\n",
      "\n",
      "--- Processing batch 9/16 ---\n",
      "Solving ODE for batch 9...\n",
      "ODE solved for batch 9. Success: True\n",
      "Batch 9 Avg: log_p_T=-3556.54, delta_log_p=-12195.85, log_p_0=-15752.39, NLL=15752.39\n",
      "\n",
      "--- Processing batch 10/16 ---\n",
      "Solving ODE for batch 10...\n",
      "ODE solved for batch 10. Success: True\n",
      "Batch 10 Avg: log_p_T=-3531.98, delta_log_p=-12227.63, log_p_0=-15759.61, NLL=15759.61\n",
      "\n",
      "--- Processing batch 11/16 ---\n",
      "Solving ODE for batch 11...\n",
      "ODE solved for batch 11. Success: True\n",
      "Batch 11 Avg: log_p_T=-3533.95, delta_log_p=-12111.65, log_p_0=-15645.60, NLL=15645.60\n",
      "\n",
      "--- Processing batch 12/16 ---\n",
      "Solving ODE for batch 12...\n",
      "ODE solved for batch 12. Success: True\n",
      "Batch 12 Avg: log_p_T=-3550.19, delta_log_p=-12216.06, log_p_0=-15766.25, NLL=15766.25\n",
      "\n",
      "--- Processing batch 13/16 ---\n",
      "Solving ODE for batch 13...\n",
      "ODE solved for batch 13. Success: True\n",
      "Batch 13 Avg: log_p_T=-3543.41, delta_log_p=-12060.79, log_p_0=-15604.20, NLL=15604.20\n",
      "\n",
      "--- Processing batch 14/16 ---\n",
      "Solving ODE for batch 14...\n",
      "ODE solved for batch 14. Success: True\n",
      "Batch 14 Avg: log_p_T=-3535.70, delta_log_p=-12116.93, log_p_0=-15652.63, NLL=15652.63\n",
      "\n",
      "--- Processing batch 15/16 ---\n",
      "Solving ODE for batch 15...\n",
      "ODE solved for batch 15. Success: True\n",
      "Batch 15 Avg: log_p_T=-3524.64, delta_log_p=-12255.08, log_p_0=-15779.72, NLL=15779.72\n",
      "\n",
      "--- Processing batch 16/16 ---\n",
      "Solving ODE for batch 16...\n",
      "ODE solved for batch 16. Success: True\n",
      "Batch 16 Avg: log_p_T=-3526.18, delta_log_p=-12183.47, log_p_0=-15709.65, NLL=15709.65\n",
      "\n",
      "Cálculo NLL finalizado.\n",
      "Average NLL (base e): 15705.3034\n"
     ]
    },
    {
     "data": {
      "text/markdown": [
       "### Bits Per Dimension (BPD): 7.3756"
      ],
      "text/plain": [
       "<IPython.core.display.Markdown object>"
      ]
     },
     "metadata": {},
     "output_type": "display_data"
    },
    {
     "name": "stdout",
     "output_type": "stream",
     "text": [
      "Generating images for IS...\n",
      "Shape of final generated images: torch.Size([200, 3, 32, 32])\n",
      "Calculating IS on device: cuda\n",
      "Loading Inception v3 model...\n",
      "Getting Inception predictions...\n"
     ]
    },
    {
     "data": {
      "application/vnd.jupyter.widget-view+json": {
       "model_id": "a7431030144b4afdb37610c9dde13133",
       "version_major": 2,
       "version_minor": 0
      },
      "text/plain": [
       "Getting Inception Predictions:   0%|          | 0/7 [00:00<?, ?it/s]"
      ]
     },
     "metadata": {},
     "output_type": "display_data"
    },
    {
     "name": "stdout",
     "output_type": "stream",
     "text": [
      "Calculating Inception Score using 200 images and 10 splits...\n"
     ]
    },
    {
     "data": {
      "text/markdown": [
       "### Inception Score calculado:"
      ],
      "text/plain": [
       "<IPython.core.display.Markdown object>"
      ]
     },
     "metadata": {},
     "output_type": "display_data"
    },
    {
     "data": {
      "text/markdown": [
       "### Media: 1.6475"
      ],
      "text/plain": [
       "<IPython.core.display.Markdown object>"
      ]
     },
     "metadata": {},
     "output_type": "display_data"
    },
    {
     "data": {
      "text/markdown": [
       "### Std Dev: 0.1302"
      ],
      "text/plain": [
       "<IPython.core.display.Markdown object>"
      ]
     },
     "metadata": {},
     "output_type": "display_data"
    },
    {
     "name": "stdout",
     "output_type": "stream",
     "text": [
      "  Procesando Modelo/SDE: SubVP_Linear (Ejecución 2)\n",
      "Inicializado SubVPSDE con Schedule Lineal (beta_min=0.1, beta_max=20.0)\n",
      "./checkpoints/scorenet_cifar10_SubVP_Linear_epoch_130.pth\n",
      "ScoreNet cargado desde ./checkpoints/scorenet_cifar10_SubVP_Linear_epoch_130.pth\n",
      "Checkpoint loaded successfully.\n",
      "Generando 100 imágenes sintéticas con SubVP_Linear para FID...\n",
      "Generando 100 muestras vía euler_maruyama_integrator (500 steps) en 4 lotes de tamaño 32...\n"
     ]
    },
    {
     "name": "stderr",
     "output_type": "stream",
     "text": [
      "Generando Muestras: 100%|██████████| 4/4 [01:35<00:00, 23.84s/it]\n"
     ]
    },
    {
     "name": "stdout",
     "output_type": "stream",
     "text": [
      "<generate_samples_for_fid> Forma final de salida: torch.Size([100, 3, 32, 32]) usando euler_maruyama_integrator\n",
      "Imágenes generadas. Tensor shape: torch.Size([100, 3, 32, 32])\n",
      "Preparando 100 imágenes reales aleatorias de CIFAR-10 para FID...\n",
      "Dataset CIFAR-10 test cargado. Tamaño total: 10000\n",
      "Seleccionando 100 imágenes reales al azar de CIFAR-10 test.\n",
      " Cargando 100 imágenes reales...\n"
     ]
    },
    {
     "name": "stderr",
     "output_type": "stream",
     "text": [
      "Cargando imágenes reales: 100%|██████████| 100/100 [00:00<00:00, 7185.10it/s]"
     ]
    },
    {
     "name": "stdout",
     "output_type": "stream",
     "text": [
      "Imágenes reales preparadas. Tensor shape: torch.Size([100, 3, 32, 32]), Device: cuda:0\n",
      "Creando DataLoaders para FID...\n",
      " Tensor de imágenes generadas movido a cuda.\n",
      " Tensor de imágenes reales movido a cuda.\n",
      "TensorDatasets creados. Tamaño real: 100, Tamaño generado: 100\n",
      "DataLoaders creados con batch_size=128.\n",
      "\n",
      "Calculando FID usando 100 imágenes reales y 100 generadas...\n"
     ]
    },
    {
     "name": "stderr",
     "output_type": "stream",
     "text": [
      "\n"
     ]
    },
    {
     "name": "stdout",
     "output_type": "stream",
     "text": [
      "Calculando estadísticas de activación para imágenes reales...\n",
      "Calculando estadísticas de activación para 100 muestras...\n"
     ]
    },
    {
     "name": "stderr",
     "output_type": "stream",
     "text": [
      "Calculando Activaciones: 100%|██████████| 100/100 [00:00<00:00, 256.73it/s]\n"
     ]
    },
    {
     "name": "stdout",
     "output_type": "stream",
     "text": [
      "Estadísticas calculadas. mu shape: (2048,), sigma shape: (2048, 2048)\n",
      "\n",
      "Calculando estadísticas de activación para imágenes generadas...\n",
      "Calculando estadísticas de activación para 100 muestras...\n"
     ]
    },
    {
     "name": "stderr",
     "output_type": "stream",
     "text": [
      "Calculando Activaciones: 100%|██████████| 100/100 [00:00<00:00, 260.45it/s]\n"
     ]
    },
    {
     "name": "stdout",
     "output_type": "stream",
     "text": [
      "Estadísticas calculadas. mu shape: (2048,), sigma shape: (2048, 2048)\n",
      "\n",
      "Calculando Distancia de Fréchet (FID)...\n"
     ]
    },
    {
     "data": {
      "text/markdown": [
       "### FID Score (SubVP_Linear): 198.7822"
      ],
      "text/plain": [
       "<IPython.core.display.Markdown object>"
      ]
     },
     "metadata": {},
     "output_type": "display_data"
    },
    {
     "name": "stdout",
     "output_type": "stream",
     "text": [
      "Full CIFAR-10 test set size: 10000\n",
      "Created subset with 1000 images (first half of test set).\n",
      "Image dimensions: C=3, H=32, W=32 => Total=3072\n",
      "\n",
      "Iniciando cálculo de NLL con compute_nll_scipy...\n",
      "Calculating NLL using scipy.integrate.solve_ivp (method=RK45). Dequantization enabled.\n"
     ]
    },
    {
     "data": {
      "application/vnd.jupyter.widget-view+json": {
       "model_id": "15ef5b86e6f34dcda9f88cf48cdd3523",
       "version_major": 2,
       "version_minor": 0
      },
      "text/plain": [
       "Calculating NLL:   0%|          | 0/16 [00:00<?, ?it/s]"
      ]
     },
     "metadata": {},
     "output_type": "display_data"
    },
    {
     "name": "stdout",
     "output_type": "stream",
     "text": [
      "\n",
      "--- Processing batch 1/16 ---\n",
      "Data dimensions detected: 3072\n",
      "Initial batch shape: torch.Size([64, 3, 32, 32])\n",
      "\n",
      "--- Checking first batch preprocessing ---\n",
      "Data range check passed: [0.0000, 1.0000] is within expected [0.0, 1.0].\n",
      "Dequantization check: Values seem plausibly dequantized (mean_residual=2.51e-01).\n",
      "Data preprocessing check passed successfully.\n",
      "----------------------------------------\n",
      "Solving ODE for batch 1...\n",
      "ODE solved for batch 1. Success: True\n",
      "Detected VP/SubVP SDE (sigma_t=1.00). Prior variance=1.0.\n",
      "Batch 1 Avg: log_p_T=-2847.88, delta_log_p=-1818.36, log_p_0=-4666.24, NLL=4666.24\n",
      "\n",
      "--- Processing batch 2/16 ---\n",
      "Solving ODE for batch 2...\n",
      "ODE solved for batch 2. Success: True\n",
      "Batch 2 Avg: log_p_T=-2846.12, delta_log_p=-1858.59, log_p_0=-4704.71, NLL=4704.71\n",
      "\n",
      "--- Processing batch 3/16 ---\n",
      "Solving ODE for batch 3...\n",
      "ODE solved for batch 3. Success: True\n",
      "Batch 3 Avg: log_p_T=-2846.74, delta_log_p=-1859.43, log_p_0=-4706.17, NLL=4706.17\n",
      "\n",
      "--- Processing batch 4/16 ---\n",
      "Solving ODE for batch 4...\n",
      "ODE solved for batch 4. Success: True\n",
      "Batch 4 Avg: log_p_T=-2846.12, delta_log_p=-1856.53, log_p_0=-4702.65, NLL=4702.65\n",
      "\n",
      "--- Processing batch 5/16 ---\n",
      "Solving ODE for batch 5...\n",
      "ODE solved for batch 5. Success: True\n",
      "Batch 5 Avg: log_p_T=-2848.85, delta_log_p=-1827.19, log_p_0=-4676.04, NLL=4676.04\n",
      "\n",
      "--- Processing batch 6/16 ---\n",
      "Solving ODE for batch 6...\n",
      "ODE solved for batch 6. Success: True\n",
      "Batch 6 Avg: log_p_T=-2845.35, delta_log_p=-1884.97, log_p_0=-4730.32, NLL=4730.32\n",
      "\n",
      "--- Processing batch 7/16 ---\n",
      "Solving ODE for batch 7...\n",
      "ODE solved for batch 7. Success: True\n",
      "Batch 7 Avg: log_p_T=-2846.91, delta_log_p=-1848.69, log_p_0=-4695.60, NLL=4695.60\n",
      "\n",
      "--- Processing batch 8/16 ---\n",
      "Solving ODE for batch 8...\n",
      "ODE solved for batch 8. Success: True\n",
      "Batch 8 Avg: log_p_T=-2845.00, delta_log_p=-1875.29, log_p_0=-4720.29, NLL=4720.29\n",
      "\n",
      "--- Processing batch 9/16 ---\n",
      "Solving ODE for batch 9...\n",
      "ODE solved for batch 9. Success: True\n",
      "Batch 9 Avg: log_p_T=-2847.90, delta_log_p=-1806.05, log_p_0=-4653.94, NLL=4653.94\n",
      "\n",
      "--- Processing batch 10/16 ---\n",
      "Solving ODE for batch 10...\n",
      "ODE solved for batch 10. Success: True\n",
      "Batch 10 Avg: log_p_T=-2848.42, delta_log_p=-1820.22, log_p_0=-4668.65, NLL=4668.65\n",
      "\n",
      "--- Processing batch 11/16 ---\n",
      "Solving ODE for batch 11...\n",
      "ODE solved for batch 11. Success: True\n",
      "Batch 11 Avg: log_p_T=-2845.91, delta_log_p=-1845.80, log_p_0=-4691.70, NLL=4691.70\n",
      "\n",
      "--- Processing batch 12/16 ---\n",
      "Solving ODE for batch 12...\n",
      "ODE solved for batch 12. Success: True\n",
      "Batch 12 Avg: log_p_T=-2846.46, delta_log_p=-1852.26, log_p_0=-4698.72, NLL=4698.72\n",
      "\n",
      "--- Processing batch 13/16 ---\n",
      "Solving ODE for batch 13...\n",
      "ODE solved for batch 13. Success: True\n",
      "Batch 13 Avg: log_p_T=-2848.50, delta_log_p=-1795.75, log_p_0=-4644.24, NLL=4644.24\n",
      "\n",
      "--- Processing batch 14/16 ---\n",
      "Solving ODE for batch 14...\n",
      "ODE solved for batch 14. Success: True\n",
      "Batch 14 Avg: log_p_T=-2847.20, delta_log_p=-1883.24, log_p_0=-4730.45, NLL=4730.45\n",
      "\n",
      "--- Processing batch 15/16 ---\n",
      "Solving ODE for batch 15...\n",
      "ODE solved for batch 15. Success: True\n",
      "Batch 15 Avg: log_p_T=-2845.10, delta_log_p=-1881.89, log_p_0=-4726.99, NLL=4726.99\n",
      "\n",
      "--- Processing batch 16/16 ---\n",
      "Solving ODE for batch 16...\n",
      "ODE solved for batch 16. Success: True\n",
      "Batch 16 Avg: log_p_T=-2843.91, delta_log_p=-1917.21, log_p_0=-4761.12, NLL=4761.12\n",
      "\n",
      "Cálculo NLL finalizado.\n",
      "Average NLL (base e): 4697.1142\n"
     ]
    },
    {
     "data": {
      "text/markdown": [
       "### Bits Per Dimension (BPD): 2.2059"
      ],
      "text/plain": [
       "<IPython.core.display.Markdown object>"
      ]
     },
     "metadata": {},
     "output_type": "display_data"
    },
    {
     "name": "stdout",
     "output_type": "stream",
     "text": [
      "Generating images for IS...\n",
      "Shape of final generated images: torch.Size([200, 3, 32, 32])\n",
      "Calculating IS on device: cuda\n",
      "Loading Inception v3 model...\n",
      "Getting Inception predictions...\n"
     ]
    },
    {
     "data": {
      "application/vnd.jupyter.widget-view+json": {
       "model_id": "e8ca5818492a48d6b5aae7110d75005b",
       "version_major": 2,
       "version_minor": 0
      },
      "text/plain": [
       "Getting Inception Predictions:   0%|          | 0/7 [00:00<?, ?it/s]"
      ]
     },
     "metadata": {},
     "output_type": "display_data"
    },
    {
     "name": "stdout",
     "output_type": "stream",
     "text": [
      "Calculating Inception Score using 200 images and 10 splits...\n"
     ]
    },
    {
     "data": {
      "text/markdown": [
       "### Inception Score calculado:"
      ],
      "text/plain": [
       "<IPython.core.display.Markdown object>"
      ]
     },
     "metadata": {},
     "output_type": "display_data"
    },
    {
     "data": {
      "text/markdown": [
       "### Media: 3.5548"
      ],
      "text/plain": [
       "<IPython.core.display.Markdown object>"
      ]
     },
     "metadata": {},
     "output_type": "display_data"
    },
    {
     "data": {
      "text/markdown": [
       "### Std Dev: 0.2666"
      ],
      "text/plain": [
       "<IPython.core.display.Markdown object>"
      ]
     },
     "metadata": {},
     "output_type": "display_data"
    },
    {
     "name": "stdout",
     "output_type": "stream",
     "text": [
      "  Procesando Modelo/SDE: SubVP_Cosine (Ejecución 2)\n",
      "Inicializado SubVPSDE con Schedule Coseno (s=0.008)\n",
      "./checkpoints/scorenet_cifar10_SubVP_Cosine_epoch_20.pth\n",
      "ScoreNet cargado desde ./checkpoints/scorenet_cifar10_SubVP_Cosine_epoch_20.pth\n",
      "Checkpoint loaded successfully.\n",
      "Generando 100 imágenes sintéticas con SubVP_Cosine para FID...\n",
      "Generando 100 muestras vía euler_maruyama_integrator (500 steps) en 4 lotes de tamaño 32...\n"
     ]
    },
    {
     "name": "stderr",
     "output_type": "stream",
     "text": [
      "Generando Muestras: 100%|██████████| 4/4 [01:35<00:00, 23.82s/it]\n"
     ]
    },
    {
     "name": "stdout",
     "output_type": "stream",
     "text": [
      "<generate_samples_for_fid> Forma final de salida: torch.Size([100, 3, 32, 32]) usando euler_maruyama_integrator\n",
      "Imágenes generadas. Tensor shape: torch.Size([100, 3, 32, 32])\n",
      "Preparando 100 imágenes reales aleatorias de CIFAR-10 para FID...\n",
      "Dataset CIFAR-10 test cargado. Tamaño total: 10000\n",
      "Seleccionando 100 imágenes reales al azar de CIFAR-10 test.\n",
      " Cargando 100 imágenes reales...\n"
     ]
    },
    {
     "name": "stderr",
     "output_type": "stream",
     "text": [
      "Cargando imágenes reales: 100%|██████████| 100/100 [00:00<00:00, 4113.07it/s]"
     ]
    },
    {
     "name": "stdout",
     "output_type": "stream",
     "text": [
      "Imágenes reales preparadas. Tensor shape: torch.Size([100, 3, 32, 32]), Device: cuda:0\n",
      "Creando DataLoaders para FID...\n",
      " Tensor de imágenes generadas movido a cuda.\n",
      " Tensor de imágenes reales movido a cuda.\n",
      "TensorDatasets creados. Tamaño real: 100, Tamaño generado: 100\n",
      "DataLoaders creados con batch_size=128.\n",
      "\n",
      "Calculando FID usando 100 imágenes reales y 100 generadas...\n"
     ]
    },
    {
     "name": "stderr",
     "output_type": "stream",
     "text": [
      "\n"
     ]
    },
    {
     "name": "stdout",
     "output_type": "stream",
     "text": [
      "Calculando estadísticas de activación para imágenes reales...\n",
      "Calculando estadísticas de activación para 100 muestras...\n"
     ]
    },
    {
     "name": "stderr",
     "output_type": "stream",
     "text": [
      "Calculando Activaciones: 100%|██████████| 100/100 [00:00<00:00, 256.98it/s]\n"
     ]
    },
    {
     "name": "stdout",
     "output_type": "stream",
     "text": [
      "Estadísticas calculadas. mu shape: (2048,), sigma shape: (2048, 2048)\n",
      "\n",
      "Calculando estadísticas de activación para imágenes generadas...\n",
      "Calculando estadísticas de activación para 100 muestras...\n"
     ]
    },
    {
     "name": "stderr",
     "output_type": "stream",
     "text": [
      "Calculando Activaciones: 100%|██████████| 100/100 [00:00<00:00, 259.47it/s]\n"
     ]
    },
    {
     "name": "stdout",
     "output_type": "stream",
     "text": [
      "Estadísticas calculadas. mu shape: (2048,), sigma shape: (2048, 2048)\n",
      "\n",
      "Calculando Distancia de Fréchet (FID)...\n"
     ]
    },
    {
     "data": {
      "text/markdown": [
       "### FID Score (SubVP_Cosine): 373.2943"
      ],
      "text/plain": [
       "<IPython.core.display.Markdown object>"
      ]
     },
     "metadata": {},
     "output_type": "display_data"
    },
    {
     "name": "stdout",
     "output_type": "stream",
     "text": [
      "Full CIFAR-10 test set size: 10000\n",
      "Created subset with 1000 images (first half of test set).\n",
      "Image dimensions: C=3, H=32, W=32 => Total=3072\n",
      "\n",
      "Iniciando cálculo de NLL con compute_nll_scipy...\n",
      "Calculating NLL using scipy.integrate.solve_ivp (method=RK45). Dequantization enabled.\n"
     ]
    },
    {
     "data": {
      "application/vnd.jupyter.widget-view+json": {
       "model_id": "9a9643872eee485a94180c4f80d9db54",
       "version_major": 2,
       "version_minor": 0
      },
      "text/plain": [
       "Calculating NLL:   0%|          | 0/16 [00:00<?, ?it/s]"
      ]
     },
     "metadata": {},
     "output_type": "display_data"
    },
    {
     "name": "stdout",
     "output_type": "stream",
     "text": [
      "\n",
      "--- Processing batch 1/16 ---\n",
      "Data dimensions detected: 3072\n",
      "Initial batch shape: torch.Size([64, 3, 32, 32])\n",
      "\n",
      "--- Checking first batch preprocessing ---\n",
      "Data range check passed: [0.0000, 1.0000] is within expected [0.0, 1.0].\n",
      "Dequantization check: Values seem plausibly dequantized (mean_residual=2.49e-01).\n",
      "Data preprocessing check passed successfully.\n",
      "----------------------------------------\n",
      "Solving ODE for batch 1...\n",
      "ODE solved for batch 1. Success: True\n",
      "Detected VP/SubVP SDE (sigma_t=1.00). Prior variance=1.0.\n",
      "Batch 1 Avg: log_p_T=-3044.98, delta_log_p=-590.91, log_p_0=-3635.89, NLL=3635.89\n",
      "\n",
      "--- Processing batch 2/16 ---\n",
      "Solving ODE for batch 2...\n",
      "ODE solved for batch 2. Success: True\n",
      "Batch 2 Avg: log_p_T=-3057.13, delta_log_p=-591.79, log_p_0=-3648.92, NLL=3648.92\n",
      "\n",
      "--- Processing batch 3/16 ---\n",
      "Solving ODE for batch 3...\n",
      "ODE solved for batch 3. Success: True\n",
      "Batch 3 Avg: log_p_T=-3048.32, delta_log_p=-584.97, log_p_0=-3633.29, NLL=3633.29\n",
      "\n",
      "--- Processing batch 4/16 ---\n",
      "Solving ODE for batch 4...\n",
      "ODE solved for batch 4. Success: True\n",
      "Batch 4 Avg: log_p_T=-3032.67, delta_log_p=-603.27, log_p_0=-3635.94, NLL=3635.94\n",
      "\n",
      "--- Processing batch 5/16 ---\n",
      "Solving ODE for batch 5...\n",
      "ODE solved for batch 5. Success: True\n",
      "Batch 5 Avg: log_p_T=-3033.65, delta_log_p=-605.30, log_p_0=-3638.95, NLL=3638.95\n",
      "\n",
      "--- Processing batch 6/16 ---\n",
      "Solving ODE for batch 6...\n",
      "ODE solved for batch 6. Success: True\n",
      "Batch 6 Avg: log_p_T=-3003.17, delta_log_p=-632.67, log_p_0=-3635.83, NLL=3635.83\n",
      "\n",
      "--- Processing batch 7/16 ---\n",
      "Solving ODE for batch 7...\n",
      "ODE solved for batch 7. Success: True\n",
      "Batch 7 Avg: log_p_T=-3015.19, delta_log_p=-605.02, log_p_0=-3620.22, NLL=3620.22\n",
      "\n",
      "--- Processing batch 8/16 ---\n",
      "Solving ODE for batch 8...\n",
      "ODE solved for batch 8. Success: True\n",
      "Batch 8 Avg: log_p_T=-3023.81, delta_log_p=-618.64, log_p_0=-3642.44, NLL=3642.44\n",
      "\n",
      "--- Processing batch 9/16 ---\n",
      "Solving ODE for batch 9...\n",
      "ODE solved for batch 9. Success: True\n",
      "Batch 9 Avg: log_p_T=-3024.79, delta_log_p=-615.16, log_p_0=-3639.95, NLL=3639.95\n",
      "\n",
      "--- Processing batch 10/16 ---\n",
      "Solving ODE for batch 10...\n",
      "ODE solved for batch 10. Success: True\n",
      "Batch 10 Avg: log_p_T=-3039.88, delta_log_p=-612.72, log_p_0=-3652.60, NLL=3652.60\n",
      "\n",
      "--- Processing batch 11/16 ---\n",
      "Solving ODE for batch 11...\n",
      "ODE solved for batch 11. Success: True\n",
      "Batch 11 Avg: log_p_T=-3028.09, delta_log_p=-614.73, log_p_0=-3642.82, NLL=3642.82\n",
      "\n",
      "--- Processing batch 12/16 ---\n",
      "Solving ODE for batch 12...\n",
      "ODE solved for batch 12. Success: True\n",
      "Batch 12 Avg: log_p_T=-3032.61, delta_log_p=-601.55, log_p_0=-3634.16, NLL=3634.16\n",
      "\n",
      "--- Processing batch 13/16 ---\n",
      "Solving ODE for batch 13...\n",
      "ODE solved for batch 13. Success: True\n",
      "Batch 13 Avg: log_p_T=-3042.62, delta_log_p=-598.69, log_p_0=-3641.31, NLL=3641.31\n",
      "\n",
      "--- Processing batch 14/16 ---\n",
      "Solving ODE for batch 14...\n",
      "ODE solved for batch 14. Success: True\n",
      "Batch 14 Avg: log_p_T=-3038.83, delta_log_p=-604.29, log_p_0=-3643.12, NLL=3643.12\n",
      "\n",
      "--- Processing batch 15/16 ---\n",
      "Solving ODE for batch 15...\n",
      "ODE solved for batch 15. Success: True\n",
      "Batch 15 Avg: log_p_T=-3009.07, delta_log_p=-619.92, log_p_0=-3628.98, NLL=3628.98\n",
      "\n",
      "--- Processing batch 16/16 ---\n",
      "Solving ODE for batch 16...\n",
      "ODE solved for batch 16. Success: True\n",
      "Batch 16 Avg: log_p_T=-3027.51, delta_log_p=-609.74, log_p_0=-3637.25, NLL=3637.25\n",
      "\n",
      "Cálculo NLL finalizado.\n",
      "Average NLL (base e): 3638.2528\n"
     ]
    },
    {
     "data": {
      "text/markdown": [
       "### Bits Per Dimension (BPD): 1.7086"
      ],
      "text/plain": [
       "<IPython.core.display.Markdown object>"
      ]
     },
     "metadata": {},
     "output_type": "display_data"
    },
    {
     "name": "stdout",
     "output_type": "stream",
     "text": [
      "Generating images for IS...\n",
      "Shape of final generated images: torch.Size([200, 3, 32, 32])\n",
      "Calculating IS on device: cuda\n",
      "Loading Inception v3 model...\n",
      "Getting Inception predictions...\n"
     ]
    },
    {
     "data": {
      "application/vnd.jupyter.widget-view+json": {
       "model_id": "2c3a943723e5472994b998c1844dfef4",
       "version_major": 2,
       "version_minor": 0
      },
      "text/plain": [
       "Getting Inception Predictions:   0%|          | 0/7 [00:00<?, ?it/s]"
      ]
     },
     "metadata": {},
     "output_type": "display_data"
    },
    {
     "name": "stdout",
     "output_type": "stream",
     "text": [
      "Calculating Inception Score using 200 images and 10 splits...\n"
     ]
    },
    {
     "data": {
      "text/markdown": [
       "### Inception Score calculado:"
      ],
      "text/plain": [
       "<IPython.core.display.Markdown object>"
      ]
     },
     "metadata": {},
     "output_type": "display_data"
    },
    {
     "data": {
      "text/markdown": [
       "### Media: 1.4068"
      ],
      "text/plain": [
       "<IPython.core.display.Markdown object>"
      ]
     },
     "metadata": {},
     "output_type": "display_data"
    },
    {
     "data": {
      "text/markdown": [
       "### Std Dev: 0.0774"
      ],
      "text/plain": [
       "<IPython.core.display.Markdown object>"
      ]
     },
     "metadata": {},
     "output_type": "display_data"
    },
    {
     "name": "stdout",
     "output_type": "stream",
     "text": [
      "\n",
      "--- INICIANDO EJECUCIÓN 3/5 ---\n",
      "  Procesando Modelo/SDE: VE (Ejecución 3)\n",
      "Inicializado VESDE (sigma_min=0.01, sigma_max=50.0, sigma=25.0)\n",
      "./checkpoints/scorenet_cifar10_VE_epoch_200.pth\n",
      "ScoreNet cargado desde ./checkpoints/scorenet_cifar10_VE_epoch_200.pth\n",
      "Checkpoint loaded successfully.\n",
      "Generando 100 imágenes sintéticas con VE para FID...\n",
      "Generando 100 muestras vía euler_maruyama_integrator (500 steps) en 4 lotes de tamaño 32...\n"
     ]
    },
    {
     "name": "stderr",
     "output_type": "stream",
     "text": [
      "Generando Muestras: 100%|██████████| 4/4 [01:35<00:00, 23.97s/it]\n"
     ]
    },
    {
     "name": "stdout",
     "output_type": "stream",
     "text": [
      "<generate_samples_for_fid> Forma final de salida: torch.Size([100, 3, 32, 32]) usando euler_maruyama_integrator\n",
      "Imágenes generadas. Tensor shape: torch.Size([100, 3, 32, 32])\n",
      "Preparando 100 imágenes reales aleatorias de CIFAR-10 para FID...\n",
      "Dataset CIFAR-10 test cargado. Tamaño total: 10000\n",
      "Seleccionando 100 imágenes reales al azar de CIFAR-10 test.\n",
      " Cargando 100 imágenes reales...\n"
     ]
    },
    {
     "name": "stderr",
     "output_type": "stream",
     "text": [
      "Cargando imágenes reales: 100%|██████████| 100/100 [00:00<00:00, 5720.55it/s]"
     ]
    },
    {
     "name": "stdout",
     "output_type": "stream",
     "text": [
      "Imágenes reales preparadas. Tensor shape: torch.Size([100, 3, 32, 32]), Device: cuda:0\n",
      "Creando DataLoaders para FID...\n",
      " Tensor de imágenes generadas movido a cuda.\n",
      " Tensor de imágenes reales movido a cuda.\n",
      "TensorDatasets creados. Tamaño real: 100, Tamaño generado: 100\n",
      "DataLoaders creados con batch_size=128.\n",
      "\n",
      "Calculando FID usando 100 imágenes reales y 100 generadas...\n"
     ]
    },
    {
     "name": "stderr",
     "output_type": "stream",
     "text": [
      "\n"
     ]
    },
    {
     "name": "stdout",
     "output_type": "stream",
     "text": [
      "Calculando estadísticas de activación para imágenes reales...\n",
      "Calculando estadísticas de activación para 100 muestras...\n"
     ]
    },
    {
     "name": "stderr",
     "output_type": "stream",
     "text": [
      "Calculando Activaciones: 100%|██████████| 100/100 [00:00<00:00, 233.97it/s]\n"
     ]
    },
    {
     "name": "stdout",
     "output_type": "stream",
     "text": [
      "Estadísticas calculadas. mu shape: (2048,), sigma shape: (2048, 2048)\n",
      "\n",
      "Calculando estadísticas de activación para imágenes generadas...\n",
      "Calculando estadísticas de activación para 100 muestras...\n"
     ]
    },
    {
     "name": "stderr",
     "output_type": "stream",
     "text": [
      "Calculando Activaciones: 100%|██████████| 100/100 [00:00<00:00, 262.50it/s]\n"
     ]
    },
    {
     "name": "stdout",
     "output_type": "stream",
     "text": [
      "Estadísticas calculadas. mu shape: (2048,), sigma shape: (2048, 2048)\n",
      "\n",
      "Calculando Distancia de Fréchet (FID)...\n"
     ]
    },
    {
     "data": {
      "text/markdown": [
       "### FID Score (VE): 254.6399"
      ],
      "text/plain": [
       "<IPython.core.display.Markdown object>"
      ]
     },
     "metadata": {},
     "output_type": "display_data"
    },
    {
     "name": "stdout",
     "output_type": "stream",
     "text": [
      "Full CIFAR-10 test set size: 10000\n",
      "Created subset with 1000 images (first half of test set).\n",
      "Image dimensions: C=3, H=32, W=32 => Total=3072\n",
      "\n",
      "Iniciando cálculo de NLL con compute_nll_scipy...\n",
      "Calculating NLL using scipy.integrate.solve_ivp (method=RK45). Dequantization enabled.\n"
     ]
    },
    {
     "data": {
      "application/vnd.jupyter.widget-view+json": {
       "model_id": "4301d41b899842d499c654ca109583d6",
       "version_major": 2,
       "version_minor": 0
      },
      "text/plain": [
       "Calculating NLL:   0%|          | 0/16 [00:00<?, ?it/s]"
      ]
     },
     "metadata": {},
     "output_type": "display_data"
    },
    {
     "name": "stdout",
     "output_type": "stream",
     "text": [
      "\n",
      "--- Processing batch 1/16 ---\n",
      "Data dimensions detected: 3072\n",
      "Initial batch shape: torch.Size([64, 3, 32, 32])\n",
      "\n",
      "--- Checking first batch preprocessing ---\n",
      "Data range check passed: [0.0000, 1.0000] is within expected [0.0, 1.0].\n",
      "Dequantization check: Values seem plausibly dequantized (mean_residual=2.49e-01).\n",
      "Data preprocessing check passed successfully.\n",
      "----------------------------------------\n",
      "Solving ODE for batch 1...\n",
      "ODE solved for batch 1. Success: True\n",
      "Detected VE SDE (sigma_t=9.85). Prior variance=96.93.\n",
      "Batch 1 Avg: log_p_T=-10278.83, delta_log_p=-18594.05, log_p_0=-28872.88, NLL=28872.88\n",
      "\n",
      "--- Processing batch 2/16 ---\n",
      "Solving ODE for batch 2...\n",
      "ODE solved for batch 2. Success: True\n",
      "Batch 2 Avg: log_p_T=-10278.89, delta_log_p=-18573.34, log_p_0=-28852.23, NLL=28852.23\n",
      "\n",
      "--- Processing batch 3/16 ---\n",
      "Solving ODE for batch 3...\n",
      "ODE solved for batch 3. Success: True\n",
      "Batch 3 Avg: log_p_T=-10275.43, delta_log_p=-18852.30, log_p_0=-29127.72, NLL=29127.72\n",
      "\n",
      "--- Processing batch 4/16 ---\n",
      "Solving ODE for batch 4...\n",
      "ODE solved for batch 4. Success: True\n",
      "Batch 4 Avg: log_p_T=-10272.91, delta_log_p=-18853.16, log_p_0=-29126.07, NLL=29126.07\n",
      "\n",
      "--- Processing batch 5/16 ---\n",
      "Solving ODE for batch 5...\n",
      "ODE solved for batch 5. Success: True\n",
      "Batch 5 Avg: log_p_T=-10277.31, delta_log_p=-18507.30, log_p_0=-28784.61, NLL=28784.61\n",
      "\n",
      "--- Processing batch 6/16 ---\n",
      "Solving ODE for batch 6...\n",
      "ODE solved for batch 6. Success: True\n",
      "Batch 6 Avg: log_p_T=-10276.06, delta_log_p=-18823.04, log_p_0=-29099.10, NLL=29099.10\n",
      "\n",
      "--- Processing batch 7/16 ---\n",
      "Solving ODE for batch 7...\n",
      "ODE solved for batch 7. Success: True\n",
      "Batch 7 Avg: log_p_T=-10269.71, delta_log_p=-18856.32, log_p_0=-29126.03, NLL=29126.03\n",
      "\n",
      "--- Processing batch 8/16 ---\n",
      "Solving ODE for batch 8...\n",
      "ODE solved for batch 8. Success: True\n",
      "Batch 8 Avg: log_p_T=-10277.49, delta_log_p=-19016.50, log_p_0=-29293.99, NLL=29293.99\n",
      "\n",
      "--- Processing batch 9/16 ---\n",
      "Solving ODE for batch 9...\n",
      "ODE solved for batch 9. Success: True\n",
      "Batch 9 Avg: log_p_T=-10277.32, delta_log_p=-18482.23, log_p_0=-28759.54, NLL=28759.54\n",
      "\n",
      "--- Processing batch 10/16 ---\n",
      "Solving ODE for batch 10...\n",
      "ODE solved for batch 10. Success: True\n",
      "Batch 10 Avg: log_p_T=-10277.49, delta_log_p=-18699.80, log_p_0=-28977.29, NLL=28977.29\n",
      "\n",
      "--- Processing batch 11/16 ---\n",
      "Solving ODE for batch 11...\n",
      "ODE solved for batch 11. Success: True\n",
      "Batch 11 Avg: log_p_T=-10275.80, delta_log_p=-18656.01, log_p_0=-28931.81, NLL=28931.81\n",
      "\n",
      "--- Processing batch 12/16 ---\n",
      "Solving ODE for batch 12...\n",
      "ODE solved for batch 12. Success: True\n",
      "Batch 12 Avg: log_p_T=-10276.57, delta_log_p=-18739.10, log_p_0=-29015.68, NLL=29015.68\n",
      "\n",
      "--- Processing batch 13/16 ---\n",
      "Solving ODE for batch 13...\n",
      "ODE solved for batch 13. Success: True\n",
      "Batch 13 Avg: log_p_T=-10284.19, delta_log_p=-18716.74, log_p_0=-29000.93, NLL=29000.93\n",
      "\n",
      "--- Processing batch 14/16 ---\n",
      "Solving ODE for batch 14...\n",
      "ODE solved for batch 14. Success: True\n",
      "Batch 14 Avg: log_p_T=-10271.86, delta_log_p=-18689.57, log_p_0=-28961.43, NLL=28961.43\n",
      "\n",
      "--- Processing batch 15/16 ---\n",
      "Solving ODE for batch 15...\n",
      "ODE solved for batch 15. Success: True\n",
      "Batch 15 Avg: log_p_T=-10279.54, delta_log_p=-18492.23, log_p_0=-28771.77, NLL=28771.77\n",
      "\n",
      "--- Processing batch 16/16 ---\n",
      "Solving ODE for batch 16...\n",
      "ODE solved for batch 16. Success: True\n",
      "Batch 16 Avg: log_p_T=-10279.19, delta_log_p=-18541.21, log_p_0=-28820.41, NLL=28820.41\n",
      "\n",
      "Cálculo NLL finalizado.\n",
      "Average NLL (base e): 28973.6852\n"
     ]
    },
    {
     "data": {
      "text/markdown": [
       "### Bits Per Dimension (BPD): 13.6068"
      ],
      "text/plain": [
       "<IPython.core.display.Markdown object>"
      ]
     },
     "metadata": {},
     "output_type": "display_data"
    },
    {
     "name": "stdout",
     "output_type": "stream",
     "text": [
      "Generating images for IS...\n",
      "Shape of final generated images: torch.Size([200, 3, 32, 32])\n",
      "Calculating IS on device: cuda\n",
      "Loading Inception v3 model...\n",
      "Getting Inception predictions...\n"
     ]
    },
    {
     "data": {
      "application/vnd.jupyter.widget-view+json": {
       "model_id": "364946fb1a5841ddbca6771d0bd69143",
       "version_major": 2,
       "version_minor": 0
      },
      "text/plain": [
       "Getting Inception Predictions:   0%|          | 0/7 [00:00<?, ?it/s]"
      ]
     },
     "metadata": {},
     "output_type": "display_data"
    },
    {
     "name": "stdout",
     "output_type": "stream",
     "text": [
      "Calculating Inception Score using 200 images and 10 splits...\n"
     ]
    },
    {
     "data": {
      "text/markdown": [
       "### Inception Score calculado:"
      ],
      "text/plain": [
       "<IPython.core.display.Markdown object>"
      ]
     },
     "metadata": {},
     "output_type": "display_data"
    },
    {
     "data": {
      "text/markdown": [
       "### Media: 2.7104"
      ],
      "text/plain": [
       "<IPython.core.display.Markdown object>"
      ]
     },
     "metadata": {},
     "output_type": "display_data"
    },
    {
     "data": {
      "text/markdown": [
       "### Std Dev: 0.2111"
      ],
      "text/plain": [
       "<IPython.core.display.Markdown object>"
      ]
     },
     "metadata": {},
     "output_type": "display_data"
    },
    {
     "name": "stdout",
     "output_type": "stream",
     "text": [
      "  Procesando Modelo/SDE: VP_Linear (Ejecución 3)\n",
      "Inicializado VPSDE con Schedule Lineal (beta_min=0.1, beta_max=20.0)\n",
      "./checkpoints/scorenet_cifar10_VP_Linear_epoch_50.pth\n",
      "ScoreNet cargado desde ./checkpoints/scorenet_cifar10_VP_Linear_epoch_50.pth\n",
      "Checkpoint loaded successfully.\n",
      "Generando 100 imágenes sintéticas con VP_Linear para FID...\n",
      "Generando 100 muestras vía euler_maruyama_integrator (500 steps) en 4 lotes de tamaño 32...\n"
     ]
    },
    {
     "name": "stderr",
     "output_type": "stream",
     "text": [
      "Generando Muestras: 100%|██████████| 4/4 [01:35<00:00, 23.84s/it]\n"
     ]
    },
    {
     "name": "stdout",
     "output_type": "stream",
     "text": [
      "<generate_samples_for_fid> Forma final de salida: torch.Size([100, 3, 32, 32]) usando euler_maruyama_integrator\n",
      "Imágenes generadas. Tensor shape: torch.Size([100, 3, 32, 32])\n",
      "Preparando 100 imágenes reales aleatorias de CIFAR-10 para FID...\n",
      "Dataset CIFAR-10 test cargado. Tamaño total: 10000\n",
      "Seleccionando 100 imágenes reales al azar de CIFAR-10 test.\n",
      " Cargando 100 imágenes reales...\n"
     ]
    },
    {
     "name": "stderr",
     "output_type": "stream",
     "text": [
      "Cargando imágenes reales: 100%|██████████| 100/100 [00:00<00:00, 6678.83it/s]"
     ]
    },
    {
     "name": "stdout",
     "output_type": "stream",
     "text": [
      "Imágenes reales preparadas. Tensor shape: torch.Size([100, 3, 32, 32]), Device: cuda:0\n",
      "Creando DataLoaders para FID...\n",
      " Tensor de imágenes generadas movido a cuda.\n",
      " Tensor de imágenes reales movido a cuda.\n",
      "TensorDatasets creados. Tamaño real: 100, Tamaño generado: 100\n",
      "DataLoaders creados con batch_size=128.\n",
      "\n",
      "Calculando FID usando 100 imágenes reales y 100 generadas...\n"
     ]
    },
    {
     "name": "stderr",
     "output_type": "stream",
     "text": [
      "\n"
     ]
    },
    {
     "name": "stdout",
     "output_type": "stream",
     "text": [
      "Calculando estadísticas de activación para imágenes reales...\n",
      "Calculando estadísticas de activación para 100 muestras...\n"
     ]
    },
    {
     "name": "stderr",
     "output_type": "stream",
     "text": [
      "Calculando Activaciones: 100%|██████████| 100/100 [00:00<00:00, 260.72it/s]\n"
     ]
    },
    {
     "name": "stdout",
     "output_type": "stream",
     "text": [
      "Estadísticas calculadas. mu shape: (2048,), sigma shape: (2048, 2048)\n",
      "\n",
      "Calculando estadísticas de activación para imágenes generadas...\n",
      "Calculando estadísticas de activación para 100 muestras...\n"
     ]
    },
    {
     "name": "stderr",
     "output_type": "stream",
     "text": [
      "Calculando Activaciones: 100%|██████████| 100/100 [00:00<00:00, 257.75it/s]\n"
     ]
    },
    {
     "name": "stdout",
     "output_type": "stream",
     "text": [
      "Estadísticas calculadas. mu shape: (2048,), sigma shape: (2048, 2048)\n",
      "\n",
      "Calculando Distancia de Fréchet (FID)...\n"
     ]
    },
    {
     "data": {
      "text/markdown": [
       "### FID Score (VP_Linear): 203.2530"
      ],
      "text/plain": [
       "<IPython.core.display.Markdown object>"
      ]
     },
     "metadata": {},
     "output_type": "display_data"
    },
    {
     "name": "stdout",
     "output_type": "stream",
     "text": [
      "Full CIFAR-10 test set size: 10000\n",
      "Created subset with 1000 images (first half of test set).\n",
      "Image dimensions: C=3, H=32, W=32 => Total=3072\n",
      "\n",
      "Iniciando cálculo de NLL con compute_nll_scipy...\n",
      "Calculating NLL using scipy.integrate.solve_ivp (method=RK45). Dequantization enabled.\n"
     ]
    },
    {
     "data": {
      "application/vnd.jupyter.widget-view+json": {
       "model_id": "0499088b9f4f44e5b25ccd67cf12073b",
       "version_major": 2,
       "version_minor": 0
      },
      "text/plain": [
       "Calculating NLL:   0%|          | 0/16 [00:00<?, ?it/s]"
      ]
     },
     "metadata": {},
     "output_type": "display_data"
    },
    {
     "name": "stdout",
     "output_type": "stream",
     "text": [
      "\n",
      "--- Processing batch 1/16 ---\n",
      "Data dimensions detected: 3072\n",
      "Initial batch shape: torch.Size([64, 3, 32, 32])\n",
      "\n",
      "--- Checking first batch preprocessing ---\n",
      "Data range check passed: [0.0000, 1.0000] is within expected [0.0, 1.0].\n",
      "Dequantization check: Values seem plausibly dequantized (mean_residual=2.50e-01).\n",
      "Data preprocessing check passed successfully.\n",
      "----------------------------------------\n",
      "Solving ODE for batch 1...\n",
      "ODE solved for batch 1. Success: True\n",
      "Detected VP/SubVP SDE (sigma_t=1.00). Prior variance=1.0.\n",
      "Batch 1 Avg: log_p_T=-4305.48, delta_log_p=-13688.25, log_p_0=-17993.72, NLL=17993.72\n",
      "\n",
      "--- Processing batch 2/16 ---\n",
      "Solving ODE for batch 2...\n",
      "ODE solved for batch 2. Success: True\n",
      "Batch 2 Avg: log_p_T=-4302.54, delta_log_p=-13768.13, log_p_0=-18070.67, NLL=18070.67\n",
      "\n",
      "--- Processing batch 3/16 ---\n",
      "Solving ODE for batch 3...\n",
      "ODE solved for batch 3. Success: True\n",
      "Batch 3 Avg: log_p_T=-4305.61, delta_log_p=-13670.67, log_p_0=-17976.29, NLL=17976.29\n",
      "\n",
      "--- Processing batch 4/16 ---\n",
      "Solving ODE for batch 4...\n",
      "ODE solved for batch 4. Success: True\n",
      "Batch 4 Avg: log_p_T=-4309.59, delta_log_p=-13607.17, log_p_0=-17916.76, NLL=17916.76\n",
      "\n",
      "--- Processing batch 5/16 ---\n",
      "Solving ODE for batch 5...\n",
      "ODE solved for batch 5. Success: True\n",
      "Batch 5 Avg: log_p_T=-4308.99, delta_log_p=-13565.54, log_p_0=-17874.54, NLL=17874.54\n",
      "\n",
      "--- Processing batch 6/16 ---\n",
      "Solving ODE for batch 6...\n",
      "ODE solved for batch 6. Success: True\n",
      "Batch 6 Avg: log_p_T=-4304.03, delta_log_p=-13904.47, log_p_0=-18208.50, NLL=18208.50\n",
      "\n",
      "--- Processing batch 7/16 ---\n",
      "Solving ODE for batch 7...\n",
      "ODE solved for batch 7. Success: True\n",
      "Batch 7 Avg: log_p_T=-4311.74, delta_log_p=-13951.92, log_p_0=-18263.66, NLL=18263.66\n",
      "\n",
      "--- Processing batch 8/16 ---\n",
      "Solving ODE for batch 8...\n",
      "ODE solved for batch 8. Success: True\n",
      "Batch 8 Avg: log_p_T=-4310.88, delta_log_p=-13861.71, log_p_0=-18172.59, NLL=18172.59\n",
      "\n",
      "--- Processing batch 9/16 ---\n",
      "Solving ODE for batch 9...\n",
      "ODE solved for batch 9. Success: True\n",
      "Batch 9 Avg: log_p_T=-4292.35, delta_log_p=-13805.83, log_p_0=-18098.18, NLL=18098.18\n",
      "\n",
      "--- Processing batch 10/16 ---\n",
      "Solving ODE for batch 10...\n",
      "ODE solved for batch 10. Success: True\n",
      "Batch 10 Avg: log_p_T=-4300.53, delta_log_p=-13661.04, log_p_0=-17961.57, NLL=17961.57\n",
      "\n",
      "--- Processing batch 11/16 ---\n",
      "Solving ODE for batch 11...\n",
      "ODE solved for batch 11. Success: True\n",
      "Batch 11 Avg: log_p_T=-4304.39, delta_log_p=-13708.46, log_p_0=-18012.84, NLL=18012.84\n",
      "\n",
      "--- Processing batch 12/16 ---\n",
      "Solving ODE for batch 12...\n",
      "ODE solved for batch 12. Success: True\n",
      "Batch 12 Avg: log_p_T=-4307.22, delta_log_p=-13934.75, log_p_0=-18241.97, NLL=18241.97\n",
      "\n",
      "--- Processing batch 13/16 ---\n",
      "Solving ODE for batch 13...\n",
      "ODE solved for batch 13. Success: True\n",
      "Batch 13 Avg: log_p_T=-4296.50, delta_log_p=-13835.93, log_p_0=-18132.43, NLL=18132.43\n",
      "\n",
      "--- Processing batch 14/16 ---\n",
      "Solving ODE for batch 14...\n",
      "ODE solved for batch 14. Success: True\n",
      "Batch 14 Avg: log_p_T=-4316.82, delta_log_p=-13873.92, log_p_0=-18190.74, NLL=18190.74\n",
      "\n",
      "--- Processing batch 15/16 ---\n",
      "Solving ODE for batch 15...\n",
      "ODE solved for batch 15. Success: True\n",
      "Batch 15 Avg: log_p_T=-4306.40, delta_log_p=-13602.04, log_p_0=-17908.44, NLL=17908.44\n",
      "\n",
      "--- Processing batch 16/16 ---\n",
      "Solving ODE for batch 16...\n",
      "ODE solved for batch 16. Success: True\n",
      "Batch 16 Avg: log_p_T=-4293.02, delta_log_p=-13505.01, log_p_0=-17798.03, NLL=17798.03\n",
      "\n",
      "Cálculo NLL finalizado.\n",
      "Average NLL (base e): 18057.3865\n"
     ]
    },
    {
     "data": {
      "text/markdown": [
       "### Bits Per Dimension (BPD): 8.4802"
      ],
      "text/plain": [
       "<IPython.core.display.Markdown object>"
      ]
     },
     "metadata": {},
     "output_type": "display_data"
    },
    {
     "name": "stdout",
     "output_type": "stream",
     "text": [
      "Generating images for IS...\n",
      "Shape of final generated images: torch.Size([200, 3, 32, 32])\n",
      "Calculating IS on device: cuda\n",
      "Loading Inception v3 model...\n",
      "Getting Inception predictions...\n"
     ]
    },
    {
     "data": {
      "application/vnd.jupyter.widget-view+json": {
       "model_id": "41beb1f2bb7742359c405dba24ac2a6e",
       "version_major": 2,
       "version_minor": 0
      },
      "text/plain": [
       "Getting Inception Predictions:   0%|          | 0/7 [00:00<?, ?it/s]"
      ]
     },
     "metadata": {},
     "output_type": "display_data"
    },
    {
     "name": "stdout",
     "output_type": "stream",
     "text": [
      "Calculating Inception Score using 200 images and 10 splits...\n"
     ]
    },
    {
     "data": {
      "text/markdown": [
       "### Inception Score calculado:"
      ],
      "text/plain": [
       "<IPython.core.display.Markdown object>"
      ]
     },
     "metadata": {},
     "output_type": "display_data"
    },
    {
     "data": {
      "text/markdown": [
       "### Media: 3.1851"
      ],
      "text/plain": [
       "<IPython.core.display.Markdown object>"
      ]
     },
     "metadata": {},
     "output_type": "display_data"
    },
    {
     "data": {
      "text/markdown": [
       "### Std Dev: 0.3109"
      ],
      "text/plain": [
       "<IPython.core.display.Markdown object>"
      ]
     },
     "metadata": {},
     "output_type": "display_data"
    },
    {
     "name": "stdout",
     "output_type": "stream",
     "text": [
      "  Procesando Modelo/SDE: VP_Cosine (Ejecución 3)\n",
      "Inicializado VPSDE con Schedule Coseno (s=0.008)\n",
      "./checkpoints/scorenet_cifar10_VP_Cosine_epoch_100.pth\n",
      "ScoreNet cargado desde ./checkpoints/scorenet_cifar10_VP_Cosine_epoch_100.pth\n",
      "Checkpoint loaded successfully.\n",
      "Generando 100 imágenes sintéticas con VP_Cosine para FID...\n",
      "Generando 100 muestras vía euler_maruyama_integrator (500 steps) en 4 lotes de tamaño 32...\n"
     ]
    },
    {
     "name": "stderr",
     "output_type": "stream",
     "text": [
      "Generando Muestras: 100%|██████████| 4/4 [01:36<00:00, 24.22s/it]\n"
     ]
    },
    {
     "name": "stdout",
     "output_type": "stream",
     "text": [
      "<generate_samples_for_fid> Forma final de salida: torch.Size([100, 3, 32, 32]) usando euler_maruyama_integrator\n",
      "Imágenes generadas. Tensor shape: torch.Size([100, 3, 32, 32])\n",
      "Preparando 100 imágenes reales aleatorias de CIFAR-10 para FID...\n",
      "Dataset CIFAR-10 test cargado. Tamaño total: 10000\n",
      "Seleccionando 100 imágenes reales al azar de CIFAR-10 test.\n",
      " Cargando 100 imágenes reales...\n"
     ]
    },
    {
     "name": "stderr",
     "output_type": "stream",
     "text": [
      "Cargando imágenes reales: 100%|██████████| 100/100 [00:00<00:00, 4004.57it/s]"
     ]
    },
    {
     "name": "stdout",
     "output_type": "stream",
     "text": [
      "Imágenes reales preparadas. Tensor shape: torch.Size([100, 3, 32, 32]), Device: cuda:0\n",
      "Creando DataLoaders para FID...\n",
      " Tensor de imágenes generadas movido a cuda.\n",
      " Tensor de imágenes reales movido a cuda.\n",
      "TensorDatasets creados. Tamaño real: 100, Tamaño generado: 100\n",
      "DataLoaders creados con batch_size=128.\n",
      "\n",
      "Calculando FID usando 100 imágenes reales y 100 generadas...\n"
     ]
    },
    {
     "name": "stderr",
     "output_type": "stream",
     "text": [
      "\n"
     ]
    },
    {
     "name": "stdout",
     "output_type": "stream",
     "text": [
      "Calculando estadísticas de activación para imágenes reales...\n",
      "Calculando estadísticas de activación para 100 muestras...\n"
     ]
    },
    {
     "name": "stderr",
     "output_type": "stream",
     "text": [
      "Calculando Activaciones: 100%|██████████| 100/100 [00:00<00:00, 259.51it/s]\n"
     ]
    },
    {
     "name": "stdout",
     "output_type": "stream",
     "text": [
      "Estadísticas calculadas. mu shape: (2048,), sigma shape: (2048, 2048)\n",
      "\n",
      "Calculando estadísticas de activación para imágenes generadas...\n",
      "Calculando estadísticas de activación para 100 muestras...\n"
     ]
    },
    {
     "name": "stderr",
     "output_type": "stream",
     "text": [
      "Calculando Activaciones: 100%|██████████| 100/100 [00:00<00:00, 259.44it/s]\n"
     ]
    },
    {
     "name": "stdout",
     "output_type": "stream",
     "text": [
      "Estadísticas calculadas. mu shape: (2048,), sigma shape: (2048, 2048)\n",
      "\n",
      "Calculando Distancia de Fréchet (FID)...\n"
     ]
    },
    {
     "data": {
      "text/markdown": [
       "### FID Score (VP_Cosine): 324.6781"
      ],
      "text/plain": [
       "<IPython.core.display.Markdown object>"
      ]
     },
     "metadata": {},
     "output_type": "display_data"
    },
    {
     "name": "stdout",
     "output_type": "stream",
     "text": [
      "Full CIFAR-10 test set size: 10000\n",
      "Created subset with 1000 images (first half of test set).\n",
      "Image dimensions: C=3, H=32, W=32 => Total=3072\n",
      "\n",
      "Iniciando cálculo de NLL con compute_nll_scipy...\n",
      "Calculating NLL using scipy.integrate.solve_ivp (method=RK45). Dequantization enabled.\n"
     ]
    },
    {
     "data": {
      "application/vnd.jupyter.widget-view+json": {
       "model_id": "99944d484b8e4edc860deb7e9808264d",
       "version_major": 2,
       "version_minor": 0
      },
      "text/plain": [
       "Calculating NLL:   0%|          | 0/16 [00:00<?, ?it/s]"
      ]
     },
     "metadata": {},
     "output_type": "display_data"
    },
    {
     "name": "stdout",
     "output_type": "stream",
     "text": [
      "\n",
      "--- Processing batch 1/16 ---\n",
      "Data dimensions detected: 3072\n",
      "Initial batch shape: torch.Size([64, 3, 32, 32])\n",
      "\n",
      "--- Checking first batch preprocessing ---\n",
      "Data range check passed: [0.0000, 1.0000] is within expected [0.0, 1.0].\n",
      "Dequantization check: Values seem plausibly dequantized (mean_residual=2.50e-01).\n",
      "Data preprocessing check passed successfully.\n",
      "----------------------------------------\n",
      "Solving ODE for batch 1...\n",
      "ODE solved for batch 1. Success: True\n",
      "Detected VP/SubVP SDE (sigma_t=1.00). Prior variance=1.0.\n",
      "Batch 1 Avg: log_p_T=-3518.79, delta_log_p=-12206.08, log_p_0=-15724.87, NLL=15724.87\n",
      "\n",
      "--- Processing batch 2/16 ---\n",
      "Solving ODE for batch 2...\n",
      "ODE solved for batch 2. Success: True\n",
      "Batch 2 Avg: log_p_T=-3531.59, delta_log_p=-12271.07, log_p_0=-15802.65, NLL=15802.65\n",
      "\n",
      "--- Processing batch 3/16 ---\n",
      "Solving ODE for batch 3...\n",
      "ODE solved for batch 3. Success: True\n",
      "Batch 3 Avg: log_p_T=-3550.23, delta_log_p=-12296.37, log_p_0=-15846.59, NLL=15846.59\n",
      "\n",
      "--- Processing batch 4/16 ---\n",
      "Solving ODE for batch 4...\n",
      "ODE solved for batch 4. Success: True\n",
      "Batch 4 Avg: log_p_T=-3530.49, delta_log_p=-12183.54, log_p_0=-15714.03, NLL=15714.03\n",
      "\n",
      "--- Processing batch 5/16 ---\n",
      "Solving ODE for batch 5...\n",
      "ODE solved for batch 5. Success: True\n",
      "Batch 5 Avg: log_p_T=-3521.71, delta_log_p=-11909.26, log_p_0=-15430.97, NLL=15430.97\n",
      "\n",
      "--- Processing batch 6/16 ---\n",
      "Solving ODE for batch 6...\n",
      "ODE solved for batch 6. Success: True\n",
      "Batch 6 Avg: log_p_T=-3512.47, delta_log_p=-12138.55, log_p_0=-15651.01, NLL=15651.01\n",
      "\n",
      "--- Processing batch 7/16 ---\n",
      "Solving ODE for batch 7...\n",
      "ODE solved for batch 7. Success: True\n",
      "Batch 7 Avg: log_p_T=-3552.36, delta_log_p=-12127.56, log_p_0=-15679.92, NLL=15679.92\n",
      "\n",
      "--- Processing batch 8/16 ---\n",
      "Solving ODE for batch 8...\n",
      "ODE solved for batch 8. Success: True\n",
      "Batch 8 Avg: log_p_T=-3536.37, delta_log_p=-12000.40, log_p_0=-15536.76, NLL=15536.76\n",
      "\n",
      "--- Processing batch 9/16 ---\n",
      "Solving ODE for batch 9...\n",
      "ODE solved for batch 9. Success: True\n",
      "Batch 9 Avg: log_p_T=-3526.85, delta_log_p=-12228.92, log_p_0=-15755.77, NLL=15755.77\n",
      "\n",
      "--- Processing batch 10/16 ---\n",
      "Solving ODE for batch 10...\n",
      "ODE solved for batch 10. Success: True\n",
      "Batch 10 Avg: log_p_T=-3517.50, delta_log_p=-12240.64, log_p_0=-15758.14, NLL=15758.14\n",
      "\n",
      "--- Processing batch 11/16 ---\n",
      "Solving ODE for batch 11...\n",
      "ODE solved for batch 11. Success: True\n",
      "Batch 11 Avg: log_p_T=-3521.51, delta_log_p=-12261.00, log_p_0=-15782.52, NLL=15782.52\n",
      "\n",
      "--- Processing batch 12/16 ---\n",
      "Solving ODE for batch 12...\n",
      "ODE solved for batch 12. Success: True\n",
      "Batch 12 Avg: log_p_T=-3524.53, delta_log_p=-12064.14, log_p_0=-15588.67, NLL=15588.67\n",
      "\n",
      "--- Processing batch 13/16 ---\n",
      "Solving ODE for batch 13...\n",
      "ODE solved for batch 13. Success: True\n",
      "Batch 13 Avg: log_p_T=-3525.70, delta_log_p=-11925.27, log_p_0=-15450.97, NLL=15450.97\n",
      "\n",
      "--- Processing batch 14/16 ---\n",
      "Solving ODE for batch 14...\n",
      "ODE solved for batch 14. Success: True\n",
      "Batch 14 Avg: log_p_T=-3522.19, delta_log_p=-11971.22, log_p_0=-15493.41, NLL=15493.41\n",
      "\n",
      "--- Processing batch 15/16 ---\n",
      "Solving ODE for batch 15...\n",
      "ODE solved for batch 15. Success: True\n",
      "Batch 15 Avg: log_p_T=-3522.16, delta_log_p=-12384.06, log_p_0=-15906.22, NLL=15906.22\n",
      "\n",
      "--- Processing batch 16/16 ---\n",
      "Solving ODE for batch 16...\n",
      "ODE solved for batch 16. Success: True\n",
      "Batch 16 Avg: log_p_T=-3544.78, delta_log_p=-12532.03, log_p_0=-16076.81, NLL=16076.81\n",
      "\n",
      "Cálculo NLL finalizado.\n",
      "Average NLL (base e): 15690.9128\n"
     ]
    },
    {
     "data": {
      "text/markdown": [
       "### Bits Per Dimension (BPD): 7.3689"
      ],
      "text/plain": [
       "<IPython.core.display.Markdown object>"
      ]
     },
     "metadata": {},
     "output_type": "display_data"
    },
    {
     "name": "stdout",
     "output_type": "stream",
     "text": [
      "Generating images for IS...\n",
      "Shape of final generated images: torch.Size([200, 3, 32, 32])\n",
      "Calculating IS on device: cuda\n",
      "Loading Inception v3 model...\n",
      "Getting Inception predictions...\n"
     ]
    },
    {
     "data": {
      "application/vnd.jupyter.widget-view+json": {
       "model_id": "678a68b3682a4d5fb10314ad78812079",
       "version_major": 2,
       "version_minor": 0
      },
      "text/plain": [
       "Getting Inception Predictions:   0%|          | 0/7 [00:00<?, ?it/s]"
      ]
     },
     "metadata": {},
     "output_type": "display_data"
    },
    {
     "name": "stdout",
     "output_type": "stream",
     "text": [
      "Calculating Inception Score using 200 images and 10 splits...\n"
     ]
    },
    {
     "data": {
      "text/markdown": [
       "### Inception Score calculado:"
      ],
      "text/plain": [
       "<IPython.core.display.Markdown object>"
      ]
     },
     "metadata": {},
     "output_type": "display_data"
    },
    {
     "data": {
      "text/markdown": [
       "### Media: 1.6961"
      ],
      "text/plain": [
       "<IPython.core.display.Markdown object>"
      ]
     },
     "metadata": {},
     "output_type": "display_data"
    },
    {
     "data": {
      "text/markdown": [
       "### Std Dev: 0.1285"
      ],
      "text/plain": [
       "<IPython.core.display.Markdown object>"
      ]
     },
     "metadata": {},
     "output_type": "display_data"
    },
    {
     "name": "stdout",
     "output_type": "stream",
     "text": [
      "  Procesando Modelo/SDE: SubVP_Linear (Ejecución 3)\n",
      "Inicializado SubVPSDE con Schedule Lineal (beta_min=0.1, beta_max=20.0)\n",
      "./checkpoints/scorenet_cifar10_SubVP_Linear_epoch_130.pth\n",
      "ScoreNet cargado desde ./checkpoints/scorenet_cifar10_SubVP_Linear_epoch_130.pth\n",
      "Checkpoint loaded successfully.\n",
      "Generando 100 imágenes sintéticas con SubVP_Linear para FID...\n",
      "Generando 100 muestras vía euler_maruyama_integrator (500 steps) en 4 lotes de tamaño 32...\n"
     ]
    },
    {
     "name": "stderr",
     "output_type": "stream",
     "text": [
      "Generando Muestras: 100%|██████████| 4/4 [01:36<00:00, 24.15s/it]\n"
     ]
    },
    {
     "name": "stdout",
     "output_type": "stream",
     "text": [
      "<generate_samples_for_fid> Forma final de salida: torch.Size([100, 3, 32, 32]) usando euler_maruyama_integrator\n",
      "Imágenes generadas. Tensor shape: torch.Size([100, 3, 32, 32])\n",
      "Preparando 100 imágenes reales aleatorias de CIFAR-10 para FID...\n",
      "Dataset CIFAR-10 test cargado. Tamaño total: 10000\n",
      "Seleccionando 100 imágenes reales al azar de CIFAR-10 test.\n",
      " Cargando 100 imágenes reales...\n"
     ]
    },
    {
     "name": "stderr",
     "output_type": "stream",
     "text": [
      "Cargando imágenes reales: 100%|██████████| 100/100 [00:00<00:00, 5730.55it/s]"
     ]
    },
    {
     "name": "stdout",
     "output_type": "stream",
     "text": [
      "Imágenes reales preparadas. Tensor shape: torch.Size([100, 3, 32, 32]), Device: cuda:0\n",
      "Creando DataLoaders para FID...\n",
      " Tensor de imágenes generadas movido a cuda.\n",
      " Tensor de imágenes reales movido a cuda.\n",
      "TensorDatasets creados. Tamaño real: 100, Tamaño generado: 100\n",
      "DataLoaders creados con batch_size=128.\n",
      "\n",
      "Calculando FID usando 100 imágenes reales y 100 generadas...\n"
     ]
    },
    {
     "name": "stderr",
     "output_type": "stream",
     "text": [
      "\n"
     ]
    },
    {
     "name": "stdout",
     "output_type": "stream",
     "text": [
      "Calculando estadísticas de activación para imágenes reales...\n",
      "Calculando estadísticas de activación para 100 muestras...\n"
     ]
    },
    {
     "name": "stderr",
     "output_type": "stream",
     "text": [
      "Calculando Activaciones: 100%|██████████| 100/100 [00:00<00:00, 261.08it/s]\n"
     ]
    },
    {
     "name": "stdout",
     "output_type": "stream",
     "text": [
      "Estadísticas calculadas. mu shape: (2048,), sigma shape: (2048, 2048)\n",
      "\n",
      "Calculando estadísticas de activación para imágenes generadas...\n",
      "Calculando estadísticas de activación para 100 muestras...\n"
     ]
    },
    {
     "name": "stderr",
     "output_type": "stream",
     "text": [
      "Calculando Activaciones: 100%|██████████| 100/100 [00:00<00:00, 259.05it/s]\n"
     ]
    },
    {
     "name": "stdout",
     "output_type": "stream",
     "text": [
      "Estadísticas calculadas. mu shape: (2048,), sigma shape: (2048, 2048)\n",
      "\n",
      "Calculando Distancia de Fréchet (FID)...\n"
     ]
    },
    {
     "data": {
      "text/markdown": [
       "### FID Score (SubVP_Linear): 192.9997"
      ],
      "text/plain": [
       "<IPython.core.display.Markdown object>"
      ]
     },
     "metadata": {},
     "output_type": "display_data"
    },
    {
     "name": "stdout",
     "output_type": "stream",
     "text": [
      "Full CIFAR-10 test set size: 10000\n",
      "Created subset with 1000 images (first half of test set).\n",
      "Image dimensions: C=3, H=32, W=32 => Total=3072\n",
      "\n",
      "Iniciando cálculo de NLL con compute_nll_scipy...\n",
      "Calculating NLL using scipy.integrate.solve_ivp (method=RK45). Dequantization enabled.\n"
     ]
    },
    {
     "data": {
      "application/vnd.jupyter.widget-view+json": {
       "model_id": "22e424dee3f04214a8376ce2e4d05fa0",
       "version_major": 2,
       "version_minor": 0
      },
      "text/plain": [
       "Calculating NLL:   0%|          | 0/16 [00:00<?, ?it/s]"
      ]
     },
     "metadata": {},
     "output_type": "display_data"
    },
    {
     "name": "stdout",
     "output_type": "stream",
     "text": [
      "\n",
      "--- Processing batch 1/16 ---\n",
      "Data dimensions detected: 3072\n",
      "Initial batch shape: torch.Size([64, 3, 32, 32])\n",
      "\n",
      "--- Checking first batch preprocessing ---\n",
      "Data range check passed: [0.0000, 1.0000] is within expected [0.0, 1.0].\n",
      "Dequantization check: Values seem plausibly dequantized (mean_residual=2.50e-01).\n",
      "Data preprocessing check passed successfully.\n",
      "----------------------------------------\n",
      "Solving ODE for batch 1...\n",
      "ODE solved for batch 1. Success: True\n",
      "Detected VP/SubVP SDE (sigma_t=1.00). Prior variance=1.0.\n",
      "Batch 1 Avg: log_p_T=-2847.39, delta_log_p=-1836.76, log_p_0=-4684.15, NLL=4684.15\n",
      "\n",
      "--- Processing batch 2/16 ---\n",
      "Solving ODE for batch 2...\n",
      "ODE solved for batch 2. Success: True\n",
      "Batch 2 Avg: log_p_T=-2847.02, delta_log_p=-1860.85, log_p_0=-4707.87, NLL=4707.87\n",
      "\n",
      "--- Processing batch 3/16 ---\n",
      "Solving ODE for batch 3...\n",
      "ODE solved for batch 3. Success: True\n",
      "Batch 3 Avg: log_p_T=-2846.19, delta_log_p=-1885.85, log_p_0=-4732.04, NLL=4732.04\n",
      "\n",
      "--- Processing batch 4/16 ---\n",
      "Solving ODE for batch 4...\n",
      "ODE solved for batch 4. Success: True\n",
      "Batch 4 Avg: log_p_T=-2847.36, delta_log_p=-1823.19, log_p_0=-4670.55, NLL=4670.55\n",
      "\n",
      "--- Processing batch 5/16 ---\n",
      "Solving ODE for batch 5...\n",
      "ODE solved for batch 5. Success: True\n",
      "Batch 5 Avg: log_p_T=-2845.92, delta_log_p=-1852.97, log_p_0=-4698.89, NLL=4698.89\n",
      "\n",
      "--- Processing batch 6/16 ---\n",
      "Solving ODE for batch 6...\n",
      "ODE solved for batch 6. Success: True\n",
      "Batch 6 Avg: log_p_T=-2847.50, delta_log_p=-1850.10, log_p_0=-4697.60, NLL=4697.60\n",
      "\n",
      "--- Processing batch 7/16 ---\n",
      "Solving ODE for batch 7...\n",
      "ODE solved for batch 7. Success: True\n",
      "Batch 7 Avg: log_p_T=-2848.49, delta_log_p=-1847.13, log_p_0=-4695.62, NLL=4695.62\n",
      "\n",
      "--- Processing batch 8/16 ---\n",
      "Solving ODE for batch 8...\n",
      "ODE solved for batch 8. Success: True\n",
      "Batch 8 Avg: log_p_T=-2847.45, delta_log_p=-1845.37, log_p_0=-4692.81, NLL=4692.81\n",
      "\n",
      "--- Processing batch 9/16 ---\n",
      "Solving ODE for batch 9...\n",
      "ODE solved for batch 9. Success: True\n",
      "Batch 9 Avg: log_p_T=-2845.80, delta_log_p=-1845.16, log_p_0=-4690.96, NLL=4690.96\n",
      "\n",
      "--- Processing batch 10/16 ---\n",
      "Solving ODE for batch 10...\n",
      "ODE solved for batch 10. Success: True\n",
      "Batch 10 Avg: log_p_T=-2847.78, delta_log_p=-1851.06, log_p_0=-4698.84, NLL=4698.84\n",
      "\n",
      "--- Processing batch 11/16 ---\n",
      "Solving ODE for batch 11...\n",
      "ODE solved for batch 11. Success: True\n",
      "Batch 11 Avg: log_p_T=-2846.45, delta_log_p=-1855.45, log_p_0=-4701.90, NLL=4701.90\n",
      "\n",
      "--- Processing batch 12/16 ---\n",
      "Solving ODE for batch 12...\n",
      "ODE solved for batch 12. Success: True\n",
      "Batch 12 Avg: log_p_T=-2844.27, delta_log_p=-1884.66, log_p_0=-4728.93, NLL=4728.93\n",
      "\n",
      "--- Processing batch 13/16 ---\n",
      "Solving ODE for batch 13...\n",
      "ODE solved for batch 13. Success: True\n",
      "Batch 13 Avg: log_p_T=-2846.32, delta_log_p=-1818.63, log_p_0=-4664.95, NLL=4664.95\n",
      "\n",
      "--- Processing batch 14/16 ---\n",
      "Solving ODE for batch 14...\n",
      "ODE solved for batch 14. Success: True\n",
      "Batch 14 Avg: log_p_T=-2846.91, delta_log_p=-1847.22, log_p_0=-4694.13, NLL=4694.13\n",
      "\n",
      "--- Processing batch 15/16 ---\n",
      "Solving ODE for batch 15...\n",
      "ODE solved for batch 15. Success: True\n",
      "Batch 15 Avg: log_p_T=-2847.24, delta_log_p=-1831.05, log_p_0=-4678.30, NLL=4678.30\n",
      "\n",
      "--- Processing batch 16/16 ---\n",
      "Solving ODE for batch 16...\n",
      "ODE solved for batch 16. Success: True\n",
      "Batch 16 Avg: log_p_T=-2847.49, delta_log_p=-1832.04, log_p_0=-4679.54, NLL=4679.54\n",
      "\n",
      "Cálculo NLL finalizado.\n",
      "Average NLL (base e): 4695.1850\n"
     ]
    },
    {
     "data": {
      "text/markdown": [
       "### Bits Per Dimension (BPD): 2.2050"
      ],
      "text/plain": [
       "<IPython.core.display.Markdown object>"
      ]
     },
     "metadata": {},
     "output_type": "display_data"
    },
    {
     "name": "stdout",
     "output_type": "stream",
     "text": [
      "Generating images for IS...\n",
      "Shape of final generated images: torch.Size([200, 3, 32, 32])\n",
      "Calculating IS on device: cuda\n",
      "Loading Inception v3 model...\n",
      "Getting Inception predictions...\n"
     ]
    },
    {
     "data": {
      "application/vnd.jupyter.widget-view+json": {
       "model_id": "971f58480f3b40dabd227925cff3da50",
       "version_major": 2,
       "version_minor": 0
      },
      "text/plain": [
       "Getting Inception Predictions:   0%|          | 0/7 [00:00<?, ?it/s]"
      ]
     },
     "metadata": {},
     "output_type": "display_data"
    },
    {
     "name": "stdout",
     "output_type": "stream",
     "text": [
      "Calculating Inception Score using 200 images and 10 splits...\n"
     ]
    },
    {
     "data": {
      "text/markdown": [
       "### Inception Score calculado:"
      ],
      "text/plain": [
       "<IPython.core.display.Markdown object>"
      ]
     },
     "metadata": {},
     "output_type": "display_data"
    },
    {
     "data": {
      "text/markdown": [
       "### Media: 3.7557"
      ],
      "text/plain": [
       "<IPython.core.display.Markdown object>"
      ]
     },
     "metadata": {},
     "output_type": "display_data"
    },
    {
     "data": {
      "text/markdown": [
       "### Std Dev: 0.4326"
      ],
      "text/plain": [
       "<IPython.core.display.Markdown object>"
      ]
     },
     "metadata": {},
     "output_type": "display_data"
    },
    {
     "name": "stdout",
     "output_type": "stream",
     "text": [
      "  Procesando Modelo/SDE: SubVP_Cosine (Ejecución 3)\n",
      "Inicializado SubVPSDE con Schedule Coseno (s=0.008)\n",
      "./checkpoints/scorenet_cifar10_SubVP_Cosine_epoch_20.pth\n",
      "ScoreNet cargado desde ./checkpoints/scorenet_cifar10_SubVP_Cosine_epoch_20.pth\n",
      "Checkpoint loaded successfully.\n",
      "Generando 100 imágenes sintéticas con SubVP_Cosine para FID...\n",
      "Generando 100 muestras vía euler_maruyama_integrator (500 steps) en 4 lotes de tamaño 32...\n"
     ]
    },
    {
     "name": "stderr",
     "output_type": "stream",
     "text": [
      "Generando Muestras: 100%|██████████| 4/4 [01:36<00:00, 24.22s/it]\n"
     ]
    },
    {
     "name": "stdout",
     "output_type": "stream",
     "text": [
      "<generate_samples_for_fid> Forma final de salida: torch.Size([100, 3, 32, 32]) usando euler_maruyama_integrator\n",
      "Imágenes generadas. Tensor shape: torch.Size([100, 3, 32, 32])\n",
      "Preparando 100 imágenes reales aleatorias de CIFAR-10 para FID...\n",
      "Dataset CIFAR-10 test cargado. Tamaño total: 10000\n",
      "Seleccionando 100 imágenes reales al azar de CIFAR-10 test.\n",
      " Cargando 100 imágenes reales...\n"
     ]
    },
    {
     "name": "stderr",
     "output_type": "stream",
     "text": [
      "Cargando imágenes reales: 100%|██████████| 100/100 [00:00<00:00, 5244.78it/s]"
     ]
    },
    {
     "name": "stdout",
     "output_type": "stream",
     "text": [
      "Imágenes reales preparadas. Tensor shape: torch.Size([100, 3, 32, 32]), Device: cuda:0\n",
      "Creando DataLoaders para FID...\n",
      " Tensor de imágenes generadas movido a cuda.\n",
      " Tensor de imágenes reales movido a cuda.\n",
      "TensorDatasets creados. Tamaño real: 100, Tamaño generado: 100\n",
      "DataLoaders creados con batch_size=128.\n",
      "\n",
      "Calculando FID usando 100 imágenes reales y 100 generadas...\n"
     ]
    },
    {
     "name": "stderr",
     "output_type": "stream",
     "text": [
      "\n"
     ]
    },
    {
     "name": "stdout",
     "output_type": "stream",
     "text": [
      "Calculando estadísticas de activación para imágenes reales...\n",
      "Calculando estadísticas de activación para 100 muestras...\n"
     ]
    },
    {
     "name": "stderr",
     "output_type": "stream",
     "text": [
      "Calculando Activaciones: 100%|██████████| 100/100 [00:00<00:00, 258.41it/s]\n"
     ]
    },
    {
     "name": "stdout",
     "output_type": "stream",
     "text": [
      "Estadísticas calculadas. mu shape: (2048,), sigma shape: (2048, 2048)\n",
      "\n",
      "Calculando estadísticas de activación para imágenes generadas...\n",
      "Calculando estadísticas de activación para 100 muestras...\n"
     ]
    },
    {
     "name": "stderr",
     "output_type": "stream",
     "text": [
      "Calculando Activaciones: 100%|██████████| 100/100 [00:00<00:00, 257.15it/s]\n"
     ]
    },
    {
     "name": "stdout",
     "output_type": "stream",
     "text": [
      "Estadísticas calculadas. mu shape: (2048,), sigma shape: (2048, 2048)\n",
      "\n",
      "Calculando Distancia de Fréchet (FID)...\n"
     ]
    },
    {
     "data": {
      "text/markdown": [
       "### FID Score (SubVP_Cosine): 354.3462"
      ],
      "text/plain": [
       "<IPython.core.display.Markdown object>"
      ]
     },
     "metadata": {},
     "output_type": "display_data"
    },
    {
     "name": "stdout",
     "output_type": "stream",
     "text": [
      "Full CIFAR-10 test set size: 10000\n",
      "Created subset with 1000 images (first half of test set).\n",
      "Image dimensions: C=3, H=32, W=32 => Total=3072\n",
      "\n",
      "Iniciando cálculo de NLL con compute_nll_scipy...\n",
      "Calculating NLL using scipy.integrate.solve_ivp (method=RK45). Dequantization enabled.\n"
     ]
    },
    {
     "data": {
      "application/vnd.jupyter.widget-view+json": {
       "model_id": "8195d30df22b47bcbdc520f3cb200dbb",
       "version_major": 2,
       "version_minor": 0
      },
      "text/plain": [
       "Calculating NLL:   0%|          | 0/16 [00:00<?, ?it/s]"
      ]
     },
     "metadata": {},
     "output_type": "display_data"
    },
    {
     "name": "stdout",
     "output_type": "stream",
     "text": [
      "\n",
      "--- Processing batch 1/16 ---\n",
      "Data dimensions detected: 3072\n",
      "Initial batch shape: torch.Size([64, 3, 32, 32])\n",
      "\n",
      "--- Checking first batch preprocessing ---\n",
      "Data range check passed: [0.0000, 1.0000] is within expected [0.0, 1.0].\n",
      "Dequantization check: Values seem plausibly dequantized (mean_residual=2.49e-01).\n",
      "Data preprocessing check passed successfully.\n",
      "----------------------------------------\n",
      "Solving ODE for batch 1...\n",
      "ODE solved for batch 1. Success: True\n",
      "Detected VP/SubVP SDE (sigma_t=1.00). Prior variance=1.0.\n",
      "Batch 1 Avg: log_p_T=-3034.18, delta_log_p=-601.78, log_p_0=-3635.96, NLL=3635.96\n",
      "\n",
      "--- Processing batch 2/16 ---\n",
      "Solving ODE for batch 2...\n",
      "ODE solved for batch 2. Success: True\n",
      "Batch 2 Avg: log_p_T=-3035.84, delta_log_p=-596.89, log_p_0=-3632.73, NLL=3632.73\n",
      "\n",
      "--- Processing batch 3/16 ---\n",
      "Solving ODE for batch 3...\n",
      "ODE solved for batch 3. Success: True\n",
      "Batch 3 Avg: log_p_T=-3030.44, delta_log_p=-605.66, log_p_0=-3636.10, NLL=3636.10\n",
      "\n",
      "--- Processing batch 4/16 ---\n",
      "Solving ODE for batch 4...\n",
      "ODE solved for batch 4. Success: True\n",
      "Batch 4 Avg: log_p_T=-3013.47, delta_log_p=-622.00, log_p_0=-3635.47, NLL=3635.47\n",
      "\n",
      "--- Processing batch 5/16 ---\n",
      "Solving ODE for batch 5...\n",
      "ODE solved for batch 5. Success: True\n",
      "Batch 5 Avg: log_p_T=-3024.43, delta_log_p=-617.59, log_p_0=-3642.03, NLL=3642.03\n",
      "\n",
      "--- Processing batch 6/16 ---\n",
      "Solving ODE for batch 6...\n",
      "ODE solved for batch 6. Success: True\n",
      "Batch 6 Avg: log_p_T=-3040.37, delta_log_p=-591.22, log_p_0=-3631.60, NLL=3631.60\n",
      "\n",
      "--- Processing batch 7/16 ---\n",
      "Solving ODE for batch 7...\n",
      "ODE solved for batch 7. Success: True\n",
      "Batch 7 Avg: log_p_T=-3027.45, delta_log_p=-614.19, log_p_0=-3641.64, NLL=3641.64\n",
      "\n",
      "--- Processing batch 8/16 ---\n",
      "Solving ODE for batch 8...\n",
      "ODE solved for batch 8. Success: True\n",
      "Batch 8 Avg: log_p_T=-3028.06, delta_log_p=-608.65, log_p_0=-3636.71, NLL=3636.71\n",
      "\n",
      "--- Processing batch 9/16 ---\n",
      "Solving ODE for batch 9...\n",
      "ODE solved for batch 9. Success: True\n",
      "Batch 9 Avg: log_p_T=-3025.53, delta_log_p=-604.82, log_p_0=-3630.34, NLL=3630.34\n",
      "\n",
      "--- Processing batch 10/16 ---\n",
      "Solving ODE for batch 10...\n",
      "ODE solved for batch 10. Success: True\n",
      "Batch 10 Avg: log_p_T=-3049.91, delta_log_p=-596.43, log_p_0=-3646.34, NLL=3646.34\n",
      "\n",
      "--- Processing batch 11/16 ---\n",
      "Solving ODE for batch 11...\n",
      "ODE solved for batch 11. Success: True\n",
      "Batch 11 Avg: log_p_T=-3024.47, delta_log_p=-604.36, log_p_0=-3628.83, NLL=3628.83\n",
      "\n",
      "--- Processing batch 12/16 ---\n",
      "Solving ODE for batch 12...\n",
      "ODE solved for batch 12. Success: True\n",
      "Batch 12 Avg: log_p_T=-3032.17, delta_log_p=-609.00, log_p_0=-3641.17, NLL=3641.17\n",
      "\n",
      "--- Processing batch 13/16 ---\n",
      "Solving ODE for batch 13...\n",
      "ODE solved for batch 13. Success: True\n",
      "Batch 13 Avg: log_p_T=-3041.51, delta_log_p=-600.97, log_p_0=-3642.47, NLL=3642.47\n",
      "\n",
      "--- Processing batch 14/16 ---\n",
      "Solving ODE for batch 14...\n",
      "ODE solved for batch 14. Success: True\n",
      "Batch 14 Avg: log_p_T=-3005.92, delta_log_p=-618.89, log_p_0=-3624.81, NLL=3624.81\n",
      "\n",
      "--- Processing batch 15/16 ---\n",
      "Solving ODE for batch 15...\n",
      "ODE solved for batch 15. Success: True\n",
      "Batch 15 Avg: log_p_T=-3024.72, delta_log_p=-614.41, log_p_0=-3639.13, NLL=3639.13\n",
      "\n",
      "--- Processing batch 16/16 ---\n",
      "Solving ODE for batch 16...\n",
      "ODE solved for batch 16. Success: True\n",
      "Batch 16 Avg: log_p_T=-3022.02, delta_log_p=-611.74, log_p_0=-3633.76, NLL=3633.76\n",
      "\n",
      "Cálculo NLL finalizado.\n",
      "Average NLL (base e): 3636.2521\n"
     ]
    },
    {
     "data": {
      "text/markdown": [
       "### Bits Per Dimension (BPD): 1.7077"
      ],
      "text/plain": [
       "<IPython.core.display.Markdown object>"
      ]
     },
     "metadata": {},
     "output_type": "display_data"
    },
    {
     "name": "stdout",
     "output_type": "stream",
     "text": [
      "Generating images for IS...\n",
      "Shape of final generated images: torch.Size([200, 3, 32, 32])\n",
      "Calculating IS on device: cuda\n",
      "Loading Inception v3 model...\n",
      "Getting Inception predictions...\n"
     ]
    },
    {
     "data": {
      "application/vnd.jupyter.widget-view+json": {
       "model_id": "8728cf818f0e4c5bb9aaab611f5b37ec",
       "version_major": 2,
       "version_minor": 0
      },
      "text/plain": [
       "Getting Inception Predictions:   0%|          | 0/7 [00:00<?, ?it/s]"
      ]
     },
     "metadata": {},
     "output_type": "display_data"
    },
    {
     "name": "stdout",
     "output_type": "stream",
     "text": [
      "Calculating Inception Score using 200 images and 10 splits...\n"
     ]
    },
    {
     "data": {
      "text/markdown": [
       "### Inception Score calculado:"
      ],
      "text/plain": [
       "<IPython.core.display.Markdown object>"
      ]
     },
     "metadata": {},
     "output_type": "display_data"
    },
    {
     "data": {
      "text/markdown": [
       "### Media: 1.4377"
      ],
      "text/plain": [
       "<IPython.core.display.Markdown object>"
      ]
     },
     "metadata": {},
     "output_type": "display_data"
    },
    {
     "data": {
      "text/markdown": [
       "### Std Dev: 0.1005"
      ],
      "text/plain": [
       "<IPython.core.display.Markdown object>"
      ]
     },
     "metadata": {},
     "output_type": "display_data"
    },
    {
     "name": "stdout",
     "output_type": "stream",
     "text": [
      "\n",
      "--- INICIANDO EJECUCIÓN 4/5 ---\n",
      "  Procesando Modelo/SDE: VE (Ejecución 4)\n",
      "Inicializado VESDE (sigma_min=0.01, sigma_max=50.0, sigma=25.0)\n",
      "./checkpoints/scorenet_cifar10_VE_epoch_200.pth\n",
      "ScoreNet cargado desde ./checkpoints/scorenet_cifar10_VE_epoch_200.pth\n",
      "Checkpoint loaded successfully.\n",
      "Generando 100 imágenes sintéticas con VE para FID...\n",
      "Generando 100 muestras vía euler_maruyama_integrator (500 steps) en 4 lotes de tamaño 32...\n"
     ]
    },
    {
     "name": "stderr",
     "output_type": "stream",
     "text": [
      "Generando Muestras: 100%|██████████| 4/4 [01:35<00:00, 23.88s/it]\n"
     ]
    },
    {
     "name": "stdout",
     "output_type": "stream",
     "text": [
      "<generate_samples_for_fid> Forma final de salida: torch.Size([100, 3, 32, 32]) usando euler_maruyama_integrator\n",
      "Imágenes generadas. Tensor shape: torch.Size([100, 3, 32, 32])\n",
      "Preparando 100 imágenes reales aleatorias de CIFAR-10 para FID...\n",
      "Dataset CIFAR-10 test cargado. Tamaño total: 10000\n",
      "Seleccionando 100 imágenes reales al azar de CIFAR-10 test.\n",
      " Cargando 100 imágenes reales...\n"
     ]
    },
    {
     "name": "stderr",
     "output_type": "stream",
     "text": [
      "Cargando imágenes reales: 100%|██████████| 100/100 [00:00<00:00, 5983.40it/s]"
     ]
    },
    {
     "name": "stdout",
     "output_type": "stream",
     "text": [
      "Imágenes reales preparadas. Tensor shape: torch.Size([100, 3, 32, 32]), Device: cuda:0\n",
      "Creando DataLoaders para FID...\n",
      " Tensor de imágenes generadas movido a cuda.\n",
      " Tensor de imágenes reales movido a cuda.\n",
      "TensorDatasets creados. Tamaño real: 100, Tamaño generado: 100\n",
      "DataLoaders creados con batch_size=128.\n",
      "\n",
      "Calculando FID usando 100 imágenes reales y 100 generadas...\n"
     ]
    },
    {
     "name": "stderr",
     "output_type": "stream",
     "text": [
      "\n"
     ]
    },
    {
     "name": "stdout",
     "output_type": "stream",
     "text": [
      "Calculando estadísticas de activación para imágenes reales...\n",
      "Calculando estadísticas de activación para 100 muestras...\n"
     ]
    },
    {
     "name": "stderr",
     "output_type": "stream",
     "text": [
      "Calculando Activaciones: 100%|██████████| 100/100 [00:00<00:00, 258.63it/s]\n"
     ]
    },
    {
     "name": "stdout",
     "output_type": "stream",
     "text": [
      "Estadísticas calculadas. mu shape: (2048,), sigma shape: (2048, 2048)\n",
      "\n",
      "Calculando estadísticas de activación para imágenes generadas...\n",
      "Calculando estadísticas de activación para 100 muestras...\n"
     ]
    },
    {
     "name": "stderr",
     "output_type": "stream",
     "text": [
      "Calculando Activaciones: 100%|██████████| 100/100 [00:00<00:00, 258.07it/s]\n"
     ]
    },
    {
     "name": "stdout",
     "output_type": "stream",
     "text": [
      "Estadísticas calculadas. mu shape: (2048,), sigma shape: (2048, 2048)\n",
      "\n",
      "Calculando Distancia de Fréchet (FID)...\n"
     ]
    },
    {
     "data": {
      "text/markdown": [
       "### FID Score (VE): 266.0325"
      ],
      "text/plain": [
       "<IPython.core.display.Markdown object>"
      ]
     },
     "metadata": {},
     "output_type": "display_data"
    },
    {
     "name": "stdout",
     "output_type": "stream",
     "text": [
      "Full CIFAR-10 test set size: 10000\n",
      "Created subset with 1000 images (first half of test set).\n",
      "Image dimensions: C=3, H=32, W=32 => Total=3072\n",
      "\n",
      "Iniciando cálculo de NLL con compute_nll_scipy...\n",
      "Calculating NLL using scipy.integrate.solve_ivp (method=RK45). Dequantization enabled.\n"
     ]
    },
    {
     "data": {
      "application/vnd.jupyter.widget-view+json": {
       "model_id": "0594046b9cee4b139428ba8c2e0f2ba0",
       "version_major": 2,
       "version_minor": 0
      },
      "text/plain": [
       "Calculating NLL:   0%|          | 0/16 [00:00<?, ?it/s]"
      ]
     },
     "metadata": {},
     "output_type": "display_data"
    },
    {
     "name": "stdout",
     "output_type": "stream",
     "text": [
      "\n",
      "--- Processing batch 1/16 ---\n",
      "Data dimensions detected: 3072\n",
      "Initial batch shape: torch.Size([64, 3, 32, 32])\n",
      "\n",
      "--- Checking first batch preprocessing ---\n",
      "Data range check passed: [0.0000, 1.0000] is within expected [0.0, 1.0].\n",
      "Dequantization check: Values seem plausibly dequantized (mean_residual=2.50e-01).\n",
      "Data preprocessing check passed successfully.\n",
      "----------------------------------------\n",
      "Solving ODE for batch 1...\n",
      "ODE solved for batch 1. Success: True\n",
      "Detected VE SDE (sigma_t=9.85). Prior variance=96.93.\n",
      "Batch 1 Avg: log_p_T=-10280.43, delta_log_p=-18651.47, log_p_0=-28931.90, NLL=28931.90\n",
      "\n",
      "--- Processing batch 2/16 ---\n",
      "Solving ODE for batch 2...\n",
      "ODE solved for batch 2. Success: True\n",
      "Batch 2 Avg: log_p_T=-10278.92, delta_log_p=-18583.57, log_p_0=-28862.49, NLL=28862.49\n",
      "\n",
      "--- Processing batch 3/16 ---\n",
      "Solving ODE for batch 3...\n",
      "ODE solved for batch 3. Success: True\n",
      "Batch 3 Avg: log_p_T=-10272.05, delta_log_p=-18808.53, log_p_0=-29080.58, NLL=29080.58\n",
      "\n",
      "--- Processing batch 4/16 ---\n",
      "Solving ODE for batch 4...\n",
      "ODE solved for batch 4. Success: True\n",
      "Batch 4 Avg: log_p_T=-10271.37, delta_log_p=-18958.07, log_p_0=-29229.44, NLL=29229.44\n",
      "\n",
      "--- Processing batch 5/16 ---\n",
      "Solving ODE for batch 5...\n",
      "ODE solved for batch 5. Success: True\n",
      "Batch 5 Avg: log_p_T=-10278.34, delta_log_p=-18940.83, log_p_0=-29219.17, NLL=29219.17\n",
      "\n",
      "--- Processing batch 6/16 ---\n",
      "Solving ODE for batch 6...\n",
      "ODE solved for batch 6. Success: True\n",
      "Batch 6 Avg: log_p_T=-10274.75, delta_log_p=-18892.01, log_p_0=-29166.76, NLL=29166.76\n",
      "\n",
      "--- Processing batch 7/16 ---\n",
      "Solving ODE for batch 7...\n",
      "ODE solved for batch 7. Success: True\n",
      "Batch 7 Avg: log_p_T=-10284.20, delta_log_p=-18582.10, log_p_0=-28866.29, NLL=28866.29\n",
      "\n",
      "--- Processing batch 8/16 ---\n",
      "Solving ODE for batch 8...\n",
      "ODE solved for batch 8. Success: True\n",
      "Batch 8 Avg: log_p_T=-10275.02, delta_log_p=-18571.28, log_p_0=-28846.30, NLL=28846.30\n",
      "\n",
      "--- Processing batch 9/16 ---\n",
      "Solving ODE for batch 9...\n",
      "ODE solved for batch 9. Success: True\n",
      "Batch 9 Avg: log_p_T=-10275.31, delta_log_p=-18852.94, log_p_0=-29128.25, NLL=29128.25\n",
      "\n",
      "--- Processing batch 10/16 ---\n",
      "Solving ODE for batch 10...\n",
      "ODE solved for batch 10. Success: True\n",
      "Batch 10 Avg: log_p_T=-10275.12, delta_log_p=-18915.20, log_p_0=-29190.32, NLL=29190.32\n",
      "\n",
      "--- Processing batch 11/16 ---\n",
      "Solving ODE for batch 11...\n"
     ]
    }
   ],
   "source": [
    "import statistics # Para calcular media, mediana y desviación estándar\n",
    "import pandas as pd # Para crear la tabla resumen\n",
    "\n",
    "# --- Parámetros de Ejecución ---\n",
    "lista_models = ['VE', 'VP_Linear', 'VP_Cosine', 'SubVP_Linear', 'SubVP_Cosine']\n",
    "num_runs = 5  # Número de veces que se repetirá el cálculo (ajusta según necesidad, 3 para prueba rápida)\n",
    "\n",
    "all_runs_results = {model_name: {\n",
    "                        'fid_scores': [],\n",
    "                        'bdp_scores': [],\n",
    "                        'mean_is_scores': [],\n",
    "                        'std_is_scores': []\n",
    "                      } for model_name in lista_models}\n",
    "\n",
    "# --- Bucle principal para múltiples ejecuciones ---\n",
    "for run_idx in range(num_runs):\n",
    "    print(f\"\\n--- INICIANDO EJECUCIÓN {run_idx + 1}/{num_runs} ---\")\n",
    "    for model_type_current in lista_models:\n",
    "        print(f\"  Procesando Modelo/SDE: {model_type_current} (Ejecución {run_idx + 1})\")\n",
    "        if model_type_current == 'VE':\n",
    "            sde_instance, score_model = sde_schedule_and_model(model_type_current, SIGMA_MIN, SIGMA_MAX, SIGMA, BETA_MIN, BETA_MAX, T_END, SCHEDULE_S, DEVICE)\n",
    "        else:\n",
    "            sde_instance, _schedule_val, score_model = sde_schedule_and_model(model_type_current, SIGMA_MIN, SIGMA_MAX, SIGMA, BETA_MIN, BETA_MAX, T_END, SCHEDULE_S, DEVICE)\n",
    "\n",
    "        fid_score = fid_cifar10(sde_instance, score_model, SAMPLER_FOR_FID, N_FID_SAMPLES, GEN_BATCH_SIZE_FID, IMG_CHANNELS, IMG_SIZE, T, t_final, model_type_current, SAMPLER_N_STEPS, DEVICE)\n",
    "        bdp_score = bdp_cifar(sde_instance, score_model, NUM_WORKERS, IMG_CHANNELS, IMG_SIZE, DEVICE, partition_subset=10)\n",
    "        mean_score, std_score = is_metric(sde_instance, score_model, T, DEVICE, BATCH_SIZE, IS_SPLITS)\n",
    "\n",
    "        # print(f\"    Resultados para {model_type_current} (Ejecución {run_idx + 1}):\") # Opcional, para no saturar la salida\n",
    "        # print(f\"      FID Score: {fid_score:.4f}\")\n",
    "        # print(f\"      BDP Score: {bdp_score:.4f}\")\n",
    "        # print(f\"      Mean IS: {mean_score:.4f}\")\n",
    "        # print(f\"      Std IS: {std_score:.4f}\")\n",
    "\n",
    "        all_runs_results[model_type_current]['fid_scores'].append(fid_score)\n",
    "        all_runs_results[model_type_current]['bdp_scores'].append(bdp_score)\n",
    "        all_runs_results[model_type_current]['mean_is_scores'].append(mean_score)\n",
    "        all_runs_results[model_type_current]['std_is_scores'].append(std_score)\n",
    "\n",
    "# --- Calcular y mostrar estadísticas (media, mediana y desviación estándar) ---\n",
    "print(\"\\n\\n--- ESTADÍSTICAS DETALLADAS POR MODELO ---\")\n",
    "final_summary_stats = {}\n",
    "\n",
    "for model_name, scores_dict in all_runs_results.items():\n",
    "    print(f\"\\nModelo: {model_name}\")\n",
    "    final_summary_stats[model_name] = {}\n",
    "\n",
    "    metrics_to_process = {\n",
    "        'FID': scores_dict['fid_scores'],\n",
    "        'BDP': scores_dict['bdp_scores'],\n",
    "        'Mean IS': scores_dict['mean_is_scores'],\n",
    "        'Std IS': scores_dict['std_is_scores']\n",
    "    }\n",
    "\n",
    "    for metric_name, scores in metrics_to_process.items():\n",
    "        if scores:\n",
    "            mean_val = statistics.mean(scores)\n",
    "            median_val = statistics.median(scores)\n",
    "            std_dev_val = statistics.stdev(scores) if len(scores) > 1 else 0.0 # stdev necesita al menos 2 puntos\n",
    "\n",
    "            final_summary_stats[model_name][metric_name] = {\n",
    "                'mean': mean_val,\n",
    "                'median': median_val,\n",
    "                'stdev': std_dev_val,\n",
    "                'all_runs': scores # Guardamos todas las ejecuciones también\n",
    "            }\n",
    "            print(f\"  {metric_name}:\")\n",
    "            print(f\"    Todas las ejecuciones: {[float(f'{s:.4f}') for s in scores]}\")\n",
    "            print(f\"    Media    : {mean_val:.4f}\")\n",
    "            print(f\"    Mediana  : {median_val:.4f}\")\n",
    "            print(f\"    Std. Dev.: {std_dev_val:.4f}\")\n",
    "        else:\n",
    "            print(f\"  {metric_name}: No hay datos.\")\n",
    "            final_summary_stats[model_name][metric_name] = {\n",
    "                'mean': float('nan'), 'median': float('nan'), 'stdev': float('nan'), 'all_runs': []\n",
    "            }\n",
    "\n",
    "\n",
    "# --- Crear y mostrar la tabla resumen con Pandas ---\n",
    "print(\"\\n\\n--- TABLA RESUMEN DE MÉTRICAS (MEDIA, MEDIANA, STD.DEV.) ---\")\n",
    "\n",
    "table_data = []\n",
    "for model_name in lista_models: # Usar lista_models para mantener el orden\n",
    "    stats = final_summary_stats[model_name]\n",
    "    row = {'Modelo': model_name}\n",
    "    for metric_key, metric_name_display in [('FID', 'FID'), ('BDP', 'BDP'), ('Mean IS', 'Mean IS'), ('Std IS', 'Std IS')]:\n",
    "        row[f'{metric_name_display} (Media)'] = stats.get(metric_key, {}).get('mean', float('nan'))\n",
    "        row[f'{metric_name_display} (Mediana)'] = stats.get(metric_key, {}).get('median', float('nan'))\n",
    "        row[f'{metric_name_display} (StdDev)'] = stats.get(metric_key, {}).get('stdev', float('nan'))\n",
    "    table_data.append(row)\n",
    "\n",
    "df_summary = pd.DataFrame(table_data)\n",
    "df_summary.to_csv(f'resumen_metricas{num_runs}.csv', index=False)\n",
    "\n",
    "# Configurar Pandas para mostrar floats con 4 decimales para esta tabla\n",
    "pd.set_option('display.float_format', lambda x: f'{x:.4f}' if pd.notnull(x) else 'NaN')\n",
    "\n",
    "# Reordenar columnas para una mejor presentación si es necesario (opcional)\n",
    "column_order = ['Modelo']\n",
    "for metric_name_display in ['FID', 'BDP', 'Mean IS', 'Std IS']:\n",
    "    column_order.append(f'{metric_name_display} (Media)')\n",
    "    column_order.append(f'{metric_name_display} (Mediana)')\n",
    "    column_order.append(f'{metric_name_display} (StdDev)')\n",
    "df_summary = df_summary[column_order]\n",
    "\n",
    "\n",
    "print(df_summary.to_string(index=False))\n",
    "\n",
    "print(\"\\n\\n--- FIN DEL SCRIPT ---\")"
   ]
  },
  {
   "cell_type": "code",
   "execution_count": null,
   "metadata": {
    "colab": {
     "base_uri": "https://localhost:8080/",
     "height": 1000
    },
    "executionInfo": {
     "elapsed": 3928,
     "status": "ok",
     "timestamp": 1746953126685,
     "user": {
      "displayName": "Jose Jose",
      "userId": "07208489832841318381"
     },
     "user_tz": -120
    },
    "id": "ZCoUdtmvgQuh",
    "outputId": "de2166ed-4aa0-4bd9-bece-99ead2f5429d"
   },
   "outputs": [
    {
     "name": "stdout",
     "output_type": "stream",
     "text": [
      "\n",
      "\n",
      "--- ESTADÍSTICAS DETALLADAS POR MODELO (BASADAS EN DATOS DEL LOG) ---\n",
      "\n",
      "Modelo: VE\n",
      "  FID: (basado en 4 ejecuciones)\n",
      "    Media    : 255.2652\n",
      "    Mediana  : 252.6632\n",
      "    Std. Dev.: 7.4887\n",
      "  BPD: (basado en 3 ejecuciones)\n",
      "    Media    : 13.6272\n",
      "    Mediana  : 13.6319\n",
      "    Std. Dev.: 0.0185\n",
      "  Mean IS: (basado en 3 ejecuciones)\n",
      "    Media    : 2.6978\n",
      "    Mediana  : 2.7104\n",
      "    Std. Dev.: 0.1214\n",
      "  Std Dev IS (de IS): (basado en 3 ejecuciones)\n",
      "    Media    : 0.2982\n",
      "    Mediana  : 0.3211\n",
      "    Std. Dev.: 0.0782\n",
      "\n",
      "Modelo: VP_Linear\n",
      "  FID: (basado en 3 ejecuciones)\n",
      "    Media    : 210.2821\n",
      "    Mediana  : 213.6222\n",
      "    Std. Dev.: 6.0898\n",
      "  BPD: (basado en 3 ejecuciones)\n",
      "    Media    : 8.4500\n",
      "    Mediana  : 8.4514\n",
      "    Std. Dev.: 0.0309\n",
      "  Mean IS: (basado en 3 ejecuciones)\n",
      "    Media    : 3.3394\n",
      "    Mediana  : 3.4131\n",
      "    Std. Dev.: 0.1337\n",
      "  Std Dev IS (de IS): (basado en 3 ejecuciones)\n",
      "    Media    : 0.4062\n",
      "    Mediana  : 0.4451\n",
      "    Std. Dev.: 0.0830\n",
      "\n",
      "Modelo: VP_Cosine\n",
      "  FID: (basado en 3 ejecuciones)\n",
      "    Media    : 318.4739\n",
      "    Mediana  : 319.9435\n",
      "    Std. Dev.: 7.0547\n",
      "  BPD: (basado en 3 ejecuciones)\n",
      "    Media    : 7.3844\n",
      "    Mediana  : 7.3756\n",
      "    Std. Dev.: 0.0213\n",
      "  Mean IS: (basado en 3 ejecuciones)\n",
      "    Media    : 1.6509\n",
      "    Mediana  : 1.6475\n",
      "    Std. Dev.: 0.0436\n",
      "  Std Dev IS (de IS): (basado en 3 ejecuciones)\n",
      "    Media    : 0.1189\n",
      "    Mediana  : 0.1285\n",
      "    Std. Dev.: 0.0181\n",
      "\n",
      "Modelo: SubVP_Linear\n",
      "  FID: (basado en 3 ejecuciones)\n",
      "    Media    : 193.8164\n",
      "    Mediana  : 192.9997\n",
      "    Std. Dev.: 4.6121\n",
      "  BPD: (basado en 3 ejecuciones)\n",
      "    Media    : 2.2059\n",
      "    Mediana  : 2.2059\n",
      "    Std. Dev.: 0.0009\n",
      "  Mean IS: (basado en 3 ejecuciones)\n",
      "    Media    : 3.7203\n",
      "    Mediana  : 3.7557\n",
      "    Std. Dev.: 0.1510\n",
      "  Std Dev IS (de IS): (basado en 3 ejecuciones)\n",
      "    Media    : 0.4008\n",
      "    Mediana  : 0.4326\n",
      "    Std. Dev.: 0.1215\n",
      "\n",
      "Modelo: SubVP_Cosine\n",
      "  FID: (basado en 3 ejecuciones)\n",
      "    Media    : 361.7243\n",
      "    Mediana  : 357.5323\n",
      "    Std. Dev.: 10.1458\n",
      "  BPD: (basado en 3 ejecuciones)\n",
      "    Media    : 1.7083\n",
      "    Mediana  : 1.7086\n",
      "    Std. Dev.: 0.0005\n",
      "  Mean IS: (basado en 3 ejecuciones)\n",
      "    Media    : 1.4214\n",
      "    Mediana  : 1.4197\n",
      "    Std. Dev.: 0.0155\n",
      "  Std Dev IS (de IS): (basado en 3 ejecuciones)\n",
      "    Media    : 0.0896\n",
      "    Mediana  : 0.0909\n",
      "    Std. Dev.: 0.0116\n",
      "\n",
      "\n",
      "--- GENERANDO GRÁFICOS DE VIOLÍN ---\n"
     ]
    },
    {
     "name": "stderr",
     "output_type": "stream",
     "text": [
      "<ipython-input-7-d0760ba3a726>:113: FutureWarning: \n",
      "\n",
      "Passing `palette` without assigning `hue` is deprecated and will be removed in v0.14.0. Assign the `x` variable to `hue` and set `legend=False` for the same effect.\n",
      "\n",
      "  sns.violinplot(x='Modelo', y='Valor', data=metric_subset_df, palette='Pastel1',\n"
     ]
    },
    {
     "name": "stdout",
     "output_type": "stream",
     "text": [
      "  Gráfico de violín guardado como: fid_score_violinplot.png\n"
     ]
    },
    {
     "name": "stderr",
     "output_type": "stream",
     "text": [
      "<ipython-input-7-d0760ba3a726>:113: FutureWarning: \n",
      "\n",
      "Passing `palette` without assigning `hue` is deprecated and will be removed in v0.14.0. Assign the `x` variable to `hue` and set `legend=False` for the same effect.\n",
      "\n",
      "  sns.violinplot(x='Modelo', y='Valor', data=metric_subset_df, palette='Pastel1',\n"
     ]
    },
    {
     "name": "stdout",
     "output_type": "stream",
     "text": [
      "  Gráfico de violín guardado como: bits_per_dimension_bpd_violinplot.png\n"
     ]
    },
    {
     "name": "stderr",
     "output_type": "stream",
     "text": [
      "<ipython-input-7-d0760ba3a726>:113: FutureWarning: \n",
      "\n",
      "Passing `palette` without assigning `hue` is deprecated and will be removed in v0.14.0. Assign the `x` variable to `hue` and set `legend=False` for the same effect.\n",
      "\n",
      "  sns.violinplot(x='Modelo', y='Valor', data=metric_subset_df, palette='Pastel1',\n"
     ]
    },
    {
     "name": "stdout",
     "output_type": "stream",
     "text": [
      "  Gráfico de violín guardado como: inception_score_media_violinplot.png\n"
     ]
    },
    {
     "name": "stderr",
     "output_type": "stream",
     "text": [
      "<ipython-input-7-d0760ba3a726>:113: FutureWarning: \n",
      "\n",
      "Passing `palette` without assigning `hue` is deprecated and will be removed in v0.14.0. Assign the `x` variable to `hue` and set `legend=False` for the same effect.\n",
      "\n",
      "  sns.violinplot(x='Modelo', y='Valor', data=metric_subset_df, palette='Pastel1',\n"
     ]
    },
    {
     "name": "stdout",
     "output_type": "stream",
     "text": [
      "  Gráfico de violín guardado como: inception_score_std_dev_interna_violinplot.png\n",
      "\n",
      "\n",
      "--- TABLA RESUMEN COMPACTA DE MÉTRICAS ---\n",
      "      Modelo            FID Score Bits Per Dimension (BPD) Inception Score (Media) Inception Score (Std. Dev. interna)\n",
      "          VE  255.27 ± 7.49 (N=4)       13.63 ± 0.02 (N=3)       2.70 ± 0.12 (N=3)                   0.30 ± 0.08 (N=3)\n",
      "   VP_Linear  210.28 ± 6.09 (N=3)        8.45 ± 0.03 (N=3)       3.34 ± 0.13 (N=3)                   0.41 ± 0.08 (N=3)\n",
      "   VP_Cosine  318.47 ± 7.05 (N=3)        7.38 ± 0.02 (N=3)       1.65 ± 0.04 (N=3)                   0.12 ± 0.02 (N=3)\n",
      "SubVP_Linear  193.82 ± 4.61 (N=3)        2.21 ± 0.00 (N=3)       3.72 ± 0.15 (N=3)                   0.40 ± 0.12 (N=3)\n",
      "SubVP_Cosine 361.72 ± 10.15 (N=3)        1.71 ± 0.00 (N=3)       1.42 ± 0.02 (N=3)                   0.09 ± 0.01 (N=3)\n",
      "\n",
      "\n",
      "--- FIN DEL SCRIPT ---\n"
     ]
    },
    {
     "data": {
      "image/png": "[encoded data removed]",
      "text/plain": [
       "<Figure size 1200x700 with 1 Axes>"
      ]
     },
     "metadata": {},
     "output_type": "display_data"
    },
    {
     "data": {
      "image/png": "[encoded data removed]",
      "text/plain": [
       "<Figure size 1200x700 with 1 Axes>"
      ]
     },
     "metadata": {},
     "output_type": "display_data"
    },
    {
     "data": {
      "image/png": "[encoded data removed]",
      "text/plain": [
       "<Figure size 1200x700 with 1 Axes>"
      ]
     },
     "metadata": {},
     "output_type": "display_data"
    },
    {
     "data": {
      "image/png": "[encoded data removed]",
      "text/plain": [
       "<Figure size 1200x700 with 1 Axes>"
      ]
     },
     "metadata": {},
     "output_type": "display_data"
    }
   ],
   "source": [
    "import statistics # Para calcular media, mediana y desviación estándar\n",
    "import pandas as pd # Para crear la tabla resumen\n",
    "import matplotlib.pyplot as plt # Para gráficos\n",
    "import seaborn as sns # Para gráficos más estéticos\n",
    "\n",
    "lista_models = ['VE', 'VP_Linear', 'VP_Cosine', 'SubVP_Linear', 'SubVP_Cosine']\n",
    "\n",
    "all_runs_results = {\n",
    "    'VE': {\n",
    "        'fid_scores': [250.6865, 249.7017, 254.6399, 266.0325],\n",
    "        'bdp_scores': [13.6319, 13.6430, 13.6068],\n",
    "        'mean_is_scores': [2.8125, 2.5706, 2.7104],\n",
    "        'std_is_scores': [0.3625, 0.3211, 0.2111]\n",
    "    },\n",
    "    'VP_Linear': {\n",
    "        'fid_scores': [213.9710, 213.6222, 203.2530],\n",
    "        'bdp_scores': [8.4185, 8.4514, 8.4802],\n",
    "        'mean_is_scores': [3.4131, 3.4200, 3.1851],\n",
    "        'std_is_scores': [0.4451, 0.4625, 0.3109]\n",
    "    },\n",
    "    'VP_Cosine': {\n",
    "        'fid_scores': [310.8002, 319.9435, 324.6781],\n",
    "        'bdp_scores': [7.4086, 7.3756, 7.3689],\n",
    "        'mean_is_scores': [1.6091, 1.6475, 1.6961],\n",
    "        'std_is_scores': [0.0980, 0.1302, 0.1285]\n",
    "    },\n",
    "    'SubVP_Linear': {\n",
    "        'fid_scores': [189.6672, 198.7822, 192.9997],\n",
    "        'bdp_scores': [2.2068, 2.2059, 2.2050],\n",
    "        'mean_is_scores': [3.8505, 3.5548, 3.7557],\n",
    "        'std_is_scores': [0.5033, 0.2666, 0.4326]\n",
    "    },\n",
    "    'SubVP_Cosine': {\n",
    "        'fid_scores': [357.5323, 373.2943, 354.3462],\n",
    "        'bdp_scores': [1.7086, 1.7086, 1.7077],\n",
    "        'mean_is_scores': [1.4197, 1.4068, 1.4377],\n",
    "        'std_is_scores': [0.0909, 0.0774, 0.1005]\n",
    "    }\n",
    "}\n",
    "\n",
    "# --- Calcular estadísticas (media, mediana y desviación estándar) ---\n",
    "print(\"\\n\\n--- ESTADÍSTICAS DETALLADAS POR MODELO (BASADAS EN DATOS DEL LOG) ---\")\n",
    "final_summary_stats = {}\n",
    "\n",
    "for model_name in lista_models: # Asegurar el orden\n",
    "    scores_dict = all_runs_results.get(model_name, {})\n",
    "    print(f\"\\nModelo: {model_name}\")\n",
    "    final_summary_stats[model_name] = {}\n",
    "\n",
    "    metrics_to_process = {\n",
    "        'FID': scores_dict.get('fid_scores', []),\n",
    "        'BPD': scores_dict.get('bdp_scores', []), # Bits Per Dimension\n",
    "        'Mean IS': scores_dict.get('mean_is_scores', []), # Inception Score (Media)\n",
    "        'Std Dev IS (de IS)': scores_dict.get('std_is_scores', []) # Variabilidad interna de IS\n",
    "    }\n",
    "\n",
    "    for metric_name, scores in metrics_to_process.items():\n",
    "        if scores:\n",
    "            mean_val = statistics.mean(scores)\n",
    "            median_val = statistics.median(scores)\n",
    "            std_dev_val = statistics.stdev(scores) if len(scores) > 1 else float('nan')\n",
    "\n",
    "            final_summary_stats[model_name][metric_name] = {\n",
    "                'mean': mean_val,\n",
    "                'median': median_val,\n",
    "                'stdev': std_dev_val,\n",
    "                'num_runs': len(scores),\n",
    "                'all_runs': scores\n",
    "            }\n",
    "            print(f\"  {metric_name}: (basado en {len(scores)} ejecuciones)\")\n",
    "            # print(f\"    Todas las ejecuciones: {[float(f'{s:.4f}') for s in scores]}\") # Descomentar para ver todos los valores\n",
    "            print(f\"    Media    : {mean_val:.4f}\")\n",
    "            print(f\"    Mediana  : {median_val:.4f}\")\n",
    "            if not pd.isna(std_dev_val):\n",
    "                print(f\"    Std. Dev.: {std_dev_val:.4f}\")\n",
    "            else:\n",
    "                print(f\"    Std. Dev.: N/A (datos insuficientes)\")\n",
    "        else:\n",
    "            print(f\"  {metric_name}: No hay datos.\")\n",
    "            final_summary_stats[model_name][metric_name] = {\n",
    "                'mean': float('nan'), 'median': float('nan'), 'stdev': float('nan'),\n",
    "                'num_runs': 0, 'all_runs': []\n",
    "            }\n",
    "\n",
    "# --- Generación de Gráficos (Violin Plots) ---\n",
    "print(\"\\n\\n--- GENERANDO GRÁFICOS DE VIOLÍN ---\")\n",
    "metrics_for_plotting = {\n",
    "    'FID Score': 'FID',\n",
    "    'Bits Per Dimension (BPD)': 'BPD',\n",
    "    'Inception Score (Media)': 'Mean IS',\n",
    "    'Inception Score (Std. Dev. interna)': 'Std Dev IS (de IS)'\n",
    "}\n",
    "# Preparar datos para plotting en formato largo\n",
    "plot_data_list = []\n",
    "for model_name, model_metrics_summary in final_summary_stats.items(): # Corregido para iterar sobre final_summary_stats\n",
    "    for display_name, internal_key in metrics_for_plotting.items():\n",
    "        if internal_key in model_metrics_summary and model_metrics_summary[internal_key]['all_runs']:\n",
    "            for score in model_metrics_summary[internal_key]['all_runs']:\n",
    "                plot_data_list.append({\n",
    "                    'Modelo': model_name,\n",
    "                    'Métrica': display_name,\n",
    "                    'Valor': score\n",
    "                })\n",
    "df_plot = pd.DataFrame(plot_data_list)\n",
    "\n",
    "# Crear un violin plot para cada métrica\n",
    "for metric_display_name in metrics_for_plotting.keys():\n",
    "    plt.figure(figsize=(12, 7)) # Ajustar tamaño para mejor visualización\n",
    "    metric_subset_df = df_plot[df_plot['Métrica'] == metric_display_name]\n",
    "    if not metric_subset_df.empty:\n",
    "        # Violin plot\n",
    "        sns.violinplot(x='Modelo', y='Valor', data=metric_subset_df, palette='Pastel1',\n",
    "                       inner='quartile', # Muestra los cuartiles dentro del violín (alternativas: 'box', 'point', 'stick', None)\n",
    "                       cut=0) # Evita que los violines se extiendan más allá de los datos extremos\n",
    "\n",
    "        # Superponer puntos individuales para mayor claridad\n",
    "        sns.stripplot(x='Modelo', y='Valor', data=metric_subset_df, color='dimgray', # Un color oscuro para los puntos\n",
    "                      jitter=0.08, # Pequeña dispersión horizontal\n",
    "                      size=6,      # Tamaño de los puntos\n",
    "                      alpha=0.8)   # Transparencia de los puntos\n",
    "\n",
    "        plt.title(f'Distribución de {metric_display_name} por Modelo', fontsize=16, pad=20)\n",
    "        plt.ylabel(metric_display_name, fontsize=14, labelpad=15)\n",
    "        plt.xlabel('Modelo', fontsize=14, labelpad=15)\n",
    "        plt.xticks(rotation=45, ha=\"right\", fontsize=11)\n",
    "        plt.yticks(fontsize=11)\n",
    "        plt.grid(True, linestyle=':', alpha=0.5) # Cuadrícula más sutil\n",
    "        plt.tight_layout()\n",
    "\n",
    "        filename_base = metric_display_name.lower().replace(' ', '_').replace('(', '').replace(')', '').replace('.', '').replace('/', '_')\n",
    "        filename = f\"{filename_base}_violinplot.png\"\n",
    "        try:\n",
    "            plt.savefig(filename, dpi=150)\n",
    "            print(f\"  Gráfico de violín guardado como: {filename}\")\n",
    "        except Exception as e:\n",
    "            print(f\"  Error al guardar el gráfico {filename}: {e}\")\n",
    "\n",
    "        # plt.show() # Descomentar si quieres que se muestren interactivamente\n",
    "    else:\n",
    "        print(f\"  No hay datos suficientes para graficar {metric_display_name}.\")\n",
    "\n",
    "# --- Crear y mostrar la TABLA RESUMEN COMPACTA con Pandas ---\n",
    "print(\"\\n\\n--- TABLA RESUMEN COMPACTA DE MÉTRICAS ---\")\n",
    "\n",
    "compact_table_data = []\n",
    "for model_name in lista_models:\n",
    "    model_stats = final_summary_stats.get(model_name, {})\n",
    "    row = {'Modelo': model_name}\n",
    "\n",
    "    for display_name, internal_key in metrics_for_plotting.items():\n",
    "        stats = model_stats.get(internal_key, {})\n",
    "        mean_val = stats.get('mean', float('nan'))\n",
    "        stdev_val = stats.get('stdev', float('nan'))\n",
    "        n_runs = stats.get('num_runs', 0)\n",
    "\n",
    "        if n_runs > 0:\n",
    "            mean_str = f\"{mean_val:.2f}\"\n",
    "            if not pd.isna(stdev_val):\n",
    "                stdev_str = f\"{stdev_val:.2f}\"\n",
    "                row[display_name] = f\"{mean_str} ± {stdev_str} (N={n_runs})\"\n",
    "            else:\n",
    "                row[display_name] = f\"{mean_str} (N={n_runs})\"\n",
    "        else:\n",
    "            row[display_name] = \"N/A\"\n",
    "\n",
    "    compact_table_data.append(row)\n",
    "\n",
    "df_compact_summary = pd.DataFrame(compact_table_data)\n",
    "# Asegurar el orden de columnas en la tabla final\n",
    "df_compact_summary = df_compact_summary[['Modelo'] + list(metrics_for_plotting.keys())]\n",
    "\n",
    "\n",
    "pd.set_option('display.max_colwidth', None)\n",
    "pd.set_option('display.float_format', lambda x: f'{x:.2f}' if pd.notnull(x) else 'NaN')\n",
    "\n",
    "print(df_compact_summary.to_string(index=False))\n",
    "\n",
    "print(\"\\n\\n--- FIN DEL SCRIPT ---\")"
   ]
  },
  {
   "cell_type": "code",
   "execution_count": null,
   "metadata": {
    "id": "zYrC50xrhP-3"
   },
   "outputs": [],
   "source": []
  }
 ],
 "metadata": {
  "colab": {
   "provenance": []
  },
  "kernelspec": {
   "display_name": "Python 3",
   "name": "python3"
  },
  "language_info": {
   "codemirror_mode": {
    "name": "ipython",
    "version": 3
   },
   "file_extension": ".py",
   "mimetype": "text/x-python",
   "name": "python",
   "nbconvert_exporter": "python",
   "pygments_lexer": "ipython3",
   "version": "3.12.6"
  },
  "widgets": {
   "application/vnd.jupyter.widget-state+json": {
    "008e3c56e47c4cc88b9c61d1f0a4fb41": {
     "model_module": "@jupyter-widgets/controls",
     "model_module_version": "1.5.0",
     "model_name": "DescriptionStyleModel",
     "state": {
      "_model_module": "@jupyter-widgets/controls",
      "_model_module_version": "1.5.0",
      "_model_name": "DescriptionStyleModel",
      "_view_count": null,
      "_view_module": "@jupyter-widgets/base",
      "_view_module_version": "1.2.0",
      "_view_name": "StyleView",
      "description_width": ""
     }
    },
    "01184f6c68f34aceb7f75ce7458f937e": {
     "model_module": "@jupyter-widgets/controls",
     "model_module_version": "1.5.0",
     "model_name": "DescriptionStyleModel",
     "state": {
      "_model_module": "@jupyter-widgets/controls",
      "_model_module_version": "1.5.0",
      "_model_name": "DescriptionStyleModel",
      "_view_count": null,
      "_view_module": "@jupyter-widgets/base",
      "_view_module_version": "1.2.0",
      "_view_name": "StyleView",
      "description_width": ""
     }
    },
    "026f2fb6fb484149b35071ddb8d79d44": {
     "model_module": "@jupyter-widgets/controls",
     "model_module_version": "1.5.0",
     "model_name": "HTMLModel",
     "state": {
      "_dom_classes": [],
      "_model_module": "@jupyter-widgets/controls",
      "_model_module_version": "1.5.0",
      "_model_name": "HTMLModel",
      "_view_count": null,
      "_view_module": "@jupyter-widgets/controls",
      "_view_module_version": "1.5.0",
      "_view_name": "HTMLView",
      "description": "",
      "description_tooltip": null,
      "layout": "IPY_MODEL_c893d04df6824c15967f46a284c8809f",
      "placeholder": "​",
      "style": "IPY_MODEL_967c221896a646d0820e73a4ecd38f3f",
      "value": "Calculating NLL: 100%"
     }
    },
    "030e77e058ef4877a4a829d52b8f22d6": {
     "model_module": "@jupyter-widgets/controls",
     "model_module_version": "1.5.0",
     "model_name": "HTMLModel",
     "state": {
      "_dom_classes": [],
      "_model_module": "@jupyter-widgets/controls",
      "_model_module_version": "1.5.0",
      "_model_name": "HTMLModel",
      "_view_count": null,
      "_view_module": "@jupyter-widgets/controls",
      "_view_module_version": "1.5.0",
      "_view_name": "HTMLView",
      "description": "",
      "description_tooltip": null,
      "layout": "IPY_MODEL_64608ec86ac841b8994596626d3fb9db",
      "placeholder": "​",
      "style": "IPY_MODEL_86a835fb86994cca8e7bcaf8d64456cf",
      "value": "Getting Inception Predictions: 100%"
     }
    },
    "045f40d2b7b2413a9801fc5784f5ac17": {
     "model_module": "@jupyter-widgets/controls",
     "model_module_version": "1.5.0",
     "model_name": "ProgressStyleModel",
     "state": {
      "_model_module": "@jupyter-widgets/controls",
      "_model_module_version": "1.5.0",
      "_model_name": "ProgressStyleModel",
      "_view_count": null,
      "_view_module": "@jupyter-widgets/base",
      "_view_module_version": "1.2.0",
      "_view_name": "StyleView",
      "bar_color": null,
      "description_width": ""
     }
    },
    "047c04ddd8294b1ba3eeff6a8f1626d1": {
     "model_module": "@jupyter-widgets/base",
     "model_module_version": "1.2.0",
     "model_name": "LayoutModel",
     "state": {
      "_model_module": "@jupyter-widgets/base",
      "_model_module_version": "1.2.0",
      "_model_name": "LayoutModel",
      "_view_count": null,
      "_view_module": "@jupyter-widgets/base",
      "_view_module_version": "1.2.0",
      "_view_name": "LayoutView",
      "align_content": null,
      "align_items": null,
      "align_self": null,
      "border": null,
      "bottom": null,
      "display": null,
      "flex": null,
      "flex_flow": null,
      "grid_area": null,
      "grid_auto_columns": null,
      "grid_auto_flow": null,
      "grid_auto_rows": null,
      "grid_column": null,
      "grid_gap": null,
      "grid_row": null,
      "grid_template_areas": null,
      "grid_template_columns": null,
      "grid_template_rows": null,
      "height": null,
      "justify_content": null,
      "justify_items": null,
      "left": null,
      "margin": null,
      "max_height": null,
      "max_width": null,
      "min_height": null,
      "min_width": null,
      "object_fit": null,
      "object_position": null,
      "order": null,
      "overflow": null,
      "overflow_x": null,
      "overflow_y": null,
      "padding": null,
      "right": null,
      "top": null,
      "visibility": null,
      "width": null
     }
    },
    "0499088b9f4f44e5b25ccd67cf12073b": {
     "model_module": "@jupyter-widgets/controls",
     "model_module_version": "1.5.0",
     "model_name": "HBoxModel",
     "state": {
      "_dom_classes": [],
      "_model_module": "@jupyter-widgets/controls",
      "_model_module_version": "1.5.0",
      "_model_name": "HBoxModel",
      "_view_count": null,
      "_view_module": "@jupyter-widgets/controls",
      "_view_module_version": "1.5.0",
      "_view_name": "HBoxView",
      "box_style": "",
      "children": [
       "IPY_MODEL_c7cabfd5db8f46f5879242f04e08bd7c",
       "IPY_MODEL_6c64f06375bd4bedaa87950a6977a9b4",
       "IPY_MODEL_9202c1f80a3b46f7b1ba2f2e615f9410"
      ],
      "layout": "IPY_MODEL_505d7624e9a8449ea2ca95bcf697faed"
     }
    },
    "0594046b9cee4b139428ba8c2e0f2ba0": {
     "model_module": "@jupyter-widgets/controls",
     "model_module_version": "1.5.0",
     "model_name": "HBoxModel",
     "state": {
      "_dom_classes": [],
      "_model_module": "@jupyter-widgets/controls",
      "_model_module_version": "1.5.0",
      "_model_name": "HBoxModel",
      "_view_count": null,
      "_view_module": "@jupyter-widgets/controls",
      "_view_module_version": "1.5.0",
      "_view_name": "HBoxView",
      "box_style": "",
      "children": [
       "IPY_MODEL_fecd3682af3a4494b15fca069b524269",
       "IPY_MODEL_9d1666a4f1974239b43032f7385c7323",
       "IPY_MODEL_4b1cc21b21bd4bbaa7e3483e7e8eaf15"
      ],
      "layout": "IPY_MODEL_e1421f1a202b4deca6e5e252c04de08d"
     }
    },
    "05b42b4e87b4428ba0c81ac15954cfa6": {
     "model_module": "@jupyter-widgets/controls",
     "model_module_version": "1.5.0",
     "model_name": "FloatProgressModel",
     "state": {
      "_dom_classes": [],
      "_model_module": "@jupyter-widgets/controls",
      "_model_module_version": "1.5.0",
      "_model_name": "FloatProgressModel",
      "_view_count": null,
      "_view_module": "@jupyter-widgets/controls",
      "_view_module_version": "1.5.0",
      "_view_name": "ProgressView",
      "bar_style": "success",
      "description": "",
      "description_tooltip": null,
      "layout": "IPY_MODEL_bd7d3108af48403192d1a93fa635340a",
      "max": 16,
      "min": 0,
      "orientation": "horizontal",
      "style": "IPY_MODEL_45d990b925e84e7b879b964484373dc6",
      "value": 16
     }
    },
    "076274e6facb4f059f476012ad6d5869": {
     "model_module": "@jupyter-widgets/base",
     "model_module_version": "1.2.0",
     "model_name": "LayoutModel",
     "state": {
      "_model_module": "@jupyter-widgets/base",
      "_model_module_version": "1.2.0",
      "_model_name": "LayoutModel",
      "_view_count": null,
      "_view_module": "@jupyter-widgets/base",
      "_view_module_version": "1.2.0",
      "_view_name": "LayoutView",
      "align_content": null,
      "align_items": null,
      "align_self": null,
      "border": null,
      "bottom": null,
      "display": null,
      "flex": null,
      "flex_flow": null,
      "grid_area": null,
      "grid_auto_columns": null,
      "grid_auto_flow": null,
      "grid_auto_rows": null,
      "grid_column": null,
      "grid_gap": null,
      "grid_row": null,
      "grid_template_areas": null,
      "grid_template_columns": null,
      "grid_template_rows": null,
      "height": null,
      "justify_content": null,
      "justify_items": null,
      "left": null,
      "margin": null,
      "max_height": null,
      "max_width": null,
      "min_height": null,
      "min_width": null,
      "object_fit": null,
      "object_position": null,
      "order": null,
      "overflow": null,
      "overflow_x": null,
      "overflow_y": null,
      "padding": null,
      "right": null,
      "top": null,
      "visibility": null,
      "width": null
     }
    },
    "07eed775ded14b5a9883c8e238f824e4": {
     "model_module": "@jupyter-widgets/controls",
     "model_module_version": "1.5.0",
     "model_name": "HTMLModel",
     "state": {
      "_dom_classes": [],
      "_model_module": "@jupyter-widgets/controls",
      "_model_module_version": "1.5.0",
      "_model_name": "HTMLModel",
      "_view_count": null,
      "_view_module": "@jupyter-widgets/controls",
      "_view_module_version": "1.5.0",
      "_view_name": "HTMLView",
      "description": "",
      "description_tooltip": null,
      "layout": "IPY_MODEL_403b798013af4896b0ceba03ef8bc5ac",
      "placeholder": "​",
      "style": "IPY_MODEL_e175e7ed8f7f425cbff6abe873d960a7",
      "value": "Calculating NLL: 100%"
     }
    },
    "08514d886e14456a9ac58e1785ecb027": {
     "model_module": "@jupyter-widgets/controls",
     "model_module_version": "1.5.0",
     "model_name": "HTMLModel",
     "state": {
      "_dom_classes": [],
      "_model_module": "@jupyter-widgets/controls",
      "_model_module_version": "1.5.0",
      "_model_name": "HTMLModel",
      "_view_count": null,
      "_view_module": "@jupyter-widgets/controls",
      "_view_module_version": "1.5.0",
      "_view_name": "HTMLView",
      "description": "",
      "description_tooltip": null,
      "layout": "IPY_MODEL_99759e0d8527423fb89bfe1441172df3",
      "placeholder": "​",
      "style": "IPY_MODEL_762698adf21f4aaa9bc8bb1cd0c0341a",
      "value": "Calculating NLL: 100%"
     }
    },
    "09494ec84725492e9a61a9119dc08fc9": {
     "model_module": "@jupyter-widgets/controls",
     "model_module_version": "1.5.0",
     "model_name": "ProgressStyleModel",
     "state": {
      "_model_module": "@jupyter-widgets/controls",
      "_model_module_version": "1.5.0",
      "_model_name": "ProgressStyleModel",
      "_view_count": null,
      "_view_module": "@jupyter-widgets/base",
      "_view_module_version": "1.2.0",
      "_view_name": "StyleView",
      "bar_color": null,
      "description_width": ""
     }
    },
    "09a8a17cb6f2407e8785c97cbf3da3e7": {
     "model_module": "@jupyter-widgets/controls",
     "model_module_version": "1.5.0",
     "model_name": "DescriptionStyleModel",
     "state": {
      "_model_module": "@jupyter-widgets/controls",
      "_model_module_version": "1.5.0",
      "_model_name": "DescriptionStyleModel",
      "_view_count": null,
      "_view_module": "@jupyter-widgets/base",
      "_view_module_version": "1.2.0",
      "_view_name": "StyleView",
      "description_width": ""
     }
    },
    "0bb68cc60e434a94adc1a21be8df1b51": {
     "model_module": "@jupyter-widgets/controls",
     "model_module_version": "1.5.0",
     "model_name": "ProgressStyleModel",
     "state": {
      "_model_module": "@jupyter-widgets/controls",
      "_model_module_version": "1.5.0",
      "_model_name": "ProgressStyleModel",
      "_view_count": null,
      "_view_module": "@jupyter-widgets/base",
      "_view_module_version": "1.2.0",
      "_view_name": "StyleView",
      "bar_color": null,
      "description_width": ""
     }
    },
    "0c0f5de522c542f19f6a0b73569bfdcb": {
     "model_module": "@jupyter-widgets/controls",
     "model_module_version": "1.5.0",
     "model_name": "HTMLModel",
     "state": {
      "_dom_classes": [],
      "_model_module": "@jupyter-widgets/controls",
      "_model_module_version": "1.5.0",
      "_model_name": "HTMLModel",
      "_view_count": null,
      "_view_module": "@jupyter-widgets/controls",
      "_view_module_version": "1.5.0",
      "_view_name": "HTMLView",
      "description": "",
      "description_tooltip": null,
      "layout": "IPY_MODEL_293150f2898d4a77b88bd0e4583c4d71",
      "placeholder": "​",
      "style": "IPY_MODEL_73832800489c42db8303cc52b77d1af7",
      "value": " 7/7 [00:00&lt;00:00,  7.98it/s]"
     }
    },
    "0c5210d86e4b45acaef6adfefa77e672": {
     "model_module": "@jupyter-widgets/controls",
     "model_module_version": "1.5.0",
     "model_name": "FloatProgressModel",
     "state": {
      "_dom_classes": [],
      "_model_module": "@jupyter-widgets/controls",
      "_model_module_version": "1.5.0",
      "_model_name": "FloatProgressModel",
      "_view_count": null,
      "_view_module": "@jupyter-widgets/controls",
      "_view_module_version": "1.5.0",
      "_view_name": "ProgressView",
      "bar_style": "success",
      "description": "",
      "description_tooltip": null,
      "layout": "IPY_MODEL_fe889ece4afc4d8492472f59e51adb6f",
      "max": 7,
      "min": 0,
      "orientation": "horizontal",
      "style": "IPY_MODEL_73b57b2b1d1c458393474d25ba12f735",
      "value": 7
     }
    },
    "0c54407c997a4c24a618bea4e26d2f01": {
     "model_module": "@jupyter-widgets/base",
     "model_module_version": "1.2.0",
     "model_name": "LayoutModel",
     "state": {
      "_model_module": "@jupyter-widgets/base",
      "_model_module_version": "1.2.0",
      "_model_name": "LayoutModel",
      "_view_count": null,
      "_view_module": "@jupyter-widgets/base",
      "_view_module_version": "1.2.0",
      "_view_name": "LayoutView",
      "align_content": null,
      "align_items": null,
      "align_self": null,
      "border": null,
      "bottom": null,
      "display": null,
      "flex": null,
      "flex_flow": null,
      "grid_area": null,
      "grid_auto_columns": null,
      "grid_auto_flow": null,
      "grid_auto_rows": null,
      "grid_column": null,
      "grid_gap": null,
      "grid_row": null,
      "grid_template_areas": null,
      "grid_template_columns": null,
      "grid_template_rows": null,
      "height": null,
      "justify_content": null,
      "justify_items": null,
      "left": null,
      "margin": null,
      "max_height": null,
      "max_width": null,
      "min_height": null,
      "min_width": null,
      "object_fit": null,
      "object_position": null,
      "order": null,
      "overflow": null,
      "overflow_x": null,
      "overflow_y": null,
      "padding": null,
      "right": null,
      "top": null,
      "visibility": null,
      "width": null
     }
    },
    "0cae9a8c53e74ac3bd9aca3d2eefb61c": {
     "model_module": "@jupyter-widgets/controls",
     "model_module_version": "1.5.0",
     "model_name": "DescriptionStyleModel",
     "state": {
      "_model_module": "@jupyter-widgets/controls",
      "_model_module_version": "1.5.0",
      "_model_name": "DescriptionStyleModel",
      "_view_count": null,
      "_view_module": "@jupyter-widgets/base",
      "_view_module_version": "1.2.0",
      "_view_name": "StyleView",
      "description_width": ""
     }
    },
    "0ced92cfa6a34462a1acbf9b6b0c0f52": {
     "model_module": "@jupyter-widgets/base",
     "model_module_version": "1.2.0",
     "model_name": "LayoutModel",
     "state": {
      "_model_module": "@jupyter-widgets/base",
      "_model_module_version": "1.2.0",
      "_model_name": "LayoutModel",
      "_view_count": null,
      "_view_module": "@jupyter-widgets/base",
      "_view_module_version": "1.2.0",
      "_view_name": "LayoutView",
      "align_content": null,
      "align_items": null,
      "align_self": null,
      "border": null,
      "bottom": null,
      "display": null,
      "flex": null,
      "flex_flow": null,
      "grid_area": null,
      "grid_auto_columns": null,
      "grid_auto_flow": null,
      "grid_auto_rows": null,
      "grid_column": null,
      "grid_gap": null,
      "grid_row": null,
      "grid_template_areas": null,
      "grid_template_columns": null,
      "grid_template_rows": null,
      "height": null,
      "justify_content": null,
      "justify_items": null,
      "left": null,
      "margin": null,
      "max_height": null,
      "max_width": null,
      "min_height": null,
      "min_width": null,
      "object_fit": null,
      "object_position": null,
      "order": null,
      "overflow": null,
      "overflow_x": null,
      "overflow_y": null,
      "padding": null,
      "right": null,
      "top": null,
      "visibility": null,
      "width": null
     }
    },
    "0f9ebb55dc624b0492f2e92452e37b09": {
     "model_module": "@jupyter-widgets/controls",
     "model_module_version": "1.5.0",
     "model_name": "DescriptionStyleModel",
     "state": {
      "_model_module": "@jupyter-widgets/controls",
      "_model_module_version": "1.5.0",
      "_model_name": "DescriptionStyleModel",
      "_view_count": null,
      "_view_module": "@jupyter-widgets/base",
      "_view_module_version": "1.2.0",
      "_view_name": "StyleView",
      "description_width": ""
     }
    },
    "1089b1906676485e92947975684f58a6": {
     "model_module": "@jupyter-widgets/controls",
     "model_module_version": "1.5.0",
     "model_name": "DescriptionStyleModel",
     "state": {
      "_model_module": "@jupyter-widgets/controls",
      "_model_module_version": "1.5.0",
      "_model_name": "DescriptionStyleModel",
      "_view_count": null,
      "_view_module": "@jupyter-widgets/base",
      "_view_module_version": "1.2.0",
      "_view_name": "StyleView",
      "description_width": ""
     }
    },
    "10a45e788de84a22b47ed548c8674926": {
     "model_module": "@jupyter-widgets/controls",
     "model_module_version": "1.5.0",
     "model_name": "HTMLModel",
     "state": {
      "_dom_classes": [],
      "_model_module": "@jupyter-widgets/controls",
      "_model_module_version": "1.5.0",
      "_model_name": "HTMLModel",
      "_view_count": null,
      "_view_module": "@jupyter-widgets/controls",
      "_view_module_version": "1.5.0",
      "_view_name": "HTMLView",
      "description": "",
      "description_tooltip": null,
      "layout": "IPY_MODEL_38ddb4327183434b9bda132e89ff7401",
      "placeholder": "​",
      "style": "IPY_MODEL_45413c7352434a2792341ff54dbf2945",
      "value": "Getting Inception Predictions: 100%"
     }
    },
    "114cdf9821ab42b3bded1c145e327ff5": {
     "model_module": "@jupyter-widgets/controls",
     "model_module_version": "1.5.0",
     "model_name": "HTMLModel",
     "state": {
      "_dom_classes": [],
      "_model_module": "@jupyter-widgets/controls",
      "_model_module_version": "1.5.0",
      "_model_name": "HTMLModel",
      "_view_count": null,
      "_view_module": "@jupyter-widgets/controls",
      "_view_module_version": "1.5.0",
      "_view_name": "HTMLView",
      "description": "",
      "description_tooltip": null,
      "layout": "IPY_MODEL_3b981f0c546945f1a2f387522f5425be",
      "placeholder": "​",
      "style": "IPY_MODEL_09a8a17cb6f2407e8785c97cbf3da3e7",
      "value": " 7/7 [00:00&lt;00:00,  8.00it/s]"
     }
    },
    "1160c36216bb406aa3eb56313bf02e69": {
     "model_module": "@jupyter-widgets/controls",
     "model_module_version": "1.5.0",
     "model_name": "FloatProgressModel",
     "state": {
      "_dom_classes": [],
      "_model_module": "@jupyter-widgets/controls",
      "_model_module_version": "1.5.0",
      "_model_name": "FloatProgressModel",
      "_view_count": null,
      "_view_module": "@jupyter-widgets/controls",
      "_view_module_version": "1.5.0",
      "_view_name": "ProgressView",
      "bar_style": "success",
      "description": "",
      "description_tooltip": null,
      "layout": "IPY_MODEL_fe1c9481ccfa47a3898b2a48563a9fc9",
      "max": 16,
      "min": 0,
      "orientation": "horizontal",
      "style": "IPY_MODEL_a166cc60456d42e68edc25fe7e7621b5",
      "value": 16
     }
    },
    "122b84322db24870b9a7ea2e9539a351": {
     "model_module": "@jupyter-widgets/base",
     "model_module_version": "1.2.0",
     "model_name": "LayoutModel",
     "state": {
      "_model_module": "@jupyter-widgets/base",
      "_model_module_version": "1.2.0",
      "_model_name": "LayoutModel",
      "_view_count": null,
      "_view_module": "@jupyter-widgets/base",
      "_view_module_version": "1.2.0",
      "_view_name": "LayoutView",
      "align_content": null,
      "align_items": null,
      "align_self": null,
      "border": null,
      "bottom": null,
      "display": null,
      "flex": null,
      "flex_flow": null,
      "grid_area": null,
      "grid_auto_columns": null,
      "grid_auto_flow": null,
      "grid_auto_rows": null,
      "grid_column": null,
      "grid_gap": null,
      "grid_row": null,
      "grid_template_areas": null,
      "grid_template_columns": null,
      "grid_template_rows": null,
      "height": null,
      "justify_content": null,
      "justify_items": null,
      "left": null,
      "margin": null,
      "max_height": null,
      "max_width": null,
      "min_height": null,
      "min_width": null,
      "object_fit": null,
      "object_position": null,
      "order": null,
      "overflow": null,
      "overflow_x": null,
      "overflow_y": null,
      "padding": null,
      "right": null,
      "top": null,
      "visibility": null,
      "width": null
     }
    },
    "1260c4cc16c54688b00baa2a63aa433a": {
     "model_module": "@jupyter-widgets/base",
     "model_module_version": "1.2.0",
     "model_name": "LayoutModel",
     "state": {
      "_model_module": "@jupyter-widgets/base",
      "_model_module_version": "1.2.0",
      "_model_name": "LayoutModel",
      "_view_count": null,
      "_view_module": "@jupyter-widgets/base",
      "_view_module_version": "1.2.0",
      "_view_name": "LayoutView",
      "align_content": null,
      "align_items": null,
      "align_self": null,
      "border": null,
      "bottom": null,
      "display": null,
      "flex": null,
      "flex_flow": null,
      "grid_area": null,
      "grid_auto_columns": null,
      "grid_auto_flow": null,
      "grid_auto_rows": null,
      "grid_column": null,
      "grid_gap": null,
      "grid_row": null,
      "grid_template_areas": null,
      "grid_template_columns": null,
      "grid_template_rows": null,
      "height": null,
      "justify_content": null,
      "justify_items": null,
      "left": null,
      "margin": null,
      "max_height": null,
      "max_width": null,
      "min_height": null,
      "min_width": null,
      "object_fit": null,
      "object_position": null,
      "order": null,
      "overflow": null,
      "overflow_x": null,
      "overflow_y": null,
      "padding": null,
      "right": null,
      "top": null,
      "visibility": null,
      "width": null
     }
    },
    "12d0d770842745bba28ff0bde07c0601": {
     "model_module": "@jupyter-widgets/controls",
     "model_module_version": "1.5.0",
     "model_name": "DescriptionStyleModel",
     "state": {
      "_model_module": "@jupyter-widgets/controls",
      "_model_module_version": "1.5.0",
      "_model_name": "DescriptionStyleModel",
      "_view_count": null,
      "_view_module": "@jupyter-widgets/base",
      "_view_module_version": "1.2.0",
      "_view_name": "StyleView",
      "description_width": ""
     }
    },
    "14a130eb36b94981bb88cfb98b38bc39": {
     "model_module": "@jupyter-widgets/base",
     "model_module_version": "1.2.0",
     "model_name": "LayoutModel",
     "state": {
      "_model_module": "@jupyter-widgets/base",
      "_model_module_version": "1.2.0",
      "_model_name": "LayoutModel",
      "_view_count": null,
      "_view_module": "@jupyter-widgets/base",
      "_view_module_version": "1.2.0",
      "_view_name": "LayoutView",
      "align_content": null,
      "align_items": null,
      "align_self": null,
      "border": null,
      "bottom": null,
      "display": null,
      "flex": null,
      "flex_flow": null,
      "grid_area": null,
      "grid_auto_columns": null,
      "grid_auto_flow": null,
      "grid_auto_rows": null,
      "grid_column": null,
      "grid_gap": null,
      "grid_row": null,
      "grid_template_areas": null,
      "grid_template_columns": null,
      "grid_template_rows": null,
      "height": null,
      "justify_content": null,
      "justify_items": null,
      "left": null,
      "margin": null,
      "max_height": null,
      "max_width": null,
      "min_height": null,
      "min_width": null,
      "object_fit": null,
      "object_position": null,
      "order": null,
      "overflow": null,
      "overflow_x": null,
      "overflow_y": null,
      "padding": null,
      "right": null,
      "top": null,
      "visibility": null,
      "width": null
     }
    },
    "14c8b7b70dac4de09091e107e474aa5d": {
     "model_module": "@jupyter-widgets/controls",
     "model_module_version": "1.5.0",
     "model_name": "HTMLModel",
     "state": {
      "_dom_classes": [],
      "_model_module": "@jupyter-widgets/controls",
      "_model_module_version": "1.5.0",
      "_model_name": "HTMLModel",
      "_view_count": null,
      "_view_module": "@jupyter-widgets/controls",
      "_view_module_version": "1.5.0",
      "_view_name": "HTMLView",
      "description": "",
      "description_tooltip": null,
      "layout": "IPY_MODEL_81a9385feab94d12afa87e8c2483745b",
      "placeholder": "​",
      "style": "IPY_MODEL_5f817480a6d347f58b92071e9e2d6481",
      "value": " 7/7 [00:00&lt;00:00,  7.87it/s]"
     }
    },
    "14d6747c67424a469254f2f6f9375e74": {
     "model_module": "@jupyter-widgets/base",
     "model_module_version": "1.2.0",
     "model_name": "LayoutModel",
     "state": {
      "_model_module": "@jupyter-widgets/base",
      "_model_module_version": "1.2.0",
      "_model_name": "LayoutModel",
      "_view_count": null,
      "_view_module": "@jupyter-widgets/base",
      "_view_module_version": "1.2.0",
      "_view_name": "LayoutView",
      "align_content": null,
      "align_items": null,
      "align_self": null,
      "border": null,
      "bottom": null,
      "display": null,
      "flex": null,
      "flex_flow": null,
      "grid_area": null,
      "grid_auto_columns": null,
      "grid_auto_flow": null,
      "grid_auto_rows": null,
      "grid_column": null,
      "grid_gap": null,
      "grid_row": null,
      "grid_template_areas": null,
      "grid_template_columns": null,
      "grid_template_rows": null,
      "height": null,
      "justify_content": null,
      "justify_items": null,
      "left": null,
      "margin": null,
      "max_height": null,
      "max_width": null,
      "min_height": null,
      "min_width": null,
      "object_fit": null,
      "object_position": null,
      "order": null,
      "overflow": null,
      "overflow_x": null,
      "overflow_y": null,
      "padding": null,
      "right": null,
      "top": null,
      "visibility": null,
      "width": null
     }
    },
    "158495661b90431289eb5fd9025c7910": {
     "model_module": "@jupyter-widgets/base",
     "model_module_version": "1.2.0",
     "model_name": "LayoutModel",
     "state": {
      "_model_module": "@jupyter-widgets/base",
      "_model_module_version": "1.2.0",
      "_model_name": "LayoutModel",
      "_view_count": null,
      "_view_module": "@jupyter-widgets/base",
      "_view_module_version": "1.2.0",
      "_view_name": "LayoutView",
      "align_content": null,
      "align_items": null,
      "align_self": null,
      "border": null,
      "bottom": null,
      "display": null,
      "flex": null,
      "flex_flow": null,
      "grid_area": null,
      "grid_auto_columns": null,
      "grid_auto_flow": null,
      "grid_auto_rows": null,
      "grid_column": null,
      "grid_gap": null,
      "grid_row": null,
      "grid_template_areas": null,
      "grid_template_columns": null,
      "grid_template_rows": null,
      "height": null,
      "justify_content": null,
      "justify_items": null,
      "left": null,
      "margin": null,
      "max_height": null,
      "max_width": null,
      "min_height": null,
      "min_width": null,
      "object_fit": null,
      "object_position": null,
      "order": null,
      "overflow": null,
      "overflow_x": null,
      "overflow_y": null,
      "padding": null,
      "right": null,
      "top": null,
      "visibility": null,
      "width": null
     }
    },
    "15ef5b86e6f34dcda9f88cf48cdd3523": {
     "model_module": "@jupyter-widgets/controls",
     "model_module_version": "1.5.0",
     "model_name": "HBoxModel",
     "state": {
      "_dom_classes": [],
      "_model_module": "@jupyter-widgets/controls",
      "_model_module_version": "1.5.0",
      "_model_name": "HBoxModel",
      "_view_count": null,
      "_view_module": "@jupyter-widgets/controls",
      "_view_module_version": "1.5.0",
      "_view_name": "HBoxView",
      "box_style": "",
      "children": [
       "IPY_MODEL_9c8782eed861431ab807bc1528cc5771",
       "IPY_MODEL_5cd8ba2c5bb94836a65af90390d3051f",
       "IPY_MODEL_267f64cdba39489495e10138042cc370"
      ],
      "layout": "IPY_MODEL_607c3f9563ee4a11bd1a4998c502e5bb"
     }
    },
    "18dc02e4564e459e8f79f0ce7b473ecc": {
     "model_module": "@jupyter-widgets/controls",
     "model_module_version": "1.5.0",
     "model_name": "HTMLModel",
     "state": {
      "_dom_classes": [],
      "_model_module": "@jupyter-widgets/controls",
      "_model_module_version": "1.5.0",
      "_model_name": "HTMLModel",
      "_view_count": null,
      "_view_module": "@jupyter-widgets/controls",
      "_view_module_version": "1.5.0",
      "_view_name": "HTMLView",
      "description": "",
      "description_tooltip": null,
      "layout": "IPY_MODEL_30d148df82394c0c9412945419302d0f",
      "placeholder": "​",
      "style": "IPY_MODEL_552af508dd794bd39cfdd7a757dc67fe",
      "value": " 7/7 [00:00&lt;00:00,  7.96it/s]"
     }
    },
    "19cc8c0b0ea64b0a872aba49d8c2702a": {
     "model_module": "@jupyter-widgets/controls",
     "model_module_version": "1.5.0",
     "model_name": "HTMLModel",
     "state": {
      "_dom_classes": [],
      "_model_module": "@jupyter-widgets/controls",
      "_model_module_version": "1.5.0",
      "_model_name": "HTMLModel",
      "_view_count": null,
      "_view_module": "@jupyter-widgets/controls",
      "_view_module_version": "1.5.0",
      "_view_name": "HTMLView",
      "description": "",
      "description_tooltip": null,
      "layout": "IPY_MODEL_279fadaab1e24330bc499385f2dc3c3a",
      "placeholder": "​",
      "style": "IPY_MODEL_ee7eaed28c1f4dd1a91f42b9defe9155",
      "value": "Calculating NLL: 100%"
     }
    },
    "1a661e891a4c4783b70b3b93a0036585": {
     "model_module": "@jupyter-widgets/base",
     "model_module_version": "1.2.0",
     "model_name": "LayoutModel",
     "state": {
      "_model_module": "@jupyter-widgets/base",
      "_model_module_version": "1.2.0",
      "_model_name": "LayoutModel",
      "_view_count": null,
      "_view_module": "@jupyter-widgets/base",
      "_view_module_version": "1.2.0",
      "_view_name": "LayoutView",
      "align_content": null,
      "align_items": null,
      "align_self": null,
      "border": null,
      "bottom": null,
      "display": null,
      "flex": null,
      "flex_flow": null,
      "grid_area": null,
      "grid_auto_columns": null,
      "grid_auto_flow": null,
      "grid_auto_rows": null,
      "grid_column": null,
      "grid_gap": null,
      "grid_row": null,
      "grid_template_areas": null,
      "grid_template_columns": null,
      "grid_template_rows": null,
      "height": null,
      "justify_content": null,
      "justify_items": null,
      "left": null,
      "margin": null,
      "max_height": null,
      "max_width": null,
      "min_height": null,
      "min_width": null,
      "object_fit": null,
      "object_position": null,
      "order": null,
      "overflow": null,
      "overflow_x": null,
      "overflow_y": null,
      "padding": null,
      "right": null,
      "top": null,
      "visibility": null,
      "width": null
     }
    },
    "1a9ef22822c2455282a8681c6a4df1e4": {
     "model_module": "@jupyter-widgets/controls",
     "model_module_version": "1.5.0",
     "model_name": "DescriptionStyleModel",
     "state": {
      "_model_module": "@jupyter-widgets/controls",
      "_model_module_version": "1.5.0",
      "_model_name": "DescriptionStyleModel",
      "_view_count": null,
      "_view_module": "@jupyter-widgets/base",
      "_view_module_version": "1.2.0",
      "_view_name": "StyleView",
      "description_width": ""
     }
    },
    "1ccf0ee22da342b5ad794d7a375a6979": {
     "model_module": "@jupyter-widgets/base",
     "model_module_version": "1.2.0",
     "model_name": "LayoutModel",
     "state": {
      "_model_module": "@jupyter-widgets/base",
      "_model_module_version": "1.2.0",
      "_model_name": "LayoutModel",
      "_view_count": null,
      "_view_module": "@jupyter-widgets/base",
      "_view_module_version": "1.2.0",
      "_view_name": "LayoutView",
      "align_content": null,
      "align_items": null,
      "align_self": null,
      "border": null,
      "bottom": null,
      "display": null,
      "flex": null,
      "flex_flow": null,
      "grid_area": null,
      "grid_auto_columns": null,
      "grid_auto_flow": null,
      "grid_auto_rows": null,
      "grid_column": null,
      "grid_gap": null,
      "grid_row": null,
      "grid_template_areas": null,
      "grid_template_columns": null,
      "grid_template_rows": null,
      "height": null,
      "justify_content": null,
      "justify_items": null,
      "left": null,
      "margin": null,
      "max_height": null,
      "max_width": null,
      "min_height": null,
      "min_width": null,
      "object_fit": null,
      "object_position": null,
      "order": null,
      "overflow": null,
      "overflow_x": null,
      "overflow_y": null,
      "padding": null,
      "right": null,
      "top": null,
      "visibility": null,
      "width": null
     }
    },
    "1f2ff88acd9a4d03b55e3a7562035318": {
     "model_module": "@jupyter-widgets/controls",
     "model_module_version": "1.5.0",
     "model_name": "HTMLModel",
     "state": {
      "_dom_classes": [],
      "_model_module": "@jupyter-widgets/controls",
      "_model_module_version": "1.5.0",
      "_model_name": "HTMLModel",
      "_view_count": null,
      "_view_module": "@jupyter-widgets/controls",
      "_view_module_version": "1.5.0",
      "_view_name": "HTMLView",
      "description": "",
      "description_tooltip": null,
      "layout": "IPY_MODEL_34d5ef8020044d2eb6b5277231533031",
      "placeholder": "​",
      "style": "IPY_MODEL_ef442ca3239a480bbc456911b80685bf",
      "value": "Getting Inception Predictions: 100%"
     }
    },
    "22086e36189543449af10cdf23cb5f1c": {
     "model_module": "@jupyter-widgets/controls",
     "model_module_version": "1.5.0",
     "model_name": "ProgressStyleModel",
     "state": {
      "_model_module": "@jupyter-widgets/controls",
      "_model_module_version": "1.5.0",
      "_model_name": "ProgressStyleModel",
      "_view_count": null,
      "_view_module": "@jupyter-widgets/base",
      "_view_module_version": "1.2.0",
      "_view_name": "StyleView",
      "bar_color": null,
      "description_width": ""
     }
    },
    "2270d228d91d4795af3d6d9d7a567e65": {
     "model_module": "@jupyter-widgets/controls",
     "model_module_version": "1.5.0",
     "model_name": "ProgressStyleModel",
     "state": {
      "_model_module": "@jupyter-widgets/controls",
      "_model_module_version": "1.5.0",
      "_model_name": "ProgressStyleModel",
      "_view_count": null,
      "_view_module": "@jupyter-widgets/base",
      "_view_module_version": "1.2.0",
      "_view_name": "StyleView",
      "bar_color": null,
      "description_width": ""
     }
    },
    "228bb1353032472d82eb224c44196155": {
     "model_module": "@jupyter-widgets/controls",
     "model_module_version": "1.5.0",
     "model_name": "HTMLModel",
     "state": {
      "_dom_classes": [],
      "_model_module": "@jupyter-widgets/controls",
      "_model_module_version": "1.5.0",
      "_model_name": "HTMLModel",
      "_view_count": null,
      "_view_module": "@jupyter-widgets/controls",
      "_view_module_version": "1.5.0",
      "_view_name": "HTMLView",
      "description": "",
      "description_tooltip": null,
      "layout": "IPY_MODEL_b0d8f8a6bfc949fbaa54d1aa13d323ff",
      "placeholder": "​",
      "style": "IPY_MODEL_6ab33852ab06482d80ce9a3e67965ebd",
      "value": "Getting Inception Predictions: 100%"
     }
    },
    "22e424dee3f04214a8376ce2e4d05fa0": {
     "model_module": "@jupyter-widgets/controls",
     "model_module_version": "1.5.0",
     "model_name": "HBoxModel",
     "state": {
      "_dom_classes": [],
      "_model_module": "@jupyter-widgets/controls",
      "_model_module_version": "1.5.0",
      "_model_name": "HBoxModel",
      "_view_count": null,
      "_view_module": "@jupyter-widgets/controls",
      "_view_module_version": "1.5.0",
      "_view_name": "HBoxView",
      "box_style": "",
      "children": [
       "IPY_MODEL_07eed775ded14b5a9883c8e238f824e4",
       "IPY_MODEL_2cecbb3d915a4860a8ecc7b78eaf1338",
       "IPY_MODEL_c40e222932ed4f28be314bf7960d09ec"
      ],
      "layout": "IPY_MODEL_486da14c0fa44cfab176d4685c496c1a"
     }
    },
    "23f0d2fa00d24b5095ee2a0747c87995": {
     "model_module": "@jupyter-widgets/controls",
     "model_module_version": "1.5.0",
     "model_name": "FloatProgressModel",
     "state": {
      "_dom_classes": [],
      "_model_module": "@jupyter-widgets/controls",
      "_model_module_version": "1.5.0",
      "_model_name": "FloatProgressModel",
      "_view_count": null,
      "_view_module": "@jupyter-widgets/controls",
      "_view_module_version": "1.5.0",
      "_view_name": "ProgressView",
      "bar_style": "success",
      "description": "",
      "description_tooltip": null,
      "layout": "IPY_MODEL_670a3822924f44a98423d260f0e21407",
      "max": 7,
      "min": 0,
      "orientation": "horizontal",
      "style": "IPY_MODEL_626b8770c7634dae8d017f52765e0297",
      "value": 7
     }
    },
    "247add0f525a44ef975942d95dba3f34": {
     "model_module": "@jupyter-widgets/controls",
     "model_module_version": "1.5.0",
     "model_name": "FloatProgressModel",
     "state": {
      "_dom_classes": [],
      "_model_module": "@jupyter-widgets/controls",
      "_model_module_version": "1.5.0",
      "_model_name": "FloatProgressModel",
      "_view_count": null,
      "_view_module": "@jupyter-widgets/controls",
      "_view_module_version": "1.5.0",
      "_view_name": "ProgressView",
      "bar_style": "success",
      "description": "",
      "description_tooltip": null,
      "layout": "IPY_MODEL_46489bf926fc4f26885c728240a386e7",
      "max": 7,
      "min": 0,
      "orientation": "horizontal",
      "style": "IPY_MODEL_22086e36189543449af10cdf23cb5f1c",
      "value": 7
     }
    },
    "24c01fadf894477f83c1fd2016af44cd": {
     "model_module": "@jupyter-widgets/controls",
     "model_module_version": "1.5.0",
     "model_name": "HTMLModel",
     "state": {
      "_dom_classes": [],
      "_model_module": "@jupyter-widgets/controls",
      "_model_module_version": "1.5.0",
      "_model_name": "HTMLModel",
      "_view_count": null,
      "_view_module": "@jupyter-widgets/controls",
      "_view_module_version": "1.5.0",
      "_view_name": "HTMLView",
      "description": "",
      "description_tooltip": null,
      "layout": "IPY_MODEL_9b810c0724d04c5aa94b38a001510e99",
      "placeholder": "​",
      "style": "IPY_MODEL_8bbb7c973d5f4c6bb5b010c008ebf951",
      "value": " 16/16 [10:55&lt;00:00, 37.94s/it]"
     }
    },
    "2597801d560f474fab26f301cd5dea60": {
     "model_module": "@jupyter-widgets/base",
     "model_module_version": "1.2.0",
     "model_name": "LayoutModel",
     "state": {
      "_model_module": "@jupyter-widgets/base",
      "_model_module_version": "1.2.0",
      "_model_name": "LayoutModel",
      "_view_count": null,
      "_view_module": "@jupyter-widgets/base",
      "_view_module_version": "1.2.0",
      "_view_name": "LayoutView",
      "align_content": null,
      "align_items": null,
      "align_self": null,
      "border": null,
      "bottom": null,
      "display": null,
      "flex": null,
      "flex_flow": null,
      "grid_area": null,
      "grid_auto_columns": null,
      "grid_auto_flow": null,
      "grid_auto_rows": null,
      "grid_column": null,
      "grid_gap": null,
      "grid_row": null,
      "grid_template_areas": null,
      "grid_template_columns": null,
      "grid_template_rows": null,
      "height": null,
      "justify_content": null,
      "justify_items": null,
      "left": null,
      "margin": null,
      "max_height": null,
      "max_width": null,
      "min_height": null,
      "min_width": null,
      "object_fit": null,
      "object_position": null,
      "order": null,
      "overflow": null,
      "overflow_x": null,
      "overflow_y": null,
      "padding": null,
      "right": null,
      "top": null,
      "visibility": null,
      "width": null
     }
    },
    "25f6fa28ed734a6685cebf8c982a0b0e": {
     "model_module": "@jupyter-widgets/base",
     "model_module_version": "1.2.0",
     "model_name": "LayoutModel",
     "state": {
      "_model_module": "@jupyter-widgets/base",
      "_model_module_version": "1.2.0",
      "_model_name": "LayoutModel",
      "_view_count": null,
      "_view_module": "@jupyter-widgets/base",
      "_view_module_version": "1.2.0",
      "_view_name": "LayoutView",
      "align_content": null,
      "align_items": null,
      "align_self": null,
      "border": null,
      "bottom": null,
      "display": null,
      "flex": null,
      "flex_flow": null,
      "grid_area": null,
      "grid_auto_columns": null,
      "grid_auto_flow": null,
      "grid_auto_rows": null,
      "grid_column": null,
      "grid_gap": null,
      "grid_row": null,
      "grid_template_areas": null,
      "grid_template_columns": null,
      "grid_template_rows": null,
      "height": null,
      "justify_content": null,
      "justify_items": null,
      "left": null,
      "margin": null,
      "max_height": null,
      "max_width": null,
      "min_height": null,
      "min_width": null,
      "object_fit": null,
      "object_position": null,
      "order": null,
      "overflow": null,
      "overflow_x": null,
      "overflow_y": null,
      "padding": null,
      "right": null,
      "top": null,
      "visibility": null,
      "width": null
     }
    },
    "267f64cdba39489495e10138042cc370": {
     "model_module": "@jupyter-widgets/controls",
     "model_module_version": "1.5.0",
     "model_name": "HTMLModel",
     "state": {
      "_dom_classes": [],
      "_model_module": "@jupyter-widgets/controls",
      "_model_module_version": "1.5.0",
      "_model_name": "HTMLModel",
      "_view_count": null,
      "_view_module": "@jupyter-widgets/controls",
      "_view_module_version": "1.5.0",
      "_view_name": "HTMLView",
      "description": "",
      "description_tooltip": null,
      "layout": "IPY_MODEL_4a2acbe4293e401e9c6948e8576feeb0",
      "placeholder": "​",
      "style": "IPY_MODEL_85de9712f19742a5bb37439acf6ade15",
      "value": " 16/16 [05:25&lt;00:00, 18.70s/it]"
     }
    },
    "273428f3a15d4817b3942f1e6cc37274": {
     "model_module": "@jupyter-widgets/controls",
     "model_module_version": "1.5.0",
     "model_name": "HTMLModel",
     "state": {
      "_dom_classes": [],
      "_model_module": "@jupyter-widgets/controls",
      "_model_module_version": "1.5.0",
      "_model_name": "HTMLModel",
      "_view_count": null,
      "_view_module": "@jupyter-widgets/controls",
      "_view_module_version": "1.5.0",
      "_view_name": "HTMLView",
      "description": "",
      "description_tooltip": null,
      "layout": "IPY_MODEL_2d3841d9398b4f239c677a70a5ca7ce2",
      "placeholder": "​",
      "style": "IPY_MODEL_fe6f174c59574384b10abb8a6bf694b7",
      "value": "Calculating NLL: 100%"
     }
    },
    "279fadaab1e24330bc499385f2dc3c3a": {
     "model_module": "@jupyter-widgets/base",
     "model_module_version": "1.2.0",
     "model_name": "LayoutModel",
     "state": {
      "_model_module": "@jupyter-widgets/base",
      "_model_module_version": "1.2.0",
      "_model_name": "LayoutModel",
      "_view_count": null,
      "_view_module": "@jupyter-widgets/base",
      "_view_module_version": "1.2.0",
      "_view_name": "LayoutView",
      "align_content": null,
      "align_items": null,
      "align_self": null,
      "border": null,
      "bottom": null,
      "display": null,
      "flex": null,
      "flex_flow": null,
      "grid_area": null,
      "grid_auto_columns": null,
      "grid_auto_flow": null,
      "grid_auto_rows": null,
      "grid_column": null,
      "grid_gap": null,
      "grid_row": null,
      "grid_template_areas": null,
      "grid_template_columns": null,
      "grid_template_rows": null,
      "height": null,
      "justify_content": null,
      "justify_items": null,
      "left": null,
      "margin": null,
      "max_height": null,
      "max_width": null,
      "min_height": null,
      "min_width": null,
      "object_fit": null,
      "object_position": null,
      "order": null,
      "overflow": null,
      "overflow_x": null,
      "overflow_y": null,
      "padding": null,
      "right": null,
      "top": null,
      "visibility": null,
      "width": null
     }
    },
    "293150f2898d4a77b88bd0e4583c4d71": {
     "model_module": "@jupyter-widgets/base",
     "model_module_version": "1.2.0",
     "model_name": "LayoutModel",
     "state": {
      "_model_module": "@jupyter-widgets/base",
      "_model_module_version": "1.2.0",
      "_model_name": "LayoutModel",
      "_view_count": null,
      "_view_module": "@jupyter-widgets/base",
      "_view_module_version": "1.2.0",
      "_view_name": "LayoutView",
      "align_content": null,
      "align_items": null,
      "align_self": null,
      "border": null,
      "bottom": null,
      "display": null,
      "flex": null,
      "flex_flow": null,
      "grid_area": null,
      "grid_auto_columns": null,
      "grid_auto_flow": null,
      "grid_auto_rows": null,
      "grid_column": null,
      "grid_gap": null,
      "grid_row": null,
      "grid_template_areas": null,
      "grid_template_columns": null,
      "grid_template_rows": null,
      "height": null,
      "justify_content": null,
      "justify_items": null,
      "left": null,
      "margin": null,
      "max_height": null,
      "max_width": null,
      "min_height": null,
      "min_width": null,
      "object_fit": null,
      "object_position": null,
      "order": null,
      "overflow": null,
      "overflow_x": null,
      "overflow_y": null,
      "padding": null,
      "right": null,
      "top": null,
      "visibility": null,
      "width": null
     }
    },
    "2933a2a180034c77991afbc9eae7813a": {
     "model_module": "@jupyter-widgets/controls",
     "model_module_version": "1.5.0",
     "model_name": "DescriptionStyleModel",
     "state": {
      "_model_module": "@jupyter-widgets/controls",
      "_model_module_version": "1.5.0",
      "_model_name": "DescriptionStyleModel",
      "_view_count": null,
      "_view_module": "@jupyter-widgets/base",
      "_view_module_version": "1.2.0",
      "_view_name": "StyleView",
      "description_width": ""
     }
    },
    "2b49cacbbde54a91a3664c831b337d2e": {
     "model_module": "@jupyter-widgets/controls",
     "model_module_version": "1.5.0",
     "model_name": "ProgressStyleModel",
     "state": {
      "_model_module": "@jupyter-widgets/controls",
      "_model_module_version": "1.5.0",
      "_model_name": "ProgressStyleModel",
      "_view_count": null,
      "_view_module": "@jupyter-widgets/base",
      "_view_module_version": "1.2.0",
      "_view_name": "StyleView",
      "bar_color": null,
      "description_width": ""
     }
    },
    "2b98dae54d05459682e7704fe855f505": {
     "model_module": "@jupyter-widgets/base",
     "model_module_version": "1.2.0",
     "model_name": "LayoutModel",
     "state": {
      "_model_module": "@jupyter-widgets/base",
      "_model_module_version": "1.2.0",
      "_model_name": "LayoutModel",
      "_view_count": null,
      "_view_module": "@jupyter-widgets/base",
      "_view_module_version": "1.2.0",
      "_view_name": "LayoutView",
      "align_content": null,
      "align_items": null,
      "align_self": null,
      "border": null,
      "bottom": null,
      "display": null,
      "flex": null,
      "flex_flow": null,
      "grid_area": null,
      "grid_auto_columns": null,
      "grid_auto_flow": null,
      "grid_auto_rows": null,
      "grid_column": null,
      "grid_gap": null,
      "grid_row": null,
      "grid_template_areas": null,
      "grid_template_columns": null,
      "grid_template_rows": null,
      "height": null,
      "justify_content": null,
      "justify_items": null,
      "left": null,
      "margin": null,
      "max_height": null,
      "max_width": null,
      "min_height": null,
      "min_width": null,
      "object_fit": null,
      "object_position": null,
      "order": null,
      "overflow": null,
      "overflow_x": null,
      "overflow_y": null,
      "padding": null,
      "right": null,
      "top": null,
      "visibility": null,
      "width": null
     }
    },
    "2bf3945f3a994184935437cf359a1a82": {
     "model_module": "@jupyter-widgets/controls",
     "model_module_version": "1.5.0",
     "model_name": "DescriptionStyleModel",
     "state": {
      "_model_module": "@jupyter-widgets/controls",
      "_model_module_version": "1.5.0",
      "_model_name": "DescriptionStyleModel",
      "_view_count": null,
      "_view_module": "@jupyter-widgets/base",
      "_view_module_version": "1.2.0",
      "_view_name": "StyleView",
      "description_width": ""
     }
    },
    "2c3a943723e5472994b998c1844dfef4": {
     "model_module": "@jupyter-widgets/controls",
     "model_module_version": "1.5.0",
     "model_name": "HBoxModel",
     "state": {
      "_dom_classes": [],
      "_model_module": "@jupyter-widgets/controls",
      "_model_module_version": "1.5.0",
      "_model_name": "HBoxModel",
      "_view_count": null,
      "_view_module": "@jupyter-widgets/controls",
      "_view_module_version": "1.5.0",
      "_view_name": "HBoxView",
      "box_style": "",
      "children": [
       "IPY_MODEL_5fbca19df1c940dd804dcb59b538d397",
       "IPY_MODEL_fb239e2126594d8f934d606eeda7d05b",
       "IPY_MODEL_929b419bf08542459e10426268c05a5c"
      ],
      "layout": "IPY_MODEL_82e7c1dfc8434d928dc6678b073199fa"
     }
    },
    "2c8ac918b3444c4cae12961456ed0ed5": {
     "model_module": "@jupyter-widgets/controls",
     "model_module_version": "1.5.0",
     "model_name": "HTMLModel",
     "state": {
      "_dom_classes": [],
      "_model_module": "@jupyter-widgets/controls",
      "_model_module_version": "1.5.0",
      "_model_name": "HTMLModel",
      "_view_count": null,
      "_view_module": "@jupyter-widgets/controls",
      "_view_module_version": "1.5.0",
      "_view_name": "HTMLView",
      "description": "",
      "description_tooltip": null,
      "layout": "IPY_MODEL_cac14d38573a44309d5f6201f00b3f3d",
      "placeholder": "​",
      "style": "IPY_MODEL_a67d25eed26649a89a00f6aaf336105b",
      "value": "Getting Inception Predictions: 100%"
     }
    },
    "2cecbb3d915a4860a8ecc7b78eaf1338": {
     "model_module": "@jupyter-widgets/controls",
     "model_module_version": "1.5.0",
     "model_name": "FloatProgressModel",
     "state": {
      "_dom_classes": [],
      "_model_module": "@jupyter-widgets/controls",
      "_model_module_version": "1.5.0",
      "_model_name": "FloatProgressModel",
      "_view_count": null,
      "_view_module": "@jupyter-widgets/controls",
      "_view_module_version": "1.5.0",
      "_view_name": "ProgressView",
      "bar_style": "success",
      "description": "",
      "description_tooltip": null,
      "layout": "IPY_MODEL_d765c4d48348446daba7ccaf16f7577f",
      "max": 16,
      "min": 0,
      "orientation": "horizontal",
      "style": "IPY_MODEL_320bbe5645bc490186ba8dad695449ac",
      "value": 16
     }
    },
    "2d3841d9398b4f239c677a70a5ca7ce2": {
     "model_module": "@jupyter-widgets/base",
     "model_module_version": "1.2.0",
     "model_name": "LayoutModel",
     "state": {
      "_model_module": "@jupyter-widgets/base",
      "_model_module_version": "1.2.0",
      "_model_name": "LayoutModel",
      "_view_count": null,
      "_view_module": "@jupyter-widgets/base",
      "_view_module_version": "1.2.0",
      "_view_name": "LayoutView",
      "align_content": null,
      "align_items": null,
      "align_self": null,
      "border": null,
      "bottom": null,
      "display": null,
      "flex": null,
      "flex_flow": null,
      "grid_area": null,
      "grid_auto_columns": null,
      "grid_auto_flow": null,
      "grid_auto_rows": null,
      "grid_column": null,
      "grid_gap": null,
      "grid_row": null,
      "grid_template_areas": null,
      "grid_template_columns": null,
      "grid_template_rows": null,
      "height": null,
      "justify_content": null,
      "justify_items": null,
      "left": null,
      "margin": null,
      "max_height": null,
      "max_width": null,
      "min_height": null,
      "min_width": null,
      "object_fit": null,
      "object_position": null,
      "order": null,
      "overflow": null,
      "overflow_x": null,
      "overflow_y": null,
      "padding": null,
      "right": null,
      "top": null,
      "visibility": null,
      "width": null
     }
    },
    "2d7a57139dea43f7a42c0134bd753dce": {
     "model_module": "@jupyter-widgets/controls",
     "model_module_version": "1.5.0",
     "model_name": "DescriptionStyleModel",
     "state": {
      "_model_module": "@jupyter-widgets/controls",
      "_model_module_version": "1.5.0",
      "_model_name": "DescriptionStyleModel",
      "_view_count": null,
      "_view_module": "@jupyter-widgets/base",
      "_view_module_version": "1.2.0",
      "_view_name": "StyleView",
      "description_width": ""
     }
    },
    "2dfccf419ecd4ce99581e7414fbc62a4": {
     "model_module": "@jupyter-widgets/base",
     "model_module_version": "1.2.0",
     "model_name": "LayoutModel",
     "state": {
      "_model_module": "@jupyter-widgets/base",
      "_model_module_version": "1.2.0",
      "_model_name": "LayoutModel",
      "_view_count": null,
      "_view_module": "@jupyter-widgets/base",
      "_view_module_version": "1.2.0",
      "_view_name": "LayoutView",
      "align_content": null,
      "align_items": null,
      "align_self": null,
      "border": null,
      "bottom": null,
      "display": null,
      "flex": null,
      "flex_flow": null,
      "grid_area": null,
      "grid_auto_columns": null,
      "grid_auto_flow": null,
      "grid_auto_rows": null,
      "grid_column": null,
      "grid_gap": null,
      "grid_row": null,
      "grid_template_areas": null,
      "grid_template_columns": null,
      "grid_template_rows": null,
      "height": null,
      "justify_content": null,
      "justify_items": null,
      "left": null,
      "margin": null,
      "max_height": null,
      "max_width": null,
      "min_height": null,
      "min_width": null,
      "object_fit": null,
      "object_position": null,
      "order": null,
      "overflow": null,
      "overflow_x": null,
      "overflow_y": null,
      "padding": null,
      "right": null,
      "top": null,
      "visibility": null,
      "width": null
     }
    },
    "2e834b71a03f42d7ae1470062266a6b1": {
     "model_module": "@jupyter-widgets/base",
     "model_module_version": "1.2.0",
     "model_name": "LayoutModel",
     "state": {
      "_model_module": "@jupyter-widgets/base",
      "_model_module_version": "1.2.0",
      "_model_name": "LayoutModel",
      "_view_count": null,
      "_view_module": "@jupyter-widgets/base",
      "_view_module_version": "1.2.0",
      "_view_name": "LayoutView",
      "align_content": null,
      "align_items": null,
      "align_self": null,
      "border": null,
      "bottom": null,
      "display": null,
      "flex": null,
      "flex_flow": null,
      "grid_area": null,
      "grid_auto_columns": null,
      "grid_auto_flow": null,
      "grid_auto_rows": null,
      "grid_column": null,
      "grid_gap": null,
      "grid_row": null,
      "grid_template_areas": null,
      "grid_template_columns": null,
      "grid_template_rows": null,
      "height": null,
      "justify_content": null,
      "justify_items": null,
      "left": null,
      "margin": null,
      "max_height": null,
      "max_width": null,
      "min_height": null,
      "min_width": null,
      "object_fit": null,
      "object_position": null,
      "order": null,
      "overflow": null,
      "overflow_x": null,
      "overflow_y": null,
      "padding": null,
      "right": null,
      "top": null,
      "visibility": null,
      "width": null
     }
    },
    "2ff1b481707e4ec19fa03be8d2069318": {
     "model_module": "@jupyter-widgets/base",
     "model_module_version": "1.2.0",
     "model_name": "LayoutModel",
     "state": {
      "_model_module": "@jupyter-widgets/base",
      "_model_module_version": "1.2.0",
      "_model_name": "LayoutModel",
      "_view_count": null,
      "_view_module": "@jupyter-widgets/base",
      "_view_module_version": "1.2.0",
      "_view_name": "LayoutView",
      "align_content": null,
      "align_items": null,
      "align_self": null,
      "border": null,
      "bottom": null,
      "display": null,
      "flex": null,
      "flex_flow": null,
      "grid_area": null,
      "grid_auto_columns": null,
      "grid_auto_flow": null,
      "grid_auto_rows": null,
      "grid_column": null,
      "grid_gap": null,
      "grid_row": null,
      "grid_template_areas": null,
      "grid_template_columns": null,
      "grid_template_rows": null,
      "height": null,
      "justify_content": null,
      "justify_items": null,
      "left": null,
      "margin": null,
      "max_height": null,
      "max_width": null,
      "min_height": null,
      "min_width": null,
      "object_fit": null,
      "object_position": null,
      "order": null,
      "overflow": null,
      "overflow_x": null,
      "overflow_y": null,
      "padding": null,
      "right": null,
      "top": null,
      "visibility": null,
      "width": null
     }
    },
    "3086826b05d644739861d20f1f632701": {
     "model_module": "@jupyter-widgets/controls",
     "model_module_version": "1.5.0",
     "model_name": "HTMLModel",
     "state": {
      "_dom_classes": [],
      "_model_module": "@jupyter-widgets/controls",
      "_model_module_version": "1.5.0",
      "_model_name": "HTMLModel",
      "_view_count": null,
      "_view_module": "@jupyter-widgets/controls",
      "_view_module_version": "1.5.0",
      "_view_name": "HTMLView",
      "description": "",
      "description_tooltip": null,
      "layout": "IPY_MODEL_be8ba817db174125ba1168ea1de48f38",
      "placeholder": "​",
      "style": "IPY_MODEL_8c63761f9c454e2caae500c5530b5cd6",
      "value": "Calculating NLL: 100%"
     }
    },
    "30d148df82394c0c9412945419302d0f": {
     "model_module": "@jupyter-widgets/base",
     "model_module_version": "1.2.0",
     "model_name": "LayoutModel",
     "state": {
      "_model_module": "@jupyter-widgets/base",
      "_model_module_version": "1.2.0",
      "_model_name": "LayoutModel",
      "_view_count": null,
      "_view_module": "@jupyter-widgets/base",
      "_view_module_version": "1.2.0",
      "_view_name": "LayoutView",
      "align_content": null,
      "align_items": null,
      "align_self": null,
      "border": null,
      "bottom": null,
      "display": null,
      "flex": null,
      "flex_flow": null,
      "grid_area": null,
      "grid_auto_columns": null,
      "grid_auto_flow": null,
      "grid_auto_rows": null,
      "grid_column": null,
      "grid_gap": null,
      "grid_row": null,
      "grid_template_areas": null,
      "grid_template_columns": null,
      "grid_template_rows": null,
      "height": null,
      "justify_content": null,
      "justify_items": null,
      "left": null,
      "margin": null,
      "max_height": null,
      "max_width": null,
      "min_height": null,
      "min_width": null,
      "object_fit": null,
      "object_position": null,
      "order": null,
      "overflow": null,
      "overflow_x": null,
      "overflow_y": null,
      "padding": null,
      "right": null,
      "top": null,
      "visibility": null,
      "width": null
     }
    },
    "320bbe5645bc490186ba8dad695449ac": {
     "model_module": "@jupyter-widgets/controls",
     "model_module_version": "1.5.0",
     "model_name": "ProgressStyleModel",
     "state": {
      "_model_module": "@jupyter-widgets/controls",
      "_model_module_version": "1.5.0",
      "_model_name": "ProgressStyleModel",
      "_view_count": null,
      "_view_module": "@jupyter-widgets/base",
      "_view_module_version": "1.2.0",
      "_view_name": "StyleView",
      "bar_color": null,
      "description_width": ""
     }
    },
    "321abd4a295044bdb83ce9695d9d8e23": {
     "model_module": "@jupyter-widgets/controls",
     "model_module_version": "1.5.0",
     "model_name": "HTMLModel",
     "state": {
      "_dom_classes": [],
      "_model_module": "@jupyter-widgets/controls",
      "_model_module_version": "1.5.0",
      "_model_name": "HTMLModel",
      "_view_count": null,
      "_view_module": "@jupyter-widgets/controls",
      "_view_module_version": "1.5.0",
      "_view_name": "HTMLView",
      "description": "",
      "description_tooltip": null,
      "layout": "IPY_MODEL_57b1348aa9ad4f969933e5064480ec2a",
      "placeholder": "​",
      "style": "IPY_MODEL_01184f6c68f34aceb7f75ce7458f937e",
      "value": "Getting Inception Predictions: 100%"
     }
    },
    "329b967020984fbebe1f3e25d0a84bf4": {
     "model_module": "@jupyter-widgets/base",
     "model_module_version": "1.2.0",
     "model_name": "LayoutModel",
     "state": {
      "_model_module": "@jupyter-widgets/base",
      "_model_module_version": "1.2.0",
      "_model_name": "LayoutModel",
      "_view_count": null,
      "_view_module": "@jupyter-widgets/base",
      "_view_module_version": "1.2.0",
      "_view_name": "LayoutView",
      "align_content": null,
      "align_items": null,
      "align_self": null,
      "border": null,
      "bottom": null,
      "display": null,
      "flex": null,
      "flex_flow": null,
      "grid_area": null,
      "grid_auto_columns": null,
      "grid_auto_flow": null,
      "grid_auto_rows": null,
      "grid_column": null,
      "grid_gap": null,
      "grid_row": null,
      "grid_template_areas": null,
      "grid_template_columns": null,
      "grid_template_rows": null,
      "height": null,
      "justify_content": null,
      "justify_items": null,
      "left": null,
      "margin": null,
      "max_height": null,
      "max_width": null,
      "min_height": null,
      "min_width": null,
      "object_fit": null,
      "object_position": null,
      "order": null,
      "overflow": null,
      "overflow_x": null,
      "overflow_y": null,
      "padding": null,
      "right": null,
      "top": null,
      "visibility": null,
      "width": null
     }
    },
    "32fc1896f1df4fd792370a903b6f1e4c": {
     "model_module": "@jupyter-widgets/controls",
     "model_module_version": "1.5.0",
     "model_name": "HTMLModel",
     "state": {
      "_dom_classes": [],
      "_model_module": "@jupyter-widgets/controls",
      "_model_module_version": "1.5.0",
      "_model_name": "HTMLModel",
      "_view_count": null,
      "_view_module": "@jupyter-widgets/controls",
      "_view_module_version": "1.5.0",
      "_view_name": "HTMLView",
      "description": "",
      "description_tooltip": null,
      "layout": "IPY_MODEL_1260c4cc16c54688b00baa2a63aa433a",
      "placeholder": "​",
      "style": "IPY_MODEL_684cc6a9e4f5485fa5533ea9cd07965c",
      "value": " 7/7 [00:00&lt;00:00,  7.95it/s]"
     }
    },
    "344f9ec030884faaa9be476f73e2fd45": {
     "model_module": "@jupyter-widgets/controls",
     "model_module_version": "1.5.0",
     "model_name": "FloatProgressModel",
     "state": {
      "_dom_classes": [],
      "_model_module": "@jupyter-widgets/controls",
      "_model_module_version": "1.5.0",
      "_model_name": "FloatProgressModel",
      "_view_count": null,
      "_view_module": "@jupyter-widgets/controls",
      "_view_module_version": "1.5.0",
      "_view_name": "ProgressView",
      "bar_style": "success",
      "description": "",
      "description_tooltip": null,
      "layout": "IPY_MODEL_652d349367d14240a9399e225d641ed2",
      "max": 7,
      "min": 0,
      "orientation": "horizontal",
      "style": "IPY_MODEL_db6b1dc6051642a2bff17d2595f7463a",
      "value": 7
     }
    },
    "346f84c5d03d4d5493c1ccb22f393c6a": {
     "model_module": "@jupyter-widgets/controls",
     "model_module_version": "1.5.0",
     "model_name": "HBoxModel",
     "state": {
      "_dom_classes": [],
      "_model_module": "@jupyter-widgets/controls",
      "_model_module_version": "1.5.0",
      "_model_name": "HBoxModel",
      "_view_count": null,
      "_view_module": "@jupyter-widgets/controls",
      "_view_module_version": "1.5.0",
      "_view_name": "HBoxView",
      "box_style": "",
      "children": [
       "IPY_MODEL_228bb1353032472d82eb224c44196155",
       "IPY_MODEL_344f9ec030884faaa9be476f73e2fd45",
       "IPY_MODEL_18dc02e4564e459e8f79f0ce7b473ecc"
      ],
      "layout": "IPY_MODEL_aeebc6848a864d169e8469235347b508"
     }
    },
    "34d5ef8020044d2eb6b5277231533031": {
     "model_module": "@jupyter-widgets/base",
     "model_module_version": "1.2.0",
     "model_name": "LayoutModel",
     "state": {
      "_model_module": "@jupyter-widgets/base",
      "_model_module_version": "1.2.0",
      "_model_name": "LayoutModel",
      "_view_count": null,
      "_view_module": "@jupyter-widgets/base",
      "_view_module_version": "1.2.0",
      "_view_name": "LayoutView",
      "align_content": null,
      "align_items": null,
      "align_self": null,
      "border": null,
      "bottom": null,
      "display": null,
      "flex": null,
      "flex_flow": null,
      "grid_area": null,
      "grid_auto_columns": null,
      "grid_auto_flow": null,
      "grid_auto_rows": null,
      "grid_column": null,
      "grid_gap": null,
      "grid_row": null,
      "grid_template_areas": null,
      "grid_template_columns": null,
      "grid_template_rows": null,
      "height": null,
      "justify_content": null,
      "justify_items": null,
      "left": null,
      "margin": null,
      "max_height": null,
      "max_width": null,
      "min_height": null,
      "min_width": null,
      "object_fit": null,
      "object_position": null,
      "order": null,
      "overflow": null,
      "overflow_x": null,
      "overflow_y": null,
      "padding": null,
      "right": null,
      "top": null,
      "visibility": null,
      "width": null
     }
    },
    "364946fb1a5841ddbca6771d0bd69143": {
     "model_module": "@jupyter-widgets/controls",
     "model_module_version": "1.5.0",
     "model_name": "HBoxModel",
     "state": {
      "_dom_classes": [],
      "_model_module": "@jupyter-widgets/controls",
      "_model_module_version": "1.5.0",
      "_model_name": "HBoxModel",
      "_view_count": null,
      "_view_module": "@jupyter-widgets/controls",
      "_view_module_version": "1.5.0",
      "_view_name": "HBoxView",
      "box_style": "",
      "children": [
       "IPY_MODEL_8079b1a9e7e74f59b392f5f65967695a",
       "IPY_MODEL_247add0f525a44ef975942d95dba3f34",
       "IPY_MODEL_ebedea24be36411b9cc6715d543dc875"
      ],
      "layout": "IPY_MODEL_63ad47b20cc6476da398f4dc4569e1ed"
     }
    },
    "368ab48a1f4d4c4f95692042536cb93f": {
     "model_module": "@jupyter-widgets/base",
     "model_module_version": "1.2.0",
     "model_name": "LayoutModel",
     "state": {
      "_model_module": "@jupyter-widgets/base",
      "_model_module_version": "1.2.0",
      "_model_name": "LayoutModel",
      "_view_count": null,
      "_view_module": "@jupyter-widgets/base",
      "_view_module_version": "1.2.0",
      "_view_name": "LayoutView",
      "align_content": null,
      "align_items": null,
      "align_self": null,
      "border": null,
      "bottom": null,
      "display": null,
      "flex": null,
      "flex_flow": null,
      "grid_area": null,
      "grid_auto_columns": null,
      "grid_auto_flow": null,
      "grid_auto_rows": null,
      "grid_column": null,
      "grid_gap": null,
      "grid_row": null,
      "grid_template_areas": null,
      "grid_template_columns": null,
      "grid_template_rows": null,
      "height": null,
      "justify_content": null,
      "justify_items": null,
      "left": null,
      "margin": null,
      "max_height": null,
      "max_width": null,
      "min_height": null,
      "min_width": null,
      "object_fit": null,
      "object_position": null,
      "order": null,
      "overflow": null,
      "overflow_x": null,
      "overflow_y": null,
      "padding": null,
      "right": null,
      "top": null,
      "visibility": null,
      "width": null
     }
    },
    "374095a0cf9b4bde9a2155c4d0000705": {
     "model_module": "@jupyter-widgets/controls",
     "model_module_version": "1.5.0",
     "model_name": "HTMLModel",
     "state": {
      "_dom_classes": [],
      "_model_module": "@jupyter-widgets/controls",
      "_model_module_version": "1.5.0",
      "_model_name": "HTMLModel",
      "_view_count": null,
      "_view_module": "@jupyter-widgets/controls",
      "_view_module_version": "1.5.0",
      "_view_name": "HTMLView",
      "description": "",
      "description_tooltip": null,
      "layout": "IPY_MODEL_6e92f828a3e54daf840368cddd19a4c4",
      "placeholder": "​",
      "style": "IPY_MODEL_491989a59a3d4a89afddbc782fa39fe4",
      "value": " 16/16 [11:11&lt;00:00, 38.33s/it]"
     }
    },
    "384b9f18a5ce4255aff3f7ed05fc3606": {
     "model_module": "@jupyter-widgets/base",
     "model_module_version": "1.2.0",
     "model_name": "LayoutModel",
     "state": {
      "_model_module": "@jupyter-widgets/base",
      "_model_module_version": "1.2.0",
      "_model_name": "LayoutModel",
      "_view_count": null,
      "_view_module": "@jupyter-widgets/base",
      "_view_module_version": "1.2.0",
      "_view_name": "LayoutView",
      "align_content": null,
      "align_items": null,
      "align_self": null,
      "border": null,
      "bottom": null,
      "display": null,
      "flex": null,
      "flex_flow": null,
      "grid_area": null,
      "grid_auto_columns": null,
      "grid_auto_flow": null,
      "grid_auto_rows": null,
      "grid_column": null,
      "grid_gap": null,
      "grid_row": null,
      "grid_template_areas": null,
      "grid_template_columns": null,
      "grid_template_rows": null,
      "height": null,
      "justify_content": null,
      "justify_items": null,
      "left": null,
      "margin": null,
      "max_height": null,
      "max_width": null,
      "min_height": null,
      "min_width": null,
      "object_fit": null,
      "object_position": null,
      "order": null,
      "overflow": null,
      "overflow_x": null,
      "overflow_y": null,
      "padding": null,
      "right": null,
      "top": null,
      "visibility": null,
      "width": null
     }
    },
    "38ddb4327183434b9bda132e89ff7401": {
     "model_module": "@jupyter-widgets/base",
     "model_module_version": "1.2.0",
     "model_name": "LayoutModel",
     "state": {
      "_model_module": "@jupyter-widgets/base",
      "_model_module_version": "1.2.0",
      "_model_name": "LayoutModel",
      "_view_count": null,
      "_view_module": "@jupyter-widgets/base",
      "_view_module_version": "1.2.0",
      "_view_name": "LayoutView",
      "align_content": null,
      "align_items": null,
      "align_self": null,
      "border": null,
      "bottom": null,
      "display": null,
      "flex": null,
      "flex_flow": null,
      "grid_area": null,
      "grid_auto_columns": null,
      "grid_auto_flow": null,
      "grid_auto_rows": null,
      "grid_column": null,
      "grid_gap": null,
      "grid_row": null,
      "grid_template_areas": null,
      "grid_template_columns": null,
      "grid_template_rows": null,
      "height": null,
      "justify_content": null,
      "justify_items": null,
      "left": null,
      "margin": null,
      "max_height": null,
      "max_width": null,
      "min_height": null,
      "min_width": null,
      "object_fit": null,
      "object_position": null,
      "order": null,
      "overflow": null,
      "overflow_x": null,
      "overflow_y": null,
      "padding": null,
      "right": null,
      "top": null,
      "visibility": null,
      "width": null
     }
    },
    "3922a4f2d0c84ccabb7745cdc73d0d97": {
     "model_module": "@jupyter-widgets/controls",
     "model_module_version": "1.5.0",
     "model_name": "DescriptionStyleModel",
     "state": {
      "_model_module": "@jupyter-widgets/controls",
      "_model_module_version": "1.5.0",
      "_model_name": "DescriptionStyleModel",
      "_view_count": null,
      "_view_module": "@jupyter-widgets/base",
      "_view_module_version": "1.2.0",
      "_view_name": "StyleView",
      "description_width": ""
     }
    },
    "393f37cdd089435299b04516a5c0b356": {
     "model_module": "@jupyter-widgets/controls",
     "model_module_version": "1.5.0",
     "model_name": "ProgressStyleModel",
     "state": {
      "_model_module": "@jupyter-widgets/controls",
      "_model_module_version": "1.5.0",
      "_model_name": "ProgressStyleModel",
      "_view_count": null,
      "_view_module": "@jupyter-widgets/base",
      "_view_module_version": "1.2.0",
      "_view_name": "StyleView",
      "bar_color": null,
      "description_width": ""
     }
    },
    "39dc3a98625746c38c194ccdd05adfe1": {
     "model_module": "@jupyter-widgets/base",
     "model_module_version": "1.2.0",
     "model_name": "LayoutModel",
     "state": {
      "_model_module": "@jupyter-widgets/base",
      "_model_module_version": "1.2.0",
      "_model_name": "LayoutModel",
      "_view_count": null,
      "_view_module": "@jupyter-widgets/base",
      "_view_module_version": "1.2.0",
      "_view_name": "LayoutView",
      "align_content": null,
      "align_items": null,
      "align_self": null,
      "border": null,
      "bottom": null,
      "display": null,
      "flex": null,
      "flex_flow": null,
      "grid_area": null,
      "grid_auto_columns": null,
      "grid_auto_flow": null,
      "grid_auto_rows": null,
      "grid_column": null,
      "grid_gap": null,
      "grid_row": null,
      "grid_template_areas": null,
      "grid_template_columns": null,
      "grid_template_rows": null,
      "height": null,
      "justify_content": null,
      "justify_items": null,
      "left": null,
      "margin": null,
      "max_height": null,
      "max_width": null,
      "min_height": null,
      "min_width": null,
      "object_fit": null,
      "object_position": null,
      "order": null,
      "overflow": null,
      "overflow_x": null,
      "overflow_y": null,
      "padding": null,
      "right": null,
      "top": null,
      "visibility": null,
      "width": null
     }
    },
    "3a1f7d6b8e1c45d7b3c0760b0b49ed4e": {
     "model_module": "@jupyter-widgets/base",
     "model_module_version": "1.2.0",
     "model_name": "LayoutModel",
     "state": {
      "_model_module": "@jupyter-widgets/base",
      "_model_module_version": "1.2.0",
      "_model_name": "LayoutModel",
      "_view_count": null,
      "_view_module": "@jupyter-widgets/base",
      "_view_module_version": "1.2.0",
      "_view_name": "LayoutView",
      "align_content": null,
      "align_items": null,
      "align_self": null,
      "border": null,
      "bottom": null,
      "display": null,
      "flex": null,
      "flex_flow": null,
      "grid_area": null,
      "grid_auto_columns": null,
      "grid_auto_flow": null,
      "grid_auto_rows": null,
      "grid_column": null,
      "grid_gap": null,
      "grid_row": null,
      "grid_template_areas": null,
      "grid_template_columns": null,
      "grid_template_rows": null,
      "height": null,
      "justify_content": null,
      "justify_items": null,
      "left": null,
      "margin": null,
      "max_height": null,
      "max_width": null,
      "min_height": null,
      "min_width": null,
      "object_fit": null,
      "object_position": null,
      "order": null,
      "overflow": null,
      "overflow_x": null,
      "overflow_y": null,
      "padding": null,
      "right": null,
      "top": null,
      "visibility": null,
      "width": null
     }
    },
    "3a4a5380f23a42c9a31ff85e2036097d": {
     "model_module": "@jupyter-widgets/controls",
     "model_module_version": "1.5.0",
     "model_name": "HBoxModel",
     "state": {
      "_dom_classes": [],
      "_model_module": "@jupyter-widgets/controls",
      "_model_module_version": "1.5.0",
      "_model_name": "HBoxModel",
      "_view_count": null,
      "_view_module": "@jupyter-widgets/controls",
      "_view_module_version": "1.5.0",
      "_view_name": "HBoxView",
      "box_style": "",
      "children": [
       "IPY_MODEL_55ed0485c43e41a8adcd33216d886381",
       "IPY_MODEL_05b42b4e87b4428ba0c81ac15954cfa6",
       "IPY_MODEL_d9ba086ee565471ebcbb22abd71dd336"
      ],
      "layout": "IPY_MODEL_368ab48a1f4d4c4f95692042536cb93f"
     }
    },
    "3b981f0c546945f1a2f387522f5425be": {
     "model_module": "@jupyter-widgets/base",
     "model_module_version": "1.2.0",
     "model_name": "LayoutModel",
     "state": {
      "_model_module": "@jupyter-widgets/base",
      "_model_module_version": "1.2.0",
      "_model_name": "LayoutModel",
      "_view_count": null,
      "_view_module": "@jupyter-widgets/base",
      "_view_module_version": "1.2.0",
      "_view_name": "LayoutView",
      "align_content": null,
      "align_items": null,
      "align_self": null,
      "border": null,
      "bottom": null,
      "display": null,
      "flex": null,
      "flex_flow": null,
      "grid_area": null,
      "grid_auto_columns": null,
      "grid_auto_flow": null,
      "grid_auto_rows": null,
      "grid_column": null,
      "grid_gap": null,
      "grid_row": null,
      "grid_template_areas": null,
      "grid_template_columns": null,
      "grid_template_rows": null,
      "height": null,
      "justify_content": null,
      "justify_items": null,
      "left": null,
      "margin": null,
      "max_height": null,
      "max_width": null,
      "min_height": null,
      "min_width": null,
      "object_fit": null,
      "object_position": null,
      "order": null,
      "overflow": null,
      "overflow_x": null,
      "overflow_y": null,
      "padding": null,
      "right": null,
      "top": null,
      "visibility": null,
      "width": null
     }
    },
    "3ba05a20ed6d480685c6f8787a405c8b": {
     "model_module": "@jupyter-widgets/controls",
     "model_module_version": "1.5.0",
     "model_name": "HTMLModel",
     "state": {
      "_dom_classes": [],
      "_model_module": "@jupyter-widgets/controls",
      "_model_module_version": "1.5.0",
      "_model_name": "HTMLModel",
      "_view_count": null,
      "_view_module": "@jupyter-widgets/controls",
      "_view_module_version": "1.5.0",
      "_view_name": "HTMLView",
      "description": "",
      "description_tooltip": null,
      "layout": "IPY_MODEL_1ccf0ee22da342b5ad794d7a375a6979",
      "placeholder": "​",
      "style": "IPY_MODEL_0cae9a8c53e74ac3bd9aca3d2eefb61c",
      "value": "Calculating NLL: 100%"
     }
    },
    "3da34997491d434c84a204073f6dff80": {
     "model_module": "@jupyter-widgets/base",
     "model_module_version": "1.2.0",
     "model_name": "LayoutModel",
     "state": {
      "_model_module": "@jupyter-widgets/base",
      "_model_module_version": "1.2.0",
      "_model_name": "LayoutModel",
      "_view_count": null,
      "_view_module": "@jupyter-widgets/base",
      "_view_module_version": "1.2.0",
      "_view_name": "LayoutView",
      "align_content": null,
      "align_items": null,
      "align_self": null,
      "border": null,
      "bottom": null,
      "display": null,
      "flex": null,
      "flex_flow": null,
      "grid_area": null,
      "grid_auto_columns": null,
      "grid_auto_flow": null,
      "grid_auto_rows": null,
      "grid_column": null,
      "grid_gap": null,
      "grid_row": null,
      "grid_template_areas": null,
      "grid_template_columns": null,
      "grid_template_rows": null,
      "height": null,
      "justify_content": null,
      "justify_items": null,
      "left": null,
      "margin": null,
      "max_height": null,
      "max_width": null,
      "min_height": null,
      "min_width": null,
      "object_fit": null,
      "object_position": null,
      "order": null,
      "overflow": null,
      "overflow_x": null,
      "overflow_y": null,
      "padding": null,
      "right": null,
      "top": null,
      "visibility": null,
      "width": null
     }
    },
    "3f79b9eef03748299032177c4ae58217": {
     "model_module": "@jupyter-widgets/base",
     "model_module_version": "1.2.0",
     "model_name": "LayoutModel",
     "state": {
      "_model_module": "@jupyter-widgets/base",
      "_model_module_version": "1.2.0",
      "_model_name": "LayoutModel",
      "_view_count": null,
      "_view_module": "@jupyter-widgets/base",
      "_view_module_version": "1.2.0",
      "_view_name": "LayoutView",
      "align_content": null,
      "align_items": null,
      "align_self": null,
      "border": null,
      "bottom": null,
      "display": null,
      "flex": null,
      "flex_flow": null,
      "grid_area": null,
      "grid_auto_columns": null,
      "grid_auto_flow": null,
      "grid_auto_rows": null,
      "grid_column": null,
      "grid_gap": null,
      "grid_row": null,
      "grid_template_areas": null,
      "grid_template_columns": null,
      "grid_template_rows": null,
      "height": null,
      "justify_content": null,
      "justify_items": null,
      "left": null,
      "margin": null,
      "max_height": null,
      "max_width": null,
      "min_height": null,
      "min_width": null,
      "object_fit": null,
      "object_position": null,
      "order": null,
      "overflow": null,
      "overflow_x": null,
      "overflow_y": null,
      "padding": null,
      "right": null,
      "top": null,
      "visibility": null,
      "width": null
     }
    },
    "403b798013af4896b0ceba03ef8bc5ac": {
     "model_module": "@jupyter-widgets/base",
     "model_module_version": "1.2.0",
     "model_name": "LayoutModel",
     "state": {
      "_model_module": "@jupyter-widgets/base",
      "_model_module_version": "1.2.0",
      "_model_name": "LayoutModel",
      "_view_count": null,
      "_view_module": "@jupyter-widgets/base",
      "_view_module_version": "1.2.0",
      "_view_name": "LayoutView",
      "align_content": null,
      "align_items": null,
      "align_self": null,
      "border": null,
      "bottom": null,
      "display": null,
      "flex": null,
      "flex_flow": null,
      "grid_area": null,
      "grid_auto_columns": null,
      "grid_auto_flow": null,
      "grid_auto_rows": null,
      "grid_column": null,
      "grid_gap": null,
      "grid_row": null,
      "grid_template_areas": null,
      "grid_template_columns": null,
      "grid_template_rows": null,
      "height": null,
      "justify_content": null,
      "justify_items": null,
      "left": null,
      "margin": null,
      "max_height": null,
      "max_width": null,
      "min_height": null,
      "min_width": null,
      "object_fit": null,
      "object_position": null,
      "order": null,
      "overflow": null,
      "overflow_x": null,
      "overflow_y": null,
      "padding": null,
      "right": null,
      "top": null,
      "visibility": null,
      "width": null
     }
    },
    "40b908de9662431e8698d6a88f4ac87e": {
     "model_module": "@jupyter-widgets/base",
     "model_module_version": "1.2.0",
     "model_name": "LayoutModel",
     "state": {
      "_model_module": "@jupyter-widgets/base",
      "_model_module_version": "1.2.0",
      "_model_name": "LayoutModel",
      "_view_count": null,
      "_view_module": "@jupyter-widgets/base",
      "_view_module_version": "1.2.0",
      "_view_name": "LayoutView",
      "align_content": null,
      "align_items": null,
      "align_self": null,
      "border": null,
      "bottom": null,
      "display": null,
      "flex": null,
      "flex_flow": null,
      "grid_area": null,
      "grid_auto_columns": null,
      "grid_auto_flow": null,
      "grid_auto_rows": null,
      "grid_column": null,
      "grid_gap": null,
      "grid_row": null,
      "grid_template_areas": null,
      "grid_template_columns": null,
      "grid_template_rows": null,
      "height": null,
      "justify_content": null,
      "justify_items": null,
      "left": null,
      "margin": null,
      "max_height": null,
      "max_width": null,
      "min_height": null,
      "min_width": null,
      "object_fit": null,
      "object_position": null,
      "order": null,
      "overflow": null,
      "overflow_x": null,
      "overflow_y": null,
      "padding": null,
      "right": null,
      "top": null,
      "visibility": null,
      "width": null
     }
    },
    "41beb1f2bb7742359c405dba24ac2a6e": {
     "model_module": "@jupyter-widgets/controls",
     "model_module_version": "1.5.0",
     "model_name": "HBoxModel",
     "state": {
      "_dom_classes": [],
      "_model_module": "@jupyter-widgets/controls",
      "_model_module_version": "1.5.0",
      "_model_name": "HBoxModel",
      "_view_count": null,
      "_view_module": "@jupyter-widgets/controls",
      "_view_module_version": "1.5.0",
      "_view_name": "HBoxView",
      "box_style": "",
      "children": [
       "IPY_MODEL_ed741d909c6b4707a68a5c72597320c3",
       "IPY_MODEL_cf72d660405746ee86f22e0718add9d1",
       "IPY_MODEL_f368a356495f4e6aaa21a54c26146503"
      ],
      "layout": "IPY_MODEL_a1b0f6076d4b43aebf51b559609e6bcf"
     }
    },
    "4257a7a53c2b4fa8a947459e3e75b9ee": {
     "model_module": "@jupyter-widgets/controls",
     "model_module_version": "1.5.0",
     "model_name": "HBoxModel",
     "state": {
      "_dom_classes": [],
      "_model_module": "@jupyter-widgets/controls",
      "_model_module_version": "1.5.0",
      "_model_name": "HBoxModel",
      "_view_count": null,
      "_view_module": "@jupyter-widgets/controls",
      "_view_module_version": "1.5.0",
      "_view_name": "HBoxView",
      "box_style": "",
      "children": [
       "IPY_MODEL_1f2ff88acd9a4d03b55e3a7562035318",
       "IPY_MODEL_0c5210d86e4b45acaef6adfefa77e672",
       "IPY_MODEL_5f25e0249b8c4d328ca0ca74129f3710"
      ],
      "layout": "IPY_MODEL_ba2cf09c2f2748e19d2291817cf4e933"
     }
    },
    "4301d41b899842d499c654ca109583d6": {
     "model_module": "@jupyter-widgets/controls",
     "model_module_version": "1.5.0",
     "model_name": "HBoxModel",
     "state": {
      "_dom_classes": [],
      "_model_module": "@jupyter-widgets/controls",
      "_model_module_version": "1.5.0",
      "_model_name": "HBoxModel",
      "_view_count": null,
      "_view_module": "@jupyter-widgets/controls",
      "_view_module_version": "1.5.0",
      "_view_name": "HBoxView",
      "box_style": "",
      "children": [
       "IPY_MODEL_ef06053baafc43a892bb9ff9b674d355",
       "IPY_MODEL_cc9d9e1eb82849b2a5a8b0ef14f4a3b1",
       "IPY_MODEL_374095a0cf9b4bde9a2155c4d0000705"
      ],
      "layout": "IPY_MODEL_db64a49c804249b2a8542f5ae4897d3e"
     }
    },
    "432f5c1a52f545b494282d12835497aa": {
     "model_module": "@jupyter-widgets/base",
     "model_module_version": "1.2.0",
     "model_name": "LayoutModel",
     "state": {
      "_model_module": "@jupyter-widgets/base",
      "_model_module_version": "1.2.0",
      "_model_name": "LayoutModel",
      "_view_count": null,
      "_view_module": "@jupyter-widgets/base",
      "_view_module_version": "1.2.0",
      "_view_name": "LayoutView",
      "align_content": null,
      "align_items": null,
      "align_self": null,
      "border": null,
      "bottom": null,
      "display": null,
      "flex": null,
      "flex_flow": null,
      "grid_area": null,
      "grid_auto_columns": null,
      "grid_auto_flow": null,
      "grid_auto_rows": null,
      "grid_column": null,
      "grid_gap": null,
      "grid_row": null,
      "grid_template_areas": null,
      "grid_template_columns": null,
      "grid_template_rows": null,
      "height": null,
      "justify_content": null,
      "justify_items": null,
      "left": null,
      "margin": null,
      "max_height": null,
      "max_width": null,
      "min_height": null,
      "min_width": null,
      "object_fit": null,
      "object_position": null,
      "order": null,
      "overflow": null,
      "overflow_x": null,
      "overflow_y": null,
      "padding": null,
      "right": null,
      "top": null,
      "visibility": null,
      "width": null
     }
    },
    "43fd5ddf333c4051bc54ca307458b285": {
     "model_module": "@jupyter-widgets/controls",
     "model_module_version": "1.5.0",
     "model_name": "DescriptionStyleModel",
     "state": {
      "_model_module": "@jupyter-widgets/controls",
      "_model_module_version": "1.5.0",
      "_model_name": "DescriptionStyleModel",
      "_view_count": null,
      "_view_module": "@jupyter-widgets/base",
      "_view_module_version": "1.2.0",
      "_view_name": "StyleView",
      "description_width": ""
     }
    },
    "446c57f63fd141e6b44511b3c0388fea": {
     "model_module": "@jupyter-widgets/controls",
     "model_module_version": "1.5.0",
     "model_name": "FloatProgressModel",
     "state": {
      "_dom_classes": [],
      "_model_module": "@jupyter-widgets/controls",
      "_model_module_version": "1.5.0",
      "_model_name": "FloatProgressModel",
      "_view_count": null,
      "_view_module": "@jupyter-widgets/controls",
      "_view_module_version": "1.5.0",
      "_view_name": "ProgressView",
      "bar_style": "success",
      "description": "",
      "description_tooltip": null,
      "layout": "IPY_MODEL_b0b363c6c92c4c768bddae5ee842d53f",
      "max": 16,
      "min": 0,
      "orientation": "horizontal",
      "style": "IPY_MODEL_adcbf8ee76714b21933b50764fa16f4a",
      "value": 16
     }
    },
    "44b77e7cb8cd4cc1aca2641192ac12bb": {
     "model_module": "@jupyter-widgets/base",
     "model_module_version": "1.2.0",
     "model_name": "LayoutModel",
     "state": {
      "_model_module": "@jupyter-widgets/base",
      "_model_module_version": "1.2.0",
      "_model_name": "LayoutModel",
      "_view_count": null,
      "_view_module": "@jupyter-widgets/base",
      "_view_module_version": "1.2.0",
      "_view_name": "LayoutView",
      "align_content": null,
      "align_items": null,
      "align_self": null,
      "border": null,
      "bottom": null,
      "display": null,
      "flex": null,
      "flex_flow": null,
      "grid_area": null,
      "grid_auto_columns": null,
      "grid_auto_flow": null,
      "grid_auto_rows": null,
      "grid_column": null,
      "grid_gap": null,
      "grid_row": null,
      "grid_template_areas": null,
      "grid_template_columns": null,
      "grid_template_rows": null,
      "height": null,
      "justify_content": null,
      "justify_items": null,
      "left": null,
      "margin": null,
      "max_height": null,
      "max_width": null,
      "min_height": null,
      "min_width": null,
      "object_fit": null,
      "object_position": null,
      "order": null,
      "overflow": null,
      "overflow_x": null,
      "overflow_y": null,
      "padding": null,
      "right": null,
      "top": null,
      "visibility": null,
      "width": null
     }
    },
    "450c0771ebb0491e9e9f3e8f08876062": {
     "model_module": "@jupyter-widgets/controls",
     "model_module_version": "1.5.0",
     "model_name": "FloatProgressModel",
     "state": {
      "_dom_classes": [],
      "_model_module": "@jupyter-widgets/controls",
      "_model_module_version": "1.5.0",
      "_model_name": "FloatProgressModel",
      "_view_count": null,
      "_view_module": "@jupyter-widgets/controls",
      "_view_module_version": "1.5.0",
      "_view_name": "ProgressView",
      "bar_style": "success",
      "description": "",
      "description_tooltip": null,
      "layout": "IPY_MODEL_bef2b82b575b4b12bf7e55565f04ec28",
      "max": 7,
      "min": 0,
      "orientation": "horizontal",
      "style": "IPY_MODEL_d9755ba65e144874873e015ed0eee009",
      "value": 7
     }
    },
    "45413c7352434a2792341ff54dbf2945": {
     "model_module": "@jupyter-widgets/controls",
     "model_module_version": "1.5.0",
     "model_name": "DescriptionStyleModel",
     "state": {
      "_model_module": "@jupyter-widgets/controls",
      "_model_module_version": "1.5.0",
      "_model_name": "DescriptionStyleModel",
      "_view_count": null,
      "_view_module": "@jupyter-widgets/base",
      "_view_module_version": "1.2.0",
      "_view_name": "StyleView",
      "description_width": ""
     }
    },
    "45d990b925e84e7b879b964484373dc6": {
     "model_module": "@jupyter-widgets/controls",
     "model_module_version": "1.5.0",
     "model_name": "ProgressStyleModel",
     "state": {
      "_model_module": "@jupyter-widgets/controls",
      "_model_module_version": "1.5.0",
      "_model_name": "ProgressStyleModel",
      "_view_count": null,
      "_view_module": "@jupyter-widgets/base",
      "_view_module_version": "1.2.0",
      "_view_name": "StyleView",
      "bar_color": null,
      "description_width": ""
     }
    },
    "46489bf926fc4f26885c728240a386e7": {
     "model_module": "@jupyter-widgets/base",
     "model_module_version": "1.2.0",
     "model_name": "LayoutModel",
     "state": {
      "_model_module": "@jupyter-widgets/base",
      "_model_module_version": "1.2.0",
      "_model_name": "LayoutModel",
      "_view_count": null,
      "_view_module": "@jupyter-widgets/base",
      "_view_module_version": "1.2.0",
      "_view_name": "LayoutView",
      "align_content": null,
      "align_items": null,
      "align_self": null,
      "border": null,
      "bottom": null,
      "display": null,
      "flex": null,
      "flex_flow": null,
      "grid_area": null,
      "grid_auto_columns": null,
      "grid_auto_flow": null,
      "grid_auto_rows": null,
      "grid_column": null,
      "grid_gap": null,
      "grid_row": null,
      "grid_template_areas": null,
      "grid_template_columns": null,
      "grid_template_rows": null,
      "height": null,
      "justify_content": null,
      "justify_items": null,
      "left": null,
      "margin": null,
      "max_height": null,
      "max_width": null,
      "min_height": null,
      "min_width": null,
      "object_fit": null,
      "object_position": null,
      "order": null,
      "overflow": null,
      "overflow_x": null,
      "overflow_y": null,
      "padding": null,
      "right": null,
      "top": null,
      "visibility": null,
      "width": null
     }
    },
    "46cb3807e3234175b08801be49455d60": {
     "model_module": "@jupyter-widgets/controls",
     "model_module_version": "1.5.0",
     "model_name": "HTMLModel",
     "state": {
      "_dom_classes": [],
      "_model_module": "@jupyter-widgets/controls",
      "_model_module_version": "1.5.0",
      "_model_name": "HTMLModel",
      "_view_count": null,
      "_view_module": "@jupyter-widgets/controls",
      "_view_module_version": "1.5.0",
      "_view_name": "HTMLView",
      "description": "",
      "description_tooltip": null,
      "layout": "IPY_MODEL_b08a8044e74c440996fa68b1e37eca8d",
      "placeholder": "​",
      "style": "IPY_MODEL_ff4220737cf64959843edaaa577a0b85",
      "value": " 16/16 [04:10&lt;00:00, 14.40s/it]"
     }
    },
    "470fdec220774c0795120b12056e63d7": {
     "model_module": "@jupyter-widgets/controls",
     "model_module_version": "1.5.0",
     "model_name": "DescriptionStyleModel",
     "state": {
      "_model_module": "@jupyter-widgets/controls",
      "_model_module_version": "1.5.0",
      "_model_name": "DescriptionStyleModel",
      "_view_count": null,
      "_view_module": "@jupyter-widgets/base",
      "_view_module_version": "1.2.0",
      "_view_name": "StyleView",
      "description_width": ""
     }
    },
    "486da14c0fa44cfab176d4685c496c1a": {
     "model_module": "@jupyter-widgets/base",
     "model_module_version": "1.2.0",
     "model_name": "LayoutModel",
     "state": {
      "_model_module": "@jupyter-widgets/base",
      "_model_module_version": "1.2.0",
      "_model_name": "LayoutModel",
      "_view_count": null,
      "_view_module": "@jupyter-widgets/base",
      "_view_module_version": "1.2.0",
      "_view_name": "LayoutView",
      "align_content": null,
      "align_items": null,
      "align_self": null,
      "border": null,
      "bottom": null,
      "display": null,
      "flex": null,
      "flex_flow": null,
      "grid_area": null,
      "grid_auto_columns": null,
      "grid_auto_flow": null,
      "grid_auto_rows": null,
      "grid_column": null,
      "grid_gap": null,
      "grid_row": null,
      "grid_template_areas": null,
      "grid_template_columns": null,
      "grid_template_rows": null,
      "height": null,
      "justify_content": null,
      "justify_items": null,
      "left": null,
      "margin": null,
      "max_height": null,
      "max_width": null,
      "min_height": null,
      "min_width": null,
      "object_fit": null,
      "object_position": null,
      "order": null,
      "overflow": null,
      "overflow_x": null,
      "overflow_y": null,
      "padding": null,
      "right": null,
      "top": null,
      "visibility": null,
      "width": null
     }
    },
    "491989a59a3d4a89afddbc782fa39fe4": {
     "model_module": "@jupyter-widgets/controls",
     "model_module_version": "1.5.0",
     "model_name": "DescriptionStyleModel",
     "state": {
      "_model_module": "@jupyter-widgets/controls",
      "_model_module_version": "1.5.0",
      "_model_name": "DescriptionStyleModel",
      "_view_count": null,
      "_view_module": "@jupyter-widgets/base",
      "_view_module_version": "1.2.0",
      "_view_name": "StyleView",
      "description_width": ""
     }
    },
    "499c7b0e3c2d485f97e0f281b082a73b": {
     "model_module": "@jupyter-widgets/controls",
     "model_module_version": "1.5.0",
     "model_name": "FloatProgressModel",
     "state": {
      "_dom_classes": [],
      "_model_module": "@jupyter-widgets/controls",
      "_model_module_version": "1.5.0",
      "_model_name": "FloatProgressModel",
      "_view_count": null,
      "_view_module": "@jupyter-widgets/controls",
      "_view_module_version": "1.5.0",
      "_view_name": "ProgressView",
      "bar_style": "success",
      "description": "",
      "description_tooltip": null,
      "layout": "IPY_MODEL_9b96a34ca5b241ab84e34d8735dd7b94",
      "max": 16,
      "min": 0,
      "orientation": "horizontal",
      "style": "IPY_MODEL_f8eb88c1b6b24eda8489fe10bb433dbc",
      "value": 16
     }
    },
    "49a3d6a277b143309450193de8bf64dd": {
     "model_module": "@jupyter-widgets/controls",
     "model_module_version": "1.5.0",
     "model_name": "FloatProgressModel",
     "state": {
      "_dom_classes": [],
      "_model_module": "@jupyter-widgets/controls",
      "_model_module_version": "1.5.0",
      "_model_name": "FloatProgressModel",
      "_view_count": null,
      "_view_module": "@jupyter-widgets/controls",
      "_view_module_version": "1.5.0",
      "_view_name": "ProgressView",
      "bar_style": "success",
      "description": "",
      "description_tooltip": null,
      "layout": "IPY_MODEL_d925454b6c254b97aafe55a370ea3adb",
      "max": 7,
      "min": 0,
      "orientation": "horizontal",
      "style": "IPY_MODEL_925aefbeb61046f1a6dfef7ec946815f",
      "value": 7
     }
    },
    "4a23b4ecada24f07a4fb3bc4cff23241": {
     "model_module": "@jupyter-widgets/base",
     "model_module_version": "1.2.0",
     "model_name": "LayoutModel",
     "state": {
      "_model_module": "@jupyter-widgets/base",
      "_model_module_version": "1.2.0",
      "_model_name": "LayoutModel",
      "_view_count": null,
      "_view_module": "@jupyter-widgets/base",
      "_view_module_version": "1.2.0",
      "_view_name": "LayoutView",
      "align_content": null,
      "align_items": null,
      "align_self": null,
      "border": null,
      "bottom": null,
      "display": null,
      "flex": null,
      "flex_flow": null,
      "grid_area": null,
      "grid_auto_columns": null,
      "grid_auto_flow": null,
      "grid_auto_rows": null,
      "grid_column": null,
      "grid_gap": null,
      "grid_row": null,
      "grid_template_areas": null,
      "grid_template_columns": null,
      "grid_template_rows": null,
      "height": null,
      "justify_content": null,
      "justify_items": null,
      "left": null,
      "margin": null,
      "max_height": null,
      "max_width": null,
      "min_height": null,
      "min_width": null,
      "object_fit": null,
      "object_position": null,
      "order": null,
      "overflow": null,
      "overflow_x": null,
      "overflow_y": null,
      "padding": null,
      "right": null,
      "top": null,
      "visibility": null,
      "width": null
     }
    },
    "4a2acbe4293e401e9c6948e8576feeb0": {
     "model_module": "@jupyter-widgets/base",
     "model_module_version": "1.2.0",
     "model_name": "LayoutModel",
     "state": {
      "_model_module": "@jupyter-widgets/base",
      "_model_module_version": "1.2.0",
      "_model_name": "LayoutModel",
      "_view_count": null,
      "_view_module": "@jupyter-widgets/base",
      "_view_module_version": "1.2.0",
      "_view_name": "LayoutView",
      "align_content": null,
      "align_items": null,
      "align_self": null,
      "border": null,
      "bottom": null,
      "display": null,
      "flex": null,
      "flex_flow": null,
      "grid_area": null,
      "grid_auto_columns": null,
      "grid_auto_flow": null,
      "grid_auto_rows": null,
      "grid_column": null,
      "grid_gap": null,
      "grid_row": null,
      "grid_template_areas": null,
      "grid_template_columns": null,
      "grid_template_rows": null,
      "height": null,
      "justify_content": null,
      "justify_items": null,
      "left": null,
      "margin": null,
      "max_height": null,
      "max_width": null,
      "min_height": null,
      "min_width": null,
      "object_fit": null,
      "object_position": null,
      "order": null,
      "overflow": null,
      "overflow_x": null,
      "overflow_y": null,
      "padding": null,
      "right": null,
      "top": null,
      "visibility": null,
      "width": null
     }
    },
    "4b1cc21b21bd4bbaa7e3483e7e8eaf15": {
     "model_module": "@jupyter-widgets/controls",
     "model_module_version": "1.5.0",
     "model_name": "HTMLModel",
     "state": {
      "_dom_classes": [],
      "_model_module": "@jupyter-widgets/controls",
      "_model_module_version": "1.5.0",
      "_model_name": "HTMLModel",
      "_view_count": null,
      "_view_module": "@jupyter-widgets/controls",
      "_view_module_version": "1.5.0",
      "_view_name": "HTMLView",
      "description": "",
      "description_tooltip": null,
      "layout": "IPY_MODEL_2597801d560f474fab26f301cd5dea60",
      "placeholder": "​",
      "style": "IPY_MODEL_2933a2a180034c77991afbc9eae7813a",
      "value": " 10/16 [07:03&lt;04:12, 42.11s/it]"
     }
    },
    "4b25f628f33842528641cb3aca941a35": {
     "model_module": "@jupyter-widgets/controls",
     "model_module_version": "1.5.0",
     "model_name": "HBoxModel",
     "state": {
      "_dom_classes": [],
      "_model_module": "@jupyter-widgets/controls",
      "_model_module_version": "1.5.0",
      "_model_name": "HBoxModel",
      "_view_count": null,
      "_view_module": "@jupyter-widgets/controls",
      "_view_module_version": "1.5.0",
      "_view_name": "HBoxView",
      "box_style": "",
      "children": [
       "IPY_MODEL_72b5b2c017f6483a98d82c92e46e90cc",
       "IPY_MODEL_499c7b0e3c2d485f97e0f281b082a73b",
       "IPY_MODEL_b133bf0b321a42f0ac47c855ffe0f1e3"
      ],
      "layout": "IPY_MODEL_3f79b9eef03748299032177c4ae58217"
     }
    },
    "4c8c143bcc4945afbf69099a8660a202": {
     "model_module": "@jupyter-widgets/controls",
     "model_module_version": "1.5.0",
     "model_name": "DescriptionStyleModel",
     "state": {
      "_model_module": "@jupyter-widgets/controls",
      "_model_module_version": "1.5.0",
      "_model_name": "DescriptionStyleModel",
      "_view_count": null,
      "_view_module": "@jupyter-widgets/base",
      "_view_module_version": "1.2.0",
      "_view_name": "StyleView",
      "description_width": ""
     }
    },
    "4fb6e2fed1544592abf5ebde2d3f5141": {
     "model_module": "@jupyter-widgets/controls",
     "model_module_version": "1.5.0",
     "model_name": "DescriptionStyleModel",
     "state": {
      "_model_module": "@jupyter-widgets/controls",
      "_model_module_version": "1.5.0",
      "_model_name": "DescriptionStyleModel",
      "_view_count": null,
      "_view_module": "@jupyter-widgets/base",
      "_view_module_version": "1.2.0",
      "_view_name": "StyleView",
      "description_width": ""
     }
    },
    "505d7624e9a8449ea2ca95bcf697faed": {
     "model_module": "@jupyter-widgets/base",
     "model_module_version": "1.2.0",
     "model_name": "LayoutModel",
     "state": {
      "_model_module": "@jupyter-widgets/base",
      "_model_module_version": "1.2.0",
      "_model_name": "LayoutModel",
      "_view_count": null,
      "_view_module": "@jupyter-widgets/base",
      "_view_module_version": "1.2.0",
      "_view_name": "LayoutView",
      "align_content": null,
      "align_items": null,
      "align_self": null,
      "border": null,
      "bottom": null,
      "display": null,
      "flex": null,
      "flex_flow": null,
      "grid_area": null,
      "grid_auto_columns": null,
      "grid_auto_flow": null,
      "grid_auto_rows": null,
      "grid_column": null,
      "grid_gap": null,
      "grid_row": null,
      "grid_template_areas": null,
      "grid_template_columns": null,
      "grid_template_rows": null,
      "height": null,
      "justify_content": null,
      "justify_items": null,
      "left": null,
      "margin": null,
      "max_height": null,
      "max_width": null,
      "min_height": null,
      "min_width": null,
      "object_fit": null,
      "object_position": null,
      "order": null,
      "overflow": null,
      "overflow_x": null,
      "overflow_y": null,
      "padding": null,
      "right": null,
      "top": null,
      "visibility": null,
      "width": null
     }
    },
    "552af508dd794bd39cfdd7a757dc67fe": {
     "model_module": "@jupyter-widgets/controls",
     "model_module_version": "1.5.0",
     "model_name": "DescriptionStyleModel",
     "state": {
      "_model_module": "@jupyter-widgets/controls",
      "_model_module_version": "1.5.0",
      "_model_name": "DescriptionStyleModel",
      "_view_count": null,
      "_view_module": "@jupyter-widgets/base",
      "_view_module_version": "1.2.0",
      "_view_name": "StyleView",
      "description_width": ""
     }
    },
    "5593a1b443fe434490ce20be5cf7fc90": {
     "model_module": "@jupyter-widgets/controls",
     "model_module_version": "1.5.0",
     "model_name": "ProgressStyleModel",
     "state": {
      "_model_module": "@jupyter-widgets/controls",
      "_model_module_version": "1.5.0",
      "_model_name": "ProgressStyleModel",
      "_view_count": null,
      "_view_module": "@jupyter-widgets/base",
      "_view_module_version": "1.2.0",
      "_view_name": "StyleView",
      "bar_color": null,
      "description_width": ""
     }
    },
    "55ea7965ac2c4bce95c32cff7fd95fc4": {
     "model_module": "@jupyter-widgets/base",
     "model_module_version": "1.2.0",
     "model_name": "LayoutModel",
     "state": {
      "_model_module": "@jupyter-widgets/base",
      "_model_module_version": "1.2.0",
      "_model_name": "LayoutModel",
      "_view_count": null,
      "_view_module": "@jupyter-widgets/base",
      "_view_module_version": "1.2.0",
      "_view_name": "LayoutView",
      "align_content": null,
      "align_items": null,
      "align_self": null,
      "border": null,
      "bottom": null,
      "display": null,
      "flex": null,
      "flex_flow": null,
      "grid_area": null,
      "grid_auto_columns": null,
      "grid_auto_flow": null,
      "grid_auto_rows": null,
      "grid_column": null,
      "grid_gap": null,
      "grid_row": null,
      "grid_template_areas": null,
      "grid_template_columns": null,
      "grid_template_rows": null,
      "height": null,
      "justify_content": null,
      "justify_items": null,
      "left": null,
      "margin": null,
      "max_height": null,
      "max_width": null,
      "min_height": null,
      "min_width": null,
      "object_fit": null,
      "object_position": null,
      "order": null,
      "overflow": null,
      "overflow_x": null,
      "overflow_y": null,
      "padding": null,
      "right": null,
      "top": null,
      "visibility": null,
      "width": null
     }
    },
    "55ed0485c43e41a8adcd33216d886381": {
     "model_module": "@jupyter-widgets/controls",
     "model_module_version": "1.5.0",
     "model_name": "HTMLModel",
     "state": {
      "_dom_classes": [],
      "_model_module": "@jupyter-widgets/controls",
      "_model_module_version": "1.5.0",
      "_model_name": "HTMLModel",
      "_view_count": null,
      "_view_module": "@jupyter-widgets/controls",
      "_view_module_version": "1.5.0",
      "_view_name": "HTMLView",
      "description": "",
      "description_tooltip": null,
      "layout": "IPY_MODEL_db89b6e166fb4b73bba5f4a8a5e24f3d",
      "placeholder": "​",
      "style": "IPY_MODEL_8d1ccd56bd124e65b28d51bbce371927",
      "value": "Calculating NLL: 100%"
     }
    },
    "578bfd984bac48c2870b4ce973f50be8": {
     "model_module": "@jupyter-widgets/controls",
     "model_module_version": "1.5.0",
     "model_name": "DescriptionStyleModel",
     "state": {
      "_model_module": "@jupyter-widgets/controls",
      "_model_module_version": "1.5.0",
      "_model_name": "DescriptionStyleModel",
      "_view_count": null,
      "_view_module": "@jupyter-widgets/base",
      "_view_module_version": "1.2.0",
      "_view_name": "StyleView",
      "description_width": ""
     }
    },
    "57b1348aa9ad4f969933e5064480ec2a": {
     "model_module": "@jupyter-widgets/base",
     "model_module_version": "1.2.0",
     "model_name": "LayoutModel",
     "state": {
      "_model_module": "@jupyter-widgets/base",
      "_model_module_version": "1.2.0",
      "_model_name": "LayoutModel",
      "_view_count": null,
      "_view_module": "@jupyter-widgets/base",
      "_view_module_version": "1.2.0",
      "_view_name": "LayoutView",
      "align_content": null,
      "align_items": null,
      "align_self": null,
      "border": null,
      "bottom": null,
      "display": null,
      "flex": null,
      "flex_flow": null,
      "grid_area": null,
      "grid_auto_columns": null,
      "grid_auto_flow": null,
      "grid_auto_rows": null,
      "grid_column": null,
      "grid_gap": null,
      "grid_row": null,
      "grid_template_areas": null,
      "grid_template_columns": null,
      "grid_template_rows": null,
      "height": null,
      "justify_content": null,
      "justify_items": null,
      "left": null,
      "margin": null,
      "max_height": null,
      "max_width": null,
      "min_height": null,
      "min_width": null,
      "object_fit": null,
      "object_position": null,
      "order": null,
      "overflow": null,
      "overflow_x": null,
      "overflow_y": null,
      "padding": null,
      "right": null,
      "top": null,
      "visibility": null,
      "width": null
     }
    },
    "57d76d524e4941099d46264c8cec1bfb": {
     "model_module": "@jupyter-widgets/base",
     "model_module_version": "1.2.0",
     "model_name": "LayoutModel",
     "state": {
      "_model_module": "@jupyter-widgets/base",
      "_model_module_version": "1.2.0",
      "_model_name": "LayoutModel",
      "_view_count": null,
      "_view_module": "@jupyter-widgets/base",
      "_view_module_version": "1.2.0",
      "_view_name": "LayoutView",
      "align_content": null,
      "align_items": null,
      "align_self": null,
      "border": null,
      "bottom": null,
      "display": null,
      "flex": null,
      "flex_flow": null,
      "grid_area": null,
      "grid_auto_columns": null,
      "grid_auto_flow": null,
      "grid_auto_rows": null,
      "grid_column": null,
      "grid_gap": null,
      "grid_row": null,
      "grid_template_areas": null,
      "grid_template_columns": null,
      "grid_template_rows": null,
      "height": null,
      "justify_content": null,
      "justify_items": null,
      "left": null,
      "margin": null,
      "max_height": null,
      "max_width": null,
      "min_height": null,
      "min_width": null,
      "object_fit": null,
      "object_position": null,
      "order": null,
      "overflow": null,
      "overflow_x": null,
      "overflow_y": null,
      "padding": null,
      "right": null,
      "top": null,
      "visibility": null,
      "width": null
     }
    },
    "58892b83ab014563bd434fd301440a0e": {
     "model_module": "@jupyter-widgets/base",
     "model_module_version": "1.2.0",
     "model_name": "LayoutModel",
     "state": {
      "_model_module": "@jupyter-widgets/base",
      "_model_module_version": "1.2.0",
      "_model_name": "LayoutModel",
      "_view_count": null,
      "_view_module": "@jupyter-widgets/base",
      "_view_module_version": "1.2.0",
      "_view_name": "LayoutView",
      "align_content": null,
      "align_items": null,
      "align_self": null,
      "border": null,
      "bottom": null,
      "display": null,
      "flex": null,
      "flex_flow": null,
      "grid_area": null,
      "grid_auto_columns": null,
      "grid_auto_flow": null,
      "grid_auto_rows": null,
      "grid_column": null,
      "grid_gap": null,
      "grid_row": null,
      "grid_template_areas": null,
      "grid_template_columns": null,
      "grid_template_rows": null,
      "height": null,
      "justify_content": null,
      "justify_items": null,
      "left": null,
      "margin": null,
      "max_height": null,
      "max_width": null,
      "min_height": null,
      "min_width": null,
      "object_fit": null,
      "object_position": null,
      "order": null,
      "overflow": null,
      "overflow_x": null,
      "overflow_y": null,
      "padding": null,
      "right": null,
      "top": null,
      "visibility": null,
      "width": null
     }
    },
    "5afeca18609c40bda77e4f2898816c0f": {
     "model_module": "@jupyter-widgets/controls",
     "model_module_version": "1.5.0",
     "model_name": "HTMLModel",
     "state": {
      "_dom_classes": [],
      "_model_module": "@jupyter-widgets/controls",
      "_model_module_version": "1.5.0",
      "_model_name": "HTMLModel",
      "_view_count": null,
      "_view_module": "@jupyter-widgets/controls",
      "_view_module_version": "1.5.0",
      "_view_name": "HTMLView",
      "description": "",
      "description_tooltip": null,
      "layout": "IPY_MODEL_158495661b90431289eb5fd9025c7910",
      "placeholder": "​",
      "style": "IPY_MODEL_c197bfec807a46f997ae62b6d9ddae2c",
      "value": " 7/7 [00:00&lt;00:00,  7.95it/s]"
     }
    },
    "5c6638463a0847f29e383c3068f13533": {
     "model_module": "@jupyter-widgets/controls",
     "model_module_version": "1.5.0",
     "model_name": "DescriptionStyleModel",
     "state": {
      "_model_module": "@jupyter-widgets/controls",
      "_model_module_version": "1.5.0",
      "_model_name": "DescriptionStyleModel",
      "_view_count": null,
      "_view_module": "@jupyter-widgets/base",
      "_view_module_version": "1.2.0",
      "_view_name": "StyleView",
      "description_width": ""
     }
    },
    "5ccade9d55ad477cb654ac5470094a90": {
     "model_module": "@jupyter-widgets/controls",
     "model_module_version": "1.5.0",
     "model_name": "ProgressStyleModel",
     "state": {
      "_model_module": "@jupyter-widgets/controls",
      "_model_module_version": "1.5.0",
      "_model_name": "ProgressStyleModel",
      "_view_count": null,
      "_view_module": "@jupyter-widgets/base",
      "_view_module_version": "1.2.0",
      "_view_name": "StyleView",
      "bar_color": null,
      "description_width": ""
     }
    },
    "5cd8ba2c5bb94836a65af90390d3051f": {
     "model_module": "@jupyter-widgets/controls",
     "model_module_version": "1.5.0",
     "model_name": "FloatProgressModel",
     "state": {
      "_dom_classes": [],
      "_model_module": "@jupyter-widgets/controls",
      "_model_module_version": "1.5.0",
      "_model_name": "FloatProgressModel",
      "_view_count": null,
      "_view_module": "@jupyter-widgets/controls",
      "_view_module_version": "1.5.0",
      "_view_name": "ProgressView",
      "bar_style": "success",
      "description": "",
      "description_tooltip": null,
      "layout": "IPY_MODEL_cc206e2f6c26490e9e1604793594218b",
      "max": 16,
      "min": 0,
      "orientation": "horizontal",
      "style": "IPY_MODEL_f5156eaf595149418985b38536de2d84",
      "value": 16
     }
    },
    "5d9c2107196e4dc1a1ab673ebbbfbc33": {
     "model_module": "@jupyter-widgets/controls",
     "model_module_version": "1.5.0",
     "model_name": "HTMLModel",
     "state": {
      "_dom_classes": [],
      "_model_module": "@jupyter-widgets/controls",
      "_model_module_version": "1.5.0",
      "_model_name": "HTMLModel",
      "_view_count": null,
      "_view_module": "@jupyter-widgets/controls",
      "_view_module_version": "1.5.0",
      "_view_name": "HTMLView",
      "description": "",
      "description_tooltip": null,
      "layout": "IPY_MODEL_aaa9dd4187fd421484fc4edb8b47646a",
      "placeholder": "​",
      "style": "IPY_MODEL_d88254108aa844329746b1d5839204c9",
      "value": "Getting Inception Predictions: 100%"
     }
    },
    "5de0066b6ce24b98a201d5287be4e4a2": {
     "model_module": "@jupyter-widgets/controls",
     "model_module_version": "1.5.0",
     "model_name": "DescriptionStyleModel",
     "state": {
      "_model_module": "@jupyter-widgets/controls",
      "_model_module_version": "1.5.0",
      "_model_name": "DescriptionStyleModel",
      "_view_count": null,
      "_view_module": "@jupyter-widgets/base",
      "_view_module_version": "1.2.0",
      "_view_name": "StyleView",
      "description_width": ""
     }
    },
    "5e596851974549a5bf347d2bf49fcfa3": {
     "model_module": "@jupyter-widgets/controls",
     "model_module_version": "1.5.0",
     "model_name": "FloatProgressModel",
     "state": {
      "_dom_classes": [],
      "_model_module": "@jupyter-widgets/controls",
      "_model_module_version": "1.5.0",
      "_model_name": "FloatProgressModel",
      "_view_count": null,
      "_view_module": "@jupyter-widgets/controls",
      "_view_module_version": "1.5.0",
      "_view_name": "ProgressView",
      "bar_style": "success",
      "description": "",
      "description_tooltip": null,
      "layout": "IPY_MODEL_89335d42700e44c1ac826d24c8b75d26",
      "max": 7,
      "min": 0,
      "orientation": "horizontal",
      "style": "IPY_MODEL_2270d228d91d4795af3d6d9d7a567e65",
      "value": 7
     }
    },
    "5ef13dde79504987a53ac4332cfbbd92": {
     "model_module": "@jupyter-widgets/base",
     "model_module_version": "1.2.0",
     "model_name": "LayoutModel",
     "state": {
      "_model_module": "@jupyter-widgets/base",
      "_model_module_version": "1.2.0",
      "_model_name": "LayoutModel",
      "_view_count": null,
      "_view_module": "@jupyter-widgets/base",
      "_view_module_version": "1.2.0",
      "_view_name": "LayoutView",
      "align_content": null,
      "align_items": null,
      "align_self": null,
      "border": null,
      "bottom": null,
      "display": null,
      "flex": null,
      "flex_flow": null,
      "grid_area": null,
      "grid_auto_columns": null,
      "grid_auto_flow": null,
      "grid_auto_rows": null,
      "grid_column": null,
      "grid_gap": null,
      "grid_row": null,
      "grid_template_areas": null,
      "grid_template_columns": null,
      "grid_template_rows": null,
      "height": null,
      "justify_content": null,
      "justify_items": null,
      "left": null,
      "margin": null,
      "max_height": null,
      "max_width": null,
      "min_height": null,
      "min_width": null,
      "object_fit": null,
      "object_position": null,
      "order": null,
      "overflow": null,
      "overflow_x": null,
      "overflow_y": null,
      "padding": null,
      "right": null,
      "top": null,
      "visibility": null,
      "width": null
     }
    },
    "5f25e0249b8c4d328ca0ca74129f3710": {
     "model_module": "@jupyter-widgets/controls",
     "model_module_version": "1.5.0",
     "model_name": "HTMLModel",
     "state": {
      "_dom_classes": [],
      "_model_module": "@jupyter-widgets/controls",
      "_model_module_version": "1.5.0",
      "_model_name": "HTMLModel",
      "_view_count": null,
      "_view_module": "@jupyter-widgets/controls",
      "_view_module_version": "1.5.0",
      "_view_name": "HTMLView",
      "description": "",
      "description_tooltip": null,
      "layout": "IPY_MODEL_6199d48fc0f44b549d2905c18514a8cc",
      "placeholder": "​",
      "style": "IPY_MODEL_f6a3b8a1ac57422d9348af7e85e53469",
      "value": " 7/7 [00:00&lt;00:00,  7.91it/s]"
     }
    },
    "5f3ba310e1a544acb777a26c17ae5e3f": {
     "model_module": "@jupyter-widgets/controls",
     "model_module_version": "1.5.0",
     "model_name": "FloatProgressModel",
     "state": {
      "_dom_classes": [],
      "_model_module": "@jupyter-widgets/controls",
      "_model_module_version": "1.5.0",
      "_model_name": "FloatProgressModel",
      "_view_count": null,
      "_view_module": "@jupyter-widgets/controls",
      "_view_module_version": "1.5.0",
      "_view_name": "ProgressView",
      "bar_style": "success",
      "description": "",
      "description_tooltip": null,
      "layout": "IPY_MODEL_39dc3a98625746c38c194ccdd05adfe1",
      "max": 7,
      "min": 0,
      "orientation": "horizontal",
      "style": "IPY_MODEL_ce78710835a4421381aab680c2e3ae75",
      "value": 7
     }
    },
    "5f7dada89fb147ac8464e891bfc6b443": {
     "model_module": "@jupyter-widgets/base",
     "model_module_version": "1.2.0",
     "model_name": "LayoutModel",
     "state": {
      "_model_module": "@jupyter-widgets/base",
      "_model_module_version": "1.2.0",
      "_model_name": "LayoutModel",
      "_view_count": null,
      "_view_module": "@jupyter-widgets/base",
      "_view_module_version": "1.2.0",
      "_view_name": "LayoutView",
      "align_content": null,
      "align_items": null,
      "align_self": null,
      "border": null,
      "bottom": null,
      "display": null,
      "flex": null,
      "flex_flow": null,
      "grid_area": null,
      "grid_auto_columns": null,
      "grid_auto_flow": null,
      "grid_auto_rows": null,
      "grid_column": null,
      "grid_gap": null,
      "grid_row": null,
      "grid_template_areas": null,
      "grid_template_columns": null,
      "grid_template_rows": null,
      "height": null,
      "justify_content": null,
      "justify_items": null,
      "left": null,
      "margin": null,
      "max_height": null,
      "max_width": null,
      "min_height": null,
      "min_width": null,
      "object_fit": null,
      "object_position": null,
      "order": null,
      "overflow": null,
      "overflow_x": null,
      "overflow_y": null,
      "padding": null,
      "right": null,
      "top": null,
      "visibility": null,
      "width": null
     }
    },
    "5f817480a6d347f58b92071e9e2d6481": {
     "model_module": "@jupyter-widgets/controls",
     "model_module_version": "1.5.0",
     "model_name": "DescriptionStyleModel",
     "state": {
      "_model_module": "@jupyter-widgets/controls",
      "_model_module_version": "1.5.0",
      "_model_name": "DescriptionStyleModel",
      "_view_count": null,
      "_view_module": "@jupyter-widgets/base",
      "_view_module_version": "1.2.0",
      "_view_name": "StyleView",
      "description_width": ""
     }
    },
    "5fa7a6d3f76942cea3217709e1f3077d": {
     "model_module": "@jupyter-widgets/base",
     "model_module_version": "1.2.0",
     "model_name": "LayoutModel",
     "state": {
      "_model_module": "@jupyter-widgets/base",
      "_model_module_version": "1.2.0",
      "_model_name": "LayoutModel",
      "_view_count": null,
      "_view_module": "@jupyter-widgets/base",
      "_view_module_version": "1.2.0",
      "_view_name": "LayoutView",
      "align_content": null,
      "align_items": null,
      "align_self": null,
      "border": null,
      "bottom": null,
      "display": null,
      "flex": null,
      "flex_flow": null,
      "grid_area": null,
      "grid_auto_columns": null,
      "grid_auto_flow": null,
      "grid_auto_rows": null,
      "grid_column": null,
      "grid_gap": null,
      "grid_row": null,
      "grid_template_areas": null,
      "grid_template_columns": null,
      "grid_template_rows": null,
      "height": null,
      "justify_content": null,
      "justify_items": null,
      "left": null,
      "margin": null,
      "max_height": null,
      "max_width": null,
      "min_height": null,
      "min_width": null,
      "object_fit": null,
      "object_position": null,
      "order": null,
      "overflow": null,
      "overflow_x": null,
      "overflow_y": null,
      "padding": null,
      "right": null,
      "top": null,
      "visibility": null,
      "width": null
     }
    },
    "5fbca19df1c940dd804dcb59b538d397": {
     "model_module": "@jupyter-widgets/controls",
     "model_module_version": "1.5.0",
     "model_name": "HTMLModel",
     "state": {
      "_dom_classes": [],
      "_model_module": "@jupyter-widgets/controls",
      "_model_module_version": "1.5.0",
      "_model_name": "HTMLModel",
      "_view_count": null,
      "_view_module": "@jupyter-widgets/controls",
      "_view_module_version": "1.5.0",
      "_view_name": "HTMLView",
      "description": "",
      "description_tooltip": null,
      "layout": "IPY_MODEL_e1b36492218d493cb1715e02101aeb1b",
      "placeholder": "​",
      "style": "IPY_MODEL_b8d9b1ca262b4207b3f6d28241d2cdf6",
      "value": "Getting Inception Predictions: 100%"
     }
    },
    "605b6756bf8e4a7f82e79ba8279fc6c6": {
     "model_module": "@jupyter-widgets/base",
     "model_module_version": "1.2.0",
     "model_name": "LayoutModel",
     "state": {
      "_model_module": "@jupyter-widgets/base",
      "_model_module_version": "1.2.0",
      "_model_name": "LayoutModel",
      "_view_count": null,
      "_view_module": "@jupyter-widgets/base",
      "_view_module_version": "1.2.0",
      "_view_name": "LayoutView",
      "align_content": null,
      "align_items": null,
      "align_self": null,
      "border": null,
      "bottom": null,
      "display": null,
      "flex": null,
      "flex_flow": null,
      "grid_area": null,
      "grid_auto_columns": null,
      "grid_auto_flow": null,
      "grid_auto_rows": null,
      "grid_column": null,
      "grid_gap": null,
      "grid_row": null,
      "grid_template_areas": null,
      "grid_template_columns": null,
      "grid_template_rows": null,
      "height": null,
      "justify_content": null,
      "justify_items": null,
      "left": null,
      "margin": null,
      "max_height": null,
      "max_width": null,
      "min_height": null,
      "min_width": null,
      "object_fit": null,
      "object_position": null,
      "order": null,
      "overflow": null,
      "overflow_x": null,
      "overflow_y": null,
      "padding": null,
      "right": null,
      "top": null,
      "visibility": null,
      "width": null
     }
    },
    "607c3f9563ee4a11bd1a4998c502e5bb": {
     "model_module": "@jupyter-widgets/base",
     "model_module_version": "1.2.0",
     "model_name": "LayoutModel",
     "state": {
      "_model_module": "@jupyter-widgets/base",
      "_model_module_version": "1.2.0",
      "_model_name": "LayoutModel",
      "_view_count": null,
      "_view_module": "@jupyter-widgets/base",
      "_view_module_version": "1.2.0",
      "_view_name": "LayoutView",
      "align_content": null,
      "align_items": null,
      "align_self": null,
      "border": null,
      "bottom": null,
      "display": null,
      "flex": null,
      "flex_flow": null,
      "grid_area": null,
      "grid_auto_columns": null,
      "grid_auto_flow": null,
      "grid_auto_rows": null,
      "grid_column": null,
      "grid_gap": null,
      "grid_row": null,
      "grid_template_areas": null,
      "grid_template_columns": null,
      "grid_template_rows": null,
      "height": null,
      "justify_content": null,
      "justify_items": null,
      "left": null,
      "margin": null,
      "max_height": null,
      "max_width": null,
      "min_height": null,
      "min_width": null,
      "object_fit": null,
      "object_position": null,
      "order": null,
      "overflow": null,
      "overflow_x": null,
      "overflow_y": null,
      "padding": null,
      "right": null,
      "top": null,
      "visibility": null,
      "width": null
     }
    },
    "6199d48fc0f44b549d2905c18514a8cc": {
     "model_module": "@jupyter-widgets/base",
     "model_module_version": "1.2.0",
     "model_name": "LayoutModel",
     "state": {
      "_model_module": "@jupyter-widgets/base",
      "_model_module_version": "1.2.0",
      "_model_name": "LayoutModel",
      "_view_count": null,
      "_view_module": "@jupyter-widgets/base",
      "_view_module_version": "1.2.0",
      "_view_name": "LayoutView",
      "align_content": null,
      "align_items": null,
      "align_self": null,
      "border": null,
      "bottom": null,
      "display": null,
      "flex": null,
      "flex_flow": null,
      "grid_area": null,
      "grid_auto_columns": null,
      "grid_auto_flow": null,
      "grid_auto_rows": null,
      "grid_column": null,
      "grid_gap": null,
      "grid_row": null,
      "grid_template_areas": null,
      "grid_template_columns": null,
      "grid_template_rows": null,
      "height": null,
      "justify_content": null,
      "justify_items": null,
      "left": null,
      "margin": null,
      "max_height": null,
      "max_width": null,
      "min_height": null,
      "min_width": null,
      "object_fit": null,
      "object_position": null,
      "order": null,
      "overflow": null,
      "overflow_x": null,
      "overflow_y": null,
      "padding": null,
      "right": null,
      "top": null,
      "visibility": null,
      "width": null
     }
    },
    "626b8770c7634dae8d017f52765e0297": {
     "model_module": "@jupyter-widgets/controls",
     "model_module_version": "1.5.0",
     "model_name": "ProgressStyleModel",
     "state": {
      "_model_module": "@jupyter-widgets/controls",
      "_model_module_version": "1.5.0",
      "_model_name": "ProgressStyleModel",
      "_view_count": null,
      "_view_module": "@jupyter-widgets/base",
      "_view_module_version": "1.2.0",
      "_view_name": "StyleView",
      "bar_color": null,
      "description_width": ""
     }
    },
    "62ef11a4f6384d0cb5114dfcb44881c9": {
     "model_module": "@jupyter-widgets/base",
     "model_module_version": "1.2.0",
     "model_name": "LayoutModel",
     "state": {
      "_model_module": "@jupyter-widgets/base",
      "_model_module_version": "1.2.0",
      "_model_name": "LayoutModel",
      "_view_count": null,
      "_view_module": "@jupyter-widgets/base",
      "_view_module_version": "1.2.0",
      "_view_name": "LayoutView",
      "align_content": null,
      "align_items": null,
      "align_self": null,
      "border": null,
      "bottom": null,
      "display": null,
      "flex": null,
      "flex_flow": null,
      "grid_area": null,
      "grid_auto_columns": null,
      "grid_auto_flow": null,
      "grid_auto_rows": null,
      "grid_column": null,
      "grid_gap": null,
      "grid_row": null,
      "grid_template_areas": null,
      "grid_template_columns": null,
      "grid_template_rows": null,
      "height": null,
      "justify_content": null,
      "justify_items": null,
      "left": null,
      "margin": null,
      "max_height": null,
      "max_width": null,
      "min_height": null,
      "min_width": null,
      "object_fit": null,
      "object_position": null,
      "order": null,
      "overflow": null,
      "overflow_x": null,
      "overflow_y": null,
      "padding": null,
      "right": null,
      "top": null,
      "visibility": null,
      "width": null
     }
    },
    "63ad47b20cc6476da398f4dc4569e1ed": {
     "model_module": "@jupyter-widgets/base",
     "model_module_version": "1.2.0",
     "model_name": "LayoutModel",
     "state": {
      "_model_module": "@jupyter-widgets/base",
      "_model_module_version": "1.2.0",
      "_model_name": "LayoutModel",
      "_view_count": null,
      "_view_module": "@jupyter-widgets/base",
      "_view_module_version": "1.2.0",
      "_view_name": "LayoutView",
      "align_content": null,
      "align_items": null,
      "align_self": null,
      "border": null,
      "bottom": null,
      "display": null,
      "flex": null,
      "flex_flow": null,
      "grid_area": null,
      "grid_auto_columns": null,
      "grid_auto_flow": null,
      "grid_auto_rows": null,
      "grid_column": null,
      "grid_gap": null,
      "grid_row": null,
      "grid_template_areas": null,
      "grid_template_columns": null,
      "grid_template_rows": null,
      "height": null,
      "justify_content": null,
      "justify_items": null,
      "left": null,
      "margin": null,
      "max_height": null,
      "max_width": null,
      "min_height": null,
      "min_width": null,
      "object_fit": null,
      "object_position": null,
      "order": null,
      "overflow": null,
      "overflow_x": null,
      "overflow_y": null,
      "padding": null,
      "right": null,
      "top": null,
      "visibility": null,
      "width": null
     }
    },
    "64608ec86ac841b8994596626d3fb9db": {
     "model_module": "@jupyter-widgets/base",
     "model_module_version": "1.2.0",
     "model_name": "LayoutModel",
     "state": {
      "_model_module": "@jupyter-widgets/base",
      "_model_module_version": "1.2.0",
      "_model_name": "LayoutModel",
      "_view_count": null,
      "_view_module": "@jupyter-widgets/base",
      "_view_module_version": "1.2.0",
      "_view_name": "LayoutView",
      "align_content": null,
      "align_items": null,
      "align_self": null,
      "border": null,
      "bottom": null,
      "display": null,
      "flex": null,
      "flex_flow": null,
      "grid_area": null,
      "grid_auto_columns": null,
      "grid_auto_flow": null,
      "grid_auto_rows": null,
      "grid_column": null,
      "grid_gap": null,
      "grid_row": null,
      "grid_template_areas": null,
      "grid_template_columns": null,
      "grid_template_rows": null,
      "height": null,
      "justify_content": null,
      "justify_items": null,
      "left": null,
      "margin": null,
      "max_height": null,
      "max_width": null,
      "min_height": null,
      "min_width": null,
      "object_fit": null,
      "object_position": null,
      "order": null,
      "overflow": null,
      "overflow_x": null,
      "overflow_y": null,
      "padding": null,
      "right": null,
      "top": null,
      "visibility": null,
      "width": null
     }
    },
    "652d349367d14240a9399e225d641ed2": {
     "model_module": "@jupyter-widgets/base",
     "model_module_version": "1.2.0",
     "model_name": "LayoutModel",
     "state": {
      "_model_module": "@jupyter-widgets/base",
      "_model_module_version": "1.2.0",
      "_model_name": "LayoutModel",
      "_view_count": null,
      "_view_module": "@jupyter-widgets/base",
      "_view_module_version": "1.2.0",
      "_view_name": "LayoutView",
      "align_content": null,
      "align_items": null,
      "align_self": null,
      "border": null,
      "bottom": null,
      "display": null,
      "flex": null,
      "flex_flow": null,
      "grid_area": null,
      "grid_auto_columns": null,
      "grid_auto_flow": null,
      "grid_auto_rows": null,
      "grid_column": null,
      "grid_gap": null,
      "grid_row": null,
      "grid_template_areas": null,
      "grid_template_columns": null,
      "grid_template_rows": null,
      "height": null,
      "justify_content": null,
      "justify_items": null,
      "left": null,
      "margin": null,
      "max_height": null,
      "max_width": null,
      "min_height": null,
      "min_width": null,
      "object_fit": null,
      "object_position": null,
      "order": null,
      "overflow": null,
      "overflow_x": null,
      "overflow_y": null,
      "padding": null,
      "right": null,
      "top": null,
      "visibility": null,
      "width": null
     }
    },
    "66e93313582e45ca9324e69023864615": {
     "model_module": "@jupyter-widgets/base",
     "model_module_version": "1.2.0",
     "model_name": "LayoutModel",
     "state": {
      "_model_module": "@jupyter-widgets/base",
      "_model_module_version": "1.2.0",
      "_model_name": "LayoutModel",
      "_view_count": null,
      "_view_module": "@jupyter-widgets/base",
      "_view_module_version": "1.2.0",
      "_view_name": "LayoutView",
      "align_content": null,
      "align_items": null,
      "align_self": null,
      "border": null,
      "bottom": null,
      "display": null,
      "flex": null,
      "flex_flow": null,
      "grid_area": null,
      "grid_auto_columns": null,
      "grid_auto_flow": null,
      "grid_auto_rows": null,
      "grid_column": null,
      "grid_gap": null,
      "grid_row": null,
      "grid_template_areas": null,
      "grid_template_columns": null,
      "grid_template_rows": null,
      "height": null,
      "justify_content": null,
      "justify_items": null,
      "left": null,
      "margin": null,
      "max_height": null,
      "max_width": null,
      "min_height": null,
      "min_width": null,
      "object_fit": null,
      "object_position": null,
      "order": null,
      "overflow": null,
      "overflow_x": null,
      "overflow_y": null,
      "padding": null,
      "right": null,
      "top": null,
      "visibility": null,
      "width": null
     }
    },
    "670a3822924f44a98423d260f0e21407": {
     "model_module": "@jupyter-widgets/base",
     "model_module_version": "1.2.0",
     "model_name": "LayoutModel",
     "state": {
      "_model_module": "@jupyter-widgets/base",
      "_model_module_version": "1.2.0",
      "_model_name": "LayoutModel",
      "_view_count": null,
      "_view_module": "@jupyter-widgets/base",
      "_view_module_version": "1.2.0",
      "_view_name": "LayoutView",
      "align_content": null,
      "align_items": null,
      "align_self": null,
      "border": null,
      "bottom": null,
      "display": null,
      "flex": null,
      "flex_flow": null,
      "grid_area": null,
      "grid_auto_columns": null,
      "grid_auto_flow": null,
      "grid_auto_rows": null,
      "grid_column": null,
      "grid_gap": null,
      "grid_row": null,
      "grid_template_areas": null,
      "grid_template_columns": null,
      "grid_template_rows": null,
      "height": null,
      "justify_content": null,
      "justify_items": null,
      "left": null,
      "margin": null,
      "max_height": null,
      "max_width": null,
      "min_height": null,
      "min_width": null,
      "object_fit": null,
      "object_position": null,
      "order": null,
      "overflow": null,
      "overflow_x": null,
      "overflow_y": null,
      "padding": null,
      "right": null,
      "top": null,
      "visibility": null,
      "width": null
     }
    },
    "678a68b3682a4d5fb10314ad78812079": {
     "model_module": "@jupyter-widgets/controls",
     "model_module_version": "1.5.0",
     "model_name": "HBoxModel",
     "state": {
      "_dom_classes": [],
      "_model_module": "@jupyter-widgets/controls",
      "_model_module_version": "1.5.0",
      "_model_name": "HBoxModel",
      "_view_count": null,
      "_view_module": "@jupyter-widgets/controls",
      "_view_module_version": "1.5.0",
      "_view_name": "HBoxView",
      "box_style": "",
      "children": [
       "IPY_MODEL_5d9c2107196e4dc1a1ab673ebbbfbc33",
       "IPY_MODEL_a8d64316c84848a8bb8f2cefdc72e7cc",
       "IPY_MODEL_9f271d64765641aba9e4b88ea4a1ca1d"
      ],
      "layout": "IPY_MODEL_14d6747c67424a469254f2f6f9375e74"
     }
    },
    "684cc6a9e4f5485fa5533ea9cd07965c": {
     "model_module": "@jupyter-widgets/controls",
     "model_module_version": "1.5.0",
     "model_name": "DescriptionStyleModel",
     "state": {
      "_model_module": "@jupyter-widgets/controls",
      "_model_module_version": "1.5.0",
      "_model_name": "DescriptionStyleModel",
      "_view_count": null,
      "_view_module": "@jupyter-widgets/base",
      "_view_module_version": "1.2.0",
      "_view_name": "StyleView",
      "description_width": ""
     }
    },
    "6927bcd683744c72969bafcb13f4d246": {
     "model_module": "@jupyter-widgets/controls",
     "model_module_version": "1.5.0",
     "model_name": "HTMLModel",
     "state": {
      "_dom_classes": [],
      "_model_module": "@jupyter-widgets/controls",
      "_model_module_version": "1.5.0",
      "_model_name": "HTMLModel",
      "_view_count": null,
      "_view_module": "@jupyter-widgets/controls",
      "_view_module_version": "1.5.0",
      "_view_name": "HTMLView",
      "description": "",
      "description_tooltip": null,
      "layout": "IPY_MODEL_e0fb36f1dd0d4de29798d8d608e2f0dd",
      "placeholder": "​",
      "style": "IPY_MODEL_a5ee5bf821fa464c8c6164908644e56b",
      "value": "Getting Inception Predictions: 100%"
     }
    },
    "6ab33852ab06482d80ce9a3e67965ebd": {
     "model_module": "@jupyter-widgets/controls",
     "model_module_version": "1.5.0",
     "model_name": "DescriptionStyleModel",
     "state": {
      "_model_module": "@jupyter-widgets/controls",
      "_model_module_version": "1.5.0",
      "_model_name": "DescriptionStyleModel",
      "_view_count": null,
      "_view_module": "@jupyter-widgets/base",
      "_view_module_version": "1.2.0",
      "_view_name": "StyleView",
      "description_width": ""
     }
    },
    "6c64f06375bd4bedaa87950a6977a9b4": {
     "model_module": "@jupyter-widgets/controls",
     "model_module_version": "1.5.0",
     "model_name": "FloatProgressModel",
     "state": {
      "_dom_classes": [],
      "_model_module": "@jupyter-widgets/controls",
      "_model_module_version": "1.5.0",
      "_model_name": "FloatProgressModel",
      "_view_count": null,
      "_view_module": "@jupyter-widgets/controls",
      "_view_module_version": "1.5.0",
      "_view_name": "ProgressView",
      "bar_style": "success",
      "description": "",
      "description_tooltip": null,
      "layout": "IPY_MODEL_2ff1b481707e4ec19fa03be8d2069318",
      "max": 16,
      "min": 0,
      "orientation": "horizontal",
      "style": "IPY_MODEL_393f37cdd089435299b04516a5c0b356",
      "value": 16
     }
    },
    "6cbddfe753384b3dadf91e40ca919c6c": {
     "model_module": "@jupyter-widgets/controls",
     "model_module_version": "1.5.0",
     "model_name": "HTMLModel",
     "state": {
      "_dom_classes": [],
      "_model_module": "@jupyter-widgets/controls",
      "_model_module_version": "1.5.0",
      "_model_name": "HTMLModel",
      "_view_count": null,
      "_view_module": "@jupyter-widgets/controls",
      "_view_module_version": "1.5.0",
      "_view_name": "HTMLView",
      "description": "",
      "description_tooltip": null,
      "layout": "IPY_MODEL_b4ea113bf82f4593bfd8aea7f4e79351",
      "placeholder": "​",
      "style": "IPY_MODEL_578bfd984bac48c2870b4ce973f50be8",
      "value": "Getting Inception Predictions: 100%"
     }
    },
    "6cbdeab9849e4a57940bb60b78c355f5": {
     "model_module": "@jupyter-widgets/controls",
     "model_module_version": "1.5.0",
     "model_name": "ProgressStyleModel",
     "state": {
      "_model_module": "@jupyter-widgets/controls",
      "_model_module_version": "1.5.0",
      "_model_name": "ProgressStyleModel",
      "_view_count": null,
      "_view_module": "@jupyter-widgets/base",
      "_view_module_version": "1.2.0",
      "_view_name": "StyleView",
      "bar_color": null,
      "description_width": ""
     }
    },
    "6e2bc1b31a8642f192c3b0d97d154afb": {
     "model_module": "@jupyter-widgets/base",
     "model_module_version": "1.2.0",
     "model_name": "LayoutModel",
     "state": {
      "_model_module": "@jupyter-widgets/base",
      "_model_module_version": "1.2.0",
      "_model_name": "LayoutModel",
      "_view_count": null,
      "_view_module": "@jupyter-widgets/base",
      "_view_module_version": "1.2.0",
      "_view_name": "LayoutView",
      "align_content": null,
      "align_items": null,
      "align_self": null,
      "border": null,
      "bottom": null,
      "display": null,
      "flex": null,
      "flex_flow": null,
      "grid_area": null,
      "grid_auto_columns": null,
      "grid_auto_flow": null,
      "grid_auto_rows": null,
      "grid_column": null,
      "grid_gap": null,
      "grid_row": null,
      "grid_template_areas": null,
      "grid_template_columns": null,
      "grid_template_rows": null,
      "height": null,
      "justify_content": null,
      "justify_items": null,
      "left": null,
      "margin": null,
      "max_height": null,
      "max_width": null,
      "min_height": null,
      "min_width": null,
      "object_fit": null,
      "object_position": null,
      "order": null,
      "overflow": null,
      "overflow_x": null,
      "overflow_y": null,
      "padding": null,
      "right": null,
      "top": null,
      "visibility": null,
      "width": null
     }
    },
    "6e92f828a3e54daf840368cddd19a4c4": {
     "model_module": "@jupyter-widgets/base",
     "model_module_version": "1.2.0",
     "model_name": "LayoutModel",
     "state": {
      "_model_module": "@jupyter-widgets/base",
      "_model_module_version": "1.2.0",
      "_model_name": "LayoutModel",
      "_view_count": null,
      "_view_module": "@jupyter-widgets/base",
      "_view_module_version": "1.2.0",
      "_view_name": "LayoutView",
      "align_content": null,
      "align_items": null,
      "align_self": null,
      "border": null,
      "bottom": null,
      "display": null,
      "flex": null,
      "flex_flow": null,
      "grid_area": null,
      "grid_auto_columns": null,
      "grid_auto_flow": null,
      "grid_auto_rows": null,
      "grid_column": null,
      "grid_gap": null,
      "grid_row": null,
      "grid_template_areas": null,
      "grid_template_columns": null,
      "grid_template_rows": null,
      "height": null,
      "justify_content": null,
      "justify_items": null,
      "left": null,
      "margin": null,
      "max_height": null,
      "max_width": null,
      "min_height": null,
      "min_width": null,
      "object_fit": null,
      "object_position": null,
      "order": null,
      "overflow": null,
      "overflow_x": null,
      "overflow_y": null,
      "padding": null,
      "right": null,
      "top": null,
      "visibility": null,
      "width": null
     }
    },
    "6fee563804104a89813b239a35e9f8c7": {
     "model_module": "@jupyter-widgets/controls",
     "model_module_version": "1.5.0",
     "model_name": "DescriptionStyleModel",
     "state": {
      "_model_module": "@jupyter-widgets/controls",
      "_model_module_version": "1.5.0",
      "_model_name": "DescriptionStyleModel",
      "_view_count": null,
      "_view_module": "@jupyter-widgets/base",
      "_view_module_version": "1.2.0",
      "_view_name": "StyleView",
      "description_width": ""
     }
    },
    "72b5b2c017f6483a98d82c92e46e90cc": {
     "model_module": "@jupyter-widgets/controls",
     "model_module_version": "1.5.0",
     "model_name": "HTMLModel",
     "state": {
      "_dom_classes": [],
      "_model_module": "@jupyter-widgets/controls",
      "_model_module_version": "1.5.0",
      "_model_name": "HTMLModel",
      "_view_count": null,
      "_view_module": "@jupyter-widgets/controls",
      "_view_module_version": "1.5.0",
      "_view_name": "HTMLView",
      "description": "",
      "description_tooltip": null,
      "layout": "IPY_MODEL_329b967020984fbebe1f3e25d0a84bf4",
      "placeholder": "​",
      "style": "IPY_MODEL_e1fbf63e3b6447df93d791c98d276d79",
      "value": "Calculating NLL: 100%"
     }
    },
    "73832800489c42db8303cc52b77d1af7": {
     "model_module": "@jupyter-widgets/controls",
     "model_module_version": "1.5.0",
     "model_name": "DescriptionStyleModel",
     "state": {
      "_model_module": "@jupyter-widgets/controls",
      "_model_module_version": "1.5.0",
      "_model_name": "DescriptionStyleModel",
      "_view_count": null,
      "_view_module": "@jupyter-widgets/base",
      "_view_module_version": "1.2.0",
      "_view_name": "StyleView",
      "description_width": ""
     }
    },
    "739f6e89aff14c14b66f60f933def555": {
     "model_module": "@jupyter-widgets/base",
     "model_module_version": "1.2.0",
     "model_name": "LayoutModel",
     "state": {
      "_model_module": "@jupyter-widgets/base",
      "_model_module_version": "1.2.0",
      "_model_name": "LayoutModel",
      "_view_count": null,
      "_view_module": "@jupyter-widgets/base",
      "_view_module_version": "1.2.0",
      "_view_name": "LayoutView",
      "align_content": null,
      "align_items": null,
      "align_self": null,
      "border": null,
      "bottom": null,
      "display": null,
      "flex": null,
      "flex_flow": null,
      "grid_area": null,
      "grid_auto_columns": null,
      "grid_auto_flow": null,
      "grid_auto_rows": null,
      "grid_column": null,
      "grid_gap": null,
      "grid_row": null,
      "grid_template_areas": null,
      "grid_template_columns": null,
      "grid_template_rows": null,
      "height": null,
      "justify_content": null,
      "justify_items": null,
      "left": null,
      "margin": null,
      "max_height": null,
      "max_width": null,
      "min_height": null,
      "min_width": null,
      "object_fit": null,
      "object_position": null,
      "order": null,
      "overflow": null,
      "overflow_x": null,
      "overflow_y": null,
      "padding": null,
      "right": null,
      "top": null,
      "visibility": null,
      "width": null
     }
    },
    "73b57b2b1d1c458393474d25ba12f735": {
     "model_module": "@jupyter-widgets/controls",
     "model_module_version": "1.5.0",
     "model_name": "ProgressStyleModel",
     "state": {
      "_model_module": "@jupyter-widgets/controls",
      "_model_module_version": "1.5.0",
      "_model_name": "ProgressStyleModel",
      "_view_count": null,
      "_view_module": "@jupyter-widgets/base",
      "_view_module_version": "1.2.0",
      "_view_name": "StyleView",
      "bar_color": null,
      "description_width": ""
     }
    },
    "744c372bc44548e1842ecd8d7e3bd293": {
     "model_module": "@jupyter-widgets/controls",
     "model_module_version": "1.5.0",
     "model_name": "FloatProgressModel",
     "state": {
      "_dom_classes": [],
      "_model_module": "@jupyter-widgets/controls",
      "_model_module_version": "1.5.0",
      "_model_name": "FloatProgressModel",
      "_view_count": null,
      "_view_module": "@jupyter-widgets/controls",
      "_view_module_version": "1.5.0",
      "_view_name": "ProgressView",
      "bar_style": "success",
      "description": "",
      "description_tooltip": null,
      "layout": "IPY_MODEL_8460823b920e4356a2f3c49825985c12",
      "max": 7,
      "min": 0,
      "orientation": "horizontal",
      "style": "IPY_MODEL_f56bb3bdec4c4641ae3676ff837d4389",
      "value": 7
     }
    },
    "7522df8f47214b07bd6b357688efb901": {
     "model_module": "@jupyter-widgets/controls",
     "model_module_version": "1.5.0",
     "model_name": "FloatProgressModel",
     "state": {
      "_dom_classes": [],
      "_model_module": "@jupyter-widgets/controls",
      "_model_module_version": "1.5.0",
      "_model_name": "FloatProgressModel",
      "_view_count": null,
      "_view_module": "@jupyter-widgets/controls",
      "_view_module_version": "1.5.0",
      "_view_name": "ProgressView",
      "bar_style": "success",
      "description": "",
      "description_tooltip": null,
      "layout": "IPY_MODEL_0ced92cfa6a34462a1acbf9b6b0c0f52",
      "max": 16,
      "min": 0,
      "orientation": "horizontal",
      "style": "IPY_MODEL_783b90e746e84217994a5bb39f3494b4",
      "value": 16
     }
    },
    "752a832a1e014c119e7a83b6b6d1989c": {
     "model_module": "@jupyter-widgets/controls",
     "model_module_version": "1.5.0",
     "model_name": "ProgressStyleModel",
     "state": {
      "_model_module": "@jupyter-widgets/controls",
      "_model_module_version": "1.5.0",
      "_model_name": "ProgressStyleModel",
      "_view_count": null,
      "_view_module": "@jupyter-widgets/base",
      "_view_module_version": "1.2.0",
      "_view_name": "StyleView",
      "bar_color": null,
      "description_width": ""
     }
    },
    "760dd10b2db14395b3524addecd39505": {
     "model_module": "@jupyter-widgets/controls",
     "model_module_version": "1.5.0",
     "model_name": "ProgressStyleModel",
     "state": {
      "_model_module": "@jupyter-widgets/controls",
      "_model_module_version": "1.5.0",
      "_model_name": "ProgressStyleModel",
      "_view_count": null,
      "_view_module": "@jupyter-widgets/base",
      "_view_module_version": "1.2.0",
      "_view_name": "StyleView",
      "bar_color": null,
      "description_width": ""
     }
    },
    "762698adf21f4aaa9bc8bb1cd0c0341a": {
     "model_module": "@jupyter-widgets/controls",
     "model_module_version": "1.5.0",
     "model_name": "DescriptionStyleModel",
     "state": {
      "_model_module": "@jupyter-widgets/controls",
      "_model_module_version": "1.5.0",
      "_model_name": "DescriptionStyleModel",
      "_view_count": null,
      "_view_module": "@jupyter-widgets/base",
      "_view_module_version": "1.2.0",
      "_view_name": "StyleView",
      "description_width": ""
     }
    },
    "77533572d3c644d39d53c6335dd63810": {
     "model_module": "@jupyter-widgets/controls",
     "model_module_version": "1.5.0",
     "model_name": "DescriptionStyleModel",
     "state": {
      "_model_module": "@jupyter-widgets/controls",
      "_model_module_version": "1.5.0",
      "_model_name": "DescriptionStyleModel",
      "_view_count": null,
      "_view_module": "@jupyter-widgets/base",
      "_view_module_version": "1.2.0",
      "_view_name": "StyleView",
      "description_width": ""
     }
    },
    "7815af16dae84e09821c481aa4017758": {
     "model_module": "@jupyter-widgets/controls",
     "model_module_version": "1.5.0",
     "model_name": "HTMLModel",
     "state": {
      "_dom_classes": [],
      "_model_module": "@jupyter-widgets/controls",
      "_model_module_version": "1.5.0",
      "_model_name": "HTMLModel",
      "_view_count": null,
      "_view_module": "@jupyter-widgets/controls",
      "_view_module_version": "1.5.0",
      "_view_name": "HTMLView",
      "description": "",
      "description_tooltip": null,
      "layout": "IPY_MODEL_dfe6fcbc66534dc9a67dc20fb901ef0f",
      "placeholder": "​",
      "style": "IPY_MODEL_43fd5ddf333c4051bc54ca307458b285",
      "value": " 16/16 [04:09&lt;00:00, 14.22s/it]"
     }
    },
    "782ad994f1b142be83b47cfdb842c13f": {
     "model_module": "@jupyter-widgets/controls",
     "model_module_version": "1.5.0",
     "model_name": "ProgressStyleModel",
     "state": {
      "_model_module": "@jupyter-widgets/controls",
      "_model_module_version": "1.5.0",
      "_model_name": "ProgressStyleModel",
      "_view_count": null,
      "_view_module": "@jupyter-widgets/base",
      "_view_module_version": "1.2.0",
      "_view_name": "StyleView",
      "bar_color": null,
      "description_width": ""
     }
    },
    "783b90e746e84217994a5bb39f3494b4": {
     "model_module": "@jupyter-widgets/controls",
     "model_module_version": "1.5.0",
     "model_name": "ProgressStyleModel",
     "state": {
      "_model_module": "@jupyter-widgets/controls",
      "_model_module_version": "1.5.0",
      "_model_name": "ProgressStyleModel",
      "_view_count": null,
      "_view_module": "@jupyter-widgets/base",
      "_view_module_version": "1.2.0",
      "_view_name": "StyleView",
      "bar_color": null,
      "description_width": ""
     }
    },
    "785f9921021f45368d2af9ad7411d7f9": {
     "model_module": "@jupyter-widgets/controls",
     "model_module_version": "1.5.0",
     "model_name": "DescriptionStyleModel",
     "state": {
      "_model_module": "@jupyter-widgets/controls",
      "_model_module_version": "1.5.0",
      "_model_name": "DescriptionStyleModel",
      "_view_count": null,
      "_view_module": "@jupyter-widgets/base",
      "_view_module_version": "1.2.0",
      "_view_name": "StyleView",
      "description_width": ""
     }
    },
    "7880d99880c948118ec47ff28be6c971": {
     "model_module": "@jupyter-widgets/controls",
     "model_module_version": "1.5.0",
     "model_name": "DescriptionStyleModel",
     "state": {
      "_model_module": "@jupyter-widgets/controls",
      "_model_module_version": "1.5.0",
      "_model_name": "DescriptionStyleModel",
      "_view_count": null,
      "_view_module": "@jupyter-widgets/base",
      "_view_module_version": "1.2.0",
      "_view_name": "StyleView",
      "description_width": ""
     }
    },
    "791044d2f7584bc29bfc051e27f52b24": {
     "model_module": "@jupyter-widgets/controls",
     "model_module_version": "1.5.0",
     "model_name": "FloatProgressModel",
     "state": {
      "_dom_classes": [],
      "_model_module": "@jupyter-widgets/controls",
      "_model_module_version": "1.5.0",
      "_model_name": "FloatProgressModel",
      "_view_count": null,
      "_view_module": "@jupyter-widgets/controls",
      "_view_module_version": "1.5.0",
      "_view_name": "ProgressView",
      "bar_style": "success",
      "description": "",
      "description_tooltip": null,
      "layout": "IPY_MODEL_2b98dae54d05459682e7704fe855f505",
      "max": 16,
      "min": 0,
      "orientation": "horizontal",
      "style": "IPY_MODEL_760dd10b2db14395b3524addecd39505",
      "value": 16
     }
    },
    "7ad2dadadef8464aa95454b8ef8dc71b": {
     "model_module": "@jupyter-widgets/controls",
     "model_module_version": "1.5.0",
     "model_name": "DescriptionStyleModel",
     "state": {
      "_model_module": "@jupyter-widgets/controls",
      "_model_module_version": "1.5.0",
      "_model_name": "DescriptionStyleModel",
      "_view_count": null,
      "_view_module": "@jupyter-widgets/base",
      "_view_module_version": "1.2.0",
      "_view_name": "StyleView",
      "description_width": ""
     }
    },
    "7bb9c461a7df4ff988a43993716007b4": {
     "model_module": "@jupyter-widgets/controls",
     "model_module_version": "1.5.0",
     "model_name": "HTMLModel",
     "state": {
      "_dom_classes": [],
      "_model_module": "@jupyter-widgets/controls",
      "_model_module_version": "1.5.0",
      "_model_name": "HTMLModel",
      "_view_count": null,
      "_view_module": "@jupyter-widgets/controls",
      "_view_module_version": "1.5.0",
      "_view_name": "HTMLView",
      "description": "",
      "description_tooltip": null,
      "layout": "IPY_MODEL_866d312f0b4848ebba2c5eb3a5f7511d",
      "placeholder": "​",
      "style": "IPY_MODEL_470fdec220774c0795120b12056e63d7",
      "value": " 16/16 [10:33&lt;00:00, 36.77s/it]"
     }
    },
    "7c8426beb1134a088d98bf344148cd5e": {
     "model_module": "@jupyter-widgets/base",
     "model_module_version": "1.2.0",
     "model_name": "LayoutModel",
     "state": {
      "_model_module": "@jupyter-widgets/base",
      "_model_module_version": "1.2.0",
      "_model_name": "LayoutModel",
      "_view_count": null,
      "_view_module": "@jupyter-widgets/base",
      "_view_module_version": "1.2.0",
      "_view_name": "LayoutView",
      "align_content": null,
      "align_items": null,
      "align_self": null,
      "border": null,
      "bottom": null,
      "display": null,
      "flex": null,
      "flex_flow": null,
      "grid_area": null,
      "grid_auto_columns": null,
      "grid_auto_flow": null,
      "grid_auto_rows": null,
      "grid_column": null,
      "grid_gap": null,
      "grid_row": null,
      "grid_template_areas": null,
      "grid_template_columns": null,
      "grid_template_rows": null,
      "height": null,
      "justify_content": null,
      "justify_items": null,
      "left": null,
      "margin": null,
      "max_height": null,
      "max_width": null,
      "min_height": null,
      "min_width": null,
      "object_fit": null,
      "object_position": null,
      "order": null,
      "overflow": null,
      "overflow_x": null,
      "overflow_y": null,
      "padding": null,
      "right": null,
      "top": null,
      "visibility": null,
      "width": null
     }
    },
    "7cd13822253e4e718b364721289fdbf4": {
     "model_module": "@jupyter-widgets/controls",
     "model_module_version": "1.5.0",
     "model_name": "HBoxModel",
     "state": {
      "_dom_classes": [],
      "_model_module": "@jupyter-widgets/controls",
      "_model_module_version": "1.5.0",
      "_model_name": "HBoxModel",
      "_view_count": null,
      "_view_module": "@jupyter-widgets/controls",
      "_view_module_version": "1.5.0",
      "_view_name": "HBoxView",
      "box_style": "",
      "children": [
       "IPY_MODEL_c71b356eb186472193f3eb1a44a9b97c",
       "IPY_MODEL_99dcfe4adce0479e9a8b174f0f2db658",
       "IPY_MODEL_c2551b9215e74f4f90beb6aaa4be7828"
      ],
      "layout": "IPY_MODEL_e99813134c5240f8becdd8dccc7e5ab1"
     }
    },
    "7f62b40dc0814c659511fd67f5aac34a": {
     "model_module": "@jupyter-widgets/base",
     "model_module_version": "1.2.0",
     "model_name": "LayoutModel",
     "state": {
      "_model_module": "@jupyter-widgets/base",
      "_model_module_version": "1.2.0",
      "_model_name": "LayoutModel",
      "_view_count": null,
      "_view_module": "@jupyter-widgets/base",
      "_view_module_version": "1.2.0",
      "_view_name": "LayoutView",
      "align_content": null,
      "align_items": null,
      "align_self": null,
      "border": null,
      "bottom": null,
      "display": null,
      "flex": null,
      "flex_flow": null,
      "grid_area": null,
      "grid_auto_columns": null,
      "grid_auto_flow": null,
      "grid_auto_rows": null,
      "grid_column": null,
      "grid_gap": null,
      "grid_row": null,
      "grid_template_areas": null,
      "grid_template_columns": null,
      "grid_template_rows": null,
      "height": null,
      "justify_content": null,
      "justify_items": null,
      "left": null,
      "margin": null,
      "max_height": null,
      "max_width": null,
      "min_height": null,
      "min_width": null,
      "object_fit": null,
      "object_position": null,
      "order": null,
      "overflow": null,
      "overflow_x": null,
      "overflow_y": null,
      "padding": null,
      "right": null,
      "top": null,
      "visibility": null,
      "width": null
     }
    },
    "7ff42f1598ac45b3b8cc3493c570f415": {
     "model_module": "@jupyter-widgets/base",
     "model_module_version": "1.2.0",
     "model_name": "LayoutModel",
     "state": {
      "_model_module": "@jupyter-widgets/base",
      "_model_module_version": "1.2.0",
      "_model_name": "LayoutModel",
      "_view_count": null,
      "_view_module": "@jupyter-widgets/base",
      "_view_module_version": "1.2.0",
      "_view_name": "LayoutView",
      "align_content": null,
      "align_items": null,
      "align_self": null,
      "border": null,
      "bottom": null,
      "display": null,
      "flex": null,
      "flex_flow": null,
      "grid_area": null,
      "grid_auto_columns": null,
      "grid_auto_flow": null,
      "grid_auto_rows": null,
      "grid_column": null,
      "grid_gap": null,
      "grid_row": null,
      "grid_template_areas": null,
      "grid_template_columns": null,
      "grid_template_rows": null,
      "height": null,
      "justify_content": null,
      "justify_items": null,
      "left": null,
      "margin": null,
      "max_height": null,
      "max_width": null,
      "min_height": null,
      "min_width": null,
      "object_fit": null,
      "object_position": null,
      "order": null,
      "overflow": null,
      "overflow_x": null,
      "overflow_y": null,
      "padding": null,
      "right": null,
      "top": null,
      "visibility": null,
      "width": null
     }
    },
    "8079b1a9e7e74f59b392f5f65967695a": {
     "model_module": "@jupyter-widgets/controls",
     "model_module_version": "1.5.0",
     "model_name": "HTMLModel",
     "state": {
      "_dom_classes": [],
      "_model_module": "@jupyter-widgets/controls",
      "_model_module_version": "1.5.0",
      "_model_name": "HTMLModel",
      "_view_count": null,
      "_view_module": "@jupyter-widgets/controls",
      "_view_module_version": "1.5.0",
      "_view_name": "HTMLView",
      "description": "",
      "description_tooltip": null,
      "layout": "IPY_MODEL_605b6756bf8e4a7f82e79ba8279fc6c6",
      "placeholder": "​",
      "style": "IPY_MODEL_785f9921021f45368d2af9ad7411d7f9",
      "value": "Getting Inception Predictions: 100%"
     }
    },
    "814c533e7b2b418ba1297ba101920536": {
     "model_module": "@jupyter-widgets/base",
     "model_module_version": "1.2.0",
     "model_name": "LayoutModel",
     "state": {
      "_model_module": "@jupyter-widgets/base",
      "_model_module_version": "1.2.0",
      "_model_name": "LayoutModel",
      "_view_count": null,
      "_view_module": "@jupyter-widgets/base",
      "_view_module_version": "1.2.0",
      "_view_name": "LayoutView",
      "align_content": null,
      "align_items": null,
      "align_self": null,
      "border": null,
      "bottom": null,
      "display": null,
      "flex": null,
      "flex_flow": null,
      "grid_area": null,
      "grid_auto_columns": null,
      "grid_auto_flow": null,
      "grid_auto_rows": null,
      "grid_column": null,
      "grid_gap": null,
      "grid_row": null,
      "grid_template_areas": null,
      "grid_template_columns": null,
      "grid_template_rows": null,
      "height": null,
      "justify_content": null,
      "justify_items": null,
      "left": null,
      "margin": null,
      "max_height": null,
      "max_width": null,
      "min_height": null,
      "min_width": null,
      "object_fit": null,
      "object_position": null,
      "order": null,
      "overflow": null,
      "overflow_x": null,
      "overflow_y": null,
      "padding": null,
      "right": null,
      "top": null,
      "visibility": null,
      "width": null
     }
    },
    "8195d30df22b47bcbdc520f3cb200dbb": {
     "model_module": "@jupyter-widgets/controls",
     "model_module_version": "1.5.0",
     "model_name": "HBoxModel",
     "state": {
      "_dom_classes": [],
      "_model_module": "@jupyter-widgets/controls",
      "_model_module_version": "1.5.0",
      "_model_name": "HBoxModel",
      "_view_count": null,
      "_view_module": "@jupyter-widgets/controls",
      "_view_module_version": "1.5.0",
      "_view_name": "HBoxView",
      "box_style": "",
      "children": [
       "IPY_MODEL_19cc8c0b0ea64b0a872aba49d8c2702a",
       "IPY_MODEL_1160c36216bb406aa3eb56313bf02e69",
       "IPY_MODEL_46cb3807e3234175b08801be49455d60"
      ],
      "layout": "IPY_MODEL_8c5795acd59e479d923365a3cb4cc58e"
     }
    },
    "81a9385feab94d12afa87e8c2483745b": {
     "model_module": "@jupyter-widgets/base",
     "model_module_version": "1.2.0",
     "model_name": "LayoutModel",
     "state": {
      "_model_module": "@jupyter-widgets/base",
      "_model_module_version": "1.2.0",
      "_model_name": "LayoutModel",
      "_view_count": null,
      "_view_module": "@jupyter-widgets/base",
      "_view_module_version": "1.2.0",
      "_view_name": "LayoutView",
      "align_content": null,
      "align_items": null,
      "align_self": null,
      "border": null,
      "bottom": null,
      "display": null,
      "flex": null,
      "flex_flow": null,
      "grid_area": null,
      "grid_auto_columns": null,
      "grid_auto_flow": null,
      "grid_auto_rows": null,
      "grid_column": null,
      "grid_gap": null,
      "grid_row": null,
      "grid_template_areas": null,
      "grid_template_columns": null,
      "grid_template_rows": null,
      "height": null,
      "justify_content": null,
      "justify_items": null,
      "left": null,
      "margin": null,
      "max_height": null,
      "max_width": null,
      "min_height": null,
      "min_width": null,
      "object_fit": null,
      "object_position": null,
      "order": null,
      "overflow": null,
      "overflow_x": null,
      "overflow_y": null,
      "padding": null,
      "right": null,
      "top": null,
      "visibility": null,
      "width": null
     }
    },
    "82e7c1dfc8434d928dc6678b073199fa": {
     "model_module": "@jupyter-widgets/base",
     "model_module_version": "1.2.0",
     "model_name": "LayoutModel",
     "state": {
      "_model_module": "@jupyter-widgets/base",
      "_model_module_version": "1.2.0",
      "_model_name": "LayoutModel",
      "_view_count": null,
      "_view_module": "@jupyter-widgets/base",
      "_view_module_version": "1.2.0",
      "_view_name": "LayoutView",
      "align_content": null,
      "align_items": null,
      "align_self": null,
      "border": null,
      "bottom": null,
      "display": null,
      "flex": null,
      "flex_flow": null,
      "grid_area": null,
      "grid_auto_columns": null,
      "grid_auto_flow": null,
      "grid_auto_rows": null,
      "grid_column": null,
      "grid_gap": null,
      "grid_row": null,
      "grid_template_areas": null,
      "grid_template_columns": null,
      "grid_template_rows": null,
      "height": null,
      "justify_content": null,
      "justify_items": null,
      "left": null,
      "margin": null,
      "max_height": null,
      "max_width": null,
      "min_height": null,
      "min_width": null,
      "object_fit": null,
      "object_position": null,
      "order": null,
      "overflow": null,
      "overflow_x": null,
      "overflow_y": null,
      "padding": null,
      "right": null,
      "top": null,
      "visibility": null,
      "width": null
     }
    },
    "8460823b920e4356a2f3c49825985c12": {
     "model_module": "@jupyter-widgets/base",
     "model_module_version": "1.2.0",
     "model_name": "LayoutModel",
     "state": {
      "_model_module": "@jupyter-widgets/base",
      "_model_module_version": "1.2.0",
      "_model_name": "LayoutModel",
      "_view_count": null,
      "_view_module": "@jupyter-widgets/base",
      "_view_module_version": "1.2.0",
      "_view_name": "LayoutView",
      "align_content": null,
      "align_items": null,
      "align_self": null,
      "border": null,
      "bottom": null,
      "display": null,
      "flex": null,
      "flex_flow": null,
      "grid_area": null,
      "grid_auto_columns": null,
      "grid_auto_flow": null,
      "grid_auto_rows": null,
      "grid_column": null,
      "grid_gap": null,
      "grid_row": null,
      "grid_template_areas": null,
      "grid_template_columns": null,
      "grid_template_rows": null,
      "height": null,
      "justify_content": null,
      "justify_items": null,
      "left": null,
      "margin": null,
      "max_height": null,
      "max_width": null,
      "min_height": null,
      "min_width": null,
      "object_fit": null,
      "object_position": null,
      "order": null,
      "overflow": null,
      "overflow_x": null,
      "overflow_y": null,
      "padding": null,
      "right": null,
      "top": null,
      "visibility": null,
      "width": null
     }
    },
    "85de9712f19742a5bb37439acf6ade15": {
     "model_module": "@jupyter-widgets/controls",
     "model_module_version": "1.5.0",
     "model_name": "DescriptionStyleModel",
     "state": {
      "_model_module": "@jupyter-widgets/controls",
      "_model_module_version": "1.5.0",
      "_model_name": "DescriptionStyleModel",
      "_view_count": null,
      "_view_module": "@jupyter-widgets/base",
      "_view_module_version": "1.2.0",
      "_view_name": "StyleView",
      "description_width": ""
     }
    },
    "86580b6767934638908a3601cd582e08": {
     "model_module": "@jupyter-widgets/controls",
     "model_module_version": "1.5.0",
     "model_name": "HTMLModel",
     "state": {
      "_dom_classes": [],
      "_model_module": "@jupyter-widgets/controls",
      "_model_module_version": "1.5.0",
      "_model_name": "HTMLModel",
      "_view_count": null,
      "_view_module": "@jupyter-widgets/controls",
      "_view_module_version": "1.5.0",
      "_view_name": "HTMLView",
      "description": "",
      "description_tooltip": null,
      "layout": "IPY_MODEL_b900a064ed70437c913ad5dd3dcbb72c",
      "placeholder": "​",
      "style": "IPY_MODEL_5de0066b6ce24b98a201d5287be4e4a2",
      "value": " 7/7 [00:00&lt;00:00,  7.99it/s]"
     }
    },
    "866d312f0b4848ebba2c5eb3a5f7511d": {
     "model_module": "@jupyter-widgets/base",
     "model_module_version": "1.2.0",
     "model_name": "LayoutModel",
     "state": {
      "_model_module": "@jupyter-widgets/base",
      "_model_module_version": "1.2.0",
      "_model_name": "LayoutModel",
      "_view_count": null,
      "_view_module": "@jupyter-widgets/base",
      "_view_module_version": "1.2.0",
      "_view_name": "LayoutView",
      "align_content": null,
      "align_items": null,
      "align_self": null,
      "border": null,
      "bottom": null,
      "display": null,
      "flex": null,
      "flex_flow": null,
      "grid_area": null,
      "grid_auto_columns": null,
      "grid_auto_flow": null,
      "grid_auto_rows": null,
      "grid_column": null,
      "grid_gap": null,
      "grid_row": null,
      "grid_template_areas": null,
      "grid_template_columns": null,
      "grid_template_rows": null,
      "height": null,
      "justify_content": null,
      "justify_items": null,
      "left": null,
      "margin": null,
      "max_height": null,
      "max_width": null,
      "min_height": null,
      "min_width": null,
      "object_fit": null,
      "object_position": null,
      "order": null,
      "overflow": null,
      "overflow_x": null,
      "overflow_y": null,
      "padding": null,
      "right": null,
      "top": null,
      "visibility": null,
      "width": null
     }
    },
    "86a835fb86994cca8e7bcaf8d64456cf": {
     "model_module": "@jupyter-widgets/controls",
     "model_module_version": "1.5.0",
     "model_name": "DescriptionStyleModel",
     "state": {
      "_model_module": "@jupyter-widgets/controls",
      "_model_module_version": "1.5.0",
      "_model_name": "DescriptionStyleModel",
      "_view_count": null,
      "_view_module": "@jupyter-widgets/base",
      "_view_module_version": "1.2.0",
      "_view_name": "StyleView",
      "description_width": ""
     }
    },
    "8728cf818f0e4c5bb9aaab611f5b37ec": {
     "model_module": "@jupyter-widgets/controls",
     "model_module_version": "1.5.0",
     "model_name": "HBoxModel",
     "state": {
      "_dom_classes": [],
      "_model_module": "@jupyter-widgets/controls",
      "_model_module_version": "1.5.0",
      "_model_name": "HBoxModel",
      "_view_count": null,
      "_view_module": "@jupyter-widgets/controls",
      "_view_module_version": "1.5.0",
      "_view_name": "HBoxView",
      "box_style": "",
      "children": [
       "IPY_MODEL_10a45e788de84a22b47ed548c8674926",
       "IPY_MODEL_e67bfc313ecc4c5c8500384d77be12c3",
       "IPY_MODEL_86580b6767934638908a3601cd582e08"
      ],
      "layout": "IPY_MODEL_122b84322db24870b9a7ea2e9539a351"
     }
    },
    "892ac1ef1e6c413cafb9c0d954bdee29": {
     "model_module": "@jupyter-widgets/controls",
     "model_module_version": "1.5.0",
     "model_name": "ProgressStyleModel",
     "state": {
      "_model_module": "@jupyter-widgets/controls",
      "_model_module_version": "1.5.0",
      "_model_name": "ProgressStyleModel",
      "_view_count": null,
      "_view_module": "@jupyter-widgets/base",
      "_view_module_version": "1.2.0",
      "_view_name": "StyleView",
      "bar_color": null,
      "description_width": ""
     }
    },
    "89335d42700e44c1ac826d24c8b75d26": {
     "model_module": "@jupyter-widgets/base",
     "model_module_version": "1.2.0",
     "model_name": "LayoutModel",
     "state": {
      "_model_module": "@jupyter-widgets/base",
      "_model_module_version": "1.2.0",
      "_model_name": "LayoutModel",
      "_view_count": null,
      "_view_module": "@jupyter-widgets/base",
      "_view_module_version": "1.2.0",
      "_view_name": "LayoutView",
      "align_content": null,
      "align_items": null,
      "align_self": null,
      "border": null,
      "bottom": null,
      "display": null,
      "flex": null,
      "flex_flow": null,
      "grid_area": null,
      "grid_auto_columns": null,
      "grid_auto_flow": null,
      "grid_auto_rows": null,
      "grid_column": null,
      "grid_gap": null,
      "grid_row": null,
      "grid_template_areas": null,
      "grid_template_columns": null,
      "grid_template_rows": null,
      "height": null,
      "justify_content": null,
      "justify_items": null,
      "left": null,
      "margin": null,
      "max_height": null,
      "max_width": null,
      "min_height": null,
      "min_width": null,
      "object_fit": null,
      "object_position": null,
      "order": null,
      "overflow": null,
      "overflow_x": null,
      "overflow_y": null,
      "padding": null,
      "right": null,
      "top": null,
      "visibility": null,
      "width": null
     }
    },
    "89f81fbba77e4cb0a77678f03f0a23c6": {
     "model_module": "@jupyter-widgets/controls",
     "model_module_version": "1.5.0",
     "model_name": "HTMLModel",
     "state": {
      "_dom_classes": [],
      "_model_module": "@jupyter-widgets/controls",
      "_model_module_version": "1.5.0",
      "_model_name": "HTMLModel",
      "_view_count": null,
      "_view_module": "@jupyter-widgets/controls",
      "_view_module_version": "1.5.0",
      "_view_name": "HTMLView",
      "description": "",
      "description_tooltip": null,
      "layout": "IPY_MODEL_7ff42f1598ac45b3b8cc3493c570f415",
      "placeholder": "​",
      "style": "IPY_MODEL_4fb6e2fed1544592abf5ebde2d3f5141",
      "value": " 16/16 [11:42&lt;00:00, 40.29s/it]"
     }
    },
    "8bbb7c973d5f4c6bb5b010c008ebf951": {
     "model_module": "@jupyter-widgets/controls",
     "model_module_version": "1.5.0",
     "model_name": "DescriptionStyleModel",
     "state": {
      "_model_module": "@jupyter-widgets/controls",
      "_model_module_version": "1.5.0",
      "_model_name": "DescriptionStyleModel",
      "_view_count": null,
      "_view_module": "@jupyter-widgets/base",
      "_view_module_version": "1.2.0",
      "_view_name": "StyleView",
      "description_width": ""
     }
    },
    "8bead4b48a944f929fd2003ebc7561db": {
     "model_module": "@jupyter-widgets/base",
     "model_module_version": "1.2.0",
     "model_name": "LayoutModel",
     "state": {
      "_model_module": "@jupyter-widgets/base",
      "_model_module_version": "1.2.0",
      "_model_name": "LayoutModel",
      "_view_count": null,
      "_view_module": "@jupyter-widgets/base",
      "_view_module_version": "1.2.0",
      "_view_name": "LayoutView",
      "align_content": null,
      "align_items": null,
      "align_self": null,
      "border": null,
      "bottom": null,
      "display": null,
      "flex": null,
      "flex_flow": null,
      "grid_area": null,
      "grid_auto_columns": null,
      "grid_auto_flow": null,
      "grid_auto_rows": null,
      "grid_column": null,
      "grid_gap": null,
      "grid_row": null,
      "grid_template_areas": null,
      "grid_template_columns": null,
      "grid_template_rows": null,
      "height": null,
      "justify_content": null,
      "justify_items": null,
      "left": null,
      "margin": null,
      "max_height": null,
      "max_width": null,
      "min_height": null,
      "min_width": null,
      "object_fit": null,
      "object_position": null,
      "order": null,
      "overflow": null,
      "overflow_x": null,
      "overflow_y": null,
      "padding": null,
      "right": null,
      "top": null,
      "visibility": null,
      "width": null
     }
    },
    "8c5795acd59e479d923365a3cb4cc58e": {
     "model_module": "@jupyter-widgets/base",
     "model_module_version": "1.2.0",
     "model_name": "LayoutModel",
     "state": {
      "_model_module": "@jupyter-widgets/base",
      "_model_module_version": "1.2.0",
      "_model_name": "LayoutModel",
      "_view_count": null,
      "_view_module": "@jupyter-widgets/base",
      "_view_module_version": "1.2.0",
      "_view_name": "LayoutView",
      "align_content": null,
      "align_items": null,
      "align_self": null,
      "border": null,
      "bottom": null,
      "display": null,
      "flex": null,
      "flex_flow": null,
      "grid_area": null,
      "grid_auto_columns": null,
      "grid_auto_flow": null,
      "grid_auto_rows": null,
      "grid_column": null,
      "grid_gap": null,
      "grid_row": null,
      "grid_template_areas": null,
      "grid_template_columns": null,
      "grid_template_rows": null,
      "height": null,
      "justify_content": null,
      "justify_items": null,
      "left": null,
      "margin": null,
      "max_height": null,
      "max_width": null,
      "min_height": null,
      "min_width": null,
      "object_fit": null,
      "object_position": null,
      "order": null,
      "overflow": null,
      "overflow_x": null,
      "overflow_y": null,
      "padding": null,
      "right": null,
      "top": null,
      "visibility": null,
      "width": null
     }
    },
    "8c63761f9c454e2caae500c5530b5cd6": {
     "model_module": "@jupyter-widgets/controls",
     "model_module_version": "1.5.0",
     "model_name": "DescriptionStyleModel",
     "state": {
      "_model_module": "@jupyter-widgets/controls",
      "_model_module_version": "1.5.0",
      "_model_name": "DescriptionStyleModel",
      "_view_count": null,
      "_view_module": "@jupyter-widgets/base",
      "_view_module_version": "1.2.0",
      "_view_name": "StyleView",
      "description_width": ""
     }
    },
    "8d1ccd56bd124e65b28d51bbce371927": {
     "model_module": "@jupyter-widgets/controls",
     "model_module_version": "1.5.0",
     "model_name": "DescriptionStyleModel",
     "state": {
      "_model_module": "@jupyter-widgets/controls",
      "_model_module_version": "1.5.0",
      "_model_name": "DescriptionStyleModel",
      "_view_count": null,
      "_view_module": "@jupyter-widgets/base",
      "_view_module_version": "1.2.0",
      "_view_name": "StyleView",
      "description_width": ""
     }
    },
    "8d7f750e6ce641338ee2bcbe871fd282": {
     "model_module": "@jupyter-widgets/controls",
     "model_module_version": "1.5.0",
     "model_name": "DescriptionStyleModel",
     "state": {
      "_model_module": "@jupyter-widgets/controls",
      "_model_module_version": "1.5.0",
      "_model_name": "DescriptionStyleModel",
      "_view_count": null,
      "_view_module": "@jupyter-widgets/base",
      "_view_module_version": "1.2.0",
      "_view_name": "StyleView",
      "description_width": ""
     }
    },
    "8dc9c96be9094d9a980f48a49dbddf86": {
     "model_module": "@jupyter-widgets/base",
     "model_module_version": "1.2.0",
     "model_name": "LayoutModel",
     "state": {
      "_model_module": "@jupyter-widgets/base",
      "_model_module_version": "1.2.0",
      "_model_name": "LayoutModel",
      "_view_count": null,
      "_view_module": "@jupyter-widgets/base",
      "_view_module_version": "1.2.0",
      "_view_name": "LayoutView",
      "align_content": null,
      "align_items": null,
      "align_self": null,
      "border": null,
      "bottom": null,
      "display": null,
      "flex": null,
      "flex_flow": null,
      "grid_area": null,
      "grid_auto_columns": null,
      "grid_auto_flow": null,
      "grid_auto_rows": null,
      "grid_column": null,
      "grid_gap": null,
      "grid_row": null,
      "grid_template_areas": null,
      "grid_template_columns": null,
      "grid_template_rows": null,
      "height": null,
      "justify_content": null,
      "justify_items": null,
      "left": null,
      "margin": null,
      "max_height": null,
      "max_width": null,
      "min_height": null,
      "min_width": null,
      "object_fit": null,
      "object_position": null,
      "order": null,
      "overflow": null,
      "overflow_x": null,
      "overflow_y": null,
      "padding": null,
      "right": null,
      "top": null,
      "visibility": null,
      "width": null
     }
    },
    "8fa47bce937742ef85cdca5151722686": {
     "model_module": "@jupyter-widgets/base",
     "model_module_version": "1.2.0",
     "model_name": "LayoutModel",
     "state": {
      "_model_module": "@jupyter-widgets/base",
      "_model_module_version": "1.2.0",
      "_model_name": "LayoutModel",
      "_view_count": null,
      "_view_module": "@jupyter-widgets/base",
      "_view_module_version": "1.2.0",
      "_view_name": "LayoutView",
      "align_content": null,
      "align_items": null,
      "align_self": null,
      "border": null,
      "bottom": null,
      "display": null,
      "flex": null,
      "flex_flow": null,
      "grid_area": null,
      "grid_auto_columns": null,
      "grid_auto_flow": null,
      "grid_auto_rows": null,
      "grid_column": null,
      "grid_gap": null,
      "grid_row": null,
      "grid_template_areas": null,
      "grid_template_columns": null,
      "grid_template_rows": null,
      "height": null,
      "justify_content": null,
      "justify_items": null,
      "left": null,
      "margin": null,
      "max_height": null,
      "max_width": null,
      "min_height": null,
      "min_width": null,
      "object_fit": null,
      "object_position": null,
      "order": null,
      "overflow": null,
      "overflow_x": null,
      "overflow_y": null,
      "padding": null,
      "right": null,
      "top": null,
      "visibility": null,
      "width": null
     }
    },
    "903c96b71a594846aff5dda5332772cc": {
     "model_module": "@jupyter-widgets/controls",
     "model_module_version": "1.5.0",
     "model_name": "FloatProgressModel",
     "state": {
      "_dom_classes": [],
      "_model_module": "@jupyter-widgets/controls",
      "_model_module_version": "1.5.0",
      "_model_name": "FloatProgressModel",
      "_view_count": null,
      "_view_module": "@jupyter-widgets/controls",
      "_view_module_version": "1.5.0",
      "_view_name": "ProgressView",
      "bar_style": "success",
      "description": "",
      "description_tooltip": null,
      "layout": "IPY_MODEL_9ba5535a53eb4cecb53a81ffed408f13",
      "max": 16,
      "min": 0,
      "orientation": "horizontal",
      "style": "IPY_MODEL_5ccade9d55ad477cb654ac5470094a90",
      "value": 16
     }
    },
    "9128015942f34fc5abc00a3ad2b92bd4": {
     "model_module": "@jupyter-widgets/controls",
     "model_module_version": "1.5.0",
     "model_name": "HTMLModel",
     "state": {
      "_dom_classes": [],
      "_model_module": "@jupyter-widgets/controls",
      "_model_module_version": "1.5.0",
      "_model_name": "HTMLModel",
      "_view_count": null,
      "_view_module": "@jupyter-widgets/controls",
      "_view_module_version": "1.5.0",
      "_view_name": "HTMLView",
      "description": "",
      "description_tooltip": null,
      "layout": "IPY_MODEL_dcb9391044834a6f9ab21ffded2fb392",
      "placeholder": "​",
      "style": "IPY_MODEL_5c6638463a0847f29e383c3068f13533",
      "value": "Getting Inception Predictions: 100%"
     }
    },
    "912fc319833e493ebc53eb17e6860edb": {
     "model_module": "@jupyter-widgets/controls",
     "model_module_version": "1.5.0",
     "model_name": "HTMLModel",
     "state": {
      "_dom_classes": [],
      "_model_module": "@jupyter-widgets/controls",
      "_model_module_version": "1.5.0",
      "_model_name": "HTMLModel",
      "_view_count": null,
      "_view_module": "@jupyter-widgets/controls",
      "_view_module_version": "1.5.0",
      "_view_name": "HTMLView",
      "description": "",
      "description_tooltip": null,
      "layout": "IPY_MODEL_40b908de9662431e8698d6a88f4ac87e",
      "placeholder": "​",
      "style": "IPY_MODEL_ff90ed58391543be8398f2895bf03a43",
      "value": "Calculating NLL: 100%"
     }
    },
    "91480c4b5a1c41c5b4216c75c9be072e": {
     "model_module": "@jupyter-widgets/controls",
     "model_module_version": "1.5.0",
     "model_name": "HTMLModel",
     "state": {
      "_dom_classes": [],
      "_model_module": "@jupyter-widgets/controls",
      "_model_module_version": "1.5.0",
      "_model_name": "HTMLModel",
      "_view_count": null,
      "_view_module": "@jupyter-widgets/controls",
      "_view_module_version": "1.5.0",
      "_view_name": "HTMLView",
      "description": "",
      "description_tooltip": null,
      "layout": "IPY_MODEL_f2f47e7ab9bd4c948b53bf5507f73d3d",
      "placeholder": "​",
      "style": "IPY_MODEL_1a9ef22822c2455282a8681c6a4df1e4",
      "value": " 7/7 [00:00&lt;00:00,  8.00it/s]"
     }
    },
    "9202c1f80a3b46f7b1ba2f2e615f9410": {
     "model_module": "@jupyter-widgets/controls",
     "model_module_version": "1.5.0",
     "model_name": "HTMLModel",
     "state": {
      "_dom_classes": [],
      "_model_module": "@jupyter-widgets/controls",
      "_model_module_version": "1.5.0",
      "_model_name": "HTMLModel",
      "_view_count": null,
      "_view_module": "@jupyter-widgets/controls",
      "_view_module_version": "1.5.0",
      "_view_name": "HTMLView",
      "description": "",
      "description_tooltip": null,
      "layout": "IPY_MODEL_b228d50179ed4a16824a72f87fb0d929",
      "placeholder": "​",
      "style": "IPY_MODEL_7ad2dadadef8464aa95454b8ef8dc71b",
      "value": " 16/16 [11:47&lt;00:00, 40.78s/it]"
     }
    },
    "925aefbeb61046f1a6dfef7ec946815f": {
     "model_module": "@jupyter-widgets/controls",
     "model_module_version": "1.5.0",
     "model_name": "ProgressStyleModel",
     "state": {
      "_model_module": "@jupyter-widgets/controls",
      "_model_module_version": "1.5.0",
      "_model_name": "ProgressStyleModel",
      "_view_count": null,
      "_view_module": "@jupyter-widgets/base",
      "_view_module_version": "1.2.0",
      "_view_name": "StyleView",
      "bar_color": null,
      "description_width": ""
     }
    },
    "929b419bf08542459e10426268c05a5c": {
     "model_module": "@jupyter-widgets/controls",
     "model_module_version": "1.5.0",
     "model_name": "HTMLModel",
     "state": {
      "_dom_classes": [],
      "_model_module": "@jupyter-widgets/controls",
      "_model_module_version": "1.5.0",
      "_model_name": "HTMLModel",
      "_view_count": null,
      "_view_module": "@jupyter-widgets/controls",
      "_view_module_version": "1.5.0",
      "_view_name": "HTMLView",
      "description": "",
      "description_tooltip": null,
      "layout": "IPY_MODEL_c97e877b41464b819f7f910c23eeb61a",
      "placeholder": "​",
      "style": "IPY_MODEL_8d7f750e6ce641338ee2bcbe871fd282",
      "value": " 7/7 [00:00&lt;00:00,  7.85it/s]"
     }
    },
    "93af454d5ec84d4c8deb799e7aecd241": {
     "model_module": "@jupyter-widgets/base",
     "model_module_version": "1.2.0",
     "model_name": "LayoutModel",
     "state": {
      "_model_module": "@jupyter-widgets/base",
      "_model_module_version": "1.2.0",
      "_model_name": "LayoutModel",
      "_view_count": null,
      "_view_module": "@jupyter-widgets/base",
      "_view_module_version": "1.2.0",
      "_view_name": "LayoutView",
      "align_content": null,
      "align_items": null,
      "align_self": null,
      "border": null,
      "bottom": null,
      "display": null,
      "flex": null,
      "flex_flow": null,
      "grid_area": null,
      "grid_auto_columns": null,
      "grid_auto_flow": null,
      "grid_auto_rows": null,
      "grid_column": null,
      "grid_gap": null,
      "grid_row": null,
      "grid_template_areas": null,
      "grid_template_columns": null,
      "grid_template_rows": null,
      "height": null,
      "justify_content": null,
      "justify_items": null,
      "left": null,
      "margin": null,
      "max_height": null,
      "max_width": null,
      "min_height": null,
      "min_width": null,
      "object_fit": null,
      "object_position": null,
      "order": null,
      "overflow": null,
      "overflow_x": null,
      "overflow_y": null,
      "padding": null,
      "right": null,
      "top": null,
      "visibility": null,
      "width": null
     }
    },
    "967c221896a646d0820e73a4ecd38f3f": {
     "model_module": "@jupyter-widgets/controls",
     "model_module_version": "1.5.0",
     "model_name": "DescriptionStyleModel",
     "state": {
      "_model_module": "@jupyter-widgets/controls",
      "_model_module_version": "1.5.0",
      "_model_name": "DescriptionStyleModel",
      "_view_count": null,
      "_view_module": "@jupyter-widgets/base",
      "_view_module_version": "1.2.0",
      "_view_name": "StyleView",
      "description_width": ""
     }
    },
    "968941668d9a42309971d98b0704adb4": {
     "model_module": "@jupyter-widgets/controls",
     "model_module_version": "1.5.0",
     "model_name": "FloatProgressModel",
     "state": {
      "_dom_classes": [],
      "_model_module": "@jupyter-widgets/controls",
      "_model_module_version": "1.5.0",
      "_model_name": "FloatProgressModel",
      "_view_count": null,
      "_view_module": "@jupyter-widgets/controls",
      "_view_module_version": "1.5.0",
      "_view_name": "ProgressView",
      "bar_style": "success",
      "description": "",
      "description_tooltip": null,
      "layout": "IPY_MODEL_8bead4b48a944f929fd2003ebc7561db",
      "max": 7,
      "min": 0,
      "orientation": "horizontal",
      "style": "IPY_MODEL_f50a80ce967444f8b45ca17eec024b2f",
      "value": 7
     }
    },
    "971f58480f3b40dabd227925cff3da50": {
     "model_module": "@jupyter-widgets/controls",
     "model_module_version": "1.5.0",
     "model_name": "HBoxModel",
     "state": {
      "_dom_classes": [],
      "_model_module": "@jupyter-widgets/controls",
      "_model_module_version": "1.5.0",
      "_model_name": "HBoxModel",
      "_view_count": null,
      "_view_module": "@jupyter-widgets/controls",
      "_view_module_version": "1.5.0",
      "_view_name": "HBoxView",
      "box_style": "",
      "children": [
       "IPY_MODEL_6cbddfe753384b3dadf91e40ca919c6c",
       "IPY_MODEL_744c372bc44548e1842ecd8d7e3bd293",
       "IPY_MODEL_0c0f5de522c542f19f6a0b73569bfdcb"
      ],
      "layout": "IPY_MODEL_7c8426beb1134a088d98bf344148cd5e"
     }
    },
    "9765682df8e545108452acfa76221654": {
     "model_module": "@jupyter-widgets/base",
     "model_module_version": "1.2.0",
     "model_name": "LayoutModel",
     "state": {
      "_model_module": "@jupyter-widgets/base",
      "_model_module_version": "1.2.0",
      "_model_name": "LayoutModel",
      "_view_count": null,
      "_view_module": "@jupyter-widgets/base",
      "_view_module_version": "1.2.0",
      "_view_name": "LayoutView",
      "align_content": null,
      "align_items": null,
      "align_self": null,
      "border": null,
      "bottom": null,
      "display": null,
      "flex": null,
      "flex_flow": null,
      "grid_area": null,
      "grid_auto_columns": null,
      "grid_auto_flow": null,
      "grid_auto_rows": null,
      "grid_column": null,
      "grid_gap": null,
      "grid_row": null,
      "grid_template_areas": null,
      "grid_template_columns": null,
      "grid_template_rows": null,
      "height": null,
      "justify_content": null,
      "justify_items": null,
      "left": null,
      "margin": null,
      "max_height": null,
      "max_width": null,
      "min_height": null,
      "min_width": null,
      "object_fit": null,
      "object_position": null,
      "order": null,
      "overflow": null,
      "overflow_x": null,
      "overflow_y": null,
      "padding": null,
      "right": null,
      "top": null,
      "visibility": null,
      "width": null
     }
    },
    "99759e0d8527423fb89bfe1441172df3": {
     "model_module": "@jupyter-widgets/base",
     "model_module_version": "1.2.0",
     "model_name": "LayoutModel",
     "state": {
      "_model_module": "@jupyter-widgets/base",
      "_model_module_version": "1.2.0",
      "_model_name": "LayoutModel",
      "_view_count": null,
      "_view_module": "@jupyter-widgets/base",
      "_view_module_version": "1.2.0",
      "_view_name": "LayoutView",
      "align_content": null,
      "align_items": null,
      "align_self": null,
      "border": null,
      "bottom": null,
      "display": null,
      "flex": null,
      "flex_flow": null,
      "grid_area": null,
      "grid_auto_columns": null,
      "grid_auto_flow": null,
      "grid_auto_rows": null,
      "grid_column": null,
      "grid_gap": null,
      "grid_row": null,
      "grid_template_areas": null,
      "grid_template_columns": null,
      "grid_template_rows": null,
      "height": null,
      "justify_content": null,
      "justify_items": null,
      "left": null,
      "margin": null,
      "max_height": null,
      "max_width": null,
      "min_height": null,
      "min_width": null,
      "object_fit": null,
      "object_position": null,
      "order": null,
      "overflow": null,
      "overflow_x": null,
      "overflow_y": null,
      "padding": null,
      "right": null,
      "top": null,
      "visibility": null,
      "width": null
     }
    },
    "998057730cdd424099471c8418e4bf25": {
     "model_module": "@jupyter-widgets/controls",
     "model_module_version": "1.5.0",
     "model_name": "HTMLModel",
     "state": {
      "_dom_classes": [],
      "_model_module": "@jupyter-widgets/controls",
      "_model_module_version": "1.5.0",
      "_model_name": "HTMLModel",
      "_view_count": null,
      "_view_module": "@jupyter-widgets/controls",
      "_view_module_version": "1.5.0",
      "_view_name": "HTMLView",
      "description": "",
      "description_tooltip": null,
      "layout": "IPY_MODEL_739f6e89aff14c14b66f60f933def555",
      "placeholder": "​",
      "style": "IPY_MODEL_1089b1906676485e92947975684f58a6",
      "value": "Calculating NLL: 100%"
     }
    },
    "99885e6f294b4b12a9604cf8ff8e1199": {
     "model_module": "@jupyter-widgets/base",
     "model_module_version": "1.2.0",
     "model_name": "LayoutModel",
     "state": {
      "_model_module": "@jupyter-widgets/base",
      "_model_module_version": "1.2.0",
      "_model_name": "LayoutModel",
      "_view_count": null,
      "_view_module": "@jupyter-widgets/base",
      "_view_module_version": "1.2.0",
      "_view_name": "LayoutView",
      "align_content": null,
      "align_items": null,
      "align_self": null,
      "border": null,
      "bottom": null,
      "display": null,
      "flex": null,
      "flex_flow": null,
      "grid_area": null,
      "grid_auto_columns": null,
      "grid_auto_flow": null,
      "grid_auto_rows": null,
      "grid_column": null,
      "grid_gap": null,
      "grid_row": null,
      "grid_template_areas": null,
      "grid_template_columns": null,
      "grid_template_rows": null,
      "height": null,
      "justify_content": null,
      "justify_items": null,
      "left": null,
      "margin": null,
      "max_height": null,
      "max_width": null,
      "min_height": null,
      "min_width": null,
      "object_fit": null,
      "object_position": null,
      "order": null,
      "overflow": null,
      "overflow_x": null,
      "overflow_y": null,
      "padding": null,
      "right": null,
      "top": null,
      "visibility": null,
      "width": null
     }
    },
    "99944d484b8e4edc860deb7e9808264d": {
     "model_module": "@jupyter-widgets/controls",
     "model_module_version": "1.5.0",
     "model_name": "HBoxModel",
     "state": {
      "_dom_classes": [],
      "_model_module": "@jupyter-widgets/controls",
      "_model_module_version": "1.5.0",
      "_model_name": "HBoxModel",
      "_view_count": null,
      "_view_module": "@jupyter-widgets/controls",
      "_view_module_version": "1.5.0",
      "_view_name": "HBoxView",
      "box_style": "",
      "children": [
       "IPY_MODEL_912fc319833e493ebc53eb17e6860edb",
       "IPY_MODEL_e8ac262c049849cc8e674436de4bfa3e",
       "IPY_MODEL_7bb9c461a7df4ff988a43993716007b4"
      ],
      "layout": "IPY_MODEL_fbf765dbf1164c1a91c6033afc3a2059"
     }
    },
    "99dcfe4adce0479e9a8b174f0f2db658": {
     "model_module": "@jupyter-widgets/controls",
     "model_module_version": "1.5.0",
     "model_name": "FloatProgressModel",
     "state": {
      "_dom_classes": [],
      "_model_module": "@jupyter-widgets/controls",
      "_model_module_version": "1.5.0",
      "_model_name": "FloatProgressModel",
      "_view_count": null,
      "_view_module": "@jupyter-widgets/controls",
      "_view_module_version": "1.5.0",
      "_view_name": "ProgressView",
      "bar_style": "success",
      "description": "",
      "description_tooltip": null,
      "layout": "IPY_MODEL_e40accbfcde345a9ad81970ed7944089",
      "max": 16,
      "min": 0,
      "orientation": "horizontal",
      "style": "IPY_MODEL_0bb68cc60e434a94adc1a21be8df1b51",
      "value": 16
     }
    },
    "9a9643872eee485a94180c4f80d9db54": {
     "model_module": "@jupyter-widgets/controls",
     "model_module_version": "1.5.0",
     "model_name": "HBoxModel",
     "state": {
      "_dom_classes": [],
      "_model_module": "@jupyter-widgets/controls",
      "_model_module_version": "1.5.0",
      "_model_name": "HBoxModel",
      "_view_count": null,
      "_view_module": "@jupyter-widgets/controls",
      "_view_module_version": "1.5.0",
      "_view_name": "HBoxView",
      "box_style": "",
      "children": [
       "IPY_MODEL_3ba05a20ed6d480685c6f8787a405c8b",
       "IPY_MODEL_f21d024bf3834da1a897f1d8690f7beb",
       "IPY_MODEL_7815af16dae84e09821c481aa4017758"
      ],
      "layout": "IPY_MODEL_25f6fa28ed734a6685cebf8c982a0b0e"
     }
    },
    "9b810c0724d04c5aa94b38a001510e99": {
     "model_module": "@jupyter-widgets/base",
     "model_module_version": "1.2.0",
     "model_name": "LayoutModel",
     "state": {
      "_model_module": "@jupyter-widgets/base",
      "_model_module_version": "1.2.0",
      "_model_name": "LayoutModel",
      "_view_count": null,
      "_view_module": "@jupyter-widgets/base",
      "_view_module_version": "1.2.0",
      "_view_name": "LayoutView",
      "align_content": null,
      "align_items": null,
      "align_self": null,
      "border": null,
      "bottom": null,
      "display": null,
      "flex": null,
      "flex_flow": null,
      "grid_area": null,
      "grid_auto_columns": null,
      "grid_auto_flow": null,
      "grid_auto_rows": null,
      "grid_column": null,
      "grid_gap": null,
      "grid_row": null,
      "grid_template_areas": null,
      "grid_template_columns": null,
      "grid_template_rows": null,
      "height": null,
      "justify_content": null,
      "justify_items": null,
      "left": null,
      "margin": null,
      "max_height": null,
      "max_width": null,
      "min_height": null,
      "min_width": null,
      "object_fit": null,
      "object_position": null,
      "order": null,
      "overflow": null,
      "overflow_x": null,
      "overflow_y": null,
      "padding": null,
      "right": null,
      "top": null,
      "visibility": null,
      "width": null
     }
    },
    "9b96a34ca5b241ab84e34d8735dd7b94": {
     "model_module": "@jupyter-widgets/base",
     "model_module_version": "1.2.0",
     "model_name": "LayoutModel",
     "state": {
      "_model_module": "@jupyter-widgets/base",
      "_model_module_version": "1.2.0",
      "_model_name": "LayoutModel",
      "_view_count": null,
      "_view_module": "@jupyter-widgets/base",
      "_view_module_version": "1.2.0",
      "_view_name": "LayoutView",
      "align_content": null,
      "align_items": null,
      "align_self": null,
      "border": null,
      "bottom": null,
      "display": null,
      "flex": null,
      "flex_flow": null,
      "grid_area": null,
      "grid_auto_columns": null,
      "grid_auto_flow": null,
      "grid_auto_rows": null,
      "grid_column": null,
      "grid_gap": null,
      "grid_row": null,
      "grid_template_areas": null,
      "grid_template_columns": null,
      "grid_template_rows": null,
      "height": null,
      "justify_content": null,
      "justify_items": null,
      "left": null,
      "margin": null,
      "max_height": null,
      "max_width": null,
      "min_height": null,
      "min_width": null,
      "object_fit": null,
      "object_position": null,
      "order": null,
      "overflow": null,
      "overflow_x": null,
      "overflow_y": null,
      "padding": null,
      "right": null,
      "top": null,
      "visibility": null,
      "width": null
     }
    },
    "9ba5535a53eb4cecb53a81ffed408f13": {
     "model_module": "@jupyter-widgets/base",
     "model_module_version": "1.2.0",
     "model_name": "LayoutModel",
     "state": {
      "_model_module": "@jupyter-widgets/base",
      "_model_module_version": "1.2.0",
      "_model_name": "LayoutModel",
      "_view_count": null,
      "_view_module": "@jupyter-widgets/base",
      "_view_module_version": "1.2.0",
      "_view_name": "LayoutView",
      "align_content": null,
      "align_items": null,
      "align_self": null,
      "border": null,
      "bottom": null,
      "display": null,
      "flex": null,
      "flex_flow": null,
      "grid_area": null,
      "grid_auto_columns": null,
      "grid_auto_flow": null,
      "grid_auto_rows": null,
      "grid_column": null,
      "grid_gap": null,
      "grid_row": null,
      "grid_template_areas": null,
      "grid_template_columns": null,
      "grid_template_rows": null,
      "height": null,
      "justify_content": null,
      "justify_items": null,
      "left": null,
      "margin": null,
      "max_height": null,
      "max_width": null,
      "min_height": null,
      "min_width": null,
      "object_fit": null,
      "object_position": null,
      "order": null,
      "overflow": null,
      "overflow_x": null,
      "overflow_y": null,
      "padding": null,
      "right": null,
      "top": null,
      "visibility": null,
      "width": null
     }
    },
    "9c686b441f34434b93d24ca2e6cb3518": {
     "model_module": "@jupyter-widgets/controls",
     "model_module_version": "1.5.0",
     "model_name": "DescriptionStyleModel",
     "state": {
      "_model_module": "@jupyter-widgets/controls",
      "_model_module_version": "1.5.0",
      "_model_name": "DescriptionStyleModel",
      "_view_count": null,
      "_view_module": "@jupyter-widgets/base",
      "_view_module_version": "1.2.0",
      "_view_name": "StyleView",
      "description_width": ""
     }
    },
    "9c8782eed861431ab807bc1528cc5771": {
     "model_module": "@jupyter-widgets/controls",
     "model_module_version": "1.5.0",
     "model_name": "HTMLModel",
     "state": {
      "_dom_classes": [],
      "_model_module": "@jupyter-widgets/controls",
      "_model_module_version": "1.5.0",
      "_model_name": "HTMLModel",
      "_view_count": null,
      "_view_module": "@jupyter-widgets/controls",
      "_view_module_version": "1.5.0",
      "_view_name": "HTMLView",
      "description": "",
      "description_tooltip": null,
      "layout": "IPY_MODEL_2dfccf419ecd4ce99581e7414fbc62a4",
      "placeholder": "​",
      "style": "IPY_MODEL_77533572d3c644d39d53c6335dd63810",
      "value": "Calculating NLL: 100%"
     }
    },
    "9d1666a4f1974239b43032f7385c7323": {
     "model_module": "@jupyter-widgets/controls",
     "model_module_version": "1.5.0",
     "model_name": "FloatProgressModel",
     "state": {
      "_dom_classes": [],
      "_model_module": "@jupyter-widgets/controls",
      "_model_module_version": "1.5.0",
      "_model_name": "FloatProgressModel",
      "_view_count": null,
      "_view_module": "@jupyter-widgets/controls",
      "_view_module_version": "1.5.0",
      "_view_name": "ProgressView",
      "bar_style": "",
      "description": "",
      "description_tooltip": null,
      "layout": "IPY_MODEL_c75dcb9e2da648aab43de025c25781d5",
      "max": 16,
      "min": 0,
      "orientation": "horizontal",
      "style": "IPY_MODEL_09494ec84725492e9a61a9119dc08fc9",
      "value": 10
     }
    },
    "9f271d64765641aba9e4b88ea4a1ca1d": {
     "model_module": "@jupyter-widgets/controls",
     "model_module_version": "1.5.0",
     "model_name": "HTMLModel",
     "state": {
      "_dom_classes": [],
      "_model_module": "@jupyter-widgets/controls",
      "_model_module_version": "1.5.0",
      "_model_name": "HTMLModel",
      "_view_count": null,
      "_view_module": "@jupyter-widgets/controls",
      "_view_module_version": "1.5.0",
      "_view_name": "HTMLView",
      "description": "",
      "description_tooltip": null,
      "layout": "IPY_MODEL_57d76d524e4941099d46264c8cec1bfb",
      "placeholder": "​",
      "style": "IPY_MODEL_ed68637b48bc4c33a1e22e5571b1b67b",
      "value": " 7/7 [00:00&lt;00:00,  7.86it/s]"
     }
    },
    "9f523bb7fe554284970fbdb1c17aa811": {
     "model_module": "@jupyter-widgets/controls",
     "model_module_version": "1.5.0",
     "model_name": "HBoxModel",
     "state": {
      "_dom_classes": [],
      "_model_module": "@jupyter-widgets/controls",
      "_model_module_version": "1.5.0",
      "_model_name": "HBoxModel",
      "_view_count": null,
      "_view_module": "@jupyter-widgets/controls",
      "_view_module_version": "1.5.0",
      "_view_name": "HBoxView",
      "box_style": "",
      "children": [
       "IPY_MODEL_273428f3a15d4817b3942f1e6cc37274",
       "IPY_MODEL_eda54694d94046949deab09944aba9e3",
       "IPY_MODEL_89f81fbba77e4cb0a77678f03f0a23c6"
      ],
      "layout": "IPY_MODEL_8dc9c96be9094d9a980f48a49dbddf86"
     }
    },
    "a00981bf17fb4746a46df4e6829f47ca": {
     "model_module": "@jupyter-widgets/base",
     "model_module_version": "1.2.0",
     "model_name": "LayoutModel",
     "state": {
      "_model_module": "@jupyter-widgets/base",
      "_model_module_version": "1.2.0",
      "_model_name": "LayoutModel",
      "_view_count": null,
      "_view_module": "@jupyter-widgets/base",
      "_view_module_version": "1.2.0",
      "_view_name": "LayoutView",
      "align_content": null,
      "align_items": null,
      "align_self": null,
      "border": null,
      "bottom": null,
      "display": null,
      "flex": null,
      "flex_flow": null,
      "grid_area": null,
      "grid_auto_columns": null,
      "grid_auto_flow": null,
      "grid_auto_rows": null,
      "grid_column": null,
      "grid_gap": null,
      "grid_row": null,
      "grid_template_areas": null,
      "grid_template_columns": null,
      "grid_template_rows": null,
      "height": null,
      "justify_content": null,
      "justify_items": null,
      "left": null,
      "margin": null,
      "max_height": null,
      "max_width": null,
      "min_height": null,
      "min_width": null,
      "object_fit": null,
      "object_position": null,
      "order": null,
      "overflow": null,
      "overflow_x": null,
      "overflow_y": null,
      "padding": null,
      "right": null,
      "top": null,
      "visibility": null,
      "width": null
     }
    },
    "a16423a05c494b2ea54874bcab95dad5": {
     "model_module": "@jupyter-widgets/base",
     "model_module_version": "1.2.0",
     "model_name": "LayoutModel",
     "state": {
      "_model_module": "@jupyter-widgets/base",
      "_model_module_version": "1.2.0",
      "_model_name": "LayoutModel",
      "_view_count": null,
      "_view_module": "@jupyter-widgets/base",
      "_view_module_version": "1.2.0",
      "_view_name": "LayoutView",
      "align_content": null,
      "align_items": null,
      "align_self": null,
      "border": null,
      "bottom": null,
      "display": null,
      "flex": null,
      "flex_flow": null,
      "grid_area": null,
      "grid_auto_columns": null,
      "grid_auto_flow": null,
      "grid_auto_rows": null,
      "grid_column": null,
      "grid_gap": null,
      "grid_row": null,
      "grid_template_areas": null,
      "grid_template_columns": null,
      "grid_template_rows": null,
      "height": null,
      "justify_content": null,
      "justify_items": null,
      "left": null,
      "margin": null,
      "max_height": null,
      "max_width": null,
      "min_height": null,
      "min_width": null,
      "object_fit": null,
      "object_position": null,
      "order": null,
      "overflow": null,
      "overflow_x": null,
      "overflow_y": null,
      "padding": null,
      "right": null,
      "top": null,
      "visibility": null,
      "width": null
     }
    },
    "a166cc60456d42e68edc25fe7e7621b5": {
     "model_module": "@jupyter-widgets/controls",
     "model_module_version": "1.5.0",
     "model_name": "ProgressStyleModel",
     "state": {
      "_model_module": "@jupyter-widgets/controls",
      "_model_module_version": "1.5.0",
      "_model_name": "ProgressStyleModel",
      "_view_count": null,
      "_view_module": "@jupyter-widgets/base",
      "_view_module_version": "1.2.0",
      "_view_name": "StyleView",
      "bar_color": null,
      "description_width": ""
     }
    },
    "a17833b3396f494cb4ad8d259e13c77d": {
     "model_module": "@jupyter-widgets/controls",
     "model_module_version": "1.5.0",
     "model_name": "ProgressStyleModel",
     "state": {
      "_model_module": "@jupyter-widgets/controls",
      "_model_module_version": "1.5.0",
      "_model_name": "ProgressStyleModel",
      "_view_count": null,
      "_view_module": "@jupyter-widgets/base",
      "_view_module_version": "1.2.0",
      "_view_name": "StyleView",
      "bar_color": null,
      "description_width": ""
     }
    },
    "a1b0f6076d4b43aebf51b559609e6bcf": {
     "model_module": "@jupyter-widgets/base",
     "model_module_version": "1.2.0",
     "model_name": "LayoutModel",
     "state": {
      "_model_module": "@jupyter-widgets/base",
      "_model_module_version": "1.2.0",
      "_model_name": "LayoutModel",
      "_view_count": null,
      "_view_module": "@jupyter-widgets/base",
      "_view_module_version": "1.2.0",
      "_view_name": "LayoutView",
      "align_content": null,
      "align_items": null,
      "align_self": null,
      "border": null,
      "bottom": null,
      "display": null,
      "flex": null,
      "flex_flow": null,
      "grid_area": null,
      "grid_auto_columns": null,
      "grid_auto_flow": null,
      "grid_auto_rows": null,
      "grid_column": null,
      "grid_gap": null,
      "grid_row": null,
      "grid_template_areas": null,
      "grid_template_columns": null,
      "grid_template_rows": null,
      "height": null,
      "justify_content": null,
      "justify_items": null,
      "left": null,
      "margin": null,
      "max_height": null,
      "max_width": null,
      "min_height": null,
      "min_width": null,
      "object_fit": null,
      "object_position": null,
      "order": null,
      "overflow": null,
      "overflow_x": null,
      "overflow_y": null,
      "padding": null,
      "right": null,
      "top": null,
      "visibility": null,
      "width": null
     }
    },
    "a401405186514d4a9461f13c3f273f89": {
     "model_module": "@jupyter-widgets/controls",
     "model_module_version": "1.5.0",
     "model_name": "HBoxModel",
     "state": {
      "_dom_classes": [],
      "_model_module": "@jupyter-widgets/controls",
      "_model_module_version": "1.5.0",
      "_model_name": "HBoxModel",
      "_view_count": null,
      "_view_module": "@jupyter-widgets/controls",
      "_view_module_version": "1.5.0",
      "_view_name": "HBoxView",
      "box_style": "",
      "children": [
       "IPY_MODEL_9128015942f34fc5abc00a3ad2b92bd4",
       "IPY_MODEL_49a3d6a277b143309450193de8bf64dd",
       "IPY_MODEL_fa76c675019c475a94366e8b838c885b"
      ],
      "layout": "IPY_MODEL_076274e6facb4f059f476012ad6d5869"
     }
    },
    "a5ee5bf821fa464c8c6164908644e56b": {
     "model_module": "@jupyter-widgets/controls",
     "model_module_version": "1.5.0",
     "model_name": "DescriptionStyleModel",
     "state": {
      "_model_module": "@jupyter-widgets/controls",
      "_model_module_version": "1.5.0",
      "_model_name": "DescriptionStyleModel",
      "_view_count": null,
      "_view_module": "@jupyter-widgets/base",
      "_view_module_version": "1.2.0",
      "_view_name": "StyleView",
      "description_width": ""
     }
    },
    "a67d25eed26649a89a00f6aaf336105b": {
     "model_module": "@jupyter-widgets/controls",
     "model_module_version": "1.5.0",
     "model_name": "DescriptionStyleModel",
     "state": {
      "_model_module": "@jupyter-widgets/controls",
      "_model_module_version": "1.5.0",
      "_model_name": "DescriptionStyleModel",
      "_view_count": null,
      "_view_module": "@jupyter-widgets/base",
      "_view_module_version": "1.2.0",
      "_view_name": "StyleView",
      "description_width": ""
     }
    },
    "a7105aafac8d4e95a8e42a07e230e610": {
     "model_module": "@jupyter-widgets/base",
     "model_module_version": "1.2.0",
     "model_name": "LayoutModel",
     "state": {
      "_model_module": "@jupyter-widgets/base",
      "_model_module_version": "1.2.0",
      "_model_name": "LayoutModel",
      "_view_count": null,
      "_view_module": "@jupyter-widgets/base",
      "_view_module_version": "1.2.0",
      "_view_name": "LayoutView",
      "align_content": null,
      "align_items": null,
      "align_self": null,
      "border": null,
      "bottom": null,
      "display": null,
      "flex": null,
      "flex_flow": null,
      "grid_area": null,
      "grid_auto_columns": null,
      "grid_auto_flow": null,
      "grid_auto_rows": null,
      "grid_column": null,
      "grid_gap": null,
      "grid_row": null,
      "grid_template_areas": null,
      "grid_template_columns": null,
      "grid_template_rows": null,
      "height": null,
      "justify_content": null,
      "justify_items": null,
      "left": null,
      "margin": null,
      "max_height": null,
      "max_width": null,
      "min_height": null,
      "min_width": null,
      "object_fit": null,
      "object_position": null,
      "order": null,
      "overflow": null,
      "overflow_x": null,
      "overflow_y": null,
      "padding": null,
      "right": null,
      "top": null,
      "visibility": null,
      "width": null
     }
    },
    "a7431030144b4afdb37610c9dde13133": {
     "model_module": "@jupyter-widgets/controls",
     "model_module_version": "1.5.0",
     "model_name": "HBoxModel",
     "state": {
      "_dom_classes": [],
      "_model_module": "@jupyter-widgets/controls",
      "_model_module_version": "1.5.0",
      "_model_name": "HBoxModel",
      "_view_count": null,
      "_view_module": "@jupyter-widgets/controls",
      "_view_module_version": "1.5.0",
      "_view_name": "HBoxView",
      "box_style": "",
      "children": [
       "IPY_MODEL_2c8ac918b3444c4cae12961456ed0ed5",
       "IPY_MODEL_450c0771ebb0491e9e9f3e8f08876062",
       "IPY_MODEL_14c8b7b70dac4de09091e107e474aa5d"
      ],
      "layout": "IPY_MODEL_047c04ddd8294b1ba3eeff6a8f1626d1"
     }
    },
    "a7e92bb6473e4f359f19e53adf594971": {
     "model_module": "@jupyter-widgets/controls",
     "model_module_version": "1.5.0",
     "model_name": "HBoxModel",
     "state": {
      "_dom_classes": [],
      "_model_module": "@jupyter-widgets/controls",
      "_model_module_version": "1.5.0",
      "_model_name": "HBoxModel",
      "_view_count": null,
      "_view_module": "@jupyter-widgets/controls",
      "_view_module_version": "1.5.0",
      "_view_name": "HBoxView",
      "box_style": "",
      "children": [
       "IPY_MODEL_3086826b05d644739861d20f1f632701",
       "IPY_MODEL_791044d2f7584bc29bfc051e27f52b24",
       "IPY_MODEL_ed317e60ba0f4c95b7188db64deb6183"
      ],
      "layout": "IPY_MODEL_1a661e891a4c4783b70b3b93a0036585"
     }
    },
    "a8d64316c84848a8bb8f2cefdc72e7cc": {
     "model_module": "@jupyter-widgets/controls",
     "model_module_version": "1.5.0",
     "model_name": "FloatProgressModel",
     "state": {
      "_dom_classes": [],
      "_model_module": "@jupyter-widgets/controls",
      "_model_module_version": "1.5.0",
      "_model_name": "FloatProgressModel",
      "_view_count": null,
      "_view_module": "@jupyter-widgets/controls",
      "_view_module_version": "1.5.0",
      "_view_name": "ProgressView",
      "bar_style": "success",
      "description": "",
      "description_tooltip": null,
      "layout": "IPY_MODEL_3da34997491d434c84a204073f6dff80",
      "max": 7,
      "min": 0,
      "orientation": "horizontal",
      "style": "IPY_MODEL_6cbdeab9849e4a57940bb60b78c355f5",
      "value": 7
     }
    },
    "a9b323f86d5c4076b8f4223f41995e21": {
     "model_module": "@jupyter-widgets/controls",
     "model_module_version": "1.5.0",
     "model_name": "DescriptionStyleModel",
     "state": {
      "_model_module": "@jupyter-widgets/controls",
      "_model_module_version": "1.5.0",
      "_model_name": "DescriptionStyleModel",
      "_view_count": null,
      "_view_module": "@jupyter-widgets/base",
      "_view_module_version": "1.2.0",
      "_view_name": "StyleView",
      "description_width": ""
     }
    },
    "aaa9dd4187fd421484fc4edb8b47646a": {
     "model_module": "@jupyter-widgets/base",
     "model_module_version": "1.2.0",
     "model_name": "LayoutModel",
     "state": {
      "_model_module": "@jupyter-widgets/base",
      "_model_module_version": "1.2.0",
      "_model_name": "LayoutModel",
      "_view_count": null,
      "_view_module": "@jupyter-widgets/base",
      "_view_module_version": "1.2.0",
      "_view_name": "LayoutView",
      "align_content": null,
      "align_items": null,
      "align_self": null,
      "border": null,
      "bottom": null,
      "display": null,
      "flex": null,
      "flex_flow": null,
      "grid_area": null,
      "grid_auto_columns": null,
      "grid_auto_flow": null,
      "grid_auto_rows": null,
      "grid_column": null,
      "grid_gap": null,
      "grid_row": null,
      "grid_template_areas": null,
      "grid_template_columns": null,
      "grid_template_rows": null,
      "height": null,
      "justify_content": null,
      "justify_items": null,
      "left": null,
      "margin": null,
      "max_height": null,
      "max_width": null,
      "min_height": null,
      "min_width": null,
      "object_fit": null,
      "object_position": null,
      "order": null,
      "overflow": null,
      "overflow_x": null,
      "overflow_y": null,
      "padding": null,
      "right": null,
      "top": null,
      "visibility": null,
      "width": null
     }
    },
    "adcbf8ee76714b21933b50764fa16f4a": {
     "model_module": "@jupyter-widgets/controls",
     "model_module_version": "1.5.0",
     "model_name": "ProgressStyleModel",
     "state": {
      "_model_module": "@jupyter-widgets/controls",
      "_model_module_version": "1.5.0",
      "_model_name": "ProgressStyleModel",
      "_view_count": null,
      "_view_module": "@jupyter-widgets/base",
      "_view_module_version": "1.2.0",
      "_view_name": "StyleView",
      "bar_color": null,
      "description_width": ""
     }
    },
    "aeebc6848a864d169e8469235347b508": {
     "model_module": "@jupyter-widgets/base",
     "model_module_version": "1.2.0",
     "model_name": "LayoutModel",
     "state": {
      "_model_module": "@jupyter-widgets/base",
      "_model_module_version": "1.2.0",
      "_model_name": "LayoutModel",
      "_view_count": null,
      "_view_module": "@jupyter-widgets/base",
      "_view_module_version": "1.2.0",
      "_view_name": "LayoutView",
      "align_content": null,
      "align_items": null,
      "align_self": null,
      "border": null,
      "bottom": null,
      "display": null,
      "flex": null,
      "flex_flow": null,
      "grid_area": null,
      "grid_auto_columns": null,
      "grid_auto_flow": null,
      "grid_auto_rows": null,
      "grid_column": null,
      "grid_gap": null,
      "grid_row": null,
      "grid_template_areas": null,
      "grid_template_columns": null,
      "grid_template_rows": null,
      "height": null,
      "justify_content": null,
      "justify_items": null,
      "left": null,
      "margin": null,
      "max_height": null,
      "max_width": null,
      "min_height": null,
      "min_width": null,
      "object_fit": null,
      "object_position": null,
      "order": null,
      "overflow": null,
      "overflow_x": null,
      "overflow_y": null,
      "padding": null,
      "right": null,
      "top": null,
      "visibility": null,
      "width": null
     }
    },
    "b08a8044e74c440996fa68b1e37eca8d": {
     "model_module": "@jupyter-widgets/base",
     "model_module_version": "1.2.0",
     "model_name": "LayoutModel",
     "state": {
      "_model_module": "@jupyter-widgets/base",
      "_model_module_version": "1.2.0",
      "_model_name": "LayoutModel",
      "_view_count": null,
      "_view_module": "@jupyter-widgets/base",
      "_view_module_version": "1.2.0",
      "_view_name": "LayoutView",
      "align_content": null,
      "align_items": null,
      "align_self": null,
      "border": null,
      "bottom": null,
      "display": null,
      "flex": null,
      "flex_flow": null,
      "grid_area": null,
      "grid_auto_columns": null,
      "grid_auto_flow": null,
      "grid_auto_rows": null,
      "grid_column": null,
      "grid_gap": null,
      "grid_row": null,
      "grid_template_areas": null,
      "grid_template_columns": null,
      "grid_template_rows": null,
      "height": null,
      "justify_content": null,
      "justify_items": null,
      "left": null,
      "margin": null,
      "max_height": null,
      "max_width": null,
      "min_height": null,
      "min_width": null,
      "object_fit": null,
      "object_position": null,
      "order": null,
      "overflow": null,
      "overflow_x": null,
      "overflow_y": null,
      "padding": null,
      "right": null,
      "top": null,
      "visibility": null,
      "width": null
     }
    },
    "b0b363c6c92c4c768bddae5ee842d53f": {
     "model_module": "@jupyter-widgets/base",
     "model_module_version": "1.2.0",
     "model_name": "LayoutModel",
     "state": {
      "_model_module": "@jupyter-widgets/base",
      "_model_module_version": "1.2.0",
      "_model_name": "LayoutModel",
      "_view_count": null,
      "_view_module": "@jupyter-widgets/base",
      "_view_module_version": "1.2.0",
      "_view_name": "LayoutView",
      "align_content": null,
      "align_items": null,
      "align_self": null,
      "border": null,
      "bottom": null,
      "display": null,
      "flex": null,
      "flex_flow": null,
      "grid_area": null,
      "grid_auto_columns": null,
      "grid_auto_flow": null,
      "grid_auto_rows": null,
      "grid_column": null,
      "grid_gap": null,
      "grid_row": null,
      "grid_template_areas": null,
      "grid_template_columns": null,
      "grid_template_rows": null,
      "height": null,
      "justify_content": null,
      "justify_items": null,
      "left": null,
      "margin": null,
      "max_height": null,
      "max_width": null,
      "min_height": null,
      "min_width": null,
      "object_fit": null,
      "object_position": null,
      "order": null,
      "overflow": null,
      "overflow_x": null,
      "overflow_y": null,
      "padding": null,
      "right": null,
      "top": null,
      "visibility": null,
      "width": null
     }
    },
    "b0d8f8a6bfc949fbaa54d1aa13d323ff": {
     "model_module": "@jupyter-widgets/base",
     "model_module_version": "1.2.0",
     "model_name": "LayoutModel",
     "state": {
      "_model_module": "@jupyter-widgets/base",
      "_model_module_version": "1.2.0",
      "_model_name": "LayoutModel",
      "_view_count": null,
      "_view_module": "@jupyter-widgets/base",
      "_view_module_version": "1.2.0",
      "_view_name": "LayoutView",
      "align_content": null,
      "align_items": null,
      "align_self": null,
      "border": null,
      "bottom": null,
      "display": null,
      "flex": null,
      "flex_flow": null,
      "grid_area": null,
      "grid_auto_columns": null,
      "grid_auto_flow": null,
      "grid_auto_rows": null,
      "grid_column": null,
      "grid_gap": null,
      "grid_row": null,
      "grid_template_areas": null,
      "grid_template_columns": null,
      "grid_template_rows": null,
      "height": null,
      "justify_content": null,
      "justify_items": null,
      "left": null,
      "margin": null,
      "max_height": null,
      "max_width": null,
      "min_height": null,
      "min_width": null,
      "object_fit": null,
      "object_position": null,
      "order": null,
      "overflow": null,
      "overflow_x": null,
      "overflow_y": null,
      "padding": null,
      "right": null,
      "top": null,
      "visibility": null,
      "width": null
     }
    },
    "b0e4d7c559734090a95fc2b61797a368": {
     "model_module": "@jupyter-widgets/base",
     "model_module_version": "1.2.0",
     "model_name": "LayoutModel",
     "state": {
      "_model_module": "@jupyter-widgets/base",
      "_model_module_version": "1.2.0",
      "_model_name": "LayoutModel",
      "_view_count": null,
      "_view_module": "@jupyter-widgets/base",
      "_view_module_version": "1.2.0",
      "_view_name": "LayoutView",
      "align_content": null,
      "align_items": null,
      "align_self": null,
      "border": null,
      "bottom": null,
      "display": null,
      "flex": null,
      "flex_flow": null,
      "grid_area": null,
      "grid_auto_columns": null,
      "grid_auto_flow": null,
      "grid_auto_rows": null,
      "grid_column": null,
      "grid_gap": null,
      "grid_row": null,
      "grid_template_areas": null,
      "grid_template_columns": null,
      "grid_template_rows": null,
      "height": null,
      "justify_content": null,
      "justify_items": null,
      "left": null,
      "margin": null,
      "max_height": null,
      "max_width": null,
      "min_height": null,
      "min_width": null,
      "object_fit": null,
      "object_position": null,
      "order": null,
      "overflow": null,
      "overflow_x": null,
      "overflow_y": null,
      "padding": null,
      "right": null,
      "top": null,
      "visibility": null,
      "width": null
     }
    },
    "b133bf0b321a42f0ac47c855ffe0f1e3": {
     "model_module": "@jupyter-widgets/controls",
     "model_module_version": "1.5.0",
     "model_name": "HTMLModel",
     "state": {
      "_dom_classes": [],
      "_model_module": "@jupyter-widgets/controls",
      "_model_module_version": "1.5.0",
      "_model_name": "HTMLModel",
      "_view_count": null,
      "_view_module": "@jupyter-widgets/controls",
      "_view_module_version": "1.5.0",
      "_view_name": "HTMLView",
      "description": "",
      "description_tooltip": null,
      "layout": "IPY_MODEL_0c54407c997a4c24a618bea4e26d2f01",
      "placeholder": "​",
      "style": "IPY_MODEL_e47efcbaa66342d7bb06c620b7a14be1",
      "value": " 16/16 [11:06&lt;00:00, 39.05s/it]"
     }
    },
    "b1dd89930eed4b7f9a45cf3109ad9781": {
     "model_module": "@jupyter-widgets/controls",
     "model_module_version": "1.5.0",
     "model_name": "HBoxModel",
     "state": {
      "_dom_classes": [],
      "_model_module": "@jupyter-widgets/controls",
      "_model_module_version": "1.5.0",
      "_model_name": "HBoxModel",
      "_view_count": null,
      "_view_module": "@jupyter-widgets/controls",
      "_view_module_version": "1.5.0",
      "_view_name": "HBoxView",
      "box_style": "",
      "children": [
       "IPY_MODEL_ca617c2a0f39424aa237c43898db3b41",
       "IPY_MODEL_d403a02a1344448285b799fadbb90c87",
       "IPY_MODEL_b23f58e4a1c446b6bb1fc01afd61e67c"
      ],
      "layout": "IPY_MODEL_66e93313582e45ca9324e69023864615"
     }
    },
    "b228d50179ed4a16824a72f87fb0d929": {
     "model_module": "@jupyter-widgets/base",
     "model_module_version": "1.2.0",
     "model_name": "LayoutModel",
     "state": {
      "_model_module": "@jupyter-widgets/base",
      "_model_module_version": "1.2.0",
      "_model_name": "LayoutModel",
      "_view_count": null,
      "_view_module": "@jupyter-widgets/base",
      "_view_module_version": "1.2.0",
      "_view_name": "LayoutView",
      "align_content": null,
      "align_items": null,
      "align_self": null,
      "border": null,
      "bottom": null,
      "display": null,
      "flex": null,
      "flex_flow": null,
      "grid_area": null,
      "grid_auto_columns": null,
      "grid_auto_flow": null,
      "grid_auto_rows": null,
      "grid_column": null,
      "grid_gap": null,
      "grid_row": null,
      "grid_template_areas": null,
      "grid_template_columns": null,
      "grid_template_rows": null,
      "height": null,
      "justify_content": null,
      "justify_items": null,
      "left": null,
      "margin": null,
      "max_height": null,
      "max_width": null,
      "min_height": null,
      "min_width": null,
      "object_fit": null,
      "object_position": null,
      "order": null,
      "overflow": null,
      "overflow_x": null,
      "overflow_y": null,
      "padding": null,
      "right": null,
      "top": null,
      "visibility": null,
      "width": null
     }
    },
    "b23f58e4a1c446b6bb1fc01afd61e67c": {
     "model_module": "@jupyter-widgets/controls",
     "model_module_version": "1.5.0",
     "model_name": "HTMLModel",
     "state": {
      "_dom_classes": [],
      "_model_module": "@jupyter-widgets/controls",
      "_model_module_version": "1.5.0",
      "_model_name": "HTMLModel",
      "_view_count": null,
      "_view_module": "@jupyter-widgets/controls",
      "_view_module_version": "1.5.0",
      "_view_name": "HTMLView",
      "description": "",
      "description_tooltip": null,
      "layout": "IPY_MODEL_814c533e7b2b418ba1297ba101920536",
      "placeholder": "​",
      "style": "IPY_MODEL_6fee563804104a89813b239a35e9f8c7",
      "value": " 7/7 [00:00&lt;00:00,  7.94it/s]"
     }
    },
    "b3129a48cf4342f387cb8dfea669153b": {
     "model_module": "@jupyter-widgets/controls",
     "model_module_version": "1.5.0",
     "model_name": "HBoxModel",
     "state": {
      "_dom_classes": [],
      "_model_module": "@jupyter-widgets/controls",
      "_model_module_version": "1.5.0",
      "_model_name": "HBoxModel",
      "_view_count": null,
      "_view_module": "@jupyter-widgets/controls",
      "_view_module_version": "1.5.0",
      "_view_name": "HBoxView",
      "box_style": "",
      "children": [
       "IPY_MODEL_c2f6fbb270714c4f956e48f1b6a45b69",
       "IPY_MODEL_968941668d9a42309971d98b0704adb4",
       "IPY_MODEL_5afeca18609c40bda77e4f2898816c0f"
      ],
      "layout": "IPY_MODEL_4a23b4ecada24f07a4fb3bc4cff23241"
     }
    },
    "b3c6081214dc4cf68dcf2fc669e01185": {
     "model_module": "@jupyter-widgets/controls",
     "model_module_version": "1.5.0",
     "model_name": "DescriptionStyleModel",
     "state": {
      "_model_module": "@jupyter-widgets/controls",
      "_model_module_version": "1.5.0",
      "_model_name": "DescriptionStyleModel",
      "_view_count": null,
      "_view_module": "@jupyter-widgets/base",
      "_view_module_version": "1.2.0",
      "_view_name": "StyleView",
      "description_width": ""
     }
    },
    "b4ea113bf82f4593bfd8aea7f4e79351": {
     "model_module": "@jupyter-widgets/base",
     "model_module_version": "1.2.0",
     "model_name": "LayoutModel",
     "state": {
      "_model_module": "@jupyter-widgets/base",
      "_model_module_version": "1.2.0",
      "_model_name": "LayoutModel",
      "_view_count": null,
      "_view_module": "@jupyter-widgets/base",
      "_view_module_version": "1.2.0",
      "_view_name": "LayoutView",
      "align_content": null,
      "align_items": null,
      "align_self": null,
      "border": null,
      "bottom": null,
      "display": null,
      "flex": null,
      "flex_flow": null,
      "grid_area": null,
      "grid_auto_columns": null,
      "grid_auto_flow": null,
      "grid_auto_rows": null,
      "grid_column": null,
      "grid_gap": null,
      "grid_row": null,
      "grid_template_areas": null,
      "grid_template_columns": null,
      "grid_template_rows": null,
      "height": null,
      "justify_content": null,
      "justify_items": null,
      "left": null,
      "margin": null,
      "max_height": null,
      "max_width": null,
      "min_height": null,
      "min_width": null,
      "object_fit": null,
      "object_position": null,
      "order": null,
      "overflow": null,
      "overflow_x": null,
      "overflow_y": null,
      "padding": null,
      "right": null,
      "top": null,
      "visibility": null,
      "width": null
     }
    },
    "b8d9b1ca262b4207b3f6d28241d2cdf6": {
     "model_module": "@jupyter-widgets/controls",
     "model_module_version": "1.5.0",
     "model_name": "DescriptionStyleModel",
     "state": {
      "_model_module": "@jupyter-widgets/controls",
      "_model_module_version": "1.5.0",
      "_model_name": "DescriptionStyleModel",
      "_view_count": null,
      "_view_module": "@jupyter-widgets/base",
      "_view_module_version": "1.2.0",
      "_view_name": "StyleView",
      "description_width": ""
     }
    },
    "b900a064ed70437c913ad5dd3dcbb72c": {
     "model_module": "@jupyter-widgets/base",
     "model_module_version": "1.2.0",
     "model_name": "LayoutModel",
     "state": {
      "_model_module": "@jupyter-widgets/base",
      "_model_module_version": "1.2.0",
      "_model_name": "LayoutModel",
      "_view_count": null,
      "_view_module": "@jupyter-widgets/base",
      "_view_module_version": "1.2.0",
      "_view_name": "LayoutView",
      "align_content": null,
      "align_items": null,
      "align_self": null,
      "border": null,
      "bottom": null,
      "display": null,
      "flex": null,
      "flex_flow": null,
      "grid_area": null,
      "grid_auto_columns": null,
      "grid_auto_flow": null,
      "grid_auto_rows": null,
      "grid_column": null,
      "grid_gap": null,
      "grid_row": null,
      "grid_template_areas": null,
      "grid_template_columns": null,
      "grid_template_rows": null,
      "height": null,
      "justify_content": null,
      "justify_items": null,
      "left": null,
      "margin": null,
      "max_height": null,
      "max_width": null,
      "min_height": null,
      "min_width": null,
      "object_fit": null,
      "object_position": null,
      "order": null,
      "overflow": null,
      "overflow_x": null,
      "overflow_y": null,
      "padding": null,
      "right": null,
      "top": null,
      "visibility": null,
      "width": null
     }
    },
    "ba2cf09c2f2748e19d2291817cf4e933": {
     "model_module": "@jupyter-widgets/base",
     "model_module_version": "1.2.0",
     "model_name": "LayoutModel",
     "state": {
      "_model_module": "@jupyter-widgets/base",
      "_model_module_version": "1.2.0",
      "_model_name": "LayoutModel",
      "_view_count": null,
      "_view_module": "@jupyter-widgets/base",
      "_view_module_version": "1.2.0",
      "_view_name": "LayoutView",
      "align_content": null,
      "align_items": null,
      "align_self": null,
      "border": null,
      "bottom": null,
      "display": null,
      "flex": null,
      "flex_flow": null,
      "grid_area": null,
      "grid_auto_columns": null,
      "grid_auto_flow": null,
      "grid_auto_rows": null,
      "grid_column": null,
      "grid_gap": null,
      "grid_row": null,
      "grid_template_areas": null,
      "grid_template_columns": null,
      "grid_template_rows": null,
      "height": null,
      "justify_content": null,
      "justify_items": null,
      "left": null,
      "margin": null,
      "max_height": null,
      "max_width": null,
      "min_height": null,
      "min_width": null,
      "object_fit": null,
      "object_position": null,
      "order": null,
      "overflow": null,
      "overflow_x": null,
      "overflow_y": null,
      "padding": null,
      "right": null,
      "top": null,
      "visibility": null,
      "width": null
     }
    },
    "bc7aec873fd94e9a8836e3a656855eb9": {
     "model_module": "@jupyter-widgets/controls",
     "model_module_version": "1.5.0",
     "model_name": "DescriptionStyleModel",
     "state": {
      "_model_module": "@jupyter-widgets/controls",
      "_model_module_version": "1.5.0",
      "_model_name": "DescriptionStyleModel",
      "_view_count": null,
      "_view_module": "@jupyter-widgets/base",
      "_view_module_version": "1.2.0",
      "_view_name": "StyleView",
      "description_width": ""
     }
    },
    "bd7d3108af48403192d1a93fa635340a": {
     "model_module": "@jupyter-widgets/base",
     "model_module_version": "1.2.0",
     "model_name": "LayoutModel",
     "state": {
      "_model_module": "@jupyter-widgets/base",
      "_model_module_version": "1.2.0",
      "_model_name": "LayoutModel",
      "_view_count": null,
      "_view_module": "@jupyter-widgets/base",
      "_view_module_version": "1.2.0",
      "_view_name": "LayoutView",
      "align_content": null,
      "align_items": null,
      "align_self": null,
      "border": null,
      "bottom": null,
      "display": null,
      "flex": null,
      "flex_flow": null,
      "grid_area": null,
      "grid_auto_columns": null,
      "grid_auto_flow": null,
      "grid_auto_rows": null,
      "grid_column": null,
      "grid_gap": null,
      "grid_row": null,
      "grid_template_areas": null,
      "grid_template_columns": null,
      "grid_template_rows": null,
      "height": null,
      "justify_content": null,
      "justify_items": null,
      "left": null,
      "margin": null,
      "max_height": null,
      "max_width": null,
      "min_height": null,
      "min_width": null,
      "object_fit": null,
      "object_position": null,
      "order": null,
      "overflow": null,
      "overflow_x": null,
      "overflow_y": null,
      "padding": null,
      "right": null,
      "top": null,
      "visibility": null,
      "width": null
     }
    },
    "bdf8ef6dbbd045d0b68ea20bfe9b185c": {
     "model_module": "@jupyter-widgets/base",
     "model_module_version": "1.2.0",
     "model_name": "LayoutModel",
     "state": {
      "_model_module": "@jupyter-widgets/base",
      "_model_module_version": "1.2.0",
      "_model_name": "LayoutModel",
      "_view_count": null,
      "_view_module": "@jupyter-widgets/base",
      "_view_module_version": "1.2.0",
      "_view_name": "LayoutView",
      "align_content": null,
      "align_items": null,
      "align_self": null,
      "border": null,
      "bottom": null,
      "display": null,
      "flex": null,
      "flex_flow": null,
      "grid_area": null,
      "grid_auto_columns": null,
      "grid_auto_flow": null,
      "grid_auto_rows": null,
      "grid_column": null,
      "grid_gap": null,
      "grid_row": null,
      "grid_template_areas": null,
      "grid_template_columns": null,
      "grid_template_rows": null,
      "height": null,
      "justify_content": null,
      "justify_items": null,
      "left": null,
      "margin": null,
      "max_height": null,
      "max_width": null,
      "min_height": null,
      "min_width": null,
      "object_fit": null,
      "object_position": null,
      "order": null,
      "overflow": null,
      "overflow_x": null,
      "overflow_y": null,
      "padding": null,
      "right": null,
      "top": null,
      "visibility": null,
      "width": null
     }
    },
    "be8ba817db174125ba1168ea1de48f38": {
     "model_module": "@jupyter-widgets/base",
     "model_module_version": "1.2.0",
     "model_name": "LayoutModel",
     "state": {
      "_model_module": "@jupyter-widgets/base",
      "_model_module_version": "1.2.0",
      "_model_name": "LayoutModel",
      "_view_count": null,
      "_view_module": "@jupyter-widgets/base",
      "_view_module_version": "1.2.0",
      "_view_name": "LayoutView",
      "align_content": null,
      "align_items": null,
      "align_self": null,
      "border": null,
      "bottom": null,
      "display": null,
      "flex": null,
      "flex_flow": null,
      "grid_area": null,
      "grid_auto_columns": null,
      "grid_auto_flow": null,
      "grid_auto_rows": null,
      "grid_column": null,
      "grid_gap": null,
      "grid_row": null,
      "grid_template_areas": null,
      "grid_template_columns": null,
      "grid_template_rows": null,
      "height": null,
      "justify_content": null,
      "justify_items": null,
      "left": null,
      "margin": null,
      "max_height": null,
      "max_width": null,
      "min_height": null,
      "min_width": null,
      "object_fit": null,
      "object_position": null,
      "order": null,
      "overflow": null,
      "overflow_x": null,
      "overflow_y": null,
      "padding": null,
      "right": null,
      "top": null,
      "visibility": null,
      "width": null
     }
    },
    "bef2b82b575b4b12bf7e55565f04ec28": {
     "model_module": "@jupyter-widgets/base",
     "model_module_version": "1.2.0",
     "model_name": "LayoutModel",
     "state": {
      "_model_module": "@jupyter-widgets/base",
      "_model_module_version": "1.2.0",
      "_model_name": "LayoutModel",
      "_view_count": null,
      "_view_module": "@jupyter-widgets/base",
      "_view_module_version": "1.2.0",
      "_view_name": "LayoutView",
      "align_content": null,
      "align_items": null,
      "align_self": null,
      "border": null,
      "bottom": null,
      "display": null,
      "flex": null,
      "flex_flow": null,
      "grid_area": null,
      "grid_auto_columns": null,
      "grid_auto_flow": null,
      "grid_auto_rows": null,
      "grid_column": null,
      "grid_gap": null,
      "grid_row": null,
      "grid_template_areas": null,
      "grid_template_columns": null,
      "grid_template_rows": null,
      "height": null,
      "justify_content": null,
      "justify_items": null,
      "left": null,
      "margin": null,
      "max_height": null,
      "max_width": null,
      "min_height": null,
      "min_width": null,
      "object_fit": null,
      "object_position": null,
      "order": null,
      "overflow": null,
      "overflow_x": null,
      "overflow_y": null,
      "padding": null,
      "right": null,
      "top": null,
      "visibility": null,
      "width": null
     }
    },
    "c197bfec807a46f997ae62b6d9ddae2c": {
     "model_module": "@jupyter-widgets/controls",
     "model_module_version": "1.5.0",
     "model_name": "DescriptionStyleModel",
     "state": {
      "_model_module": "@jupyter-widgets/controls",
      "_model_module_version": "1.5.0",
      "_model_name": "DescriptionStyleModel",
      "_view_count": null,
      "_view_module": "@jupyter-widgets/base",
      "_view_module_version": "1.2.0",
      "_view_name": "StyleView",
      "description_width": ""
     }
    },
    "c2551b9215e74f4f90beb6aaa4be7828": {
     "model_module": "@jupyter-widgets/controls",
     "model_module_version": "1.5.0",
     "model_name": "HTMLModel",
     "state": {
      "_dom_classes": [],
      "_model_module": "@jupyter-widgets/controls",
      "_model_module_version": "1.5.0",
      "_model_name": "HTMLModel",
      "_view_count": null,
      "_view_module": "@jupyter-widgets/controls",
      "_view_module_version": "1.5.0",
      "_view_name": "HTMLView",
      "description": "",
      "description_tooltip": null,
      "layout": "IPY_MODEL_5f7dada89fb147ac8464e891bfc6b443",
      "placeholder": "​",
      "style": "IPY_MODEL_f7d24d90f1fe4e7a87a8792228f309ab",
      "value": " 16/16 [04:07&lt;00:00, 14.28s/it]"
     }
    },
    "c2d3e003b0af4ada8cb5a2f5c50fb3e4": {
     "model_module": "@jupyter-widgets/base",
     "model_module_version": "1.2.0",
     "model_name": "LayoutModel",
     "state": {
      "_model_module": "@jupyter-widgets/base",
      "_model_module_version": "1.2.0",
      "_model_name": "LayoutModel",
      "_view_count": null,
      "_view_module": "@jupyter-widgets/base",
      "_view_module_version": "1.2.0",
      "_view_name": "LayoutView",
      "align_content": null,
      "align_items": null,
      "align_self": null,
      "border": null,
      "bottom": null,
      "display": null,
      "flex": null,
      "flex_flow": null,
      "grid_area": null,
      "grid_auto_columns": null,
      "grid_auto_flow": null,
      "grid_auto_rows": null,
      "grid_column": null,
      "grid_gap": null,
      "grid_row": null,
      "grid_template_areas": null,
      "grid_template_columns": null,
      "grid_template_rows": null,
      "height": null,
      "justify_content": null,
      "justify_items": null,
      "left": null,
      "margin": null,
      "max_height": null,
      "max_width": null,
      "min_height": null,
      "min_width": null,
      "object_fit": null,
      "object_position": null,
      "order": null,
      "overflow": null,
      "overflow_x": null,
      "overflow_y": null,
      "padding": null,
      "right": null,
      "top": null,
      "visibility": null,
      "width": null
     }
    },
    "c2f6fbb270714c4f956e48f1b6a45b69": {
     "model_module": "@jupyter-widgets/controls",
     "model_module_version": "1.5.0",
     "model_name": "HTMLModel",
     "state": {
      "_dom_classes": [],
      "_model_module": "@jupyter-widgets/controls",
      "_model_module_version": "1.5.0",
      "_model_name": "HTMLModel",
      "_view_count": null,
      "_view_module": "@jupyter-widgets/controls",
      "_view_module_version": "1.5.0",
      "_view_name": "HTMLView",
      "description": "",
      "description_tooltip": null,
      "layout": "IPY_MODEL_99885e6f294b4b12a9604cf8ff8e1199",
      "placeholder": "​",
      "style": "IPY_MODEL_9c686b441f34434b93d24ca2e6cb3518",
      "value": "Getting Inception Predictions: 100%"
     }
    },
    "c40e222932ed4f28be314bf7960d09ec": {
     "model_module": "@jupyter-widgets/controls",
     "model_module_version": "1.5.0",
     "model_name": "HTMLModel",
     "state": {
      "_dom_classes": [],
      "_model_module": "@jupyter-widgets/controls",
      "_model_module_version": "1.5.0",
      "_model_name": "HTMLModel",
      "_view_count": null,
      "_view_module": "@jupyter-widgets/controls",
      "_view_module_version": "1.5.0",
      "_view_name": "HTMLView",
      "description": "",
      "description_tooltip": null,
      "layout": "IPY_MODEL_bdf8ef6dbbd045d0b68ea20bfe9b185c",
      "placeholder": "​",
      "style": "IPY_MODEL_ccd63666a67b4a06b381c6ba76c88f41",
      "value": " 16/16 [05:29&lt;00:00, 18.46s/it]"
     }
    },
    "c71b356eb186472193f3eb1a44a9b97c": {
     "model_module": "@jupyter-widgets/controls",
     "model_module_version": "1.5.0",
     "model_name": "HTMLModel",
     "state": {
      "_dom_classes": [],
      "_model_module": "@jupyter-widgets/controls",
      "_model_module_version": "1.5.0",
      "_model_name": "HTMLModel",
      "_view_count": null,
      "_view_module": "@jupyter-widgets/controls",
      "_view_module_version": "1.5.0",
      "_view_name": "HTMLView",
      "description": "",
      "description_tooltip": null,
      "layout": "IPY_MODEL_dc17594fe20c4b1c9a7d82654db95d9b",
      "placeholder": "​",
      "style": "IPY_MODEL_e7d0b4cbabbd4d81993acc855ecac51a",
      "value": "Calculating NLL: 100%"
     }
    },
    "c75dcb9e2da648aab43de025c25781d5": {
     "model_module": "@jupyter-widgets/base",
     "model_module_version": "1.2.0",
     "model_name": "LayoutModel",
     "state": {
      "_model_module": "@jupyter-widgets/base",
      "_model_module_version": "1.2.0",
      "_model_name": "LayoutModel",
      "_view_count": null,
      "_view_module": "@jupyter-widgets/base",
      "_view_module_version": "1.2.0",
      "_view_name": "LayoutView",
      "align_content": null,
      "align_items": null,
      "align_self": null,
      "border": null,
      "bottom": null,
      "display": null,
      "flex": null,
      "flex_flow": null,
      "grid_area": null,
      "grid_auto_columns": null,
      "grid_auto_flow": null,
      "grid_auto_rows": null,
      "grid_column": null,
      "grid_gap": null,
      "grid_row": null,
      "grid_template_areas": null,
      "grid_template_columns": null,
      "grid_template_rows": null,
      "height": null,
      "justify_content": null,
      "justify_items": null,
      "left": null,
      "margin": null,
      "max_height": null,
      "max_width": null,
      "min_height": null,
      "min_width": null,
      "object_fit": null,
      "object_position": null,
      "order": null,
      "overflow": null,
      "overflow_x": null,
      "overflow_y": null,
      "padding": null,
      "right": null,
      "top": null,
      "visibility": null,
      "width": null
     }
    },
    "c7cabfd5db8f46f5879242f04e08bd7c": {
     "model_module": "@jupyter-widgets/controls",
     "model_module_version": "1.5.0",
     "model_name": "HTMLModel",
     "state": {
      "_dom_classes": [],
      "_model_module": "@jupyter-widgets/controls",
      "_model_module_version": "1.5.0",
      "_model_name": "HTMLModel",
      "_view_count": null,
      "_view_module": "@jupyter-widgets/controls",
      "_view_module_version": "1.5.0",
      "_view_name": "HTMLView",
      "description": "",
      "description_tooltip": null,
      "layout": "IPY_MODEL_fb83a35591284fefa27434d9f35495a5",
      "placeholder": "​",
      "style": "IPY_MODEL_e5ad5a97ca564fda9aa974243bd90d8d",
      "value": "Calculating NLL: 100%"
     }
    },
    "c893d04df6824c15967f46a284c8809f": {
     "model_module": "@jupyter-widgets/base",
     "model_module_version": "1.2.0",
     "model_name": "LayoutModel",
     "state": {
      "_model_module": "@jupyter-widgets/base",
      "_model_module_version": "1.2.0",
      "_model_name": "LayoutModel",
      "_view_count": null,
      "_view_module": "@jupyter-widgets/base",
      "_view_module_version": "1.2.0",
      "_view_name": "LayoutView",
      "align_content": null,
      "align_items": null,
      "align_self": null,
      "border": null,
      "bottom": null,
      "display": null,
      "flex": null,
      "flex_flow": null,
      "grid_area": null,
      "grid_auto_columns": null,
      "grid_auto_flow": null,
      "grid_auto_rows": null,
      "grid_column": null,
      "grid_gap": null,
      "grid_row": null,
      "grid_template_areas": null,
      "grid_template_columns": null,
      "grid_template_rows": null,
      "height": null,
      "justify_content": null,
      "justify_items": null,
      "left": null,
      "margin": null,
      "max_height": null,
      "max_width": null,
      "min_height": null,
      "min_width": null,
      "object_fit": null,
      "object_position": null,
      "order": null,
      "overflow": null,
      "overflow_x": null,
      "overflow_y": null,
      "padding": null,
      "right": null,
      "top": null,
      "visibility": null,
      "width": null
     }
    },
    "c97e877b41464b819f7f910c23eeb61a": {
     "model_module": "@jupyter-widgets/base",
     "model_module_version": "1.2.0",
     "model_name": "LayoutModel",
     "state": {
      "_model_module": "@jupyter-widgets/base",
      "_model_module_version": "1.2.0",
      "_model_name": "LayoutModel",
      "_view_count": null,
      "_view_module": "@jupyter-widgets/base",
      "_view_module_version": "1.2.0",
      "_view_name": "LayoutView",
      "align_content": null,
      "align_items": null,
      "align_self": null,
      "border": null,
      "bottom": null,
      "display": null,
      "flex": null,
      "flex_flow": null,
      "grid_area": null,
      "grid_auto_columns": null,
      "grid_auto_flow": null,
      "grid_auto_rows": null,
      "grid_column": null,
      "grid_gap": null,
      "grid_row": null,
      "grid_template_areas": null,
      "grid_template_columns": null,
      "grid_template_rows": null,
      "height": null,
      "justify_content": null,
      "justify_items": null,
      "left": null,
      "margin": null,
      "max_height": null,
      "max_width": null,
      "min_height": null,
      "min_width": null,
      "object_fit": null,
      "object_position": null,
      "order": null,
      "overflow": null,
      "overflow_x": null,
      "overflow_y": null,
      "padding": null,
      "right": null,
      "top": null,
      "visibility": null,
      "width": null
     }
    },
    "ca617c2a0f39424aa237c43898db3b41": {
     "model_module": "@jupyter-widgets/controls",
     "model_module_version": "1.5.0",
     "model_name": "HTMLModel",
     "state": {
      "_dom_classes": [],
      "_model_module": "@jupyter-widgets/controls",
      "_model_module_version": "1.5.0",
      "_model_name": "HTMLModel",
      "_view_count": null,
      "_view_module": "@jupyter-widgets/controls",
      "_view_module_version": "1.5.0",
      "_view_name": "HTMLView",
      "description": "",
      "description_tooltip": null,
      "layout": "IPY_MODEL_432f5c1a52f545b494282d12835497aa",
      "placeholder": "​",
      "style": "IPY_MODEL_7880d99880c948118ec47ff28be6c971",
      "value": "Getting Inception Predictions: 100%"
     }
    },
    "cac14d38573a44309d5f6201f00b3f3d": {
     "model_module": "@jupyter-widgets/base",
     "model_module_version": "1.2.0",
     "model_name": "LayoutModel",
     "state": {
      "_model_module": "@jupyter-widgets/base",
      "_model_module_version": "1.2.0",
      "_model_name": "LayoutModel",
      "_view_count": null,
      "_view_module": "@jupyter-widgets/base",
      "_view_module_version": "1.2.0",
      "_view_name": "LayoutView",
      "align_content": null,
      "align_items": null,
      "align_self": null,
      "border": null,
      "bottom": null,
      "display": null,
      "flex": null,
      "flex_flow": null,
      "grid_area": null,
      "grid_auto_columns": null,
      "grid_auto_flow": null,
      "grid_auto_rows": null,
      "grid_column": null,
      "grid_gap": null,
      "grid_row": null,
      "grid_template_areas": null,
      "grid_template_columns": null,
      "grid_template_rows": null,
      "height": null,
      "justify_content": null,
      "justify_items": null,
      "left": null,
      "margin": null,
      "max_height": null,
      "max_width": null,
      "min_height": null,
      "min_width": null,
      "object_fit": null,
      "object_position": null,
      "order": null,
      "overflow": null,
      "overflow_x": null,
      "overflow_y": null,
      "padding": null,
      "right": null,
      "top": null,
      "visibility": null,
      "width": null
     }
    },
    "cc206e2f6c26490e9e1604793594218b": {
     "model_module": "@jupyter-widgets/base",
     "model_module_version": "1.2.0",
     "model_name": "LayoutModel",
     "state": {
      "_model_module": "@jupyter-widgets/base",
      "_model_module_version": "1.2.0",
      "_model_name": "LayoutModel",
      "_view_count": null,
      "_view_module": "@jupyter-widgets/base",
      "_view_module_version": "1.2.0",
      "_view_name": "LayoutView",
      "align_content": null,
      "align_items": null,
      "align_self": null,
      "border": null,
      "bottom": null,
      "display": null,
      "flex": null,
      "flex_flow": null,
      "grid_area": null,
      "grid_auto_columns": null,
      "grid_auto_flow": null,
      "grid_auto_rows": null,
      "grid_column": null,
      "grid_gap": null,
      "grid_row": null,
      "grid_template_areas": null,
      "grid_template_columns": null,
      "grid_template_rows": null,
      "height": null,
      "justify_content": null,
      "justify_items": null,
      "left": null,
      "margin": null,
      "max_height": null,
      "max_width": null,
      "min_height": null,
      "min_width": null,
      "object_fit": null,
      "object_position": null,
      "order": null,
      "overflow": null,
      "overflow_x": null,
      "overflow_y": null,
      "padding": null,
      "right": null,
      "top": null,
      "visibility": null,
      "width": null
     }
    },
    "cc9d9e1eb82849b2a5a8b0ef14f4a3b1": {
     "model_module": "@jupyter-widgets/controls",
     "model_module_version": "1.5.0",
     "model_name": "FloatProgressModel",
     "state": {
      "_dom_classes": [],
      "_model_module": "@jupyter-widgets/controls",
      "_model_module_version": "1.5.0",
      "_model_name": "FloatProgressModel",
      "_view_count": null,
      "_view_module": "@jupyter-widgets/controls",
      "_view_module_version": "1.5.0",
      "_view_name": "ProgressView",
      "bar_style": "success",
      "description": "",
      "description_tooltip": null,
      "layout": "IPY_MODEL_c2d3e003b0af4ada8cb5a2f5c50fb3e4",
      "max": 16,
      "min": 0,
      "orientation": "horizontal",
      "style": "IPY_MODEL_e21824f0841d4aa4921f971a4c4d53c3",
      "value": 16
     }
    },
    "ccd63666a67b4a06b381c6ba76c88f41": {
     "model_module": "@jupyter-widgets/controls",
     "model_module_version": "1.5.0",
     "model_name": "DescriptionStyleModel",
     "state": {
      "_model_module": "@jupyter-widgets/controls",
      "_model_module_version": "1.5.0",
      "_model_name": "DescriptionStyleModel",
      "_view_count": null,
      "_view_module": "@jupyter-widgets/base",
      "_view_module_version": "1.2.0",
      "_view_name": "StyleView",
      "description_width": ""
     }
    },
    "ce78710835a4421381aab680c2e3ae75": {
     "model_module": "@jupyter-widgets/controls",
     "model_module_version": "1.5.0",
     "model_name": "ProgressStyleModel",
     "state": {
      "_model_module": "@jupyter-widgets/controls",
      "_model_module_version": "1.5.0",
      "_model_name": "ProgressStyleModel",
      "_view_count": null,
      "_view_module": "@jupyter-widgets/base",
      "_view_module_version": "1.2.0",
      "_view_name": "StyleView",
      "bar_color": null,
      "description_width": ""
     }
    },
    "cf3ca57757eb46c895cff866c53d0c67": {
     "model_module": "@jupyter-widgets/base",
     "model_module_version": "1.2.0",
     "model_name": "LayoutModel",
     "state": {
      "_model_module": "@jupyter-widgets/base",
      "_model_module_version": "1.2.0",
      "_model_name": "LayoutModel",
      "_view_count": null,
      "_view_module": "@jupyter-widgets/base",
      "_view_module_version": "1.2.0",
      "_view_name": "LayoutView",
      "align_content": null,
      "align_items": null,
      "align_self": null,
      "border": null,
      "bottom": null,
      "display": null,
      "flex": null,
      "flex_flow": null,
      "grid_area": null,
      "grid_auto_columns": null,
      "grid_auto_flow": null,
      "grid_auto_rows": null,
      "grid_column": null,
      "grid_gap": null,
      "grid_row": null,
      "grid_template_areas": null,
      "grid_template_columns": null,
      "grid_template_rows": null,
      "height": null,
      "justify_content": null,
      "justify_items": null,
      "left": null,
      "margin": null,
      "max_height": null,
      "max_width": null,
      "min_height": null,
      "min_width": null,
      "object_fit": null,
      "object_position": null,
      "order": null,
      "overflow": null,
      "overflow_x": null,
      "overflow_y": null,
      "padding": null,
      "right": null,
      "top": null,
      "visibility": null,
      "width": null
     }
    },
    "cf72d660405746ee86f22e0718add9d1": {
     "model_module": "@jupyter-widgets/controls",
     "model_module_version": "1.5.0",
     "model_name": "FloatProgressModel",
     "state": {
      "_dom_classes": [],
      "_model_module": "@jupyter-widgets/controls",
      "_model_module_version": "1.5.0",
      "_model_name": "FloatProgressModel",
      "_view_count": null,
      "_view_module": "@jupyter-widgets/controls",
      "_view_module_version": "1.5.0",
      "_view_name": "ProgressView",
      "bar_style": "success",
      "description": "",
      "description_tooltip": null,
      "layout": "IPY_MODEL_55ea7965ac2c4bce95c32cff7fd95fc4",
      "max": 7,
      "min": 0,
      "orientation": "horizontal",
      "style": "IPY_MODEL_045f40d2b7b2413a9801fc5784f5ac17",
      "value": 7
     }
    },
    "d0ef3e107c384601849183a182e458b2": {
     "model_module": "@jupyter-widgets/controls",
     "model_module_version": "1.5.0",
     "model_name": "HBoxModel",
     "state": {
      "_dom_classes": [],
      "_model_module": "@jupyter-widgets/controls",
      "_model_module_version": "1.5.0",
      "_model_name": "HBoxModel",
      "_view_count": null,
      "_view_module": "@jupyter-widgets/controls",
      "_view_module_version": "1.5.0",
      "_view_name": "HBoxView",
      "box_style": "",
      "children": [
       "IPY_MODEL_08514d886e14456a9ac58e1785ecb027",
       "IPY_MODEL_7522df8f47214b07bd6b357688efb901",
       "IPY_MODEL_ebf8b1f16d484673a20c9dd3c1d04f4f"
      ],
      "layout": "IPY_MODEL_cf3ca57757eb46c895cff866c53d0c67"
     }
    },
    "d403a02a1344448285b799fadbb90c87": {
     "model_module": "@jupyter-widgets/controls",
     "model_module_version": "1.5.0",
     "model_name": "FloatProgressModel",
     "state": {
      "_dom_classes": [],
      "_model_module": "@jupyter-widgets/controls",
      "_model_module_version": "1.5.0",
      "_model_name": "FloatProgressModel",
      "_view_count": null,
      "_view_module": "@jupyter-widgets/controls",
      "_view_module_version": "1.5.0",
      "_view_name": "ProgressView",
      "bar_style": "success",
      "description": "",
      "description_tooltip": null,
      "layout": "IPY_MODEL_14a130eb36b94981bb88cfb98b38bc39",
      "max": 7,
      "min": 0,
      "orientation": "horizontal",
      "style": "IPY_MODEL_2b49cacbbde54a91a3664c831b337d2e",
      "value": 7
     }
    },
    "d57b54183ff9446a8cdb7672d621697e": {
     "model_module": "@jupyter-widgets/base",
     "model_module_version": "1.2.0",
     "model_name": "LayoutModel",
     "state": {
      "_model_module": "@jupyter-widgets/base",
      "_model_module_version": "1.2.0",
      "_model_name": "LayoutModel",
      "_view_count": null,
      "_view_module": "@jupyter-widgets/base",
      "_view_module_version": "1.2.0",
      "_view_name": "LayoutView",
      "align_content": null,
      "align_items": null,
      "align_self": null,
      "border": null,
      "bottom": null,
      "display": null,
      "flex": null,
      "flex_flow": null,
      "grid_area": null,
      "grid_auto_columns": null,
      "grid_auto_flow": null,
      "grid_auto_rows": null,
      "grid_column": null,
      "grid_gap": null,
      "grid_row": null,
      "grid_template_areas": null,
      "grid_template_columns": null,
      "grid_template_rows": null,
      "height": null,
      "justify_content": null,
      "justify_items": null,
      "left": null,
      "margin": null,
      "max_height": null,
      "max_width": null,
      "min_height": null,
      "min_width": null,
      "object_fit": null,
      "object_position": null,
      "order": null,
      "overflow": null,
      "overflow_x": null,
      "overflow_y": null,
      "padding": null,
      "right": null,
      "top": null,
      "visibility": null,
      "width": null
     }
    },
    "d765c4d48348446daba7ccaf16f7577f": {
     "model_module": "@jupyter-widgets/base",
     "model_module_version": "1.2.0",
     "model_name": "LayoutModel",
     "state": {
      "_model_module": "@jupyter-widgets/base",
      "_model_module_version": "1.2.0",
      "_model_name": "LayoutModel",
      "_view_count": null,
      "_view_module": "@jupyter-widgets/base",
      "_view_module_version": "1.2.0",
      "_view_name": "LayoutView",
      "align_content": null,
      "align_items": null,
      "align_self": null,
      "border": null,
      "bottom": null,
      "display": null,
      "flex": null,
      "flex_flow": null,
      "grid_area": null,
      "grid_auto_columns": null,
      "grid_auto_flow": null,
      "grid_auto_rows": null,
      "grid_column": null,
      "grid_gap": null,
      "grid_row": null,
      "grid_template_areas": null,
      "grid_template_columns": null,
      "grid_template_rows": null,
      "height": null,
      "justify_content": null,
      "justify_items": null,
      "left": null,
      "margin": null,
      "max_height": null,
      "max_width": null,
      "min_height": null,
      "min_width": null,
      "object_fit": null,
      "object_position": null,
      "order": null,
      "overflow": null,
      "overflow_x": null,
      "overflow_y": null,
      "padding": null,
      "right": null,
      "top": null,
      "visibility": null,
      "width": null
     }
    },
    "d88254108aa844329746b1d5839204c9": {
     "model_module": "@jupyter-widgets/controls",
     "model_module_version": "1.5.0",
     "model_name": "DescriptionStyleModel",
     "state": {
      "_model_module": "@jupyter-widgets/controls",
      "_model_module_version": "1.5.0",
      "_model_name": "DescriptionStyleModel",
      "_view_count": null,
      "_view_module": "@jupyter-widgets/base",
      "_view_module_version": "1.2.0",
      "_view_name": "StyleView",
      "description_width": ""
     }
    },
    "d925454b6c254b97aafe55a370ea3adb": {
     "model_module": "@jupyter-widgets/base",
     "model_module_version": "1.2.0",
     "model_name": "LayoutModel",
     "state": {
      "_model_module": "@jupyter-widgets/base",
      "_model_module_version": "1.2.0",
      "_model_name": "LayoutModel",
      "_view_count": null,
      "_view_module": "@jupyter-widgets/base",
      "_view_module_version": "1.2.0",
      "_view_name": "LayoutView",
      "align_content": null,
      "align_items": null,
      "align_self": null,
      "border": null,
      "bottom": null,
      "display": null,
      "flex": null,
      "flex_flow": null,
      "grid_area": null,
      "grid_auto_columns": null,
      "grid_auto_flow": null,
      "grid_auto_rows": null,
      "grid_column": null,
      "grid_gap": null,
      "grid_row": null,
      "grid_template_areas": null,
      "grid_template_columns": null,
      "grid_template_rows": null,
      "height": null,
      "justify_content": null,
      "justify_items": null,
      "left": null,
      "margin": null,
      "max_height": null,
      "max_width": null,
      "min_height": null,
      "min_width": null,
      "object_fit": null,
      "object_position": null,
      "order": null,
      "overflow": null,
      "overflow_x": null,
      "overflow_y": null,
      "padding": null,
      "right": null,
      "top": null,
      "visibility": null,
      "width": null
     }
    },
    "d9755ba65e144874873e015ed0eee009": {
     "model_module": "@jupyter-widgets/controls",
     "model_module_version": "1.5.0",
     "model_name": "ProgressStyleModel",
     "state": {
      "_model_module": "@jupyter-widgets/controls",
      "_model_module_version": "1.5.0",
      "_model_name": "ProgressStyleModel",
      "_view_count": null,
      "_view_module": "@jupyter-widgets/base",
      "_view_module_version": "1.2.0",
      "_view_name": "StyleView",
      "bar_color": null,
      "description_width": ""
     }
    },
    "d9ba086ee565471ebcbb22abd71dd336": {
     "model_module": "@jupyter-widgets/controls",
     "model_module_version": "1.5.0",
     "model_name": "HTMLModel",
     "state": {
      "_dom_classes": [],
      "_model_module": "@jupyter-widgets/controls",
      "_model_module_version": "1.5.0",
      "_model_name": "HTMLModel",
      "_view_count": null,
      "_view_module": "@jupyter-widgets/controls",
      "_view_module_version": "1.5.0",
      "_view_name": "HTMLView",
      "description": "",
      "description_tooltip": null,
      "layout": "IPY_MODEL_a00981bf17fb4746a46df4e6829f47ca",
      "placeholder": "​",
      "style": "IPY_MODEL_bc7aec873fd94e9a8836e3a656855eb9",
      "value": " 16/16 [10:25&lt;00:00, 36.22s/it]"
     }
    },
    "db64a49c804249b2a8542f5ae4897d3e": {
     "model_module": "@jupyter-widgets/base",
     "model_module_version": "1.2.0",
     "model_name": "LayoutModel",
     "state": {
      "_model_module": "@jupyter-widgets/base",
      "_model_module_version": "1.2.0",
      "_model_name": "LayoutModel",
      "_view_count": null,
      "_view_module": "@jupyter-widgets/base",
      "_view_module_version": "1.2.0",
      "_view_name": "LayoutView",
      "align_content": null,
      "align_items": null,
      "align_self": null,
      "border": null,
      "bottom": null,
      "display": null,
      "flex": null,
      "flex_flow": null,
      "grid_area": null,
      "grid_auto_columns": null,
      "grid_auto_flow": null,
      "grid_auto_rows": null,
      "grid_column": null,
      "grid_gap": null,
      "grid_row": null,
      "grid_template_areas": null,
      "grid_template_columns": null,
      "grid_template_rows": null,
      "height": null,
      "justify_content": null,
      "justify_items": null,
      "left": null,
      "margin": null,
      "max_height": null,
      "max_width": null,
      "min_height": null,
      "min_width": null,
      "object_fit": null,
      "object_position": null,
      "order": null,
      "overflow": null,
      "overflow_x": null,
      "overflow_y": null,
      "padding": null,
      "right": null,
      "top": null,
      "visibility": null,
      "width": null
     }
    },
    "db6b1dc6051642a2bff17d2595f7463a": {
     "model_module": "@jupyter-widgets/controls",
     "model_module_version": "1.5.0",
     "model_name": "ProgressStyleModel",
     "state": {
      "_model_module": "@jupyter-widgets/controls",
      "_model_module_version": "1.5.0",
      "_model_name": "ProgressStyleModel",
      "_view_count": null,
      "_view_module": "@jupyter-widgets/base",
      "_view_module_version": "1.2.0",
      "_view_name": "StyleView",
      "bar_color": null,
      "description_width": ""
     }
    },
    "db89b6e166fb4b73bba5f4a8a5e24f3d": {
     "model_module": "@jupyter-widgets/base",
     "model_module_version": "1.2.0",
     "model_name": "LayoutModel",
     "state": {
      "_model_module": "@jupyter-widgets/base",
      "_model_module_version": "1.2.0",
      "_model_name": "LayoutModel",
      "_view_count": null,
      "_view_module": "@jupyter-widgets/base",
      "_view_module_version": "1.2.0",
      "_view_name": "LayoutView",
      "align_content": null,
      "align_items": null,
      "align_self": null,
      "border": null,
      "bottom": null,
      "display": null,
      "flex": null,
      "flex_flow": null,
      "grid_area": null,
      "grid_auto_columns": null,
      "grid_auto_flow": null,
      "grid_auto_rows": null,
      "grid_column": null,
      "grid_gap": null,
      "grid_row": null,
      "grid_template_areas": null,
      "grid_template_columns": null,
      "grid_template_rows": null,
      "height": null,
      "justify_content": null,
      "justify_items": null,
      "left": null,
      "margin": null,
      "max_height": null,
      "max_width": null,
      "min_height": null,
      "min_width": null,
      "object_fit": null,
      "object_position": null,
      "order": null,
      "overflow": null,
      "overflow_x": null,
      "overflow_y": null,
      "padding": null,
      "right": null,
      "top": null,
      "visibility": null,
      "width": null
     }
    },
    "dc17594fe20c4b1c9a7d82654db95d9b": {
     "model_module": "@jupyter-widgets/base",
     "model_module_version": "1.2.0",
     "model_name": "LayoutModel",
     "state": {
      "_model_module": "@jupyter-widgets/base",
      "_model_module_version": "1.2.0",
      "_model_name": "LayoutModel",
      "_view_count": null,
      "_view_module": "@jupyter-widgets/base",
      "_view_module_version": "1.2.0",
      "_view_name": "LayoutView",
      "align_content": null,
      "align_items": null,
      "align_self": null,
      "border": null,
      "bottom": null,
      "display": null,
      "flex": null,
      "flex_flow": null,
      "grid_area": null,
      "grid_auto_columns": null,
      "grid_auto_flow": null,
      "grid_auto_rows": null,
      "grid_column": null,
      "grid_gap": null,
      "grid_row": null,
      "grid_template_areas": null,
      "grid_template_columns": null,
      "grid_template_rows": null,
      "height": null,
      "justify_content": null,
      "justify_items": null,
      "left": null,
      "margin": null,
      "max_height": null,
      "max_width": null,
      "min_height": null,
      "min_width": null,
      "object_fit": null,
      "object_position": null,
      "order": null,
      "overflow": null,
      "overflow_x": null,
      "overflow_y": null,
      "padding": null,
      "right": null,
      "top": null,
      "visibility": null,
      "width": null
     }
    },
    "dcb9391044834a6f9ab21ffded2fb392": {
     "model_module": "@jupyter-widgets/base",
     "model_module_version": "1.2.0",
     "model_name": "LayoutModel",
     "state": {
      "_model_module": "@jupyter-widgets/base",
      "_model_module_version": "1.2.0",
      "_model_name": "LayoutModel",
      "_view_count": null,
      "_view_module": "@jupyter-widgets/base",
      "_view_module_version": "1.2.0",
      "_view_name": "LayoutView",
      "align_content": null,
      "align_items": null,
      "align_self": null,
      "border": null,
      "bottom": null,
      "display": null,
      "flex": null,
      "flex_flow": null,
      "grid_area": null,
      "grid_auto_columns": null,
      "grid_auto_flow": null,
      "grid_auto_rows": null,
      "grid_column": null,
      "grid_gap": null,
      "grid_row": null,
      "grid_template_areas": null,
      "grid_template_columns": null,
      "grid_template_rows": null,
      "height": null,
      "justify_content": null,
      "justify_items": null,
      "left": null,
      "margin": null,
      "max_height": null,
      "max_width": null,
      "min_height": null,
      "min_width": null,
      "object_fit": null,
      "object_position": null,
      "order": null,
      "overflow": null,
      "overflow_x": null,
      "overflow_y": null,
      "padding": null,
      "right": null,
      "top": null,
      "visibility": null,
      "width": null
     }
    },
    "dfe6fcbc66534dc9a67dc20fb901ef0f": {
     "model_module": "@jupyter-widgets/base",
     "model_module_version": "1.2.0",
     "model_name": "LayoutModel",
     "state": {
      "_model_module": "@jupyter-widgets/base",
      "_model_module_version": "1.2.0",
      "_model_name": "LayoutModel",
      "_view_count": null,
      "_view_module": "@jupyter-widgets/base",
      "_view_module_version": "1.2.0",
      "_view_name": "LayoutView",
      "align_content": null,
      "align_items": null,
      "align_self": null,
      "border": null,
      "bottom": null,
      "display": null,
      "flex": null,
      "flex_flow": null,
      "grid_area": null,
      "grid_auto_columns": null,
      "grid_auto_flow": null,
      "grid_auto_rows": null,
      "grid_column": null,
      "grid_gap": null,
      "grid_row": null,
      "grid_template_areas": null,
      "grid_template_columns": null,
      "grid_template_rows": null,
      "height": null,
      "justify_content": null,
      "justify_items": null,
      "left": null,
      "margin": null,
      "max_height": null,
      "max_width": null,
      "min_height": null,
      "min_width": null,
      "object_fit": null,
      "object_position": null,
      "order": null,
      "overflow": null,
      "overflow_x": null,
      "overflow_y": null,
      "padding": null,
      "right": null,
      "top": null,
      "visibility": null,
      "width": null
     }
    },
    "e0fb36f1dd0d4de29798d8d608e2f0dd": {
     "model_module": "@jupyter-widgets/base",
     "model_module_version": "1.2.0",
     "model_name": "LayoutModel",
     "state": {
      "_model_module": "@jupyter-widgets/base",
      "_model_module_version": "1.2.0",
      "_model_name": "LayoutModel",
      "_view_count": null,
      "_view_module": "@jupyter-widgets/base",
      "_view_module_version": "1.2.0",
      "_view_name": "LayoutView",
      "align_content": null,
      "align_items": null,
      "align_self": null,
      "border": null,
      "bottom": null,
      "display": null,
      "flex": null,
      "flex_flow": null,
      "grid_area": null,
      "grid_auto_columns": null,
      "grid_auto_flow": null,
      "grid_auto_rows": null,
      "grid_column": null,
      "grid_gap": null,
      "grid_row": null,
      "grid_template_areas": null,
      "grid_template_columns": null,
      "grid_template_rows": null,
      "height": null,
      "justify_content": null,
      "justify_items": null,
      "left": null,
      "margin": null,
      "max_height": null,
      "max_width": null,
      "min_height": null,
      "min_width": null,
      "object_fit": null,
      "object_position": null,
      "order": null,
      "overflow": null,
      "overflow_x": null,
      "overflow_y": null,
      "padding": null,
      "right": null,
      "top": null,
      "visibility": null,
      "width": null
     }
    },
    "e1421f1a202b4deca6e5e252c04de08d": {
     "model_module": "@jupyter-widgets/base",
     "model_module_version": "1.2.0",
     "model_name": "LayoutModel",
     "state": {
      "_model_module": "@jupyter-widgets/base",
      "_model_module_version": "1.2.0",
      "_model_name": "LayoutModel",
      "_view_count": null,
      "_view_module": "@jupyter-widgets/base",
      "_view_module_version": "1.2.0",
      "_view_name": "LayoutView",
      "align_content": null,
      "align_items": null,
      "align_self": null,
      "border": null,
      "bottom": null,
      "display": null,
      "flex": null,
      "flex_flow": null,
      "grid_area": null,
      "grid_auto_columns": null,
      "grid_auto_flow": null,
      "grid_auto_rows": null,
      "grid_column": null,
      "grid_gap": null,
      "grid_row": null,
      "grid_template_areas": null,
      "grid_template_columns": null,
      "grid_template_rows": null,
      "height": null,
      "justify_content": null,
      "justify_items": null,
      "left": null,
      "margin": null,
      "max_height": null,
      "max_width": null,
      "min_height": null,
      "min_width": null,
      "object_fit": null,
      "object_position": null,
      "order": null,
      "overflow": null,
      "overflow_x": null,
      "overflow_y": null,
      "padding": null,
      "right": null,
      "top": null,
      "visibility": null,
      "width": null
     }
    },
    "e175e7ed8f7f425cbff6abe873d960a7": {
     "model_module": "@jupyter-widgets/controls",
     "model_module_version": "1.5.0",
     "model_name": "DescriptionStyleModel",
     "state": {
      "_model_module": "@jupyter-widgets/controls",
      "_model_module_version": "1.5.0",
      "_model_name": "DescriptionStyleModel",
      "_view_count": null,
      "_view_module": "@jupyter-widgets/base",
      "_view_module_version": "1.2.0",
      "_view_name": "StyleView",
      "description_width": ""
     }
    },
    "e1b36492218d493cb1715e02101aeb1b": {
     "model_module": "@jupyter-widgets/base",
     "model_module_version": "1.2.0",
     "model_name": "LayoutModel",
     "state": {
      "_model_module": "@jupyter-widgets/base",
      "_model_module_version": "1.2.0",
      "_model_name": "LayoutModel",
      "_view_count": null,
      "_view_module": "@jupyter-widgets/base",
      "_view_module_version": "1.2.0",
      "_view_name": "LayoutView",
      "align_content": null,
      "align_items": null,
      "align_self": null,
      "border": null,
      "bottom": null,
      "display": null,
      "flex": null,
      "flex_flow": null,
      "grid_area": null,
      "grid_auto_columns": null,
      "grid_auto_flow": null,
      "grid_auto_rows": null,
      "grid_column": null,
      "grid_gap": null,
      "grid_row": null,
      "grid_template_areas": null,
      "grid_template_columns": null,
      "grid_template_rows": null,
      "height": null,
      "justify_content": null,
      "justify_items": null,
      "left": null,
      "margin": null,
      "max_height": null,
      "max_width": null,
      "min_height": null,
      "min_width": null,
      "object_fit": null,
      "object_position": null,
      "order": null,
      "overflow": null,
      "overflow_x": null,
      "overflow_y": null,
      "padding": null,
      "right": null,
      "top": null,
      "visibility": null,
      "width": null
     }
    },
    "e1fbf63e3b6447df93d791c98d276d79": {
     "model_module": "@jupyter-widgets/controls",
     "model_module_version": "1.5.0",
     "model_name": "DescriptionStyleModel",
     "state": {
      "_model_module": "@jupyter-widgets/controls",
      "_model_module_version": "1.5.0",
      "_model_name": "DescriptionStyleModel",
      "_view_count": null,
      "_view_module": "@jupyter-widgets/base",
      "_view_module_version": "1.2.0",
      "_view_name": "StyleView",
      "description_width": ""
     }
    },
    "e21824f0841d4aa4921f971a4c4d53c3": {
     "model_module": "@jupyter-widgets/controls",
     "model_module_version": "1.5.0",
     "model_name": "ProgressStyleModel",
     "state": {
      "_model_module": "@jupyter-widgets/controls",
      "_model_module_version": "1.5.0",
      "_model_name": "ProgressStyleModel",
      "_view_count": null,
      "_view_module": "@jupyter-widgets/base",
      "_view_module_version": "1.2.0",
      "_view_name": "StyleView",
      "bar_color": null,
      "description_width": ""
     }
    },
    "e3b0d692c1ec4b65b7cfe8adac92513d": {
     "model_module": "@jupyter-widgets/base",
     "model_module_version": "1.2.0",
     "model_name": "LayoutModel",
     "state": {
      "_model_module": "@jupyter-widgets/base",
      "_model_module_version": "1.2.0",
      "_model_name": "LayoutModel",
      "_view_count": null,
      "_view_module": "@jupyter-widgets/base",
      "_view_module_version": "1.2.0",
      "_view_name": "LayoutView",
      "align_content": null,
      "align_items": null,
      "align_self": null,
      "border": null,
      "bottom": null,
      "display": null,
      "flex": null,
      "flex_flow": null,
      "grid_area": null,
      "grid_auto_columns": null,
      "grid_auto_flow": null,
      "grid_auto_rows": null,
      "grid_column": null,
      "grid_gap": null,
      "grid_row": null,
      "grid_template_areas": null,
      "grid_template_columns": null,
      "grid_template_rows": null,
      "height": null,
      "justify_content": null,
      "justify_items": null,
      "left": null,
      "margin": null,
      "max_height": null,
      "max_width": null,
      "min_height": null,
      "min_width": null,
      "object_fit": null,
      "object_position": null,
      "order": null,
      "overflow": null,
      "overflow_x": null,
      "overflow_y": null,
      "padding": null,
      "right": null,
      "top": null,
      "visibility": null,
      "width": null
     }
    },
    "e3dd41b4326b4b30aeeeb72923ed5c6e": {
     "model_module": "@jupyter-widgets/controls",
     "model_module_version": "1.5.0",
     "model_name": "HBoxModel",
     "state": {
      "_dom_classes": [],
      "_model_module": "@jupyter-widgets/controls",
      "_model_module_version": "1.5.0",
      "_model_name": "HBoxModel",
      "_view_count": null,
      "_view_module": "@jupyter-widgets/controls",
      "_view_module_version": "1.5.0",
      "_view_name": "HBoxView",
      "box_style": "",
      "children": [
       "IPY_MODEL_998057730cdd424099471c8418e4bf25",
       "IPY_MODEL_903c96b71a594846aff5dda5332772cc",
       "IPY_MODEL_24c01fadf894477f83c1fd2016af44cd"
      ],
      "layout": "IPY_MODEL_5fa7a6d3f76942cea3217709e1f3077d"
     }
    },
    "e3e2dc07f34f4717919a16dde466cf06": {
     "model_module": "@jupyter-widgets/base",
     "model_module_version": "1.2.0",
     "model_name": "LayoutModel",
     "state": {
      "_model_module": "@jupyter-widgets/base",
      "_model_module_version": "1.2.0",
      "_model_name": "LayoutModel",
      "_view_count": null,
      "_view_module": "@jupyter-widgets/base",
      "_view_module_version": "1.2.0",
      "_view_name": "LayoutView",
      "align_content": null,
      "align_items": null,
      "align_self": null,
      "border": null,
      "bottom": null,
      "display": null,
      "flex": null,
      "flex_flow": null,
      "grid_area": null,
      "grid_auto_columns": null,
      "grid_auto_flow": null,
      "grid_auto_rows": null,
      "grid_column": null,
      "grid_gap": null,
      "grid_row": null,
      "grid_template_areas": null,
      "grid_template_columns": null,
      "grid_template_rows": null,
      "height": null,
      "justify_content": null,
      "justify_items": null,
      "left": null,
      "margin": null,
      "max_height": null,
      "max_width": null,
      "min_height": null,
      "min_width": null,
      "object_fit": null,
      "object_position": null,
      "order": null,
      "overflow": null,
      "overflow_x": null,
      "overflow_y": null,
      "padding": null,
      "right": null,
      "top": null,
      "visibility": null,
      "width": null
     }
    },
    "e40accbfcde345a9ad81970ed7944089": {
     "model_module": "@jupyter-widgets/base",
     "model_module_version": "1.2.0",
     "model_name": "LayoutModel",
     "state": {
      "_model_module": "@jupyter-widgets/base",
      "_model_module_version": "1.2.0",
      "_model_name": "LayoutModel",
      "_view_count": null,
      "_view_module": "@jupyter-widgets/base",
      "_view_module_version": "1.2.0",
      "_view_name": "LayoutView",
      "align_content": null,
      "align_items": null,
      "align_self": null,
      "border": null,
      "bottom": null,
      "display": null,
      "flex": null,
      "flex_flow": null,
      "grid_area": null,
      "grid_auto_columns": null,
      "grid_auto_flow": null,
      "grid_auto_rows": null,
      "grid_column": null,
      "grid_gap": null,
      "grid_row": null,
      "grid_template_areas": null,
      "grid_template_columns": null,
      "grid_template_rows": null,
      "height": null,
      "justify_content": null,
      "justify_items": null,
      "left": null,
      "margin": null,
      "max_height": null,
      "max_width": null,
      "min_height": null,
      "min_width": null,
      "object_fit": null,
      "object_position": null,
      "order": null,
      "overflow": null,
      "overflow_x": null,
      "overflow_y": null,
      "padding": null,
      "right": null,
      "top": null,
      "visibility": null,
      "width": null
     }
    },
    "e47efcbaa66342d7bb06c620b7a14be1": {
     "model_module": "@jupyter-widgets/controls",
     "model_module_version": "1.5.0",
     "model_name": "DescriptionStyleModel",
     "state": {
      "_model_module": "@jupyter-widgets/controls",
      "_model_module_version": "1.5.0",
      "_model_name": "DescriptionStyleModel",
      "_view_count": null,
      "_view_module": "@jupyter-widgets/base",
      "_view_module_version": "1.2.0",
      "_view_name": "StyleView",
      "description_width": ""
     }
    },
    "e49ae24966074885adf7207772149d67": {
     "model_module": "@jupyter-widgets/controls",
     "model_module_version": "1.5.0",
     "model_name": "HTMLModel",
     "state": {
      "_dom_classes": [],
      "_model_module": "@jupyter-widgets/controls",
      "_model_module_version": "1.5.0",
      "_model_name": "HTMLModel",
      "_view_count": null,
      "_view_module": "@jupyter-widgets/controls",
      "_view_module_version": "1.5.0",
      "_view_name": "HTMLView",
      "description": "",
      "description_tooltip": null,
      "layout": "IPY_MODEL_e3e2dc07f34f4717919a16dde466cf06",
      "placeholder": "​",
      "style": "IPY_MODEL_2d7a57139dea43f7a42c0134bd753dce",
      "value": " 16/16 [11:43&lt;00:00, 40.74s/it]"
     }
    },
    "e5ad5a97ca564fda9aa974243bd90d8d": {
     "model_module": "@jupyter-widgets/controls",
     "model_module_version": "1.5.0",
     "model_name": "DescriptionStyleModel",
     "state": {
      "_model_module": "@jupyter-widgets/controls",
      "_model_module_version": "1.5.0",
      "_model_name": "DescriptionStyleModel",
      "_view_count": null,
      "_view_module": "@jupyter-widgets/base",
      "_view_module_version": "1.2.0",
      "_view_name": "StyleView",
      "description_width": ""
     }
    },
    "e67bfc313ecc4c5c8500384d77be12c3": {
     "model_module": "@jupyter-widgets/controls",
     "model_module_version": "1.5.0",
     "model_name": "FloatProgressModel",
     "state": {
      "_dom_classes": [],
      "_model_module": "@jupyter-widgets/controls",
      "_model_module_version": "1.5.0",
      "_model_name": "FloatProgressModel",
      "_view_count": null,
      "_view_module": "@jupyter-widgets/controls",
      "_view_module_version": "1.5.0",
      "_view_name": "ProgressView",
      "bar_style": "success",
      "description": "",
      "description_tooltip": null,
      "layout": "IPY_MODEL_8fa47bce937742ef85cdca5151722686",
      "max": 7,
      "min": 0,
      "orientation": "horizontal",
      "style": "IPY_MODEL_892ac1ef1e6c413cafb9c0d954bdee29",
      "value": 7
     }
    },
    "e7d0b4cbabbd4d81993acc855ecac51a": {
     "model_module": "@jupyter-widgets/controls",
     "model_module_version": "1.5.0",
     "model_name": "DescriptionStyleModel",
     "state": {
      "_model_module": "@jupyter-widgets/controls",
      "_model_module_version": "1.5.0",
      "_model_name": "DescriptionStyleModel",
      "_view_count": null,
      "_view_module": "@jupyter-widgets/base",
      "_view_module_version": "1.2.0",
      "_view_name": "StyleView",
      "description_width": ""
     }
    },
    "e8ac262c049849cc8e674436de4bfa3e": {
     "model_module": "@jupyter-widgets/controls",
     "model_module_version": "1.5.0",
     "model_name": "FloatProgressModel",
     "state": {
      "_dom_classes": [],
      "_model_module": "@jupyter-widgets/controls",
      "_model_module_version": "1.5.0",
      "_model_name": "FloatProgressModel",
      "_view_count": null,
      "_view_module": "@jupyter-widgets/controls",
      "_view_module_version": "1.5.0",
      "_view_name": "ProgressView",
      "bar_style": "success",
      "description": "",
      "description_tooltip": null,
      "layout": "IPY_MODEL_d57b54183ff9446a8cdb7672d621697e",
      "max": 16,
      "min": 0,
      "orientation": "horizontal",
      "style": "IPY_MODEL_a17833b3396f494cb4ad8d259e13c77d",
      "value": 16
     }
    },
    "e8ca5818492a48d6b5aae7110d75005b": {
     "model_module": "@jupyter-widgets/controls",
     "model_module_version": "1.5.0",
     "model_name": "HBoxModel",
     "state": {
      "_dom_classes": [],
      "_model_module": "@jupyter-widgets/controls",
      "_model_module_version": "1.5.0",
      "_model_name": "HBoxModel",
      "_view_count": null,
      "_view_module": "@jupyter-widgets/controls",
      "_view_module_version": "1.5.0",
      "_view_name": "HBoxView",
      "box_style": "",
      "children": [
       "IPY_MODEL_030e77e058ef4877a4a829d52b8f22d6",
       "IPY_MODEL_5e596851974549a5bf347d2bf49fcfa3",
       "IPY_MODEL_91480c4b5a1c41c5b4216c75c9be072e"
      ],
      "layout": "IPY_MODEL_e3b0d692c1ec4b65b7cfe8adac92513d"
     }
    },
    "e99813134c5240f8becdd8dccc7e5ab1": {
     "model_module": "@jupyter-widgets/base",
     "model_module_version": "1.2.0",
     "model_name": "LayoutModel",
     "state": {
      "_model_module": "@jupyter-widgets/base",
      "_model_module_version": "1.2.0",
      "_model_name": "LayoutModel",
      "_view_count": null,
      "_view_module": "@jupyter-widgets/base",
      "_view_module_version": "1.2.0",
      "_view_name": "LayoutView",
      "align_content": null,
      "align_items": null,
      "align_self": null,
      "border": null,
      "bottom": null,
      "display": null,
      "flex": null,
      "flex_flow": null,
      "grid_area": null,
      "grid_auto_columns": null,
      "grid_auto_flow": null,
      "grid_auto_rows": null,
      "grid_column": null,
      "grid_gap": null,
      "grid_row": null,
      "grid_template_areas": null,
      "grid_template_columns": null,
      "grid_template_rows": null,
      "height": null,
      "justify_content": null,
      "justify_items": null,
      "left": null,
      "margin": null,
      "max_height": null,
      "max_width": null,
      "min_height": null,
      "min_width": null,
      "object_fit": null,
      "object_position": null,
      "order": null,
      "overflow": null,
      "overflow_x": null,
      "overflow_y": null,
      "padding": null,
      "right": null,
      "top": null,
      "visibility": null,
      "width": null
     }
    },
    "ebedea24be36411b9cc6715d543dc875": {
     "model_module": "@jupyter-widgets/controls",
     "model_module_version": "1.5.0",
     "model_name": "HTMLModel",
     "state": {
      "_dom_classes": [],
      "_model_module": "@jupyter-widgets/controls",
      "_model_module_version": "1.5.0",
      "_model_name": "HTMLModel",
      "_view_count": null,
      "_view_module": "@jupyter-widgets/controls",
      "_view_module_version": "1.5.0",
      "_view_name": "HTMLView",
      "description": "",
      "description_tooltip": null,
      "layout": "IPY_MODEL_44b77e7cb8cd4cc1aca2641192ac12bb",
      "placeholder": "​",
      "style": "IPY_MODEL_0f9ebb55dc624b0492f2e92452e37b09",
      "value": " 7/7 [00:00&lt;00:00,  8.02it/s]"
     }
    },
    "ebf8b1f16d484673a20c9dd3c1d04f4f": {
     "model_module": "@jupyter-widgets/controls",
     "model_module_version": "1.5.0",
     "model_name": "HTMLModel",
     "state": {
      "_dom_classes": [],
      "_model_module": "@jupyter-widgets/controls",
      "_model_module_version": "1.5.0",
      "_model_name": "HTMLModel",
      "_view_count": null,
      "_view_module": "@jupyter-widgets/controls",
      "_view_module_version": "1.5.0",
      "_view_name": "HTMLView",
      "description": "",
      "description_tooltip": null,
      "layout": "IPY_MODEL_3a1f7d6b8e1c45d7b3c0760b0b49ed4e",
      "placeholder": "​",
      "style": "IPY_MODEL_12d0d770842745bba28ff0bde07c0601",
      "value": " 16/16 [10:31&lt;00:00, 36.61s/it]"
     }
    },
    "ed317e60ba0f4c95b7188db64deb6183": {
     "model_module": "@jupyter-widgets/controls",
     "model_module_version": "1.5.0",
     "model_name": "HTMLModel",
     "state": {
      "_dom_classes": [],
      "_model_module": "@jupyter-widgets/controls",
      "_model_module_version": "1.5.0",
      "_model_name": "HTMLModel",
      "_view_count": null,
      "_view_module": "@jupyter-widgets/controls",
      "_view_module_version": "1.5.0",
      "_view_name": "HTMLView",
      "description": "",
      "description_tooltip": null,
      "layout": "IPY_MODEL_9765682df8e545108452acfa76221654",
      "placeholder": "​",
      "style": "IPY_MODEL_b3c6081214dc4cf68dcf2fc669e01185",
      "value": " 16/16 [05:25&lt;00:00, 18.38s/it]"
     }
    },
    "ed68637b48bc4c33a1e22e5571b1b67b": {
     "model_module": "@jupyter-widgets/controls",
     "model_module_version": "1.5.0",
     "model_name": "DescriptionStyleModel",
     "state": {
      "_model_module": "@jupyter-widgets/controls",
      "_model_module_version": "1.5.0",
      "_model_name": "DescriptionStyleModel",
      "_view_count": null,
      "_view_module": "@jupyter-widgets/base",
      "_view_module_version": "1.2.0",
      "_view_name": "StyleView",
      "description_width": ""
     }
    },
    "ed741d909c6b4707a68a5c72597320c3": {
     "model_module": "@jupyter-widgets/controls",
     "model_module_version": "1.5.0",
     "model_name": "HTMLModel",
     "state": {
      "_dom_classes": [],
      "_model_module": "@jupyter-widgets/controls",
      "_model_module_version": "1.5.0",
      "_model_name": "HTMLModel",
      "_view_count": null,
      "_view_module": "@jupyter-widgets/controls",
      "_view_module_version": "1.5.0",
      "_view_name": "HTMLView",
      "description": "",
      "description_tooltip": null,
      "layout": "IPY_MODEL_7f62b40dc0814c659511fd67f5aac34a",
      "placeholder": "​",
      "style": "IPY_MODEL_a9b323f86d5c4076b8f4223f41995e21",
      "value": "Getting Inception Predictions: 100%"
     }
    },
    "eda54694d94046949deab09944aba9e3": {
     "model_module": "@jupyter-widgets/controls",
     "model_module_version": "1.5.0",
     "model_name": "FloatProgressModel",
     "state": {
      "_dom_classes": [],
      "_model_module": "@jupyter-widgets/controls",
      "_model_module_version": "1.5.0",
      "_model_name": "FloatProgressModel",
      "_view_count": null,
      "_view_module": "@jupyter-widgets/controls",
      "_view_module_version": "1.5.0",
      "_view_name": "ProgressView",
      "bar_style": "success",
      "description": "",
      "description_tooltip": null,
      "layout": "IPY_MODEL_a16423a05c494b2ea54874bcab95dad5",
      "max": 16,
      "min": 0,
      "orientation": "horizontal",
      "style": "IPY_MODEL_782ad994f1b142be83b47cfdb842c13f",
      "value": 16
     }
    },
    "ee7eaed28c1f4dd1a91f42b9defe9155": {
     "model_module": "@jupyter-widgets/controls",
     "model_module_version": "1.5.0",
     "model_name": "DescriptionStyleModel",
     "state": {
      "_model_module": "@jupyter-widgets/controls",
      "_model_module_version": "1.5.0",
      "_model_name": "DescriptionStyleModel",
      "_view_count": null,
      "_view_module": "@jupyter-widgets/base",
      "_view_module_version": "1.2.0",
      "_view_name": "StyleView",
      "description_width": ""
     }
    },
    "eea05f16b055426bb2634e599c015cb3": {
     "model_module": "@jupyter-widgets/controls",
     "model_module_version": "1.5.0",
     "model_name": "HBoxModel",
     "state": {
      "_dom_classes": [],
      "_model_module": "@jupyter-widgets/controls",
      "_model_module_version": "1.5.0",
      "_model_name": "HBoxModel",
      "_view_count": null,
      "_view_module": "@jupyter-widgets/controls",
      "_view_module_version": "1.5.0",
      "_view_name": "HBoxView",
      "box_style": "",
      "children": [
       "IPY_MODEL_321abd4a295044bdb83ce9695d9d8e23",
       "IPY_MODEL_23f0d2fa00d24b5095ee2a0747c87995",
       "IPY_MODEL_32fc1896f1df4fd792370a903b6f1e4c"
      ],
      "layout": "IPY_MODEL_6e2bc1b31a8642f192c3b0d97d154afb"
     }
    },
    "ef06053baafc43a892bb9ff9b674d355": {
     "model_module": "@jupyter-widgets/controls",
     "model_module_version": "1.5.0",
     "model_name": "HTMLModel",
     "state": {
      "_dom_classes": [],
      "_model_module": "@jupyter-widgets/controls",
      "_model_module_version": "1.5.0",
      "_model_name": "HTMLModel",
      "_view_count": null,
      "_view_module": "@jupyter-widgets/controls",
      "_view_module_version": "1.5.0",
      "_view_name": "HTMLView",
      "description": "",
      "description_tooltip": null,
      "layout": "IPY_MODEL_5ef13dde79504987a53ac4332cfbbd92",
      "placeholder": "​",
      "style": "IPY_MODEL_4c8c143bcc4945afbf69099a8660a202",
      "value": "Calculating NLL: 100%"
     }
    },
    "ef442ca3239a480bbc456911b80685bf": {
     "model_module": "@jupyter-widgets/controls",
     "model_module_version": "1.5.0",
     "model_name": "DescriptionStyleModel",
     "state": {
      "_model_module": "@jupyter-widgets/controls",
      "_model_module_version": "1.5.0",
      "_model_name": "DescriptionStyleModel",
      "_view_count": null,
      "_view_module": "@jupyter-widgets/base",
      "_view_module_version": "1.2.0",
      "_view_name": "StyleView",
      "description_width": ""
     }
    },
    "f21d024bf3834da1a897f1d8690f7beb": {
     "model_module": "@jupyter-widgets/controls",
     "model_module_version": "1.5.0",
     "model_name": "FloatProgressModel",
     "state": {
      "_dom_classes": [],
      "_model_module": "@jupyter-widgets/controls",
      "_model_module_version": "1.5.0",
      "_model_name": "FloatProgressModel",
      "_view_count": null,
      "_view_module": "@jupyter-widgets/controls",
      "_view_module_version": "1.5.0",
      "_view_name": "ProgressView",
      "bar_style": "success",
      "description": "",
      "description_tooltip": null,
      "layout": "IPY_MODEL_384b9f18a5ce4255aff3f7ed05fc3606",
      "max": 16,
      "min": 0,
      "orientation": "horizontal",
      "style": "IPY_MODEL_752a832a1e014c119e7a83b6b6d1989c",
      "value": 16
     }
    },
    "f2f47e7ab9bd4c948b53bf5507f73d3d": {
     "model_module": "@jupyter-widgets/base",
     "model_module_version": "1.2.0",
     "model_name": "LayoutModel",
     "state": {
      "_model_module": "@jupyter-widgets/base",
      "_model_module_version": "1.2.0",
      "_model_name": "LayoutModel",
      "_view_count": null,
      "_view_module": "@jupyter-widgets/base",
      "_view_module_version": "1.2.0",
      "_view_name": "LayoutView",
      "align_content": null,
      "align_items": null,
      "align_self": null,
      "border": null,
      "bottom": null,
      "display": null,
      "flex": null,
      "flex_flow": null,
      "grid_area": null,
      "grid_auto_columns": null,
      "grid_auto_flow": null,
      "grid_auto_rows": null,
      "grid_column": null,
      "grid_gap": null,
      "grid_row": null,
      "grid_template_areas": null,
      "grid_template_columns": null,
      "grid_template_rows": null,
      "height": null,
      "justify_content": null,
      "justify_items": null,
      "left": null,
      "margin": null,
      "max_height": null,
      "max_width": null,
      "min_height": null,
      "min_width": null,
      "object_fit": null,
      "object_position": null,
      "order": null,
      "overflow": null,
      "overflow_x": null,
      "overflow_y": null,
      "padding": null,
      "right": null,
      "top": null,
      "visibility": null,
      "width": null
     }
    },
    "f368a356495f4e6aaa21a54c26146503": {
     "model_module": "@jupyter-widgets/controls",
     "model_module_version": "1.5.0",
     "model_name": "HTMLModel",
     "state": {
      "_dom_classes": [],
      "_model_module": "@jupyter-widgets/controls",
      "_model_module_version": "1.5.0",
      "_model_name": "HTMLModel",
      "_view_count": null,
      "_view_module": "@jupyter-widgets/controls",
      "_view_module_version": "1.5.0",
      "_view_name": "HTMLView",
      "description": "",
      "description_tooltip": null,
      "layout": "IPY_MODEL_b0e4d7c559734090a95fc2b61797a368",
      "placeholder": "​",
      "style": "IPY_MODEL_2bf3945f3a994184935437cf359a1a82",
      "value": " 7/7 [00:00&lt;00:00,  7.75it/s]"
     }
    },
    "f50a80ce967444f8b45ca17eec024b2f": {
     "model_module": "@jupyter-widgets/controls",
     "model_module_version": "1.5.0",
     "model_name": "ProgressStyleModel",
     "state": {
      "_model_module": "@jupyter-widgets/controls",
      "_model_module_version": "1.5.0",
      "_model_name": "ProgressStyleModel",
      "_view_count": null,
      "_view_module": "@jupyter-widgets/base",
      "_view_module_version": "1.2.0",
      "_view_name": "StyleView",
      "bar_color": null,
      "description_width": ""
     }
    },
    "f5156eaf595149418985b38536de2d84": {
     "model_module": "@jupyter-widgets/controls",
     "model_module_version": "1.5.0",
     "model_name": "ProgressStyleModel",
     "state": {
      "_model_module": "@jupyter-widgets/controls",
      "_model_module_version": "1.5.0",
      "_model_name": "ProgressStyleModel",
      "_view_count": null,
      "_view_module": "@jupyter-widgets/base",
      "_view_module_version": "1.2.0",
      "_view_name": "StyleView",
      "bar_color": null,
      "description_width": ""
     }
    },
    "f56bb3bdec4c4641ae3676ff837d4389": {
     "model_module": "@jupyter-widgets/controls",
     "model_module_version": "1.5.0",
     "model_name": "ProgressStyleModel",
     "state": {
      "_model_module": "@jupyter-widgets/controls",
      "_model_module_version": "1.5.0",
      "_model_name": "ProgressStyleModel",
      "_view_count": null,
      "_view_module": "@jupyter-widgets/base",
      "_view_module_version": "1.2.0",
      "_view_name": "StyleView",
      "bar_color": null,
      "description_width": ""
     }
    },
    "f6a3b8a1ac57422d9348af7e85e53469": {
     "model_module": "@jupyter-widgets/controls",
     "model_module_version": "1.5.0",
     "model_name": "DescriptionStyleModel",
     "state": {
      "_model_module": "@jupyter-widgets/controls",
      "_model_module_version": "1.5.0",
      "_model_name": "DescriptionStyleModel",
      "_view_count": null,
      "_view_module": "@jupyter-widgets/base",
      "_view_module_version": "1.2.0",
      "_view_name": "StyleView",
      "description_width": ""
     }
    },
    "f7d24d90f1fe4e7a87a8792228f309ab": {
     "model_module": "@jupyter-widgets/controls",
     "model_module_version": "1.5.0",
     "model_name": "DescriptionStyleModel",
     "state": {
      "_model_module": "@jupyter-widgets/controls",
      "_model_module_version": "1.5.0",
      "_model_name": "DescriptionStyleModel",
      "_view_count": null,
      "_view_module": "@jupyter-widgets/base",
      "_view_module_version": "1.2.0",
      "_view_name": "StyleView",
      "description_width": ""
     }
    },
    "f8eb88c1b6b24eda8489fe10bb433dbc": {
     "model_module": "@jupyter-widgets/controls",
     "model_module_version": "1.5.0",
     "model_name": "ProgressStyleModel",
     "state": {
      "_model_module": "@jupyter-widgets/controls",
      "_model_module_version": "1.5.0",
      "_model_name": "ProgressStyleModel",
      "_view_count": null,
      "_view_module": "@jupyter-widgets/base",
      "_view_module_version": "1.2.0",
      "_view_name": "StyleView",
      "bar_color": null,
      "description_width": ""
     }
    },
    "fa76c675019c475a94366e8b838c885b": {
     "model_module": "@jupyter-widgets/controls",
     "model_module_version": "1.5.0",
     "model_name": "HTMLModel",
     "state": {
      "_dom_classes": [],
      "_model_module": "@jupyter-widgets/controls",
      "_model_module_version": "1.5.0",
      "_model_name": "HTMLModel",
      "_view_count": null,
      "_view_module": "@jupyter-widgets/controls",
      "_view_module_version": "1.5.0",
      "_view_name": "HTMLView",
      "description": "",
      "description_tooltip": null,
      "layout": "IPY_MODEL_a7105aafac8d4e95a8e42a07e230e610",
      "placeholder": "​",
      "style": "IPY_MODEL_008e3c56e47c4cc88b9c61d1f0a4fb41",
      "value": " 7/7 [00:00&lt;00:00,  7.80it/s]"
     }
    },
    "fb239e2126594d8f934d606eeda7d05b": {
     "model_module": "@jupyter-widgets/controls",
     "model_module_version": "1.5.0",
     "model_name": "FloatProgressModel",
     "state": {
      "_dom_classes": [],
      "_model_module": "@jupyter-widgets/controls",
      "_model_module_version": "1.5.0",
      "_model_name": "FloatProgressModel",
      "_view_count": null,
      "_view_module": "@jupyter-widgets/controls",
      "_view_module_version": "1.5.0",
      "_view_name": "ProgressView",
      "bar_style": "success",
      "description": "",
      "description_tooltip": null,
      "layout": "IPY_MODEL_2e834b71a03f42d7ae1470062266a6b1",
      "max": 7,
      "min": 0,
      "orientation": "horizontal",
      "style": "IPY_MODEL_5593a1b443fe434490ce20be5cf7fc90",
      "value": 7
     }
    },
    "fb40594fdbd347ca82e8055f3b4170b9": {
     "model_module": "@jupyter-widgets/controls",
     "model_module_version": "1.5.0",
     "model_name": "HBoxModel",
     "state": {
      "_dom_classes": [],
      "_model_module": "@jupyter-widgets/controls",
      "_model_module_version": "1.5.0",
      "_model_name": "HBoxModel",
      "_view_count": null,
      "_view_module": "@jupyter-widgets/controls",
      "_view_module_version": "1.5.0",
      "_view_name": "HBoxView",
      "box_style": "",
      "children": [
       "IPY_MODEL_6927bcd683744c72969bafcb13f4d246",
       "IPY_MODEL_5f3ba310e1a544acb777a26c17ae5e3f",
       "IPY_MODEL_114cdf9821ab42b3bded1c145e327ff5"
      ],
      "layout": "IPY_MODEL_62ef11a4f6384d0cb5114dfcb44881c9"
     }
    },
    "fb83a35591284fefa27434d9f35495a5": {
     "model_module": "@jupyter-widgets/base",
     "model_module_version": "1.2.0",
     "model_name": "LayoutModel",
     "state": {
      "_model_module": "@jupyter-widgets/base",
      "_model_module_version": "1.2.0",
      "_model_name": "LayoutModel",
      "_view_count": null,
      "_view_module": "@jupyter-widgets/base",
      "_view_module_version": "1.2.0",
      "_view_name": "LayoutView",
      "align_content": null,
      "align_items": null,
      "align_self": null,
      "border": null,
      "bottom": null,
      "display": null,
      "flex": null,
      "flex_flow": null,
      "grid_area": null,
      "grid_auto_columns": null,
      "grid_auto_flow": null,
      "grid_auto_rows": null,
      "grid_column": null,
      "grid_gap": null,
      "grid_row": null,
      "grid_template_areas": null,
      "grid_template_columns": null,
      "grid_template_rows": null,
      "height": null,
      "justify_content": null,
      "justify_items": null,
      "left": null,
      "margin": null,
      "max_height": null,
      "max_width": null,
      "min_height": null,
      "min_width": null,
      "object_fit": null,
      "object_position": null,
      "order": null,
      "overflow": null,
      "overflow_x": null,
      "overflow_y": null,
      "padding": null,
      "right": null,
      "top": null,
      "visibility": null,
      "width": null
     }
    },
    "fbf765dbf1164c1a91c6033afc3a2059": {
     "model_module": "@jupyter-widgets/base",
     "model_module_version": "1.2.0",
     "model_name": "LayoutModel",
     "state": {
      "_model_module": "@jupyter-widgets/base",
      "_model_module_version": "1.2.0",
      "_model_name": "LayoutModel",
      "_view_count": null,
      "_view_module": "@jupyter-widgets/base",
      "_view_module_version": "1.2.0",
      "_view_name": "LayoutView",
      "align_content": null,
      "align_items": null,
      "align_self": null,
      "border": null,
      "bottom": null,
      "display": null,
      "flex": null,
      "flex_flow": null,
      "grid_area": null,
      "grid_auto_columns": null,
      "grid_auto_flow": null,
      "grid_auto_rows": null,
      "grid_column": null,
      "grid_gap": null,
      "grid_row": null,
      "grid_template_areas": null,
      "grid_template_columns": null,
      "grid_template_rows": null,
      "height": null,
      "justify_content": null,
      "justify_items": null,
      "left": null,
      "margin": null,
      "max_height": null,
      "max_width": null,
      "min_height": null,
      "min_width": null,
      "object_fit": null,
      "object_position": null,
      "order": null,
      "overflow": null,
      "overflow_x": null,
      "overflow_y": null,
      "padding": null,
      "right": null,
      "top": null,
      "visibility": null,
      "width": null
     }
    },
    "fd77f4c314c943139bea92f1d744b506": {
     "model_module": "@jupyter-widgets/controls",
     "model_module_version": "1.5.0",
     "model_name": "HBoxModel",
     "state": {
      "_dom_classes": [],
      "_model_module": "@jupyter-widgets/controls",
      "_model_module_version": "1.5.0",
      "_model_name": "HBoxModel",
      "_view_count": null,
      "_view_module": "@jupyter-widgets/controls",
      "_view_module_version": "1.5.0",
      "_view_name": "HBoxView",
      "box_style": "",
      "children": [
       "IPY_MODEL_026f2fb6fb484149b35071ddb8d79d44",
       "IPY_MODEL_446c57f63fd141e6b44511b3c0388fea",
       "IPY_MODEL_e49ae24966074885adf7207772149d67"
      ],
      "layout": "IPY_MODEL_93af454d5ec84d4c8deb799e7aecd241"
     }
    },
    "fe1c9481ccfa47a3898b2a48563a9fc9": {
     "model_module": "@jupyter-widgets/base",
     "model_module_version": "1.2.0",
     "model_name": "LayoutModel",
     "state": {
      "_model_module": "@jupyter-widgets/base",
      "_model_module_version": "1.2.0",
      "_model_name": "LayoutModel",
      "_view_count": null,
      "_view_module": "@jupyter-widgets/base",
      "_view_module_version": "1.2.0",
      "_view_name": "LayoutView",
      "align_content": null,
      "align_items": null,
      "align_self": null,
      "border": null,
      "bottom": null,
      "display": null,
      "flex": null,
      "flex_flow": null,
      "grid_area": null,
      "grid_auto_columns": null,
      "grid_auto_flow": null,
      "grid_auto_rows": null,
      "grid_column": null,
      "grid_gap": null,
      "grid_row": null,
      "grid_template_areas": null,
      "grid_template_columns": null,
      "grid_template_rows": null,
      "height": null,
      "justify_content": null,
      "justify_items": null,
      "left": null,
      "margin": null,
      "max_height": null,
      "max_width": null,
      "min_height": null,
      "min_width": null,
      "object_fit": null,
      "object_position": null,
      "order": null,
      "overflow": null,
      "overflow_x": null,
      "overflow_y": null,
      "padding": null,
      "right": null,
      "top": null,
      "visibility": null,
      "width": null
     }
    },
    "fe6f174c59574384b10abb8a6bf694b7": {
     "model_module": "@jupyter-widgets/controls",
     "model_module_version": "1.5.0",
     "model_name": "DescriptionStyleModel",
     "state": {
      "_model_module": "@jupyter-widgets/controls",
      "_model_module_version": "1.5.0",
      "_model_name": "DescriptionStyleModel",
      "_view_count": null,
      "_view_module": "@jupyter-widgets/base",
      "_view_module_version": "1.2.0",
      "_view_name": "StyleView",
      "description_width": ""
     }
    },
    "fe889ece4afc4d8492472f59e51adb6f": {
     "model_module": "@jupyter-widgets/base",
     "model_module_version": "1.2.0",
     "model_name": "LayoutModel",
     "state": {
      "_model_module": "@jupyter-widgets/base",
      "_model_module_version": "1.2.0",
      "_model_name": "LayoutModel",
      "_view_count": null,
      "_view_module": "@jupyter-widgets/base",
      "_view_module_version": "1.2.0",
      "_view_name": "LayoutView",
      "align_content": null,
      "align_items": null,
      "align_self": null,
      "border": null,
      "bottom": null,
      "display": null,
      "flex": null,
      "flex_flow": null,
      "grid_area": null,
      "grid_auto_columns": null,
      "grid_auto_flow": null,
      "grid_auto_rows": null,
      "grid_column": null,
      "grid_gap": null,
      "grid_row": null,
      "grid_template_areas": null,
      "grid_template_columns": null,
      "grid_template_rows": null,
      "height": null,
      "justify_content": null,
      "justify_items": null,
      "left": null,
      "margin": null,
      "max_height": null,
      "max_width": null,
      "min_height": null,
      "min_width": null,
      "object_fit": null,
      "object_position": null,
      "order": null,
      "overflow": null,
      "overflow_x": null,
      "overflow_y": null,
      "padding": null,
      "right": null,
      "top": null,
      "visibility": null,
      "width": null
     }
    },
    "fecd3682af3a4494b15fca069b524269": {
     "model_module": "@jupyter-widgets/controls",
     "model_module_version": "1.5.0",
     "model_name": "HTMLModel",
     "state": {
      "_dom_classes": [],
      "_model_module": "@jupyter-widgets/controls",
      "_model_module_version": "1.5.0",
      "_model_name": "HTMLModel",
      "_view_count": null,
      "_view_module": "@jupyter-widgets/controls",
      "_view_module_version": "1.5.0",
      "_view_name": "HTMLView",
      "description": "",
      "description_tooltip": null,
      "layout": "IPY_MODEL_58892b83ab014563bd434fd301440a0e",
      "placeholder": "​",
      "style": "IPY_MODEL_3922a4f2d0c84ccabb7745cdc73d0d97",
      "value": "Calculating NLL:  62%"
     }
    },
    "ff4220737cf64959843edaaa577a0b85": {
     "model_module": "@jupyter-widgets/controls",
     "model_module_version": "1.5.0",
     "model_name": "DescriptionStyleModel",
     "state": {
      "_model_module": "@jupyter-widgets/controls",
      "_model_module_version": "1.5.0",
      "_model_name": "DescriptionStyleModel",
      "_view_count": null,
      "_view_module": "@jupyter-widgets/base",
      "_view_module_version": "1.2.0",
      "_view_name": "StyleView",
      "description_width": ""
     }
    },
    "ff90ed58391543be8398f2895bf03a43": {
     "model_module": "@jupyter-widgets/controls",
     "model_module_version": "1.5.0",
     "model_name": "DescriptionStyleModel",
     "state": {
      "_model_module": "@jupyter-widgets/controls",
      "_model_module_version": "1.5.0",
      "_model_name": "DescriptionStyleModel",
      "_view_count": null,
      "_view_module": "@jupyter-widgets/base",
      "_view_module_version": "1.2.0",
      "_view_name": "StyleView",
      "description_width": ""
     }
    }
   }
  }
 },
 "nbformat": 4,
 "nbformat_minor": 0
}
