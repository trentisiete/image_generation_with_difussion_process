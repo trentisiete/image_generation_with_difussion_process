{
 "cells": [
  {
   "cell_type": "markdown",
   "id": "163ed365",
   "metadata": {
    "id": "163ed365"
   },
   "source": [
    "# Entrenamiento de Score Net para VE"
   ]
  },
  {
   "cell_type": "code",
   "execution_count": null,
   "id": "66dd3f0d",
   "metadata": {
    "colab": {
     "base_uri": "https://localhost:8080/"
    },
    "executionInfo": {
     "elapsed": 1210,
     "status": "ok",
     "timestamp": 1745796165893,
     "user": {
      "displayName": "Lorena & Jose",
      "userId": "03688868185922313346"
     },
     "user_tz": -120
    },
    "id": "66dd3f0d",
    "outputId": "0680452a-d547-4888-b596-98ea1d3d6094"
   },
   "outputs": [
    {
     "name": "stdout",
     "output_type": "stream",
     "text": [
      "Drive already mounted at /content/drive; to attempt to forcibly remount, call drive.mount(\"/content/drive\", force_remount=True).\n"
     ]
    }
   ],
   "source": [
    "# from google.colab import drive\n",
    "# drive.mount('/content/drive')"
   ]
  },
  {
   "cell_type": "code",
   "execution_count": 9,
   "id": "e9a43079",
   "metadata": {
    "colab": {
     "base_uri": "https://localhost:8080/"
    },
    "executionInfo": {
     "elapsed": 33,
     "status": "ok",
     "timestamp": 1745796165976,
     "user": {
      "displayName": "Lorena & Jose",
      "userId": "03688868185922313346"
     },
     "user_tz": -120
    },
    "id": "e9a43079",
    "outputId": "957e7ab1-3542-4c74-87e4-363eed99688a"
   },
   "outputs": [
    {
     "name": "stdout",
     "output_type": "stream",
     "text": [
      "The autoreload extension is already loaded. To reload it, use:\n",
      "  %reload_ext autoreload\n",
      "GPU is available and will be used.\n",
      "Number of threads: 6\n"
     ]
    }
   ],
   "source": [
    "%load_ext autoreload\n",
    "%autoreload 2\n",
    "\n",
    "import warnings\n",
    "warnings.filterwarnings(\"ignore\")\n",
    "\n",
    "import numpy as np\n",
    "import json\n",
    "import sys, os\n",
    "sys.path.insert(0, os.path.abspath(\"diffusion\"))\n",
    "sys.path.insert(0, os.path.abspath(\"utils\"))\n",
    "sys.path.insert(0, os.path.abspath(\"models\"))\n",
    "sys.path.insert(0, os.path.abspath(\"samplers\"))\n",
    "\n",
    "\n",
    "from functools import partial\n",
    "\n",
    "import torch\n",
    "from torch.utils.data import (\n",
    "    DataLoader,\n",
    "    Dataset,\n",
    "    Subset,\n",
    ")\n",
    "from torchvision import datasets\n",
    "from torchvision.transforms import ToTensor\n",
    "from torchvision.transforms import functional\n",
    "import torchvision.transforms as transforms\n",
    "\n",
    "from torch.optim import Adam\n",
    "\n",
    "from diffusion.schedules import LinearSchedule, CosineSchedule, NoiseSchedule\n",
    "from diffusion.sde       import VESDE, VPSDE, SubVPSDE\n",
    "\n",
    "\n",
    "from diffusion_utilities import (\n",
    "    plot_image_grid,\n",
    "    plot_image_evolution,\n",
    "    animation_images,\n",
    ")\n",
    "\n",
    "import euler_maruyama, predictor_corrector, probability_flow_ode, exponential_integrator\n",
    "# from score_resnet_model import ScoreResNet\n",
    "from models import score_net\n",
    "import tqdm\n",
    "\n",
    "\n",
    "# Check if a GPU is available\n",
    "if torch.cuda.is_available():\n",
    "    device = torch.device('cuda')\n",
    "    print(\"GPU is available and will be used.\")\n",
    "else:\n",
    "    device = torch.device('cpu')\n",
    "    print(\"GPU not found, using CPU instead.\")\n",
    "\n",
    "\n",
    "n_threads = torch.get_num_threads()\n",
    "print('Number of threads: {:d}'.format(n_threads))\n",
    "# Now you can use the 'device' variable in your PyTorch code:\n",
    "# For example:\n",
    "# model.to(device)  # Moves your model to the selected device\n",
    "# data = data.to(device) # Moves your data to the selected device"
   ]
  },
  {
   "cell_type": "code",
   "execution_count": 10,
   "id": "e2048394",
   "metadata": {
    "executionInfo": {
     "elapsed": 32,
     "status": "ok",
     "timestamp": 1745796167337,
     "user": {
      "displayName": "Lorena & Jose",
      "userId": "03688868185922313346"
     },
     "user_tz": -120
    },
    "id": "e2048394"
   },
   "outputs": [],
   "source": [
    "# --- Configuraciones ---\n",
    "DEVICE = torch.device(\"cuda\" if torch.cuda.is_available() else \"cpu\")\n",
    "IMG_SIZE = 32\n",
    "IMG_CHANNELS = 3\n",
    "BATCH_SIZE = 128 # Ajustar según memoria de GPU\n",
    "LEARNING_RATE = 2e-4\n",
    "N_EPOCHS = 200 # Número de épocas de entrenamiento\n",
    "T_END = 1.0 # Tiempo final para la SDE\n",
    "SDE_TYPE = 'VE' # 'VP' o 'VE' o 'SubVP'\n",
    "SCHEDULE_TYPE = 'No' # 'Linear' o 'Cosine'\n",
    "BETA_MIN = 0.1\n",
    "BETA_MAX = 20.0\n",
    "SIGMA_MIN = 0.01 # Para VE SDE\n",
    "SIGMA_MAX = 50.0  # Para VE SDE\n",
    "SIGMA = 50.0\n",
    "CHECKPOINT_DIR = './checkpoints'\n",
    "CHECKPOINT_FREQ = 10 # Guardar checkpoint cada N épocas\n",
    "EPS_LOSS = 1e-5 # Epsilon para muestrear t en la loss_function\n",
    "S = 0.008 # Para CosineSchedule"
   ]
  },
  {
   "cell_type": "code",
   "execution_count": null,
   "id": "rYmmzwKcqdQi",
   "metadata": {
    "executionInfo": {
     "elapsed": 1627,
     "status": "ok",
     "timestamp": 1745796183514,
     "user": {
      "displayName": "Lorena & Jose",
      "userId": "03688868185922313346"
     },
     "user_tz": -120
    },
    "id": "rYmmzwKcqdQi"
   },
   "outputs": [],
   "source": [
    "\n",
    "# --- Dataset ---\n",
    "# Normalización a [-1, 1] es común para estos modelos\n",
    "transform = transforms.Compose([\n",
    "    transforms.ToTensor(),\n",
    "    transforms.Normalize((0.5, 0.5, 0.5), (0.5, 0.5, 0.5))\n",
    "])\n",
    "\n",
    "train_dataset = datasets.CIFAR10(root='./data', train=True, download=True, transform=transform)\n",
    "\n",
    "train_loader = DataLoader(train_dataset, batch_size=BATCH_SIZE, shuffle=True, num_workers=min(4, os.cpu_count()), pin_memory=True)\n",
    "\n",
    "# --- Inicialización ---\n",
    "\n",
    "if SCHEDULE_TYPE == 'Linear':\n",
    "    schedule = LinearSchedule(beta_min=BETA_MIN, beta_max=BETA_MAX, T=T_END)\n",
    "elif SCHEDULE_TYPE == 'Cosine':\n",
    "    schedule = CosineSchedule(T=T_END, s=S)\n",
    "elif SCHEDULE_TYPE == 'No':\n",
    "    pass\n",
    "else:\n",
    "    raise ValueError(f\"Schedule type {SCHEDULE_TYPE} no soportado.\")\n",
    "\n",
    "# Crear SDE\n",
    "if SDE_TYPE == 'VP':\n",
    "    sde = VPSDE(schedule=schedule)\n",
    "elif SDE_TYPE == 'VE':\n",
    "    sde = VESDE(sigma_min=SIGMA_MIN, sigma_max=SIGMA_MAX, sigma=SIGMA)\n",
    "elif SDE_TYPE == 'SubVP':\n",
    "    sde = SubVPSDE(schedule=schedule)\n",
    "else:\n",
    "    raise ValueError(f\"SDE type {SDE_TYPE} no soportado.\")\n",
    "\n",
    "# Crear Modelo ScoreNet\n",
    "score_model = score_net.ScoreNet(\n",
    "    marginal_prob_std=partial(sde.sigma_t),\n",
    "    input_channels=IMG_CHANNELS,\n",
    "    output_channels=IMG_CHANNELS,\n",
    "    base_channels=128,\n",
    "    channel_mults=(1, 2, 2, 2),\n",
    "    num_res_blocks=2,\n",
    "    attn_resolutions=(8,), # Resolución 8x8 para CIFAR-10 32x32\n",
    "    dropout=0.1\n",
    ").to(DEVICE)"
   ]
  },
  {
   "cell_type": "code",
   "execution_count": 12,
   "id": "e2f6487d",
   "metadata": {
    "colab": {
     "base_uri": "https://localhost:8080/"
    },
    "executionInfo": {
     "elapsed": 6704946,
     "status": "ok",
     "timestamp": 1745802907104,
     "user": {
      "displayName": "Lorena & Jose",
      "userId": "03688868185922313346"
     },
     "user_tz": -120
    },
    "id": "e2f6487d",
    "outputId": "9115e07f-c0f0-4ea0-e370-9ab42d4fdce4"
   },
   "outputs": [
    {
     "name": "stdout",
     "output_type": "stream",
     "text": [
      "Iniciando entrenamiento en cuda...\n",
      "Modelo: ScoreNet\n",
      "SDE: VESDE\n",
      "Epochs: 200, Batch Size: 128, LR: 0.0002\n"
     ]
    },
    {
     "name": "stderr",
     "output_type": "stream",
     "text": []
    },
    {
     "name": "stdout",
     "output_type": "stream",
     "text": [
      "Epoch 1/200 - Loss: 234.7952\n"
     ]
    },
    {
     "name": "stderr",
     "output_type": "stream",
     "text": []
    },
    {
     "name": "stdout",
     "output_type": "stream",
     "text": [
      "Epoch 2/200 - Loss: 123.8518\n"
     ]
    },
    {
     "name": "stderr",
     "output_type": "stream",
     "text": []
    },
    {
     "name": "stdout",
     "output_type": "stream",
     "text": [
      "Epoch 3/200 - Loss: 114.4070\n"
     ]
    },
    {
     "name": "stderr",
     "output_type": "stream",
     "text": []
    },
    {
     "name": "stdout",
     "output_type": "stream",
     "text": [
      "Epoch 4/200 - Loss: 110.7690\n"
     ]
    },
    {
     "name": "stderr",
     "output_type": "stream",
     "text": []
    },
    {
     "name": "stdout",
     "output_type": "stream",
     "text": [
      "Epoch 5/200 - Loss: 108.6564\n"
     ]
    },
    {
     "name": "stderr",
     "output_type": "stream",
     "text": []
    },
    {
     "name": "stdout",
     "output_type": "stream",
     "text": [
      "Epoch 6/200 - Loss: 104.2223\n"
     ]
    },
    {
     "name": "stderr",
     "output_type": "stream",
     "text": []
    },
    {
     "name": "stdout",
     "output_type": "stream",
     "text": [
      "Epoch 7/200 - Loss: 104.0269\n"
     ]
    },
    {
     "name": "stderr",
     "output_type": "stream",
     "text": []
    },
    {
     "name": "stdout",
     "output_type": "stream",
     "text": [
      "Epoch 8/200 - Loss: 103.8760\n"
     ]
    },
    {
     "name": "stderr",
     "output_type": "stream",
     "text": []
    },
    {
     "name": "stdout",
     "output_type": "stream",
     "text": [
      "Epoch 9/200 - Loss: 102.2514\n"
     ]
    },
    {
     "name": "stderr",
     "output_type": "stream",
     "text": []
    },
    {
     "name": "stdout",
     "output_type": "stream",
     "text": [
      "Epoch 10/200 - Loss: 100.2294\n",
      "Checkpoint guardado en: ./checkpoints/scorenet_cifar10_v2_VE_epoch_10.pth\n"
     ]
    },
    {
     "name": "stderr",
     "output_type": "stream",
     "text": []
    },
    {
     "name": "stdout",
     "output_type": "stream",
     "text": [
      "Epoch 11/200 - Loss: 100.0771\n"
     ]
    },
    {
     "name": "stderr",
     "output_type": "stream",
     "text": []
    },
    {
     "name": "stdout",
     "output_type": "stream",
     "text": [
      "Epoch 12/200 - Loss: 98.5750\n"
     ]
    },
    {
     "name": "stderr",
     "output_type": "stream",
     "text": []
    },
    {
     "name": "stdout",
     "output_type": "stream",
     "text": [
      "Epoch 13/200 - Loss: 98.8905\n"
     ]
    },
    {
     "name": "stderr",
     "output_type": "stream",
     "text": []
    },
    {
     "name": "stdout",
     "output_type": "stream",
     "text": [
      "Epoch 14/200 - Loss: 98.4368\n"
     ]
    },
    {
     "name": "stderr",
     "output_type": "stream",
     "text": []
    },
    {
     "name": "stdout",
     "output_type": "stream",
     "text": [
      "Epoch 15/200 - Loss: 98.4480\n"
     ]
    },
    {
     "name": "stderr",
     "output_type": "stream",
     "text": []
    },
    {
     "name": "stdout",
     "output_type": "stream",
     "text": [
      "Epoch 16/200 - Loss: 96.9442\n"
     ]
    },
    {
     "name": "stderr",
     "output_type": "stream",
     "text": []
    },
    {
     "name": "stdout",
     "output_type": "stream",
     "text": [
      "Epoch 17/200 - Loss: 96.2948\n"
     ]
    },
    {
     "name": "stderr",
     "output_type": "stream",
     "text": []
    },
    {
     "name": "stdout",
     "output_type": "stream",
     "text": [
      "Epoch 18/200 - Loss: 96.2626\n"
     ]
    },
    {
     "name": "stderr",
     "output_type": "stream",
     "text": []
    },
    {
     "name": "stdout",
     "output_type": "stream",
     "text": [
      "Epoch 19/200 - Loss: 95.6817\n"
     ]
    },
    {
     "name": "stderr",
     "output_type": "stream",
     "text": []
    },
    {
     "name": "stdout",
     "output_type": "stream",
     "text": [
      "Epoch 20/200 - Loss: 95.0841\n",
      "Checkpoint guardado en: ./checkpoints/scorenet_cifar10_v2_VE_epoch_20.pth\n"
     ]
    },
    {
     "name": "stderr",
     "output_type": "stream",
     "text": []
    },
    {
     "name": "stdout",
     "output_type": "stream",
     "text": [
      "Epoch 21/200 - Loss: 95.5447\n"
     ]
    },
    {
     "name": "stderr",
     "output_type": "stream",
     "text": []
    },
    {
     "name": "stdout",
     "output_type": "stream",
     "text": [
      "Epoch 22/200 - Loss: 95.0955\n"
     ]
    },
    {
     "name": "stderr",
     "output_type": "stream",
     "text": []
    },
    {
     "name": "stdout",
     "output_type": "stream",
     "text": [
      "Epoch 23/200 - Loss: 93.6688\n"
     ]
    },
    {
     "name": "stderr",
     "output_type": "stream",
     "text": []
    },
    {
     "name": "stdout",
     "output_type": "stream",
     "text": [
      "Epoch 24/200 - Loss: 94.1673\n"
     ]
    },
    {
     "name": "stderr",
     "output_type": "stream",
     "text": []
    },
    {
     "name": "stdout",
     "output_type": "stream",
     "text": [
      "Epoch 25/200 - Loss: 94.3083\n"
     ]
    },
    {
     "name": "stderr",
     "output_type": "stream",
     "text": []
    },
    {
     "name": "stdout",
     "output_type": "stream",
     "text": [
      "Epoch 26/200 - Loss: 93.8673\n"
     ]
    },
    {
     "name": "stderr",
     "output_type": "stream",
     "text": []
    },
    {
     "name": "stdout",
     "output_type": "stream",
     "text": [
      "Epoch 27/200 - Loss: 92.3415\n"
     ]
    },
    {
     "name": "stderr",
     "output_type": "stream",
     "text": []
    },
    {
     "name": "stdout",
     "output_type": "stream",
     "text": [
      "Epoch 28/200 - Loss: 93.9691\n"
     ]
    },
    {
     "name": "stderr",
     "output_type": "stream",
     "text": []
    },
    {
     "name": "stdout",
     "output_type": "stream",
     "text": [
      "Epoch 29/200 - Loss: 92.3734\n"
     ]
    },
    {
     "name": "stderr",
     "output_type": "stream",
     "text": []
    },
    {
     "name": "stdout",
     "output_type": "stream",
     "text": [
      "Epoch 30/200 - Loss: 93.0980\n",
      "Checkpoint guardado en: ./checkpoints/scorenet_cifar10_v2_VE_epoch_30.pth\n"
     ]
    },
    {
     "name": "stderr",
     "output_type": "stream",
     "text": []
    },
    {
     "name": "stdout",
     "output_type": "stream",
     "text": [
      "Epoch 31/200 - Loss: 93.3852\n"
     ]
    },
    {
     "name": "stderr",
     "output_type": "stream",
     "text": []
    },
    {
     "name": "stdout",
     "output_type": "stream",
     "text": [
      "Epoch 32/200 - Loss: 93.0002\n"
     ]
    },
    {
     "name": "stderr",
     "output_type": "stream",
     "text": []
    },
    {
     "name": "stdout",
     "output_type": "stream",
     "text": [
      "Epoch 33/200 - Loss: 90.9484\n"
     ]
    },
    {
     "name": "stderr",
     "output_type": "stream",
     "text": []
    },
    {
     "name": "stdout",
     "output_type": "stream",
     "text": [
      "Epoch 34/200 - Loss: 92.6865\n"
     ]
    },
    {
     "name": "stderr",
     "output_type": "stream",
     "text": []
    },
    {
     "name": "stdout",
     "output_type": "stream",
     "text": [
      "Epoch 35/200 - Loss: 92.5292\n"
     ]
    },
    {
     "name": "stderr",
     "output_type": "stream",
     "text": []
    },
    {
     "name": "stdout",
     "output_type": "stream",
     "text": [
      "Epoch 36/200 - Loss: 93.2690\n"
     ]
    },
    {
     "name": "stderr",
     "output_type": "stream",
     "text": []
    },
    {
     "name": "stdout",
     "output_type": "stream",
     "text": [
      "Epoch 37/200 - Loss: 91.1843\n"
     ]
    },
    {
     "name": "stderr",
     "output_type": "stream",
     "text": []
    },
    {
     "name": "stdout",
     "output_type": "stream",
     "text": [
      "Epoch 38/200 - Loss: 91.2020\n"
     ]
    },
    {
     "name": "stderr",
     "output_type": "stream",
     "text": []
    },
    {
     "name": "stdout",
     "output_type": "stream",
     "text": [
      "Epoch 39/200 - Loss: 91.5546\n"
     ]
    },
    {
     "name": "stderr",
     "output_type": "stream",
     "text": []
    },
    {
     "name": "stdout",
     "output_type": "stream",
     "text": [
      "Epoch 40/200 - Loss: 92.9698\n",
      "Checkpoint guardado en: ./checkpoints/scorenet_cifar10_v2_VE_epoch_40.pth\n"
     ]
    },
    {
     "name": "stderr",
     "output_type": "stream",
     "text": []
    },
    {
     "name": "stdout",
     "output_type": "stream",
     "text": [
      "Epoch 41/200 - Loss: 91.6906\n"
     ]
    },
    {
     "name": "stderr",
     "output_type": "stream",
     "text": []
    },
    {
     "name": "stdout",
     "output_type": "stream",
     "text": [
      "Epoch 42/200 - Loss: 92.6710\n"
     ]
    },
    {
     "name": "stderr",
     "output_type": "stream",
     "text": []
    },
    {
     "name": "stdout",
     "output_type": "stream",
     "text": [
      "Epoch 43/200 - Loss: 90.5815\n"
     ]
    },
    {
     "name": "stderr",
     "output_type": "stream",
     "text": []
    },
    {
     "name": "stdout",
     "output_type": "stream",
     "text": [
      "Epoch 44/200 - Loss: 91.8307\n"
     ]
    },
    {
     "name": "stderr",
     "output_type": "stream",
     "text": []
    },
    {
     "name": "stdout",
     "output_type": "stream",
     "text": [
      "Epoch 45/200 - Loss: 91.4810\n"
     ]
    },
    {
     "name": "stderr",
     "output_type": "stream",
     "text": []
    },
    {
     "name": "stdout",
     "output_type": "stream",
     "text": [
      "Epoch 46/200 - Loss: 91.0121\n"
     ]
    },
    {
     "name": "stderr",
     "output_type": "stream",
     "text": []
    },
    {
     "name": "stdout",
     "output_type": "stream",
     "text": [
      "Epoch 47/200 - Loss: 90.9209\n"
     ]
    },
    {
     "name": "stderr",
     "output_type": "stream",
     "text": []
    },
    {
     "name": "stdout",
     "output_type": "stream",
     "text": [
      "Epoch 48/200 - Loss: 90.4491\n"
     ]
    },
    {
     "name": "stderr",
     "output_type": "stream",
     "text": []
    },
    {
     "name": "stdout",
     "output_type": "stream",
     "text": [
      "Epoch 49/200 - Loss: 90.7704\n"
     ]
    },
    {
     "name": "stderr",
     "output_type": "stream",
     "text": []
    },
    {
     "name": "stdout",
     "output_type": "stream",
     "text": [
      "Epoch 50/200 - Loss: 89.9330\n",
      "Checkpoint guardado en: ./checkpoints/scorenet_cifar10_v2_VE_epoch_50.pth\n"
     ]
    },
    {
     "name": "stderr",
     "output_type": "stream",
     "text": []
    },
    {
     "name": "stdout",
     "output_type": "stream",
     "text": [
      "Epoch 51/200 - Loss: 90.9474\n"
     ]
    },
    {
     "name": "stderr",
     "output_type": "stream",
     "text": []
    },
    {
     "name": "stdout",
     "output_type": "stream",
     "text": [
      "Epoch 52/200 - Loss: 90.3603\n"
     ]
    },
    {
     "name": "stderr",
     "output_type": "stream",
     "text": []
    },
    {
     "name": "stdout",
     "output_type": "stream",
     "text": [
      "Epoch 53/200 - Loss: 89.7386\n"
     ]
    },
    {
     "name": "stderr",
     "output_type": "stream",
     "text": []
    },
    {
     "name": "stdout",
     "output_type": "stream",
     "text": [
      "Epoch 54/200 - Loss: 90.5524\n"
     ]
    },
    {
     "name": "stderr",
     "output_type": "stream",
     "text": []
    },
    {
     "name": "stdout",
     "output_type": "stream",
     "text": [
      "Epoch 55/200 - Loss: 91.4133\n"
     ]
    },
    {
     "name": "stderr",
     "output_type": "stream",
     "text": []
    },
    {
     "name": "stdout",
     "output_type": "stream",
     "text": [
      "Epoch 56/200 - Loss: 90.4778\n"
     ]
    },
    {
     "name": "stderr",
     "output_type": "stream",
     "text": []
    },
    {
     "name": "stdout",
     "output_type": "stream",
     "text": [
      "Epoch 57/200 - Loss: 90.0867\n"
     ]
    },
    {
     "name": "stderr",
     "output_type": "stream",
     "text": []
    },
    {
     "name": "stdout",
     "output_type": "stream",
     "text": [
      "Epoch 58/200 - Loss: 90.3781\n"
     ]
    },
    {
     "name": "stderr",
     "output_type": "stream",
     "text": []
    },
    {
     "name": "stdout",
     "output_type": "stream",
     "text": [
      "Epoch 59/200 - Loss: 91.1903\n"
     ]
    },
    {
     "name": "stderr",
     "output_type": "stream",
     "text": []
    },
    {
     "name": "stdout",
     "output_type": "stream",
     "text": [
      "Epoch 60/200 - Loss: 91.3350\n",
      "Checkpoint guardado en: ./checkpoints/scorenet_cifar10_v2_VE_epoch_60.pth\n"
     ]
    },
    {
     "name": "stderr",
     "output_type": "stream",
     "text": []
    },
    {
     "name": "stdout",
     "output_type": "stream",
     "text": [
      "Epoch 61/200 - Loss: 90.0624\n"
     ]
    },
    {
     "name": "stderr",
     "output_type": "stream",
     "text": []
    },
    {
     "name": "stdout",
     "output_type": "stream",
     "text": [
      "Epoch 62/200 - Loss: 89.6145\n"
     ]
    },
    {
     "name": "stderr",
     "output_type": "stream",
     "text": []
    },
    {
     "name": "stdout",
     "output_type": "stream",
     "text": [
      "Epoch 63/200 - Loss: 89.5294\n"
     ]
    },
    {
     "name": "stderr",
     "output_type": "stream",
     "text": []
    },
    {
     "name": "stdout",
     "output_type": "stream",
     "text": [
      "Epoch 64/200 - Loss: 90.9291\n"
     ]
    },
    {
     "name": "stderr",
     "output_type": "stream",
     "text": []
    },
    {
     "name": "stdout",
     "output_type": "stream",
     "text": [
      "Epoch 65/200 - Loss: 89.4656\n"
     ]
    },
    {
     "name": "stderr",
     "output_type": "stream",
     "text": []
    },
    {
     "name": "stdout",
     "output_type": "stream",
     "text": [
      "Epoch 66/200 - Loss: 89.4801\n"
     ]
    },
    {
     "name": "stderr",
     "output_type": "stream",
     "text": []
    },
    {
     "name": "stdout",
     "output_type": "stream",
     "text": [
      "Epoch 67/200 - Loss: 89.1413\n"
     ]
    },
    {
     "name": "stderr",
     "output_type": "stream",
     "text": []
    },
    {
     "name": "stdout",
     "output_type": "stream",
     "text": [
      "Epoch 68/200 - Loss: 89.8341\n"
     ]
    },
    {
     "name": "stderr",
     "output_type": "stream",
     "text": []
    },
    {
     "name": "stdout",
     "output_type": "stream",
     "text": [
      "Epoch 69/200 - Loss: 90.0739\n"
     ]
    },
    {
     "name": "stderr",
     "output_type": "stream",
     "text": []
    },
    {
     "name": "stdout",
     "output_type": "stream",
     "text": [
      "Epoch 70/200 - Loss: 89.8672\n",
      "Checkpoint guardado en: ./checkpoints/scorenet_cifar10_v2_VE_epoch_70.pth\n"
     ]
    },
    {
     "name": "stderr",
     "output_type": "stream",
     "text": []
    },
    {
     "name": "stdout",
     "output_type": "stream",
     "text": [
      "Epoch 71/200 - Loss: 89.2519\n"
     ]
    },
    {
     "name": "stderr",
     "output_type": "stream",
     "text": []
    },
    {
     "name": "stdout",
     "output_type": "stream",
     "text": [
      "Epoch 72/200 - Loss: 89.5620\n"
     ]
    },
    {
     "name": "stderr",
     "output_type": "stream",
     "text": []
    },
    {
     "name": "stdout",
     "output_type": "stream",
     "text": [
      "Epoch 73/200 - Loss: 88.9631\n"
     ]
    },
    {
     "name": "stderr",
     "output_type": "stream",
     "text": []
    },
    {
     "name": "stdout",
     "output_type": "stream",
     "text": [
      "Epoch 74/200 - Loss: 88.8376\n"
     ]
    },
    {
     "name": "stderr",
     "output_type": "stream",
     "text": []
    },
    {
     "name": "stdout",
     "output_type": "stream",
     "text": [
      "Epoch 75/200 - Loss: 88.4236\n"
     ]
    },
    {
     "name": "stderr",
     "output_type": "stream",
     "text": []
    },
    {
     "name": "stdout",
     "output_type": "stream",
     "text": [
      "Epoch 76/200 - Loss: 88.8594\n"
     ]
    },
    {
     "name": "stderr",
     "output_type": "stream",
     "text": []
    },
    {
     "name": "stdout",
     "output_type": "stream",
     "text": [
      "Epoch 77/200 - Loss: 88.9483\n"
     ]
    },
    {
     "name": "stderr",
     "output_type": "stream",
     "text": []
    },
    {
     "name": "stdout",
     "output_type": "stream",
     "text": [
      "Epoch 78/200 - Loss: 88.9564\n"
     ]
    },
    {
     "name": "stderr",
     "output_type": "stream",
     "text": []
    },
    {
     "name": "stdout",
     "output_type": "stream",
     "text": [
      "Epoch 79/200 - Loss: 88.2403\n"
     ]
    },
    {
     "name": "stderr",
     "output_type": "stream",
     "text": []
    },
    {
     "name": "stdout",
     "output_type": "stream",
     "text": [
      "Epoch 80/200 - Loss: 88.8580\n",
      "Checkpoint guardado en: ./checkpoints/scorenet_cifar10_v2_VE_epoch_80.pth\n"
     ]
    },
    {
     "name": "stderr",
     "output_type": "stream",
     "text": []
    },
    {
     "name": "stdout",
     "output_type": "stream",
     "text": [
      "Epoch 81/200 - Loss: 89.6038\n"
     ]
    },
    {
     "name": "stderr",
     "output_type": "stream",
     "text": []
    },
    {
     "name": "stdout",
     "output_type": "stream",
     "text": [
      "Epoch 82/200 - Loss: 88.9473\n"
     ]
    },
    {
     "name": "stderr",
     "output_type": "stream",
     "text": []
    },
    {
     "name": "stdout",
     "output_type": "stream",
     "text": [
      "Epoch 83/200 - Loss: 88.7836\n"
     ]
    },
    {
     "name": "stderr",
     "output_type": "stream",
     "text": []
    },
    {
     "name": "stdout",
     "output_type": "stream",
     "text": [
      "Epoch 84/200 - Loss: 89.9449\n"
     ]
    },
    {
     "name": "stderr",
     "output_type": "stream",
     "text": []
    },
    {
     "name": "stdout",
     "output_type": "stream",
     "text": [
      "Epoch 85/200 - Loss: 88.6656\n"
     ]
    },
    {
     "name": "stderr",
     "output_type": "stream",
     "text": []
    },
    {
     "name": "stdout",
     "output_type": "stream",
     "text": [
      "Epoch 86/200 - Loss: 88.1425\n"
     ]
    },
    {
     "name": "stderr",
     "output_type": "stream",
     "text": []
    },
    {
     "name": "stdout",
     "output_type": "stream",
     "text": [
      "Epoch 87/200 - Loss: 88.3471\n"
     ]
    },
    {
     "name": "stderr",
     "output_type": "stream",
     "text": []
    },
    {
     "name": "stdout",
     "output_type": "stream",
     "text": [
      "Epoch 88/200 - Loss: 88.6654\n"
     ]
    },
    {
     "name": "stderr",
     "output_type": "stream",
     "text": []
    },
    {
     "name": "stdout",
     "output_type": "stream",
     "text": [
      "Epoch 89/200 - Loss: 88.9575\n"
     ]
    },
    {
     "name": "stderr",
     "output_type": "stream",
     "text": []
    },
    {
     "name": "stdout",
     "output_type": "stream",
     "text": [
      "Epoch 90/200 - Loss: 88.5495\n",
      "Checkpoint guardado en: ./checkpoints/scorenet_cifar10_v2_VE_epoch_90.pth\n"
     ]
    },
    {
     "name": "stderr",
     "output_type": "stream",
     "text": []
    },
    {
     "name": "stdout",
     "output_type": "stream",
     "text": [
      "Epoch 91/200 - Loss: 89.3262\n"
     ]
    },
    {
     "name": "stderr",
     "output_type": "stream",
     "text": []
    },
    {
     "name": "stdout",
     "output_type": "stream",
     "text": [
      "Epoch 92/200 - Loss: 87.9442\n"
     ]
    },
    {
     "name": "stderr",
     "output_type": "stream",
     "text": []
    },
    {
     "name": "stdout",
     "output_type": "stream",
     "text": [
      "Epoch 93/200 - Loss: 89.2625\n"
     ]
    },
    {
     "name": "stderr",
     "output_type": "stream",
     "text": []
    },
    {
     "name": "stdout",
     "output_type": "stream",
     "text": [
      "Epoch 94/200 - Loss: 89.3501\n"
     ]
    },
    {
     "name": "stderr",
     "output_type": "stream",
     "text": []
    },
    {
     "name": "stdout",
     "output_type": "stream",
     "text": [
      "Epoch 95/200 - Loss: 87.7972\n"
     ]
    },
    {
     "name": "stderr",
     "output_type": "stream",
     "text": []
    },
    {
     "name": "stdout",
     "output_type": "stream",
     "text": [
      "Epoch 96/200 - Loss: 88.9703\n"
     ]
    },
    {
     "name": "stderr",
     "output_type": "stream",
     "text": []
    },
    {
     "name": "stdout",
     "output_type": "stream",
     "text": [
      "Epoch 97/200 - Loss: 89.0911\n"
     ]
    },
    {
     "name": "stderr",
     "output_type": "stream",
     "text": []
    },
    {
     "name": "stdout",
     "output_type": "stream",
     "text": [
      "Epoch 98/200 - Loss: 87.8285\n"
     ]
    },
    {
     "name": "stderr",
     "output_type": "stream",
     "text": []
    },
    {
     "name": "stdout",
     "output_type": "stream",
     "text": [
      "Epoch 99/200 - Loss: 88.7934\n"
     ]
    },
    {
     "name": "stderr",
     "output_type": "stream",
     "text": []
    },
    {
     "name": "stdout",
     "output_type": "stream",
     "text": [
      "Epoch 100/200 - Loss: 88.6682\n",
      "Checkpoint guardado en: ./checkpoints/scorenet_cifar10_v2_VE_epoch_100.pth\n"
     ]
    },
    {
     "name": "stderr",
     "output_type": "stream",
     "text": []
    },
    {
     "name": "stdout",
     "output_type": "stream",
     "text": [
      "Epoch 101/200 - Loss: 88.5582\n"
     ]
    },
    {
     "name": "stderr",
     "output_type": "stream",
     "text": []
    },
    {
     "name": "stdout",
     "output_type": "stream",
     "text": [
      "Epoch 102/200 - Loss: 90.0327\n"
     ]
    },
    {
     "name": "stderr",
     "output_type": "stream",
     "text": []
    },
    {
     "name": "stdout",
     "output_type": "stream",
     "text": [
      "Epoch 103/200 - Loss: 87.6674\n"
     ]
    },
    {
     "name": "stderr",
     "output_type": "stream",
     "text": []
    },
    {
     "name": "stdout",
     "output_type": "stream",
     "text": [
      "Epoch 104/200 - Loss: 88.7908\n"
     ]
    },
    {
     "name": "stderr",
     "output_type": "stream",
     "text": []
    },
    {
     "name": "stdout",
     "output_type": "stream",
     "text": [
      "Epoch 105/200 - Loss: 87.9584\n"
     ]
    },
    {
     "name": "stderr",
     "output_type": "stream",
     "text": []
    },
    {
     "name": "stdout",
     "output_type": "stream",
     "text": [
      "Epoch 106/200 - Loss: 89.6300\n"
     ]
    },
    {
     "name": "stderr",
     "output_type": "stream",
     "text": []
    },
    {
     "name": "stdout",
     "output_type": "stream",
     "text": [
      "Epoch 107/200 - Loss: 88.4090\n"
     ]
    },
    {
     "name": "stderr",
     "output_type": "stream",
     "text": []
    },
    {
     "name": "stdout",
     "output_type": "stream",
     "text": [
      "Epoch 108/200 - Loss: 88.1674\n"
     ]
    },
    {
     "name": "stderr",
     "output_type": "stream",
     "text": []
    },
    {
     "name": "stdout",
     "output_type": "stream",
     "text": [
      "Epoch 109/200 - Loss: 88.4215\n"
     ]
    },
    {
     "name": "stderr",
     "output_type": "stream",
     "text": []
    },
    {
     "name": "stdout",
     "output_type": "stream",
     "text": [
      "Epoch 110/200 - Loss: 87.7877\n",
      "Checkpoint guardado en: ./checkpoints/scorenet_cifar10_v2_VE_epoch_110.pth\n"
     ]
    },
    {
     "name": "stderr",
     "output_type": "stream",
     "text": []
    },
    {
     "name": "stdout",
     "output_type": "stream",
     "text": [
      "Epoch 111/200 - Loss: 88.0841\n"
     ]
    },
    {
     "name": "stderr",
     "output_type": "stream",
     "text": []
    },
    {
     "name": "stdout",
     "output_type": "stream",
     "text": [
      "Epoch 112/200 - Loss: 89.9685\n"
     ]
    },
    {
     "name": "stderr",
     "output_type": "stream",
     "text": []
    },
    {
     "name": "stdout",
     "output_type": "stream",
     "text": [
      "Epoch 113/200 - Loss: 86.9382\n"
     ]
    },
    {
     "name": "stderr",
     "output_type": "stream",
     "text": []
    },
    {
     "name": "stdout",
     "output_type": "stream",
     "text": [
      "Epoch 114/200 - Loss: 88.3898\n"
     ]
    },
    {
     "name": "stderr",
     "output_type": "stream",
     "text": []
    },
    {
     "name": "stdout",
     "output_type": "stream",
     "text": [
      "Epoch 115/200 - Loss: 88.2952\n"
     ]
    },
    {
     "name": "stderr",
     "output_type": "stream",
     "text": []
    },
    {
     "name": "stdout",
     "output_type": "stream",
     "text": [
      "Epoch 116/200 - Loss: 87.7670\n"
     ]
    },
    {
     "name": "stderr",
     "output_type": "stream",
     "text": []
    },
    {
     "name": "stdout",
     "output_type": "stream",
     "text": [
      "Epoch 117/200 - Loss: 87.9744\n"
     ]
    },
    {
     "name": "stderr",
     "output_type": "stream",
     "text": []
    },
    {
     "name": "stdout",
     "output_type": "stream",
     "text": [
      "Epoch 118/200 - Loss: 86.8411\n"
     ]
    },
    {
     "name": "stderr",
     "output_type": "stream",
     "text": []
    },
    {
     "name": "stdout",
     "output_type": "stream",
     "text": [
      "Epoch 119/200 - Loss: 88.9700\n"
     ]
    },
    {
     "name": "stderr",
     "output_type": "stream",
     "text": []
    },
    {
     "name": "stdout",
     "output_type": "stream",
     "text": [
      "Epoch 120/200 - Loss: 87.6586\n",
      "Checkpoint guardado en: ./checkpoints/scorenet_cifar10_v2_VE_epoch_120.pth\n"
     ]
    },
    {
     "name": "stderr",
     "output_type": "stream",
     "text": []
    },
    {
     "name": "stdout",
     "output_type": "stream",
     "text": [
      "Epoch 121/200 - Loss: 88.7424\n"
     ]
    },
    {
     "name": "stderr",
     "output_type": "stream",
     "text": []
    },
    {
     "name": "stdout",
     "output_type": "stream",
     "text": [
      "Epoch 122/200 - Loss: 87.6200\n"
     ]
    },
    {
     "name": "stderr",
     "output_type": "stream",
     "text": []
    },
    {
     "name": "stdout",
     "output_type": "stream",
     "text": [
      "Epoch 123/200 - Loss: 87.7448\n"
     ]
    },
    {
     "name": "stderr",
     "output_type": "stream",
     "text": []
    },
    {
     "name": "stdout",
     "output_type": "stream",
     "text": [
      "Epoch 124/200 - Loss: 88.6468\n"
     ]
    },
    {
     "name": "stderr",
     "output_type": "stream",
     "text": []
    },
    {
     "name": "stdout",
     "output_type": "stream",
     "text": [
      "Epoch 125/200 - Loss: 87.6094\n"
     ]
    },
    {
     "name": "stderr",
     "output_type": "stream",
     "text": []
    },
    {
     "name": "stdout",
     "output_type": "stream",
     "text": [
      "Epoch 126/200 - Loss: 87.6732\n"
     ]
    },
    {
     "name": "stderr",
     "output_type": "stream",
     "text": []
    },
    {
     "name": "stdout",
     "output_type": "stream",
     "text": [
      "Epoch 127/200 - Loss: 89.2702\n"
     ]
    },
    {
     "name": "stderr",
     "output_type": "stream",
     "text": []
    },
    {
     "name": "stdout",
     "output_type": "stream",
     "text": [
      "Epoch 128/200 - Loss: 87.2033\n"
     ]
    },
    {
     "name": "stderr",
     "output_type": "stream",
     "text": []
    },
    {
     "name": "stdout",
     "output_type": "stream",
     "text": [
      "Epoch 129/200 - Loss: 88.0978\n"
     ]
    },
    {
     "name": "stderr",
     "output_type": "stream",
     "text": []
    },
    {
     "name": "stdout",
     "output_type": "stream",
     "text": [
      "Epoch 130/200 - Loss: 88.9762\n",
      "Checkpoint guardado en: ./checkpoints/scorenet_cifar10_v2_VE_epoch_130.pth\n"
     ]
    },
    {
     "name": "stderr",
     "output_type": "stream",
     "text": []
    },
    {
     "name": "stdout",
     "output_type": "stream",
     "text": [
      "Epoch 131/200 - Loss: 86.9259\n"
     ]
    },
    {
     "name": "stderr",
     "output_type": "stream",
     "text": []
    },
    {
     "name": "stdout",
     "output_type": "stream",
     "text": [
      "Epoch 132/200 - Loss: 87.5376\n"
     ]
    },
    {
     "name": "stderr",
     "output_type": "stream",
     "text": []
    },
    {
     "name": "stdout",
     "output_type": "stream",
     "text": [
      "Epoch 133/200 - Loss: 87.4687\n"
     ]
    },
    {
     "name": "stderr",
     "output_type": "stream",
     "text": []
    },
    {
     "name": "stdout",
     "output_type": "stream",
     "text": [
      "Epoch 134/200 - Loss: 89.3623\n"
     ]
    },
    {
     "name": "stderr",
     "output_type": "stream",
     "text": []
    },
    {
     "name": "stdout",
     "output_type": "stream",
     "text": [
      "Epoch 135/200 - Loss: 87.0395\n"
     ]
    },
    {
     "name": "stderr",
     "output_type": "stream",
     "text": []
    },
    {
     "name": "stdout",
     "output_type": "stream",
     "text": [
      "Epoch 136/200 - Loss: 87.4225\n"
     ]
    },
    {
     "name": "stderr",
     "output_type": "stream",
     "text": []
    },
    {
     "name": "stdout",
     "output_type": "stream",
     "text": [
      "Epoch 137/200 - Loss: 87.7330\n"
     ]
    },
    {
     "name": "stderr",
     "output_type": "stream",
     "text": []
    },
    {
     "name": "stdout",
     "output_type": "stream",
     "text": [
      "Epoch 138/200 - Loss: 87.8727\n"
     ]
    },
    {
     "name": "stderr",
     "output_type": "stream",
     "text": []
    },
    {
     "name": "stdout",
     "output_type": "stream",
     "text": [
      "Epoch 139/200 - Loss: 88.5251\n"
     ]
    },
    {
     "name": "stderr",
     "output_type": "stream",
     "text": []
    },
    {
     "name": "stdout",
     "output_type": "stream",
     "text": [
      "Epoch 140/200 - Loss: 87.3594\n",
      "Checkpoint guardado en: ./checkpoints/scorenet_cifar10_v2_VE_epoch_140.pth\n"
     ]
    },
    {
     "name": "stderr",
     "output_type": "stream",
     "text": []
    },
    {
     "name": "stdout",
     "output_type": "stream",
     "text": [
      "Epoch 141/200 - Loss: 86.7776\n"
     ]
    },
    {
     "name": "stderr",
     "output_type": "stream",
     "text": []
    },
    {
     "name": "stdout",
     "output_type": "stream",
     "text": [
      "Epoch 142/200 - Loss: 88.3483\n"
     ]
    },
    {
     "name": "stderr",
     "output_type": "stream",
     "text": []
    },
    {
     "name": "stdout",
     "output_type": "stream",
     "text": [
      "Epoch 143/200 - Loss: 86.0617\n"
     ]
    },
    {
     "name": "stderr",
     "output_type": "stream",
     "text": []
    },
    {
     "name": "stdout",
     "output_type": "stream",
     "text": [
      "Epoch 144/200 - Loss: 88.2648\n"
     ]
    },
    {
     "name": "stderr",
     "output_type": "stream",
     "text": []
    },
    {
     "name": "stdout",
     "output_type": "stream",
     "text": [
      "Epoch 145/200 - Loss: 87.0442\n"
     ]
    },
    {
     "name": "stderr",
     "output_type": "stream",
     "text": []
    },
    {
     "name": "stdout",
     "output_type": "stream",
     "text": [
      "Epoch 146/200 - Loss: 88.1251\n"
     ]
    },
    {
     "name": "stderr",
     "output_type": "stream",
     "text": []
    },
    {
     "name": "stdout",
     "output_type": "stream",
     "text": [
      "Epoch 147/200 - Loss: 87.0842\n"
     ]
    },
    {
     "name": "stderr",
     "output_type": "stream",
     "text": []
    },
    {
     "name": "stdout",
     "output_type": "stream",
     "text": [
      "Epoch 148/200 - Loss: 87.6540\n"
     ]
    },
    {
     "name": "stderr",
     "output_type": "stream",
     "text": []
    },
    {
     "name": "stdout",
     "output_type": "stream",
     "text": [
      "Epoch 149/200 - Loss: 86.9934\n"
     ]
    },
    {
     "name": "stderr",
     "output_type": "stream",
     "text": []
    },
    {
     "name": "stdout",
     "output_type": "stream",
     "text": [
      "Epoch 150/200 - Loss: 86.3143\n",
      "Checkpoint guardado en: ./checkpoints/scorenet_cifar10_v2_VE_epoch_150.pth\n"
     ]
    },
    {
     "name": "stderr",
     "output_type": "stream",
     "text": []
    },
    {
     "name": "stdout",
     "output_type": "stream",
     "text": [
      "Epoch 151/200 - Loss: 86.3624\n"
     ]
    },
    {
     "name": "stderr",
     "output_type": "stream",
     "text": []
    },
    {
     "name": "stdout",
     "output_type": "stream",
     "text": [
      "Epoch 152/200 - Loss: 86.6877\n"
     ]
    },
    {
     "name": "stderr",
     "output_type": "stream",
     "text": []
    },
    {
     "name": "stdout",
     "output_type": "stream",
     "text": [
      "Epoch 153/200 - Loss: 86.6715\n"
     ]
    },
    {
     "name": "stderr",
     "output_type": "stream",
     "text": []
    },
    {
     "name": "stdout",
     "output_type": "stream",
     "text": [
      "Epoch 154/200 - Loss: 87.5440\n"
     ]
    },
    {
     "name": "stderr",
     "output_type": "stream",
     "text": []
    },
    {
     "name": "stdout",
     "output_type": "stream",
     "text": [
      "Epoch 155/200 - Loss: 87.4372\n"
     ]
    },
    {
     "name": "stderr",
     "output_type": "stream",
     "text": []
    },
    {
     "name": "stdout",
     "output_type": "stream",
     "text": [
      "Epoch 156/200 - Loss: 87.7441\n"
     ]
    },
    {
     "name": "stderr",
     "output_type": "stream",
     "text": []
    },
    {
     "name": "stdout",
     "output_type": "stream",
     "text": [
      "Epoch 157/200 - Loss: 87.0927\n"
     ]
    },
    {
     "name": "stderr",
     "output_type": "stream",
     "text": []
    },
    {
     "name": "stdout",
     "output_type": "stream",
     "text": [
      "Epoch 158/200 - Loss: 87.1903\n"
     ]
    },
    {
     "name": "stderr",
     "output_type": "stream",
     "text": []
    },
    {
     "name": "stdout",
     "output_type": "stream",
     "text": [
      "Epoch 159/200 - Loss: 87.4534\n"
     ]
    },
    {
     "name": "stderr",
     "output_type": "stream",
     "text": []
    },
    {
     "name": "stdout",
     "output_type": "stream",
     "text": [
      "Epoch 160/200 - Loss: 86.0204\n",
      "Checkpoint guardado en: ./checkpoints/scorenet_cifar10_v2_VE_epoch_160.pth\n"
     ]
    },
    {
     "name": "stderr",
     "output_type": "stream",
     "text": []
    },
    {
     "name": "stdout",
     "output_type": "stream",
     "text": [
      "Epoch 161/200 - Loss: 87.4755\n"
     ]
    },
    {
     "name": "stderr",
     "output_type": "stream",
     "text": []
    },
    {
     "name": "stdout",
     "output_type": "stream",
     "text": [
      "Epoch 162/200 - Loss: 88.2900\n"
     ]
    },
    {
     "name": "stderr",
     "output_type": "stream",
     "text": []
    },
    {
     "name": "stdout",
     "output_type": "stream",
     "text": [
      "Epoch 163/200 - Loss: 87.7440\n"
     ]
    },
    {
     "name": "stderr",
     "output_type": "stream",
     "text": []
    },
    {
     "name": "stdout",
     "output_type": "stream",
     "text": [
      "Epoch 164/200 - Loss: 86.9027\n"
     ]
    },
    {
     "name": "stderr",
     "output_type": "stream",
     "text": []
    },
    {
     "name": "stdout",
     "output_type": "stream",
     "text": [
      "Epoch 165/200 - Loss: 87.5154\n"
     ]
    },
    {
     "name": "stderr",
     "output_type": "stream",
     "text": []
    },
    {
     "name": "stdout",
     "output_type": "stream",
     "text": [
      "Epoch 166/200 - Loss: 86.5627\n"
     ]
    },
    {
     "name": "stderr",
     "output_type": "stream",
     "text": []
    },
    {
     "name": "stdout",
     "output_type": "stream",
     "text": [
      "Epoch 167/200 - Loss: 87.5537\n"
     ]
    },
    {
     "name": "stderr",
     "output_type": "stream",
     "text": []
    },
    {
     "name": "stdout",
     "output_type": "stream",
     "text": [
      "Epoch 168/200 - Loss: 87.9876\n"
     ]
    },
    {
     "name": "stderr",
     "output_type": "stream",
     "text": []
    },
    {
     "name": "stdout",
     "output_type": "stream",
     "text": [
      "Epoch 169/200 - Loss: 88.1579\n"
     ]
    },
    {
     "name": "stderr",
     "output_type": "stream",
     "text": []
    },
    {
     "name": "stdout",
     "output_type": "stream",
     "text": [
      "Epoch 170/200 - Loss: 86.4637\n",
      "Checkpoint guardado en: ./checkpoints/scorenet_cifar10_v2_VE_epoch_170.pth\n"
     ]
    },
    {
     "name": "stderr",
     "output_type": "stream",
     "text": []
    },
    {
     "name": "stdout",
     "output_type": "stream",
     "text": [
      "Epoch 171/200 - Loss: 86.7921\n"
     ]
    },
    {
     "name": "stderr",
     "output_type": "stream",
     "text": []
    },
    {
     "name": "stdout",
     "output_type": "stream",
     "text": [
      "Epoch 172/200 - Loss: 86.8560\n"
     ]
    },
    {
     "name": "stderr",
     "output_type": "stream",
     "text": []
    },
    {
     "name": "stdout",
     "output_type": "stream",
     "text": [
      "Epoch 173/200 - Loss: 87.2255\n"
     ]
    },
    {
     "name": "stderr",
     "output_type": "stream",
     "text": []
    },
    {
     "name": "stdout",
     "output_type": "stream",
     "text": [
      "Epoch 174/200 - Loss: 86.4630\n"
     ]
    },
    {
     "name": "stderr",
     "output_type": "stream",
     "text": []
    },
    {
     "name": "stdout",
     "output_type": "stream",
     "text": [
      "Epoch 175/200 - Loss: 86.6937\n"
     ]
    },
    {
     "name": "stderr",
     "output_type": "stream",
     "text": []
    },
    {
     "name": "stdout",
     "output_type": "stream",
     "text": [
      "Epoch 176/200 - Loss: 86.2288\n"
     ]
    },
    {
     "name": "stderr",
     "output_type": "stream",
     "text": []
    },
    {
     "name": "stdout",
     "output_type": "stream",
     "text": [
      "Epoch 177/200 - Loss: 86.9251\n"
     ]
    },
    {
     "name": "stderr",
     "output_type": "stream",
     "text": []
    },
    {
     "name": "stdout",
     "output_type": "stream",
     "text": [
      "Epoch 178/200 - Loss: 86.7362\n"
     ]
    },
    {
     "name": "stderr",
     "output_type": "stream",
     "text": []
    },
    {
     "name": "stdout",
     "output_type": "stream",
     "text": [
      "Epoch 179/200 - Loss: 86.2598\n"
     ]
    },
    {
     "name": "stderr",
     "output_type": "stream",
     "text": []
    },
    {
     "name": "stdout",
     "output_type": "stream",
     "text": [
      "Epoch 180/200 - Loss: 87.7395\n",
      "Checkpoint guardado en: ./checkpoints/scorenet_cifar10_v2_VE_epoch_180.pth\n"
     ]
    },
    {
     "name": "stderr",
     "output_type": "stream",
     "text": []
    },
    {
     "name": "stdout",
     "output_type": "stream",
     "text": [
      "Epoch 181/200 - Loss: 86.5565\n"
     ]
    },
    {
     "name": "stderr",
     "output_type": "stream",
     "text": []
    },
    {
     "name": "stdout",
     "output_type": "stream",
     "text": [
      "Epoch 182/200 - Loss: 86.2159\n"
     ]
    },
    {
     "name": "stderr",
     "output_type": "stream",
     "text": []
    },
    {
     "name": "stdout",
     "output_type": "stream",
     "text": [
      "Epoch 183/200 - Loss: 87.5638\n"
     ]
    },
    {
     "name": "stderr",
     "output_type": "stream",
     "text": []
    },
    {
     "name": "stdout",
     "output_type": "stream",
     "text": [
      "Epoch 184/200 - Loss: 85.5903\n"
     ]
    },
    {
     "name": "stderr",
     "output_type": "stream",
     "text": []
    },
    {
     "name": "stdout",
     "output_type": "stream",
     "text": [
      "Epoch 185/200 - Loss: 85.5529\n"
     ]
    },
    {
     "name": "stderr",
     "output_type": "stream",
     "text": []
    },
    {
     "name": "stdout",
     "output_type": "stream",
     "text": [
      "Epoch 186/200 - Loss: 86.0441\n"
     ]
    },
    {
     "name": "stderr",
     "output_type": "stream",
     "text": []
    },
    {
     "name": "stdout",
     "output_type": "stream",
     "text": [
      "Epoch 187/200 - Loss: 85.7192\n"
     ]
    },
    {
     "name": "stderr",
     "output_type": "stream",
     "text": []
    },
    {
     "name": "stdout",
     "output_type": "stream",
     "text": [
      "Epoch 188/200 - Loss: 87.6515\n"
     ]
    },
    {
     "name": "stderr",
     "output_type": "stream",
     "text": []
    },
    {
     "name": "stdout",
     "output_type": "stream",
     "text": [
      "Epoch 189/200 - Loss: 86.1908\n"
     ]
    },
    {
     "name": "stderr",
     "output_type": "stream",
     "text": []
    },
    {
     "name": "stdout",
     "output_type": "stream",
     "text": [
      "Epoch 190/200 - Loss: 85.8347\n",
      "Checkpoint guardado en: ./checkpoints/scorenet_cifar10_v2_VE_epoch_190.pth\n"
     ]
    },
    {
     "name": "stderr",
     "output_type": "stream",
     "text": []
    },
    {
     "name": "stdout",
     "output_type": "stream",
     "text": [
      "Epoch 191/200 - Loss: 86.9339\n"
     ]
    },
    {
     "name": "stderr",
     "output_type": "stream",
     "text": []
    },
    {
     "name": "stdout",
     "output_type": "stream",
     "text": [
      "Epoch 192/200 - Loss: 86.7740\n"
     ]
    },
    {
     "name": "stderr",
     "output_type": "stream",
     "text": []
    },
    {
     "name": "stdout",
     "output_type": "stream",
     "text": [
      "Epoch 193/200 - Loss: 86.2607\n"
     ]
    },
    {
     "name": "stderr",
     "output_type": "stream",
     "text": []
    },
    {
     "name": "stdout",
     "output_type": "stream",
     "text": [
      "Epoch 194/200 - Loss: 86.8639\n"
     ]
    },
    {
     "name": "stderr",
     "output_type": "stream",
     "text": []
    },
    {
     "name": "stdout",
     "output_type": "stream",
     "text": [
      "Epoch 195/200 - Loss: 86.1893\n"
     ]
    },
    {
     "name": "stderr",
     "output_type": "stream",
     "text": []
    },
    {
     "name": "stdout",
     "output_type": "stream",
     "text": [
      "Epoch 196/200 - Loss: 86.0542\n"
     ]
    },
    {
     "name": "stderr",
     "output_type": "stream",
     "text": []
    },
    {
     "name": "stdout",
     "output_type": "stream",
     "text": [
      "Epoch 197/200 - Loss: 86.4769\n"
     ]
    },
    {
     "name": "stderr",
     "output_type": "stream",
     "text": []
    },
    {
     "name": "stdout",
     "output_type": "stream",
     "text": [
      "Epoch 198/200 - Loss: 85.7888\n"
     ]
    },
    {
     "name": "stderr",
     "output_type": "stream",
     "text": []
    },
    {
     "name": "stdout",
     "output_type": "stream",
     "text": [
      "Epoch 199/200 - Loss: 87.2253\n"
     ]
    },
    {
     "name": "stderr",
     "output_type": "stream",
     "text": []
    },
    {
     "name": "stdout",
     "output_type": "stream",
     "text": [
      "Epoch 200/200 - Loss: 85.8979\n",
      "Checkpoint guardado en: ./checkpoints/scorenet_cifar10_v2_VE_epoch_200.pth\n",
      "Entrenamiento completado.\n"
     ]
    }
   ],
   "source": [
    "optimizer = Adam(score_model.parameters(), lr=LEARNING_RATE)\n",
    "\n",
    "# Crear directorio de checkpoints\n",
    "os.makedirs(CHECKPOINT_DIR, exist_ok=True)\n",
    "\n",
    "name_of_json = f'average_loss_list_cifar10_v2_{SDE_TYPE}_epoch_{N_EPOCHS+1}.json'\n",
    "# --- Bucle de Entrenamiento ---\n",
    "print(f\"Iniciando entrenamiento en {DEVICE}...\")\n",
    "print(f\"Modelo: {score_model.__class__.__name__}\")\n",
    "print(f\"SDE: {sde.__class__.__name__}\")\n",
    "print(f\"Epochs: {N_EPOCHS}, Batch Size: {BATCH_SIZE}, LR: {LEARNING_RATE}\")\n",
    "\n",
    "average_loss_list = []\n",
    "global_step = 0\n",
    "for epoch in range(N_EPOCHS):\n",
    "    score_model.train()\n",
    "    progress_bar = tqdm.tqdm(train_loader, desc=f\"Epoch {epoch+1}/{N_EPOCHS}\", leave=False)\n",
    "    epoch_loss = 0.0\n",
    "\n",
    "    for batch_idx, (images, _) in enumerate(progress_bar):\n",
    "        images = images.to(DEVICE)\n",
    "\n",
    "        # Calcular pérdida usando el método de la SDE\n",
    "        loss = sde.loss_function(score_model=score_model, x_0=images, eps=EPS_LOSS)\n",
    "\n",
    "        optimizer.zero_grad()\n",
    "        loss.backward()\n",
    "        # Opcional: torch.nn.utils.clip_grad_norm_(score_model.parameters(), max_norm=1.0)\n",
    "        optimizer.step()\n",
    "\n",
    "        epoch_loss += loss.item()\n",
    "        global_step += 1\n",
    "        progress_bar.set_postfix(loss=loss.item())\n",
    "\n",
    "    avg_epoch_loss = epoch_loss / len(train_loader)\n",
    "    average_loss_list.append(avg_epoch_loss)\n",
    "    print(f\"Epoch {epoch+1}/{N_EPOCHS} - Loss: {avg_epoch_loss:.4f}\")\n",
    "\n",
    "    # Guardar checkpoint\n",
    "    if (epoch + 1) % CHECKPOINT_FREQ == 0 or epoch == N_EPOCHS - 1:\n",
    "        checkpoint_path = os.path.join(CHECKPOINT_DIR, f'scorenet_cifar10_v2_{SDE_TYPE}_epoch_{epoch+1}.pth')\n",
    "        # Guardar solo el estado del modelo para ahorrar espacio, o todo si quieres reanudar\n",
    "        torch.save(score_model.state_dict(), checkpoint_path)\n",
    "        print(f\"Checkpoint guardado en: {checkpoint_path}\")\n",
    "\n",
    "print(\"Entrenamiento completado.\")\n",
    "\n",
    "\n",
    "with open(name_of_json, \"w\", encoding=\"utf-8\") as f:\n",
    "    json.dump(average_loss_list, f, ensure_ascii=False, indent=2)\n"
   ]
  },
  {
   "cell_type": "markdown",
   "id": "2kWJUA6_mG7q",
   "metadata": {
    "id": "2kWJUA6_mG7q"
   },
   "source": [
    "/checkpoints/scorenet_cifar10_VE_epoch_150.pth"
   ]
  },
  {
   "cell_type": "code",
   "execution_count": null,
   "id": "f477d878",
   "metadata": {
    "colab": {
     "base_uri": "https://localhost:8080/"
    },
    "executionInfo": {
     "elapsed": 234,
     "status": "ok",
     "timestamp": 1745748169099,
     "user": {
      "displayName": "Lorena & Jose",
      "userId": "03688868185922313346"
     },
     "user_tz": -120
    },
    "id": "f477d878",
    "outputId": "c4fe7c3c-4377-4e5d-d206-95984b0bc529"
   },
   "outputs": [
    {
     "name": "stdout",
     "output_type": "stream",
     "text": [
      "Checkpoint loaded successfully.\n"
     ]
    }
   ],
   "source": [
    "# Cargamos el modelo desde un checkpoint si existe\n",
    "score_model.load_state_dict(torch.load('/content/drive/MyDrive/SEMESTRE 6/AAUTO III/Proyecto_v2_1_probando_metricas_15_20_26_04_25/checkpoints/scorenet_cifar10_VE_epoch_150.pth', map_location=torch.device('cpu')))\n",
    "score_model.eval()\n",
    "print(\"Checkpoint loaded successfully.\")"
   ]
  },
  {
   "cell_type": "code",
   "execution_count": null,
   "id": "ff397329",
   "metadata": {
    "colab": {
     "base_uri": "https://localhost:8080/"
    },
    "executionInfo": {
     "elapsed": 151731,
     "status": "ok",
     "timestamp": 1745748694008,
     "user": {
      "displayName": "Lorena & Jose",
      "userId": "03688868185922313346"
     },
     "user_tz": -120
    },
    "id": "ff397329",
    "outputId": "2ab32b8e-9857-474e-bf7b-ca9676a4e868"
   },
   "outputs": [
    {
     "name": "stdout",
     "output_type": "stream",
     "text": [
      "<class 'torch.Tensor'>\n",
      "torch.Size([6, 3, 32, 32, 501])\n"
     ]
    }
   ],
   "source": [
    "n_images = 6\n",
    "T = 1.0\n",
    "\n",
    "# Inicializamos la muestra en t = T con ruido gaussiano escalado por g(T).\n",
    "# Por ejemplo, si tus imágenes son de 1 canal 28x28, ajusta dimensiones a tu caso.\n",
    "\n",
    "# 1) Cálculo de sigma^2(T) con la fórmula dada\n",
    "sigma_cuadrado_evaluado_en_T = sde.sigma_t(T) ** 2\n",
    "\n",
    "# 2) Creación de un tensor de ruido con media 0 y varianza 1\n",
    "#    El shape (n_images, 3, 32, 32) representa un lote de n_images de 3 canales 32x32\n",
    "# noise = torch.randn(n_images, 1, 28, 28, device=device) # original line\n",
    "noise = torch.randn(n_images, 3, 32, 32, device=device) # Changed to match CIFAR-10 image dimensions\n",
    "\n",
    "# 3) Escalar el ruido para que tenga varianza sigma_cuadrado_evaluado_en_T\n",
    "image_T = noise * np.sqrt(sigma_cuadrado_evaluado_en_T)\n",
    "#image_T\n",
    "with torch.no_grad():\n",
    "    times, synthetic_images_t = euler_maruyama.euler_maruyama_integrator(\n",
    "        image_T,\n",
    "        t_0 = T,\n",
    "        t_end = 1.0e-3,\n",
    "        n_steps = 500,\n",
    "        drift_coefficient = partial(\n",
    "            sde.backward_drift_coefficient,\n",
    "            score_model = score_model,\n",
    "        ),\n",
    "        diffusion_coefficient = sde.diffusion_coefficient,\n",
    "    )\n",
    "\n",
    "print(type(synthetic_images_t))\n",
    "print(synthetic_images_t.shape)"
   ]
  },
  {
   "cell_type": "code",
   "execution_count": null,
   "id": "0f413454",
   "metadata": {
    "id": "0f413454"
   },
   "outputs": [],
   "source": [
    "def plot_image_evolution(\n",
    "    images: torch.Tensor,\n",
    "    n_images: int,\n",
    "    n_intermediate_steps,\n",
    "    figsize: tuple,\n",
    "):\n",
    "    fig, axs = plt.subplots(\n",
    "        n_images,\n",
    "        len(n_intermediate_steps),\n",
    "        figsize=figsize,\n",
    "    )\n",
    "\n",
    "    for n in range(n_images):\n",
    "        for i, ax in enumerate(axs[n, :]):\n",
    "            # extraemos (3, H, W)\n",
    "            img = images[n, :, :, :, n_intermediate_steps[i]]\n",
    "            # pasamos a (H, W, 3)\n",
    "            img = img.permute(1, 2, 0).cpu()\n",
    "            # normalizamos min–max\n",
    "            img = (img - img.min()) / (img.max() - img.min())\n",
    "            # y lo mostramos en color directamente\n",
    "            ax.imshow(img)\n",
    "            ax.set_axis_off()\n",
    "\n",
    "    return fig, axs\n"
   ]
  },
  {
   "cell_type": "code",
   "execution_count": null,
   "id": "82f34f76",
   "metadata": {
    "colab": {
     "base_uri": "https://localhost:8080/",
     "height": 210
    },
    "executionInfo": {
     "elapsed": 1190,
     "status": "ok",
     "timestamp": 1745748695195,
     "user": {
      "displayName": "Lorena & Jose",
      "userId": "03688868185922313346"
     },
     "user_tz": -120
    },
    "id": "82f34f76",
    "outputId": "d8f32796-cded-409d-8c32-e50825bfa0dd"
   },
   "outputs": [
    {
     "data": {
      "image/png": "[encoded data removed]",
      "text/plain": [
       "<Figure size 1500x400 with 60 Axes>"
      ]
     },
     "metadata": {},
     "output_type": "display_data"
    }
   ],
   "source": [
    "import matplotlib.pyplot as plt\n",
    "_ = plot_image_evolution(\n",
    "    images=synthetic_images_t,\n",
    "    n_images=n_images,\n",
    "    n_intermediate_steps=[0, 100, 200, 300, 400, 450, 470, 480, 490, 500],\n",
    "    figsize=(15, 4),\n",
    ")"
   ]
  },
  {
   "cell_type": "code",
   "execution_count": null,
   "id": "W4qLIpZdtY9k",
   "metadata": {
    "id": "W4qLIpZdtY9k"
   },
   "outputs": [],
   "source": []
  }
 ],
 "metadata": {
  "accelerator": "GPU",
  "colab": {
   "gpuType": "A100",
   "machine_shape": "hm",
   "provenance": []
  },
  "kernelspec": {
   "display_name": "Python 3",
   "name": "python3"
  },
  "language_info": {
   "codemirror_mode": {
    "name": "ipython",
    "version": 3
   },
   "file_extension": ".py",
   "mimetype": "text/x-python",
   "name": "python",
   "nbconvert_exporter": "python",
   "pygments_lexer": "ipython3",
   "version": "3.12.6"
  }
 },
 "nbformat": 4,
 "nbformat_minor": 5
}
