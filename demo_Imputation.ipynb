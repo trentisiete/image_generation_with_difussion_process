{
 "cells": [
  {
   "cell_type": "markdown",
   "id": "63a9ff36",
   "metadata": {},
   "source": [
    "# Imputación de Imágenes usando Modelos de Difusión\n",
    "\n",
    "Este notebook demuestra cómo realizar la imputación de imágenes utilizando un modelo de puntuación (score model) pre-entrenado basado en Ecuaciones Diferenciales Estocásticas (SDEs), siguiendo las metodologías propuestas por Yang Song et al.\n",
    "\n",
    "**Objetivo:** Rellenar partes faltantes (enmascaradas) de una imagen (CIFAR-10) utilizando información contextual aprendida por el modelo de difusión. La máscara se generará a partir de imágenes del dataset MNIST.\n",
    "\n",
    "**Pasos:**\n",
    "1.  **Configuración:** Importar librerías, configurar el entorno y definir parámetros.\n",
    "2.  **Cargar Modelo:** Cargar el modelo de puntuación pre-entrenado y la configuración SDE correspondiente.\n",
    "3.  **Cargar Datos:** Cargar los datasets CIFAR-10 (imágenes originales) y MNIST (para generar máscaras).\n",
    "4.  **Preparar Entradas:** Crear las máscaras y preparar los tensores de entrada para la imputación.\n",
    "5.  **Visualizar Entrada:** Mostrar las imágenes originales con la máscara aplicada (zonas a imputar en negro).\n",
    "6.  **Ejecutar Imputación:** Utilizar el `imputation_sampler` para generar el contenido faltante.\n",
    "7.  **Visualizar Resultados:** Mostrar las imágenes imputadas y compararlas con las originales."
   ]
  },
  {
   "cell_type": "markdown",
   "id": "dc3b8c62",
   "metadata": {},
   "source": [
    "\n",
    "## 1. Configuración e Importaciones\n",
    "\n",
    "Cargamos las librerías necesarias, configuramos el autoreload, suprimimos warnings y añadimos las rutas de nuestros módulos locales al path de Python."
   ]
  },
  {
   "cell_type": "code",
   "execution_count": 3,
   "id": "440e69df",
   "metadata": {},
   "outputs": [
    {
     "name": "stdout",
     "output_type": "stream",
     "text": [
      "The autoreload extension is already loaded. To reload it, use:\n",
      "  %reload_ext autoreload\n"
     ]
    }
   ],
   "source": [
    "# Configuración inicial y carga de extensiones\n",
    "%load_ext autoreload\n",
    "%autoreload 2\n",
    "\n",
    "import warnings\n",
    "warnings.filterwarnings(\"ignore\")\n",
    "\n",
    "import numpy as np\n",
    "import json\n",
    "import sys\n",
    "import os\n",
    "from functools import partial\n",
    "import matplotlib.pyplot as plt\n",
    "\n",
    "# Añadir directorios locales al path para importar módulos propios\n",
    "module_paths = [\"diffusion\", \"utils\", \"models\", \"samplers\", \"imputation\"]\n",
    "for path_name in module_paths:\n",
    "    module_path = os.path.abspath(path_name)\n",
    "    if module_path not in sys.path:\n",
    "        sys.path.insert(0, module_path)\n",
    "        print(f\"Añadido al path: {module_path}\")\n",
    "\n",
    "# Importaciones de PyTorch y Torchvision\n",
    "import torch\n",
    "from torch.utils.data import DataLoader, Dataset\n",
    "from torchvision import datasets\n",
    "import torchvision.transforms as transforms\n",
    "\n",
    "# Importaciones específicas del proyecto (modelos, SDE, utilidades)\n",
    "from diffusion.schedules import LinearSchedule, CosineSchedule\n",
    "from diffusion.sde import VESDE, VPSDE, SubVPSDE\n",
    "from imputation.imputed_utilities import imputation_sampler, create_mask_from_mnist, show_images\n",
    "from models import score_net\n",
    "import tqdm # Para barras de progreso \n",
    "\n",
    "\n",
    "# Modelo\n",
    "from score_net import ScoreNet\n"
   ]
  },
  {
   "cell_type": "markdown",
   "id": "88144fbb",
   "metadata": {},
   "source": [
    "### 1.1. Configuración del Dispositivo (CPU/GPU)\n",
    "\n",
    "Detectamos si hay una GPU disponible y configuramos PyTorch para usarla. De lo contrario, usará la CPU."
   ]
  },
  {
   "cell_type": "code",
   "execution_count": 4,
   "id": "604848b2",
   "metadata": {},
   "outputs": [
    {
     "name": "stdout",
     "output_type": "stream",
     "text": [
      "GPU no encontrada. Usando CPU.\n",
      "Número de hilos de PyTorch: 10\n"
     ]
    }
   ],
   "source": [
    "if torch.cuda.is_available():\n",
    "    DEVICE = torch.device('cuda')\n",
    "    print(\"GPU disponible. Usando CUDA.\")\n",
    "    # torch.backends.cudnn.benchmark = True # Puede acelerar si los tamaños de entrada no varían\n",
    "else:\n",
    "    DEVICE = torch.device('cpu')\n",
    "    print(\"GPU no encontrada. Usando CPU.\")\n",
    "\n",
    "n_threads = torch.get_num_threads()\n",
    "print(f'Número de hilos de PyTorch: {n_threads}')"
   ]
  },
  {
   "cell_type": "markdown",
   "id": "48753a75",
   "metadata": {},
   "source": [
    "## 2. Carga del Modelo Pre-entrenado y Configuración SDE\n",
    "\n",
    "Cargamos el modelo de puntuación (`ScoreNet`) entrenado previamente y definimos la configuración de la SDE con la que fue entrenado."
   ]
  },
  {
   "cell_type": "code",
   "execution_count": 5,
   "id": "ca572c9a",
   "metadata": {},
   "outputs": [],
   "source": [
    "# --- Parámetros de Configuración del Modelo y SDE ---\n",
    "# Estos deben coincidir con los del checkpoint que se va a cargar\n",
    "\n",
    "# Parámetros de la Imagen (ajustados a CIFAR-10)\n",
    "IMG_SIZE = 32\n",
    "IMG_CHANNELS = 3\n",
    "\n",
    "# Parámetros de la SDE \n",
    "# Elige uno: 'VE', 'VP_Linear', 'VP_Cosine', 'SubVP_Linear', 'SubVP_Cosine'\n",
    "MODEL_TYPE = 'VE'  # <--- CAMBIA ESTO PARA SELECCIONAR EL MODELO\n",
    "\n",
    "SIGMA_MIN = 0.01         # Parámetro sigma_min para VE SDE\n",
    "SIGMA_MAX = 50.0         # Parámetro sigma_max para VE SDE\n",
    "SIGMA = 50.0             # Parámetro sigma para VE SDE (¿redundante si se usan min/max?) -> Verificar definición de VESDE\n",
    "T_END = 1.0              # Tiempo final (relevante para VP/SubVP)\n",
    "BETA_MIN = 0.1           # Para VP/SubVP SDE\n",
    "BETA_MAX = 20.0          # Para VP/SubVP SDE\n",
    "SCHEDULE_S = 0.008                # Para CosineSchedule"
   ]
  },
  {
   "cell_type": "code",
   "execution_count": 6,
   "id": "82d9cce2",
   "metadata": {},
   "outputs": [
    {
     "name": "stdout",
     "output_type": "stream",
     "text": [
      "Inicializado VESDE (sigma_min=0.01, sigma_max=50.0, sigma=50.0)\n"
     ]
    }
   ],
   "source": [
    "# --- Instanciar SDE según la configuración ---\n",
    "try:\n",
    "    if MODEL_TYPE == 'VE':\n",
    "        sde_instance = VESDE(sigma_min=SIGMA_MIN, sigma_max=SIGMA_MAX, sigma=SIGMA)\n",
    "        print(f\"Inicializado VESDE (sigma_min={SIGMA_MIN}, sigma_max={SIGMA_MAX}, sigma={SIGMA})\")\n",
    "    elif MODEL_TYPE == 'VP_Linear':\n",
    "        schedule = LinearSchedule(beta_min=BETA_MIN, beta_max=BETA_MAX, T=T_END)\n",
    "        sde_instance = VPSDE(schedule=schedule)\n",
    "        print(f\"Inicializado VPSDE con Schedule Lineal (beta_min={BETA_MIN}, beta_max={BETA_MAX})\")\n",
    "    elif MODEL_TYPE == 'VP_Cosine':\n",
    "        schedule = CosineSchedule(T=T_END, s=SCHEDULE_S)\n",
    "        sde_instance = VPSDE(schedule=schedule)\n",
    "        print(f\"Inicializado VPSDE con Schedule Coseno (s={SCHEDULE_S})\")\n",
    "    elif MODEL_TYPE == 'SubVP_Linear':\n",
    "        schedule = LinearSchedule(beta_min=BETA_MIN, beta_max=BETA_MAX, T=T_END)\n",
    "        sde_instance = SubVPSDE(schedule=schedule)\n",
    "        print(f\"Inicializado SubVPSDE con Schedule Lineal (beta_min={BETA_MIN}, beta_max={BETA_MAX})\")\n",
    "    elif MODEL_TYPE == 'SubVP_Cosine':\n",
    "        schedule = CosineSchedule(T=T_END, s=SCHEDULE_S)\n",
    "        sde_instance = SubVPSDE(schedule=schedule)\n",
    "        print(f\"Inicializado SubVPSDE con Schedule Coseno (s={SCHEDULE_S})\")\n",
    "    else:\n",
    "        raise ValueError(f\"Tipo de modelo desconocido: {MODEL_TYPE}\")\n",
    "\n",
    "\n",
    "except Exception as e:\n",
    "    print(f\"Error durante la inicialización del modelo o SDE: {e}\")\n",
    "    raise"
   ]
  },
  {
   "cell_type": "code",
   "execution_count": 7,
   "id": "accdb19a",
   "metadata": {},
   "outputs": [
    {
     "name": "stdout",
     "output_type": "stream",
     "text": [
      "Definiendo la arquitectura del modelo ScoreNet...\n"
     ]
    }
   ],
   "source": [
    "# --- Definición y Carga del Modelo ScoreNet ---\n",
    "print(\"Definiendo la arquitectura del modelo ScoreNet...\")\n",
    "score_model = score_net.ScoreNet(\n",
    "    marginal_prob_std=partial(sde_instance.sigma_t), # Pasar la función correcta\n",
    "    input_channels=IMG_CHANNELS,\n",
    "    output_channels=IMG_CHANNELS,\n",
    "    base_channels=128,\n",
    "    channel_mults=(1, 2, 2, 2),\n",
    "    num_res_blocks=2,\n",
    "    attn_resolutions=(8,), # Resolución donde aplicar attention (para 32x32 -> 32/4 = 8)\n",
    "    dropout=0.1\n",
    ").to(DEVICE)"
   ]
  },
  {
   "cell_type": "code",
   "execution_count": 8,
   "id": "a276e6cc",
   "metadata": {},
   "outputs": [
    {
     "name": "stdout",
     "output_type": "stream",
     "text": [
      "./checkpoints/scorenet_cifar10_VE_epoch_200.pth\n",
      "ScoreNet cargado desde ./checkpoints/scorenet_cifar10_VE_epoch_200.pth\n",
      "Checkpoint loaded successfully.\n"
     ]
    }
   ],
   "source": [
    "# Cargamos el modelo desde un checkpoint si existe\n",
    "checkpoints_files = {'VE': 200, 'VP_Linear': 50, 'VP_Cosine': 100, 'SubVP_Linear': 130, 'SubVP_Cosine': 20}\n",
    "\n",
    "score_model_path = f'./checkpoints/scorenet_cifar10_{MODEL_TYPE}_epoch_{checkpoints_files[MODEL_TYPE]}.pth'\n",
    "print(score_model_path)\n",
    "\n",
    "if os.path.exists(score_model_path):\n",
    "    score_model.load_state_dict(torch.load(score_model_path, map_location=DEVICE))\n",
    "\n",
    "    print(f\"ScoreNet cargado desde {score_model_path}\")\n",
    "else:\n",
    "    print(f\"WARN: No se encontró checkpoint de ScoreNet en {score_model_path}\")\n",
    "\n",
    "\n",
    "# score_model.load_state_dict(torch.load(f'./checkpoints/scorenet_cifar10_{MODEL_TYPE}_epoch_{checkpoints_files[MODEL_TYPE]}.pth', map_location=DEVICE))\n",
    "score_model.eval()\n",
    "print(\"Checkpoint loaded successfully.\")"
   ]
  },
  {
   "cell_type": "markdown",
   "id": "1defe82c",
   "metadata": {},
   "source": [
    "## 3. Carga y Preparación de Datos\n",
    "\n",
    "Cargamos el dataset CIFAR-10, que contiene las imágenes en color que queremos imputar. También cargamos el dataset MNIST, que usaremos para generar máscaras binarias (los dígitos definirán las áreas a *ocultar* y posteriormente imputar en las imágenes CIFAR-10).\n",
    "\n",
    "Se definen transformaciones específicas para cada dataset:\n",
    "* **CIFAR-10:** Se convierten a Tensor y se normalizan a `[-1, 1]`, que es el rango esperado por el modelo pre-entrenado.\n",
    "* **MNIST:** Se redimensionan al tamaño de las imágenes CIFAR-10 (32x32) y se convierten a Tensor `[0, 1]`. No se normalizan a `[-1, 1]` porque se usarán para crear una máscara binaria basada en un umbral sobre `[0, 1]`.\n",
    "\n",
    "Creamos DataLoaders para ambos datasets para poder iterar sobre ellos en batches. "
   ]
  },
  {
   "cell_type": "code",
   "execution_count": 9,
   "id": "73b209c6",
   "metadata": {},
   "outputs": [
    {
     "name": "stdout",
     "output_type": "stream",
     "text": [
      "Descargando/Cargando Datasets...\n",
      "Datasets cargados.\n",
      "DataLoaders creados.\n"
     ]
    }
   ],
   "source": [
    "# --- Constantes para la Carga de Datos ---\n",
    "DATA_BATCH_SIZE = 64  # Tamaño del batch para la demostración de imputación\n",
    "NUM_WORKERS = min(4, os.cpu_count() // 2 if os.cpu_count() > 1 else 1) # Número de workers para DataLoader\n",
    "\n",
    "# --- Transformaciones ---\n",
    "# Para CIFAR-10: Convertir a Tensor y normalizar a [-1, 1]\n",
    "cifar_transform = transforms.Compose([\n",
    "    transforms.ToTensor(), # Rango [0, 1]\n",
    "    transforms.Normalize(mean=(0.5, 0.5, 0.5), std=(0.5, 0.5, 0.5)) # Rango [-1, 1]\n",
    "])\n",
    "\n",
    "# Para MNIST: Redimensionar a 32x32 y convertir a Tensor [0, 1]\n",
    "mnist_transform = transforms.Compose([\n",
    "    transforms.Resize((IMG_SIZE, IMG_SIZE)), # Asegurar mismo tamaño que CIFAR\n",
    "    transforms.ToTensor() # Rango [0, 1]\n",
    "])\n",
    "\n",
    "# --- Datasets ---\n",
    "print(\"Descargando/Cargando Datasets...\")\n",
    "try:\n",
    "    cifar_dataset = datasets.CIFAR10(root='./data', train=True, download=True, transform=cifar_transform)\n",
    "    mnist_dataset = datasets.MNIST(root='./data', train=True, download=True, transform=mnist_transform)\n",
    "    print(\"Datasets cargados.\")\n",
    "except Exception as e:\n",
    "    print(f\"Error al descargar/cargar los datasets: {e}\")\n",
    "    raise\n",
    "\n",
    "# --- DataLoaders ---\n",
    "# Usamos drop_last=True para asegurar que los batches de zip tengan el mismo tamaño\n",
    "cifar_loader = DataLoader(\n",
    "    cifar_dataset,\n",
    "    batch_size=DATA_BATCH_SIZE,\n",
    "    shuffle=True,\n",
    "    num_workers=NUM_WORKERS,\n",
    "    pin_memory=torch.cuda.is_available(), # Usar pin_memory si hay GPU\n",
    "    drop_last=True\n",
    ")\n",
    "mnist_loader = DataLoader(\n",
    "    mnist_dataset,\n",
    "    batch_size=DATA_BATCH_SIZE,\n",
    "    shuffle=True,\n",
    "    num_workers=NUM_WORKERS,\n",
    "    pin_memory=torch.cuda.is_available(),\n",
    "    drop_last=True\n",
    ")\n",
    "print(\"DataLoaders creados.\")"
   ]
  },
  {
   "cell_type": "markdown",
   "id": "0cf54069",
   "metadata": {},
   "source": [
    "## 4. Creación de la Máscara y Preparación de Entradas para Imputación\n",
    "\n",
    "Obtenemos un batch de imágenes CIFAR-10 y un batch de imágenes MNIST. Usamos las imágenes MNIST para crear máscaras binarias donde el dígito (valores bajos, cercanos a 0) representará la zona a ocultar (valor 0 en la máscara) y el fondo (valores altos, cercanos a 1) representará la zona a mantener (valor 1 en la máscara).\n",
    "\n",
    "Preparamos las entradas clave para el `imputation_sampler`:\n",
    "* `x_known_input`: La imagen CIFAR-10 original completa (normalizada a `[-1, 1]`).\n",
    "* `batch_masks`: La máscara binaria (`0` donde imputar, `1` donde mantener), con dimensiones `(B, 1, H, W)`.\n",
    "\n",
    "Además, creamos una versión de la imagen CIFAR-10 con las zonas enmascaradas puestas a negro (`-1.0`) únicamente con fines de visualización, para ver claramente qué partes de la imagen se van a imputar."
   ]
  },
  {
   "cell_type": "code",
   "execution_count": 10,
   "id": "5c02347a",
   "metadata": {},
   "outputs": [
    {
     "name": "stdout",
     "output_type": "stream",
     "text": [
      "Obteniendo un batch de CIFAR-10 y MNIST...\n",
      "Batch obtenido: CIFAR shape=torch.Size([64, 3, 32, 32]), MNIST shape=torch.Size([64, 1, 32, 32])\n",
      "Máscaras creadas con umbral 0.1. Shape: torch.Size([64, 1, 32, 32])\n",
      "Imagen con máscara negra creada para visualización.\n"
     ]
    }
   ],
   "source": [
    "# --- Obtener un batch de datos ---\n",
    "print(\"Obteniendo un batch de CIFAR-10 y MNIST...\")\n",
    "try:\n",
    "    # Usamos zip para iterar sobre ambos DataLoaders simultáneamente\n",
    "    cifar_batch, mnist_batch = next(iter(zip(cifar_loader, mnist_loader)))\n",
    "except StopIteration:\n",
    "    print(\"Error: Uno de los DataLoaders está vacío o ha terminado. Reiniciando iteradores para demostración.\")\n",
    "    # Reiniciar los iteradores si es necesario (para ejecución repetida en notebook)\n",
    "    cifar_iter = iter(cifar_loader)\n",
    "    mnist_iter = iter(mnist_loader)\n",
    "    cifar_batch = next(cifar_iter)\n",
    "    mnist_batch = next(mnist_iter)\n",
    "\n",
    "# Desempaquetar imágenes (ignoramos las etiquetas)\n",
    "cifar_images, _ = cifar_batch\n",
    "mnist_images, _ = mnist_batch\n",
    "print(f\"Batch obtenido: CIFAR shape={cifar_images.shape}, MNIST shape={mnist_images.shape}\")\n",
    "\n",
    "# --- Crear Máscara Binaria desde MNIST ---\n",
    "# mnist_images están en [0, 1]. Queremos máscara 0 para dígito, 1 para fondo.\n",
    "# Ajusta el umbral según sea necesario. Un umbral bajo hace que más área sea dígito (máscara=0).\n",
    "MASK_THRESHOLD = 0.1\n",
    "batch_masks = create_mask_from_mnist(mnist_images, threshold=MASK_THRESHOLD) # Esta función debería devolver 0 para dígito, 1 para fondo\n",
    "print(f\"Máscaras creadas con umbral {MASK_THRESHOLD}. Shape: {batch_masks.shape}\")\n",
    "\n",
    "# --- Preparar Inputs para el Sampler ---\n",
    "# Mover tensores al dispositivo correcto (GPU o CPU)\n",
    "x_known_input = cifar_images.clone().to(DEVICE) # Imagen original CIFAR [-1, 1]\n",
    "batch_masks = batch_masks.to(DEVICE)          # Máscara binaria [0, 1]\n",
    "\n",
    "# --- Crear Imagen con Máscara Negra (Solo para Visualización) ---\n",
    "# Creamos un tensor negro (-1.0 ya que CIFAR está normalizado a [-1, 1])\n",
    "black_tensor = torch.full_like(x_known_input, -1.0)\n",
    "# Donde la máscara es 0 (dígito), ponemos negro. Donde es 1 (fondo), mantenemos la imagen original.\n",
    "# torch.where necesita que la condición (máscara) sea booleana.\n",
    "# La máscara (B, 1, H, W) se expandirá automáticamente a (B, C, H, W).\n",
    "images_for_before_visualization = torch.where(batch_masks.bool(), x_known_input, black_tensor)\n",
    "print(\"Imagen con máscara negra creada para visualización.\")"
   ]
  },
  {
   "cell_type": "markdown",
   "id": "7270da69",
   "metadata": {},
   "source": [
    "\n",
    "## 5. Visualizar la Entrada Enmascarada\n",
    "Mostramos algunas imágenes del batch CIFAR-10 con las áreas correspondientes a los dígitos MNIST ocultas (en negro). Esto representa la información que el modelo de imputación tendrá disponible."
   ]
  },
  {
   "cell_type": "code",
   "execution_count": 13,
   "id": "cdf5663e",
   "metadata": {},
   "outputs": [
    {
     "name": "stdout",
     "output_type": "stream",
     "text": [
      "\n",
      "--- Imágenes Originales con Máscara Aplicada (Entrada para Imputación Visualizada) ---\n"
     ]
    },
    {
     "data": {
      "image/png": "[encoded data removed]",
      "text/plain": [
       "<Figure size 2400x300 with 8 Axes>"
      ]
     },
     "metadata": {},
     "output_type": "display_data"
    }
   ],
   "source": [
    "print(\"\\n--- Imágenes Originales con Máscara Aplicada (Entrada para Imputación Visualizada) ---\")\n",
    "# Usamos la función show_images (asegúrate que esté importada y funcione con tensores [-1, 1])\n",
    "# Ajusta num_to_show según cuántas quieras ver\n",
    "show_images(images_for_before_visualization.cpu(), title=\"Imágenes Enmascaradas (Vista de Entrada)\", num_to_show=8)\n",
    "plt.show()"
   ]
  },
  {
   "cell_type": "markdown",
   "id": "a2454e16",
   "metadata": {},
   "source": [
    "## 6. Ejecutar el Proceso de Imputación\n",
    "\n",
    "Ahora llamamos a la función `imputation_sampler`. Esta función utiliza el modelo de puntuación (`score_model`), la SDE definida, la imagen original (`x_known`) y la máscara (`mask`) para, iterativamente, generar el contenido de las regiones enmascaradas (donde `mask == 0`).\n",
    "\n",
    "**Parámetros Clave del Sampler:**\n",
    "* `x_known`: La imagen original completa (tensor `(B, C, H, W)` en `[-1, 1]`).\n",
    "* `mask`: La máscara binaria (tensor `(B, 1, H, W)` con `0` para imputar, `1` para mantener).\n",
    "* `sde`: La instancia de la SDE (VE, VP, etc.).\n",
    "* `score_model`: El modelo de puntuación pre-entrenado.\n",
    "* `n_steps`: Número de pasos de discretización en el proceso de muestreo inverso. Más pasos suelen dar mejores resultados pero tardan más.\n",
    "* `t_end`: Tiempo final (cercano a 0) hasta el cual revertir la SDE.\n",
    "* `device`: El dispositivo (CPU/GPU) donde realizar los cálculos."
   ]
  },
  {
   "cell_type": "code",
   "execution_count": 14,
   "id": "f5a926f5",
   "metadata": {},
   "outputs": [
    {
     "name": "stdout",
     "output_type": "stream",
     "text": [
      "\n",
      "--- Ejecutando Imputation Sampler (1000 pasos) ---\n",
      "Iniciando imputación con 1000 pasos...\n"
     ]
    },
    {
     "data": {
      "application/vnd.jupyter.widget-view+json": {
       "model_id": "31e6c92c8f954e679c05109e92171a87",
       "version_major": 2,
       "version_minor": 0
      },
      "text/plain": [
       "  0%|          | 0/1000 [00:00<?, ?it/s]"
      ]
     },
     "metadata": {},
     "output_type": "display_data"
    },
    {
     "ename": "KeyboardInterrupt",
     "evalue": "",
     "output_type": "error",
     "traceback": [
      "\u001b[1;31m---------------------------------------------------------------------------\u001b[0m",
      "\u001b[1;31mKeyboardInterrupt\u001b[0m                         Traceback (most recent call last)",
      "Cell \u001b[1;32mIn[14], line 8\u001b[0m\n\u001b[0;32m      6\u001b[0m \u001b[38;5;28mprint\u001b[39m(\u001b[38;5;124mf\u001b[39m\u001b[38;5;124m\"\u001b[39m\u001b[38;5;130;01m\\n\u001b[39;00m\u001b[38;5;124m--- Ejecutando Imputation Sampler (\u001b[39m\u001b[38;5;132;01m{\u001b[39;00mN_STEPS_IMPUTATION\u001b[38;5;132;01m}\u001b[39;00m\u001b[38;5;124m pasos) ---\u001b[39m\u001b[38;5;124m\"\u001b[39m)\n\u001b[0;32m      7\u001b[0m \u001b[38;5;66;03m# Asegúrate de pasar los tensores correctos que están en DEVICE\u001b[39;00m\n\u001b[1;32m----> 8\u001b[0m imagen_imputada \u001b[38;5;241m=\u001b[39m \u001b[43mimputation_sampler\u001b[49m\u001b[43m(\u001b[49m\n\u001b[0;32m      9\u001b[0m \u001b[43m    \u001b[49m\u001b[43mx_known\u001b[49m\u001b[38;5;241;43m=\u001b[39;49m\u001b[43mx_known_input\u001b[49m\u001b[43m,\u001b[49m\u001b[43m    \u001b[49m\u001b[38;5;66;43;03m# Imagen CIFAR original [-1, 1]\u001b[39;49;00m\n\u001b[0;32m     10\u001b[0m \u001b[43m    \u001b[49m\u001b[43mmask\u001b[49m\u001b[38;5;241;43m=\u001b[39;49m\u001b[43mbatch_masks\u001b[49m\u001b[43m,\u001b[49m\u001b[43m         \u001b[49m\u001b[38;5;66;43;03m# Máscara binaria [0, 1] (0=imputar, 1=mantener)\u001b[39;49;00m\n\u001b[0;32m     11\u001b[0m \u001b[43m    \u001b[49m\u001b[43msde\u001b[49m\u001b[38;5;241;43m=\u001b[39;49m\u001b[43msde_instance\u001b[49m\u001b[43m,\u001b[49m\n\u001b[0;32m     12\u001b[0m \u001b[43m    \u001b[49m\u001b[43mscore_model\u001b[49m\u001b[38;5;241;43m=\u001b[39;49m\u001b[43mscore_model\u001b[49m\u001b[43m,\u001b[49m\n\u001b[0;32m     13\u001b[0m \u001b[43m    \u001b[49m\u001b[43mn_steps\u001b[49m\u001b[38;5;241;43m=\u001b[39;49m\u001b[43mN_STEPS_IMPUTATION\u001b[49m\u001b[43m,\u001b[49m\n\u001b[0;32m     14\u001b[0m \u001b[43m    \u001b[49m\u001b[43mt_end\u001b[49m\u001b[38;5;241;43m=\u001b[39;49m\u001b[43mT_END_IMPUTATION\u001b[49m\u001b[43m,\u001b[49m\n\u001b[0;32m     15\u001b[0m \u001b[43m    \u001b[49m\u001b[43mdevice\u001b[49m\u001b[38;5;241;43m=\u001b[39;49m\u001b[43mDEVICE\u001b[49m\n\u001b[0;32m     16\u001b[0m \u001b[43m)\u001b[49m\n\u001b[0;32m     17\u001b[0m \u001b[38;5;28mprint\u001b[39m(\u001b[38;5;124m\"\u001b[39m\u001b[38;5;124m--- Imputación Finalizada ---\u001b[39m\u001b[38;5;124m\"\u001b[39m)\n\u001b[0;32m     18\u001b[0m \u001b[38;5;66;03m# imagen_imputada contendrá el resultado de la imputación en el DEVICE\u001b[39;00m\n",
      "File \u001b[1;32mc:\\Users\\loren\\AppData\\Local\\Programs\\Python\\Python312\\Lib\\site-packages\\torch\\utils\\_contextlib.py:116\u001b[0m, in \u001b[0;36mcontext_decorator.<locals>.decorate_context\u001b[1;34m(*args, **kwargs)\u001b[0m\n\u001b[0;32m    113\u001b[0m \u001b[38;5;129m@functools\u001b[39m\u001b[38;5;241m.\u001b[39mwraps(func)\n\u001b[0;32m    114\u001b[0m \u001b[38;5;28;01mdef\u001b[39;00m \u001b[38;5;21mdecorate_context\u001b[39m(\u001b[38;5;241m*\u001b[39margs, \u001b[38;5;241m*\u001b[39m\u001b[38;5;241m*\u001b[39mkwargs):\n\u001b[0;32m    115\u001b[0m     \u001b[38;5;28;01mwith\u001b[39;00m ctx_factory():\n\u001b[1;32m--> 116\u001b[0m         \u001b[38;5;28;01mreturn\u001b[39;00m \u001b[43mfunc\u001b[49m\u001b[43m(\u001b[49m\u001b[38;5;241;43m*\u001b[39;49m\u001b[43margs\u001b[49m\u001b[43m,\u001b[49m\u001b[43m \u001b[49m\u001b[38;5;241;43m*\u001b[39;49m\u001b[38;5;241;43m*\u001b[39;49m\u001b[43mkwargs\u001b[49m\u001b[43m)\u001b[49m\n",
      "File \u001b[1;32mg:\\.shortcut-targets-by-id\\19gjx_3MURKjPHKmQWwFHL2jurbVxA_kO\\SEMESTRE 6\\AAUTO III\\Proyecto_v3\\imputation\\imputed_utilities.py:87\u001b[0m, in \u001b[0;36mimputation_sampler\u001b[1;34m(x_known, mask, sde, score_model, n_steps, t_start, t_end, device)\u001b[0m\n\u001b[0;32m     78\u001b[0m xt_known_est \u001b[38;5;241m=\u001b[39m mu_known \u001b[38;5;241m+\u001b[39m std_known[:, \u001b[38;5;28;01mNone\u001b[39;00m, \u001b[38;5;28;01mNone\u001b[39;00m, \u001b[38;5;28;01mNone\u001b[39;00m] \u001b[38;5;241m*\u001b[39m noise_known\n\u001b[0;32m     80\u001b[0m \u001b[38;5;66;03m# Combinar la estimación de conocidos con la estimación actual de desconocidos\u001b[39;00m\n\u001b[0;32m     81\u001b[0m \u001b[38;5;66;03m# Esto no se usa directamente en el score, pero es conceptualmente lo que pasa\u001b[39;00m\n\u001b[0;32m     82\u001b[0m \u001b[38;5;66;03m# xt_combined_conceptual = xt_known_est * mask + x_t * (1 - mask)\u001b[39;00m\n\u001b[1;32m   (...)\u001b[0m\n\u001b[0;32m     85\u001b[0m \n\u001b[0;32m     86\u001b[0m \u001b[38;5;66;03m# Calcular el drift inverso y la difusión para el paso de Euler\u001b[39;00m\n\u001b[1;32m---> 87\u001b[0m drift \u001b[38;5;241m=\u001b[39m \u001b[43msde\u001b[49m\u001b[38;5;241;43m.\u001b[39;49m\u001b[43mbackward_drift_coefficient\u001b[49m\u001b[43m(\u001b[49m\u001b[43mx_t\u001b[49m\u001b[43m,\u001b[49m\u001b[43m \u001b[49m\u001b[43mvec_t_current\u001b[49m\u001b[43m,\u001b[49m\u001b[43m \u001b[49m\u001b[43mscore_model\u001b[49m\u001b[43m)\u001b[49m\n\u001b[0;32m     88\u001b[0m diffusion \u001b[38;5;241m=\u001b[39m sde\u001b[38;5;241m.\u001b[39mdiffusion_coefficient(vec_t_current)\n\u001b[0;32m     90\u001b[0m \u001b[38;5;66;03m# Paso de Euler inverso (predictor)\u001b[39;00m\n",
      "File \u001b[1;32mg:\\.shortcut-targets-by-id\\19gjx_3MURKjPHKmQWwFHL2jurbVxA_kO\\SEMESTRE 6\\AAUTO III\\Proyecto_v3\\diffusion\\sde.py:207\u001b[0m, in \u001b[0;36mVESDE.__init__.<locals>.backward_drift_coefficient\u001b[1;34m(x_t, t, score_model)\u001b[0m\n\u001b[0;32m    200\u001b[0m \u001b[38;5;250m\u001b[39m\u001b[38;5;124;03m\"\"\"\u001b[39;00m\n\u001b[0;32m    201\u001b[0m \u001b[38;5;124;03mDrift de la SDE inversa para VE:\u001b[39;00m\n\u001b[0;32m    202\u001b[0m \u001b[38;5;124;03mdx/dt = - g(t)^2 * score(x, t)\u001b[39;00m\n\u001b[0;32m    203\u001b[0m \n\u001b[0;32m    204\u001b[0m \u001b[38;5;124;03mSe utiliza el score_model proporcionado en sample_images.\u001b[39;00m\n\u001b[0;32m    205\u001b[0m \u001b[38;5;124;03m\"\"\"\u001b[39;00m\n\u001b[0;32m    206\u001b[0m \u001b[38;5;66;03m# Estimar el score utilizando el modelo entrenado\u001b[39;00m\n\u001b[1;32m--> 207\u001b[0m s \u001b[38;5;241m=\u001b[39m \u001b[43mscore_model\u001b[49m\u001b[43m(\u001b[49m\u001b[43mx_t\u001b[49m\u001b[43m,\u001b[49m\u001b[43m \u001b[49m\u001b[43mt\u001b[49m\u001b[43m)\u001b[49m\n\u001b[0;32m    209\u001b[0m \u001b[38;5;66;03m# Crear un tensor de unos con la misma forma que s para multiplicar por g(t)^2\u001b[39;00m\n\u001b[0;32m    210\u001b[0m diffusion_coefficient_reshaped \u001b[38;5;241m=\u001b[39m torch\u001b[38;5;241m.\u001b[39mones_like(s)\n",
      "File \u001b[1;32mc:\\Users\\loren\\AppData\\Local\\Programs\\Python\\Python312\\Lib\\site-packages\\torch\\nn\\modules\\module.py:1739\u001b[0m, in \u001b[0;36mModule._wrapped_call_impl\u001b[1;34m(self, *args, **kwargs)\u001b[0m\n\u001b[0;32m   1737\u001b[0m     \u001b[38;5;28;01mreturn\u001b[39;00m \u001b[38;5;28mself\u001b[39m\u001b[38;5;241m.\u001b[39m_compiled_call_impl(\u001b[38;5;241m*\u001b[39margs, \u001b[38;5;241m*\u001b[39m\u001b[38;5;241m*\u001b[39mkwargs)  \u001b[38;5;66;03m# type: ignore[misc]\u001b[39;00m\n\u001b[0;32m   1738\u001b[0m \u001b[38;5;28;01melse\u001b[39;00m:\n\u001b[1;32m-> 1739\u001b[0m     \u001b[38;5;28;01mreturn\u001b[39;00m \u001b[38;5;28;43mself\u001b[39;49m\u001b[38;5;241;43m.\u001b[39;49m\u001b[43m_call_impl\u001b[49m\u001b[43m(\u001b[49m\u001b[38;5;241;43m*\u001b[39;49m\u001b[43margs\u001b[49m\u001b[43m,\u001b[49m\u001b[43m \u001b[49m\u001b[38;5;241;43m*\u001b[39;49m\u001b[38;5;241;43m*\u001b[39;49m\u001b[43mkwargs\u001b[49m\u001b[43m)\u001b[49m\n",
      "File \u001b[1;32mc:\\Users\\loren\\AppData\\Local\\Programs\\Python\\Python312\\Lib\\site-packages\\torch\\nn\\modules\\module.py:1750\u001b[0m, in \u001b[0;36mModule._call_impl\u001b[1;34m(self, *args, **kwargs)\u001b[0m\n\u001b[0;32m   1745\u001b[0m \u001b[38;5;66;03m# If we don't have any hooks, we want to skip the rest of the logic in\u001b[39;00m\n\u001b[0;32m   1746\u001b[0m \u001b[38;5;66;03m# this function, and just call forward.\u001b[39;00m\n\u001b[0;32m   1747\u001b[0m \u001b[38;5;28;01mif\u001b[39;00m \u001b[38;5;129;01mnot\u001b[39;00m (\u001b[38;5;28mself\u001b[39m\u001b[38;5;241m.\u001b[39m_backward_hooks \u001b[38;5;129;01mor\u001b[39;00m \u001b[38;5;28mself\u001b[39m\u001b[38;5;241m.\u001b[39m_backward_pre_hooks \u001b[38;5;129;01mor\u001b[39;00m \u001b[38;5;28mself\u001b[39m\u001b[38;5;241m.\u001b[39m_forward_hooks \u001b[38;5;129;01mor\u001b[39;00m \u001b[38;5;28mself\u001b[39m\u001b[38;5;241m.\u001b[39m_forward_pre_hooks\n\u001b[0;32m   1748\u001b[0m         \u001b[38;5;129;01mor\u001b[39;00m _global_backward_pre_hooks \u001b[38;5;129;01mor\u001b[39;00m _global_backward_hooks\n\u001b[0;32m   1749\u001b[0m         \u001b[38;5;129;01mor\u001b[39;00m _global_forward_hooks \u001b[38;5;129;01mor\u001b[39;00m _global_forward_pre_hooks):\n\u001b[1;32m-> 1750\u001b[0m     \u001b[38;5;28;01mreturn\u001b[39;00m \u001b[43mforward_call\u001b[49m\u001b[43m(\u001b[49m\u001b[38;5;241;43m*\u001b[39;49m\u001b[43margs\u001b[49m\u001b[43m,\u001b[49m\u001b[43m \u001b[49m\u001b[38;5;241;43m*\u001b[39;49m\u001b[38;5;241;43m*\u001b[39;49m\u001b[43mkwargs\u001b[49m\u001b[43m)\u001b[49m\n\u001b[0;32m   1752\u001b[0m result \u001b[38;5;241m=\u001b[39m \u001b[38;5;28;01mNone\u001b[39;00m\n\u001b[0;32m   1753\u001b[0m called_always_called_hooks \u001b[38;5;241m=\u001b[39m \u001b[38;5;28mset\u001b[39m()\n",
      "File \u001b[1;32mg:\\.shortcut-targets-by-id\\19gjx_3MURKjPHKmQWwFHL2jurbVxA_kO\\SEMESTRE 6\\AAUTO III\\Proyecto_v3\\models\\score_net.py:265\u001b[0m, in \u001b[0;36mScoreNet.forward\u001b[1;34m(self, x, t)\u001b[0m\n\u001b[0;32m    263\u001b[0m     \u001b[38;5;66;03m# Concatenar y pasar por el bloque\u001b[39;00m\n\u001b[0;32m    264\u001b[0m     h \u001b[38;5;241m=\u001b[39m torch\u001b[38;5;241m.\u001b[39mcat([h, skip_h], dim\u001b[38;5;241m=\u001b[39m\u001b[38;5;241m1\u001b[39m)\n\u001b[1;32m--> 265\u001b[0m     h \u001b[38;5;241m=\u001b[39m \u001b[43mblock\u001b[49m\u001b[43m(\u001b[49m\u001b[43mh\u001b[49m\u001b[43m,\u001b[49m\u001b[43m \u001b[49m\u001b[43mtime_emb\u001b[49m\u001b[43m)\u001b[49m\n\u001b[0;32m    266\u001b[0m \u001b[38;5;28;01melif\u001b[39;00m \u001b[38;5;28misinstance\u001b[39m(block, Upsample):\n\u001b[0;32m    267\u001b[0m     h \u001b[38;5;241m=\u001b[39m block(h)\n",
      "File \u001b[1;32mc:\\Users\\loren\\AppData\\Local\\Programs\\Python\\Python312\\Lib\\site-packages\\torch\\nn\\modules\\module.py:1739\u001b[0m, in \u001b[0;36mModule._wrapped_call_impl\u001b[1;34m(self, *args, **kwargs)\u001b[0m\n\u001b[0;32m   1737\u001b[0m     \u001b[38;5;28;01mreturn\u001b[39;00m \u001b[38;5;28mself\u001b[39m\u001b[38;5;241m.\u001b[39m_compiled_call_impl(\u001b[38;5;241m*\u001b[39margs, \u001b[38;5;241m*\u001b[39m\u001b[38;5;241m*\u001b[39mkwargs)  \u001b[38;5;66;03m# type: ignore[misc]\u001b[39;00m\n\u001b[0;32m   1738\u001b[0m \u001b[38;5;28;01melse\u001b[39;00m:\n\u001b[1;32m-> 1739\u001b[0m     \u001b[38;5;28;01mreturn\u001b[39;00m \u001b[38;5;28;43mself\u001b[39;49m\u001b[38;5;241;43m.\u001b[39;49m\u001b[43m_call_impl\u001b[49m\u001b[43m(\u001b[49m\u001b[38;5;241;43m*\u001b[39;49m\u001b[43margs\u001b[49m\u001b[43m,\u001b[49m\u001b[43m \u001b[49m\u001b[38;5;241;43m*\u001b[39;49m\u001b[38;5;241;43m*\u001b[39;49m\u001b[43mkwargs\u001b[49m\u001b[43m)\u001b[49m\n",
      "File \u001b[1;32mc:\\Users\\loren\\AppData\\Local\\Programs\\Python\\Python312\\Lib\\site-packages\\torch\\nn\\modules\\module.py:1750\u001b[0m, in \u001b[0;36mModule._call_impl\u001b[1;34m(self, *args, **kwargs)\u001b[0m\n\u001b[0;32m   1745\u001b[0m \u001b[38;5;66;03m# If we don't have any hooks, we want to skip the rest of the logic in\u001b[39;00m\n\u001b[0;32m   1746\u001b[0m \u001b[38;5;66;03m# this function, and just call forward.\u001b[39;00m\n\u001b[0;32m   1747\u001b[0m \u001b[38;5;28;01mif\u001b[39;00m \u001b[38;5;129;01mnot\u001b[39;00m (\u001b[38;5;28mself\u001b[39m\u001b[38;5;241m.\u001b[39m_backward_hooks \u001b[38;5;129;01mor\u001b[39;00m \u001b[38;5;28mself\u001b[39m\u001b[38;5;241m.\u001b[39m_backward_pre_hooks \u001b[38;5;129;01mor\u001b[39;00m \u001b[38;5;28mself\u001b[39m\u001b[38;5;241m.\u001b[39m_forward_hooks \u001b[38;5;129;01mor\u001b[39;00m \u001b[38;5;28mself\u001b[39m\u001b[38;5;241m.\u001b[39m_forward_pre_hooks\n\u001b[0;32m   1748\u001b[0m         \u001b[38;5;129;01mor\u001b[39;00m _global_backward_pre_hooks \u001b[38;5;129;01mor\u001b[39;00m _global_backward_hooks\n\u001b[0;32m   1749\u001b[0m         \u001b[38;5;129;01mor\u001b[39;00m _global_forward_hooks \u001b[38;5;129;01mor\u001b[39;00m _global_forward_pre_hooks):\n\u001b[1;32m-> 1750\u001b[0m     \u001b[38;5;28;01mreturn\u001b[39;00m \u001b[43mforward_call\u001b[49m\u001b[43m(\u001b[49m\u001b[38;5;241;43m*\u001b[39;49m\u001b[43margs\u001b[49m\u001b[43m,\u001b[49m\u001b[43m \u001b[49m\u001b[38;5;241;43m*\u001b[39;49m\u001b[38;5;241;43m*\u001b[39;49m\u001b[43mkwargs\u001b[49m\u001b[43m)\u001b[49m\n\u001b[0;32m   1752\u001b[0m result \u001b[38;5;241m=\u001b[39m \u001b[38;5;28;01mNone\u001b[39;00m\n\u001b[0;32m   1753\u001b[0m called_always_called_hooks \u001b[38;5;241m=\u001b[39m \u001b[38;5;28mset\u001b[39m()\n",
      "File \u001b[1;32mg:\\.shortcut-targets-by-id\\19gjx_3MURKjPHKmQWwFHL2jurbVxA_kO\\SEMESTRE 6\\AAUTO III\\Proyecto_v3\\models\\score_net.py:93\u001b[0m, in \u001b[0;36mResidualBlock.forward\u001b[1;34m(self, x, time_emb)\u001b[0m\n\u001b[0;32m     91\u001b[0m h \u001b[38;5;241m=\u001b[39m \u001b[38;5;28mself\u001b[39m\u001b[38;5;241m.\u001b[39mdropout(h)\n\u001b[0;32m     92\u001b[0m h \u001b[38;5;241m=\u001b[39m \u001b[38;5;28mself\u001b[39m\u001b[38;5;241m.\u001b[39mconv2(h)\n\u001b[1;32m---> 93\u001b[0m \u001b[38;5;28;01mreturn\u001b[39;00m h \u001b[38;5;241m+\u001b[39m \u001b[38;5;28;43mself\u001b[39;49m\u001b[38;5;241;43m.\u001b[39;49m\u001b[43mskip_connection\u001b[49m\u001b[43m(\u001b[49m\u001b[43mresidual\u001b[49m\u001b[43m)\u001b[49m\n",
      "File \u001b[1;32mc:\\Users\\loren\\AppData\\Local\\Programs\\Python\\Python312\\Lib\\site-packages\\torch\\nn\\modules\\module.py:1739\u001b[0m, in \u001b[0;36mModule._wrapped_call_impl\u001b[1;34m(self, *args, **kwargs)\u001b[0m\n\u001b[0;32m   1737\u001b[0m     \u001b[38;5;28;01mreturn\u001b[39;00m \u001b[38;5;28mself\u001b[39m\u001b[38;5;241m.\u001b[39m_compiled_call_impl(\u001b[38;5;241m*\u001b[39margs, \u001b[38;5;241m*\u001b[39m\u001b[38;5;241m*\u001b[39mkwargs)  \u001b[38;5;66;03m# type: ignore[misc]\u001b[39;00m\n\u001b[0;32m   1738\u001b[0m \u001b[38;5;28;01melse\u001b[39;00m:\n\u001b[1;32m-> 1739\u001b[0m     \u001b[38;5;28;01mreturn\u001b[39;00m \u001b[38;5;28;43mself\u001b[39;49m\u001b[38;5;241;43m.\u001b[39;49m\u001b[43m_call_impl\u001b[49m\u001b[43m(\u001b[49m\u001b[38;5;241;43m*\u001b[39;49m\u001b[43margs\u001b[49m\u001b[43m,\u001b[49m\u001b[43m \u001b[49m\u001b[38;5;241;43m*\u001b[39;49m\u001b[38;5;241;43m*\u001b[39;49m\u001b[43mkwargs\u001b[49m\u001b[43m)\u001b[49m\n",
      "File \u001b[1;32mc:\\Users\\loren\\AppData\\Local\\Programs\\Python\\Python312\\Lib\\site-packages\\torch\\nn\\modules\\module.py:1750\u001b[0m, in \u001b[0;36mModule._call_impl\u001b[1;34m(self, *args, **kwargs)\u001b[0m\n\u001b[0;32m   1745\u001b[0m \u001b[38;5;66;03m# If we don't have any hooks, we want to skip the rest of the logic in\u001b[39;00m\n\u001b[0;32m   1746\u001b[0m \u001b[38;5;66;03m# this function, and just call forward.\u001b[39;00m\n\u001b[0;32m   1747\u001b[0m \u001b[38;5;28;01mif\u001b[39;00m \u001b[38;5;129;01mnot\u001b[39;00m (\u001b[38;5;28mself\u001b[39m\u001b[38;5;241m.\u001b[39m_backward_hooks \u001b[38;5;129;01mor\u001b[39;00m \u001b[38;5;28mself\u001b[39m\u001b[38;5;241m.\u001b[39m_backward_pre_hooks \u001b[38;5;129;01mor\u001b[39;00m \u001b[38;5;28mself\u001b[39m\u001b[38;5;241m.\u001b[39m_forward_hooks \u001b[38;5;129;01mor\u001b[39;00m \u001b[38;5;28mself\u001b[39m\u001b[38;5;241m.\u001b[39m_forward_pre_hooks\n\u001b[0;32m   1748\u001b[0m         \u001b[38;5;129;01mor\u001b[39;00m _global_backward_pre_hooks \u001b[38;5;129;01mor\u001b[39;00m _global_backward_hooks\n\u001b[0;32m   1749\u001b[0m         \u001b[38;5;129;01mor\u001b[39;00m _global_forward_hooks \u001b[38;5;129;01mor\u001b[39;00m _global_forward_pre_hooks):\n\u001b[1;32m-> 1750\u001b[0m     \u001b[38;5;28;01mreturn\u001b[39;00m \u001b[43mforward_call\u001b[49m\u001b[43m(\u001b[49m\u001b[38;5;241;43m*\u001b[39;49m\u001b[43margs\u001b[49m\u001b[43m,\u001b[49m\u001b[43m \u001b[49m\u001b[38;5;241;43m*\u001b[39;49m\u001b[38;5;241;43m*\u001b[39;49m\u001b[43mkwargs\u001b[49m\u001b[43m)\u001b[49m\n\u001b[0;32m   1752\u001b[0m result \u001b[38;5;241m=\u001b[39m \u001b[38;5;28;01mNone\u001b[39;00m\n\u001b[0;32m   1753\u001b[0m called_always_called_hooks \u001b[38;5;241m=\u001b[39m \u001b[38;5;28mset\u001b[39m()\n",
      "File \u001b[1;32mc:\\Users\\loren\\AppData\\Local\\Programs\\Python\\Python312\\Lib\\site-packages\\torch\\nn\\modules\\conv.py:554\u001b[0m, in \u001b[0;36mConv2d.forward\u001b[1;34m(self, input)\u001b[0m\n\u001b[0;32m    553\u001b[0m \u001b[38;5;28;01mdef\u001b[39;00m \u001b[38;5;21mforward\u001b[39m(\u001b[38;5;28mself\u001b[39m, \u001b[38;5;28minput\u001b[39m: Tensor) \u001b[38;5;241m-\u001b[39m\u001b[38;5;241m>\u001b[39m Tensor:\n\u001b[1;32m--> 554\u001b[0m     \u001b[38;5;28;01mreturn\u001b[39;00m \u001b[38;5;28;43mself\u001b[39;49m\u001b[38;5;241;43m.\u001b[39;49m\u001b[43m_conv_forward\u001b[49m\u001b[43m(\u001b[49m\u001b[38;5;28;43minput\u001b[39;49m\u001b[43m,\u001b[49m\u001b[43m \u001b[49m\u001b[38;5;28;43mself\u001b[39;49m\u001b[38;5;241;43m.\u001b[39;49m\u001b[43mweight\u001b[49m\u001b[43m,\u001b[49m\u001b[43m \u001b[49m\u001b[38;5;28;43mself\u001b[39;49m\u001b[38;5;241;43m.\u001b[39;49m\u001b[43mbias\u001b[49m\u001b[43m)\u001b[49m\n",
      "File \u001b[1;32mc:\\Users\\loren\\AppData\\Local\\Programs\\Python\\Python312\\Lib\\site-packages\\torch\\nn\\modules\\conv.py:549\u001b[0m, in \u001b[0;36mConv2d._conv_forward\u001b[1;34m(self, input, weight, bias)\u001b[0m\n\u001b[0;32m    537\u001b[0m \u001b[38;5;28;01mif\u001b[39;00m \u001b[38;5;28mself\u001b[39m\u001b[38;5;241m.\u001b[39mpadding_mode \u001b[38;5;241m!=\u001b[39m \u001b[38;5;124m\"\u001b[39m\u001b[38;5;124mzeros\u001b[39m\u001b[38;5;124m\"\u001b[39m:\n\u001b[0;32m    538\u001b[0m     \u001b[38;5;28;01mreturn\u001b[39;00m F\u001b[38;5;241m.\u001b[39mconv2d(\n\u001b[0;32m    539\u001b[0m         F\u001b[38;5;241m.\u001b[39mpad(\n\u001b[0;32m    540\u001b[0m             \u001b[38;5;28minput\u001b[39m, \u001b[38;5;28mself\u001b[39m\u001b[38;5;241m.\u001b[39m_reversed_padding_repeated_twice, mode\u001b[38;5;241m=\u001b[39m\u001b[38;5;28mself\u001b[39m\u001b[38;5;241m.\u001b[39mpadding_mode\n\u001b[1;32m   (...)\u001b[0m\n\u001b[0;32m    547\u001b[0m         \u001b[38;5;28mself\u001b[39m\u001b[38;5;241m.\u001b[39mgroups,\n\u001b[0;32m    548\u001b[0m     )\n\u001b[1;32m--> 549\u001b[0m \u001b[38;5;28;01mreturn\u001b[39;00m \u001b[43mF\u001b[49m\u001b[38;5;241;43m.\u001b[39;49m\u001b[43mconv2d\u001b[49m\u001b[43m(\u001b[49m\n\u001b[0;32m    550\u001b[0m \u001b[43m    \u001b[49m\u001b[38;5;28;43minput\u001b[39;49m\u001b[43m,\u001b[49m\u001b[43m \u001b[49m\u001b[43mweight\u001b[49m\u001b[43m,\u001b[49m\u001b[43m \u001b[49m\u001b[43mbias\u001b[49m\u001b[43m,\u001b[49m\u001b[43m \u001b[49m\u001b[38;5;28;43mself\u001b[39;49m\u001b[38;5;241;43m.\u001b[39;49m\u001b[43mstride\u001b[49m\u001b[43m,\u001b[49m\u001b[43m \u001b[49m\u001b[38;5;28;43mself\u001b[39;49m\u001b[38;5;241;43m.\u001b[39;49m\u001b[43mpadding\u001b[49m\u001b[43m,\u001b[49m\u001b[43m \u001b[49m\u001b[38;5;28;43mself\u001b[39;49m\u001b[38;5;241;43m.\u001b[39;49m\u001b[43mdilation\u001b[49m\u001b[43m,\u001b[49m\u001b[43m \u001b[49m\u001b[38;5;28;43mself\u001b[39;49m\u001b[38;5;241;43m.\u001b[39;49m\u001b[43mgroups\u001b[49m\n\u001b[0;32m    551\u001b[0m \u001b[43m\u001b[49m\u001b[43m)\u001b[49m\n",
      "\u001b[1;31mKeyboardInterrupt\u001b[0m: "
     ]
    }
   ],
   "source": [
    "# --- Parámetros para el Sampler de Imputación ---\n",
    "N_STEPS_IMPUTATION = 1000 # Número de pasos (ajustar según calidad/tiempo deseado)\n",
    "T_END_IMPUTATION = 1e-5   # Tiempo final pequeño para el muestreo inverso\n",
    "\n",
    "# --- Ejecutar Imputación ---\n",
    "print(f\"\\n--- Ejecutando Imputation Sampler ({N_STEPS_IMPUTATION} pasos) ---\")\n",
    "# Asegúrate de pasar los tensores correctos que están en DEVICE\n",
    "imagen_imputada = imputation_sampler(\n",
    "    x_known=x_known_input,    # Imagen CIFAR original [-1, 1]\n",
    "    mask=batch_masks,         # Máscara binaria [0, 1] (0=imputar, 1=mantener)\n",
    "    sde=sde_instance,\n",
    "    score_model=score_model,\n",
    "    n_steps=N_STEPS_IMPUTATION,\n",
    "    t_end=T_END_IMPUTATION,\n",
    "    device=DEVICE\n",
    ")\n",
    "print(\"--- Imputación Finalizada ---\")\n",
    "# imagen_imputada contendrá el resultado de la imputación en el DEVICE"
   ]
  },
  {
   "cell_type": "markdown",
   "id": "9b14ee77",
   "metadata": {},
   "source": [
    "## 7. Visualizar los Resultados de la Imputación\n",
    "\n",
    "Mostramos las imágenes resultantes del proceso de imputación. Idealmente, las áreas que estaban en negro ahora estarán rellenadas de forma coherente con el resto de la imagen.\n",
    "\n",
    "También mostramos las imágenes CIFAR-10 originales completas como referencia para poder comparar visualmente la calidad de la imputación."
   ]
  },
  {
   "cell_type": "code",
   "execution_count": null,
   "id": "59f0c69a",
   "metadata": {},
   "outputs": [],
   "source": [
    "# --- Visualizar Resultados ---\n",
    "\n",
    "# 1. Mostrar las imágenes después de la imputación\n",
    "print(\"\\n--- Imágenes Resultantes de la Imputación ---\")\n",
    "show_images(imagen_imputada.cpu(), title=f\"Resultado Imputación ({N_STEPS_IMPUTATION} pasos)\", num_to_show=8, normalize=True)\n",
    "plt.show()\n",
    "\n",
    "# 2. (Opcional pero recomendado) Mostrar las imágenes originales completas para comparación\n",
    "print(\"\\n--- Imágenes Originales Completas (Referencia) ---\")\n",
    "show_images(x_known_input.cpu(), title=\"Imágenes Originales (Referencia)\", num_to_show=8, normalize=True)\n",
    "plt.show()"
   ]
  },
  {
   "cell_type": "markdown",
   "id": "35987eef",
   "metadata": {},
   "source": [
    "## Conclusión\n",
    "\n",
    "Este notebook ha demostrado el proceso de imputación de imágenes utilizando un modelo de difusión pre-entrenado. Se cargaron imágenes CIFAR-10 y se generaron máscaras a partir de MNIST. Se visualizó la entrada enmascarada y luego se ejecutó el `imputation_sampler` para rellenar las regiones faltantes. Finalmente, se compararon visualmente los resultados imputados con las imágenes originales. La calidad de la imputación depende en gran medida del modelo pre-entrenado, la SDE utilizada y los parámetros del sampler (como `n_steps`)."
   ]
  }
 ],
 "metadata": {
  "kernelspec": {
   "display_name": "Python 3",
   "language": "python",
   "name": "python3"
  },
  "language_info": {
   "codemirror_mode": {
    "name": "ipython",
    "version": 3
   },
   "file_extension": ".py",
   "mimetype": "text/x-python",
   "name": "python",
   "nbconvert_exporter": "python",
   "pygments_lexer": "ipython3",
   "version": "3.12.6"
  }
 },
 "nbformat": 4,
 "nbformat_minor": 5
}
